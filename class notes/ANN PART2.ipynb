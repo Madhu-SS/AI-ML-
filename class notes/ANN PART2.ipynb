{
 "cells": [
  {
   "cell_type": "code",
   "execution_count": 1,
   "id": "bedffd62",
   "metadata": {},
   "outputs": [],
   "source": [
    "import pandas as pd\n",
    "import numpy as np\n",
    "import matplotlib.pyplot as plt\n",
    "from sklearn.model_selection import train_test_split,GridSearchCV\n",
    "import keras\n",
    "import tensorflow\n",
    "from keras.layers import Dense,Dropout\n",
    "from keras.models import Sequential\n",
    "from keras.datasets import mnist\n",
    "from keras.optimizers import RMSprop\n",
    "from scikeras.wrappers import KerasClassifier"
   ]
  },
  {
   "cell_type": "markdown",
   "id": "988e8a99",
   "metadata": {},
   "source": [
    "### load the dataset"
   ]
  },
  {
   "cell_type": "code",
   "execution_count": 2,
   "id": "90a717d8",
   "metadata": {},
   "outputs": [],
   "source": [
    "(x_train,y_train),(x_test,y_test)=mnist.load_data()"
   ]
  },
  {
   "cell_type": "code",
   "execution_count": 3,
   "id": "b2b4dde3",
   "metadata": {},
   "outputs": [
    {
     "name": "stdout",
     "output_type": "stream",
     "text": [
      "(60000, 28, 28)\n",
      "(10000, 28, 28)\n",
      "(60000,)\n",
      "(10000,)\n"
     ]
    }
   ],
   "source": [
    "print(x_train.shape)\n",
    "print(x_test.shape)\n",
    "print(y_train.shape)\n",
    "print(y_test.shape)"
   ]
  },
  {
   "cell_type": "code",
   "execution_count": 4,
   "id": "5096e7a9",
   "metadata": {},
   "outputs": [],
   "source": [
    "x_train=x_train.reshape(60000,784)#converting img to pixel values\n",
    "x_test=x_test.reshape(10000,784)\n",
    "x_train=x_train.astype('float')#because the pixel value is in decimal otherwise if 2.5 is converted to 2\n",
    "x_test=x_test.astype('float')\n",
    "x_train=x_train/255#standardizing\n",
    "x_test/=255"
   ]
  },
  {
   "cell_type": "code",
   "execution_count": 5,
   "id": "bf3ba32c",
   "metadata": {},
   "outputs": [
    {
     "data": {
      "text/plain": [
       "(60000, 784)"
      ]
     },
     "execution_count": 5,
     "metadata": {},
     "output_type": "execute_result"
    }
   ],
   "source": [
    "x_train.shape"
   ]
  },
  {
   "cell_type": "code",
   "execution_count": 6,
   "id": "f5a8c7e8",
   "metadata": {},
   "outputs": [
    {
     "data": {
      "text/plain": [
       "1.0"
      ]
     },
     "execution_count": 6,
     "metadata": {},
     "output_type": "execute_result"
    }
   ],
   "source": [
    "x_train.max()"
   ]
  },
  {
   "cell_type": "code",
   "execution_count": 7,
   "id": "f864e64c",
   "metadata": {},
   "outputs": [],
   "source": [
    "y_train=keras.utils.to_categorical(y_train)\n",
    "y_test=keras.utils.to_categorical(y_test)"
   ]
  },
  {
   "cell_type": "code",
   "execution_count": 8,
   "id": "bb635310",
   "metadata": {},
   "outputs": [
    {
     "data": {
      "text/html": [
       "<div>\n",
       "<style scoped>\n",
       "    .dataframe tbody tr th:only-of-type {\n",
       "        vertical-align: middle;\n",
       "    }\n",
       "\n",
       "    .dataframe tbody tr th {\n",
       "        vertical-align: top;\n",
       "    }\n",
       "\n",
       "    .dataframe thead th {\n",
       "        text-align: right;\n",
       "    }\n",
       "</style>\n",
       "<table border=\"1\" class=\"dataframe\">\n",
       "  <thead>\n",
       "    <tr style=\"text-align: right;\">\n",
       "      <th></th>\n",
       "      <th>0</th>\n",
       "      <th>1</th>\n",
       "      <th>2</th>\n",
       "      <th>3</th>\n",
       "      <th>4</th>\n",
       "      <th>5</th>\n",
       "      <th>6</th>\n",
       "      <th>7</th>\n",
       "      <th>8</th>\n",
       "      <th>9</th>\n",
       "    </tr>\n",
       "  </thead>\n",
       "  <tbody>\n",
       "    <tr>\n",
       "      <th>0</th>\n",
       "      <td>0.0</td>\n",
       "      <td>0.0</td>\n",
       "      <td>0.0</td>\n",
       "      <td>0.0</td>\n",
       "      <td>0.0</td>\n",
       "      <td>0.0</td>\n",
       "      <td>0.0</td>\n",
       "      <td>1.0</td>\n",
       "      <td>0.0</td>\n",
       "      <td>0.0</td>\n",
       "    </tr>\n",
       "    <tr>\n",
       "      <th>1</th>\n",
       "      <td>0.0</td>\n",
       "      <td>0.0</td>\n",
       "      <td>1.0</td>\n",
       "      <td>0.0</td>\n",
       "      <td>0.0</td>\n",
       "      <td>0.0</td>\n",
       "      <td>0.0</td>\n",
       "      <td>0.0</td>\n",
       "      <td>0.0</td>\n",
       "      <td>0.0</td>\n",
       "    </tr>\n",
       "    <tr>\n",
       "      <th>2</th>\n",
       "      <td>0.0</td>\n",
       "      <td>1.0</td>\n",
       "      <td>0.0</td>\n",
       "      <td>0.0</td>\n",
       "      <td>0.0</td>\n",
       "      <td>0.0</td>\n",
       "      <td>0.0</td>\n",
       "      <td>0.0</td>\n",
       "      <td>0.0</td>\n",
       "      <td>0.0</td>\n",
       "    </tr>\n",
       "    <tr>\n",
       "      <th>3</th>\n",
       "      <td>1.0</td>\n",
       "      <td>0.0</td>\n",
       "      <td>0.0</td>\n",
       "      <td>0.0</td>\n",
       "      <td>0.0</td>\n",
       "      <td>0.0</td>\n",
       "      <td>0.0</td>\n",
       "      <td>0.0</td>\n",
       "      <td>0.0</td>\n",
       "      <td>0.0</td>\n",
       "    </tr>\n",
       "    <tr>\n",
       "      <th>4</th>\n",
       "      <td>0.0</td>\n",
       "      <td>0.0</td>\n",
       "      <td>0.0</td>\n",
       "      <td>0.0</td>\n",
       "      <td>1.0</td>\n",
       "      <td>0.0</td>\n",
       "      <td>0.0</td>\n",
       "      <td>0.0</td>\n",
       "      <td>0.0</td>\n",
       "      <td>0.0</td>\n",
       "    </tr>\n",
       "    <tr>\n",
       "      <th>...</th>\n",
       "      <td>...</td>\n",
       "      <td>...</td>\n",
       "      <td>...</td>\n",
       "      <td>...</td>\n",
       "      <td>...</td>\n",
       "      <td>...</td>\n",
       "      <td>...</td>\n",
       "      <td>...</td>\n",
       "      <td>...</td>\n",
       "      <td>...</td>\n",
       "    </tr>\n",
       "    <tr>\n",
       "      <th>9995</th>\n",
       "      <td>0.0</td>\n",
       "      <td>0.0</td>\n",
       "      <td>1.0</td>\n",
       "      <td>0.0</td>\n",
       "      <td>0.0</td>\n",
       "      <td>0.0</td>\n",
       "      <td>0.0</td>\n",
       "      <td>0.0</td>\n",
       "      <td>0.0</td>\n",
       "      <td>0.0</td>\n",
       "    </tr>\n",
       "    <tr>\n",
       "      <th>9996</th>\n",
       "      <td>0.0</td>\n",
       "      <td>0.0</td>\n",
       "      <td>0.0</td>\n",
       "      <td>1.0</td>\n",
       "      <td>0.0</td>\n",
       "      <td>0.0</td>\n",
       "      <td>0.0</td>\n",
       "      <td>0.0</td>\n",
       "      <td>0.0</td>\n",
       "      <td>0.0</td>\n",
       "    </tr>\n",
       "    <tr>\n",
       "      <th>9997</th>\n",
       "      <td>0.0</td>\n",
       "      <td>0.0</td>\n",
       "      <td>0.0</td>\n",
       "      <td>0.0</td>\n",
       "      <td>1.0</td>\n",
       "      <td>0.0</td>\n",
       "      <td>0.0</td>\n",
       "      <td>0.0</td>\n",
       "      <td>0.0</td>\n",
       "      <td>0.0</td>\n",
       "    </tr>\n",
       "    <tr>\n",
       "      <th>9998</th>\n",
       "      <td>0.0</td>\n",
       "      <td>0.0</td>\n",
       "      <td>0.0</td>\n",
       "      <td>0.0</td>\n",
       "      <td>0.0</td>\n",
       "      <td>1.0</td>\n",
       "      <td>0.0</td>\n",
       "      <td>0.0</td>\n",
       "      <td>0.0</td>\n",
       "      <td>0.0</td>\n",
       "    </tr>\n",
       "    <tr>\n",
       "      <th>9999</th>\n",
       "      <td>0.0</td>\n",
       "      <td>0.0</td>\n",
       "      <td>0.0</td>\n",
       "      <td>0.0</td>\n",
       "      <td>0.0</td>\n",
       "      <td>0.0</td>\n",
       "      <td>1.0</td>\n",
       "      <td>0.0</td>\n",
       "      <td>0.0</td>\n",
       "      <td>0.0</td>\n",
       "    </tr>\n",
       "  </tbody>\n",
       "</table>\n",
       "<p>10000 rows × 10 columns</p>\n",
       "</div>"
      ],
      "text/plain": [
       "        0    1    2    3    4    5    6    7    8    9\n",
       "0     0.0  0.0  0.0  0.0  0.0  0.0  0.0  1.0  0.0  0.0\n",
       "1     0.0  0.0  1.0  0.0  0.0  0.0  0.0  0.0  0.0  0.0\n",
       "2     0.0  1.0  0.0  0.0  0.0  0.0  0.0  0.0  0.0  0.0\n",
       "3     1.0  0.0  0.0  0.0  0.0  0.0  0.0  0.0  0.0  0.0\n",
       "4     0.0  0.0  0.0  0.0  1.0  0.0  0.0  0.0  0.0  0.0\n",
       "...   ...  ...  ...  ...  ...  ...  ...  ...  ...  ...\n",
       "9995  0.0  0.0  1.0  0.0  0.0  0.0  0.0  0.0  0.0  0.0\n",
       "9996  0.0  0.0  0.0  1.0  0.0  0.0  0.0  0.0  0.0  0.0\n",
       "9997  0.0  0.0  0.0  0.0  1.0  0.0  0.0  0.0  0.0  0.0\n",
       "9998  0.0  0.0  0.0  0.0  0.0  1.0  0.0  0.0  0.0  0.0\n",
       "9999  0.0  0.0  0.0  0.0  0.0  0.0  1.0  0.0  0.0  0.0\n",
       "\n",
       "[10000 rows x 10 columns]"
      ]
     },
     "execution_count": 8,
     "metadata": {},
     "output_type": "execute_result"
    }
   ],
   "source": [
    "pd.DataFrame(y_test)"
   ]
  },
  {
   "cell_type": "code",
   "execution_count": 9,
   "id": "d91f08fe",
   "metadata": {},
   "outputs": [],
   "source": [
    "opchs=5\n",
    "batch_size=150\n",
    "no_classes=10 #no of classification in output"
   ]
  },
  {
   "cell_type": "markdown",
   "id": "2e29e2c2",
   "metadata": {},
   "source": [
    "### Building the model"
   ]
  },
  {
   "cell_type": "code",
   "execution_count": 10,
   "id": "b3c5683d",
   "metadata": {},
   "outputs": [
    {
     "name": "stdout",
     "output_type": "stream",
     "text": [
      "Model: \"sequential\"\n",
      "_________________________________________________________________\n",
      " Layer (type)                Output Shape              Param #   \n",
      "=================================================================\n",
      " dense (Dense)               (None, 512)               401920    \n",
      "                                                                 \n",
      " dropout (Dropout)           (None, 512)               0         \n",
      "                                                                 \n",
      " dense_1 (Dense)             (None, 300)               153900    \n",
      "                                                                 \n",
      " dropout_1 (Dropout)         (None, 300)               0         \n",
      "                                                                 \n",
      " dense_2 (Dense)             (None, 10)                3010      \n",
      "                                                                 \n",
      "=================================================================\n",
      "Total params: 558830 (2.13 MB)\n",
      "Trainable params: 558830 (2.13 MB)\n",
      "Non-trainable params: 0 (0.00 Byte)\n",
      "_________________________________________________________________\n"
     ]
    }
   ],
   "source": [
    "model=Sequential()\n",
    "model.add(Dense(512,activation='relu',input_shape=(784,)))#512 is a no of neurons in 1st hidden layer\n",
    "model.add(Dropout(0.2))\n",
    "model.add(Dense(300,activation='relu'))\n",
    "model.add(Dropout(0.2))\n",
    "model.add(Dense(no_classes,activation='softmax'))\n",
    "model.summary()"
   ]
  },
  {
   "cell_type": "code",
   "execution_count": 11,
   "id": "2c5e632f",
   "metadata": {},
   "outputs": [
    {
     "data": {
      "text/plain": [
       "401920"
      ]
     },
     "execution_count": 11,
     "metadata": {},
     "output_type": "execute_result"
    }
   ],
   "source": [
    "512*784+512#wx+B"
   ]
  },
  {
   "cell_type": "code",
   "execution_count": 12,
   "id": "f2320e08",
   "metadata": {},
   "outputs": [
    {
     "data": {
      "text/plain": [
       "153900"
      ]
     },
     "execution_count": 12,
     "metadata": {},
     "output_type": "execute_result"
    }
   ],
   "source": [
    "300*512+300"
   ]
  },
  {
   "cell_type": "code",
   "execution_count": 13,
   "id": "55fabac2",
   "metadata": {},
   "outputs": [
    {
     "data": {
      "text/plain": [
       "3010"
      ]
     },
     "execution_count": 13,
     "metadata": {},
     "output_type": "execute_result"
    }
   ],
   "source": [
    "10*300+10"
   ]
  },
  {
   "cell_type": "markdown",
   "id": "950f5b51",
   "metadata": {},
   "source": [
    "### compile model"
   ]
  },
  {
   "cell_type": "code",
   "execution_count": 14,
   "id": "6fdebb91",
   "metadata": {},
   "outputs": [],
   "source": [
    "model.compile(optimizer=RMSprop(),loss='categorical_crossentropy',metrics='accuracy')#based on the accuracy we are optimizing"
   ]
  },
  {
   "cell_type": "markdown",
   "id": "e1f16421",
   "metadata": {},
   "source": [
    "### Fit the model"
   ]
  },
  {
   "cell_type": "code",
   "execution_count": 15,
   "id": "a08cbf83",
   "metadata": {},
   "outputs": [
    {
     "name": "stdout",
     "output_type": "stream",
     "text": [
      "Epoch 1/5\n",
      "400/400 [==============================] - 7s 16ms/step - loss: 0.2734 - accuracy: 0.9164 - val_loss: 0.1176 - val_accuracy: 0.9641\n",
      "Epoch 2/5\n",
      "400/400 [==============================] - 6s 15ms/step - loss: 0.1128 - accuracy: 0.9658 - val_loss: 0.0805 - val_accuracy: 0.9748\n",
      "Epoch 3/5\n",
      "400/400 [==============================] - 6s 15ms/step - loss: 0.0785 - accuracy: 0.9760 - val_loss: 0.0690 - val_accuracy: 0.9781\n",
      "Epoch 4/5\n",
      "400/400 [==============================] - 6s 15ms/step - loss: 0.0618 - accuracy: 0.9810 - val_loss: 0.0765 - val_accuracy: 0.9778\n",
      "Epoch 5/5\n",
      "400/400 [==============================] - 7s 17ms/step - loss: 0.0504 - accuracy: 0.9840 - val_loss: 0.0692 - val_accuracy: 0.9799\n"
     ]
    }
   ],
   "source": [
    "history=model.fit(x_train,y_train,epochs=5,batch_size=150,verbose=1,validation_data=(x_test,y_test))"
   ]
  },
  {
   "cell_type": "code",
   "execution_count": 16,
   "id": "512c6790",
   "metadata": {},
   "outputs": [],
   "source": [
    "# loss,accuracy=training data     |     val_loss,val_accuracy=testing data"
   ]
  },
  {
   "cell_type": "code",
   "execution_count": 17,
   "id": "799e4a0a",
   "metadata": {},
   "outputs": [
    {
     "name": "stdout",
     "output_type": "stream",
     "text": [
      "313/313 [==============================] - 1s 4ms/step - loss: 0.0692 - accuracy: 0.9799\n",
      " \n",
      "OUTPUT\n",
      "The val_loss= 0.06920210272073746\n",
      "THe val_accuracy= 0.9799000024795532\n"
     ]
    }
   ],
   "source": [
    "score=model.evaluate(x_test,y_test)\n",
    "print(' ')\n",
    "print(\"OUTPUT\")\n",
    "print('The val_loss=',score[0])\n",
    "print('THe val_accuracy=',score[1])"
   ]
  },
  {
   "cell_type": "code",
   "execution_count": 18,
   "id": "07c645b2",
   "metadata": {},
   "outputs": [
    {
     "data": {
      "text/plain": [
       "<matplotlib.legend.Legend at 0x28e0b20c8e0>"
      ]
     },
     "execution_count": 18,
     "metadata": {},
     "output_type": "execute_result"
    },
    {
     "data": {
      "image/png": "[encoded data removed]",
      "text/plain": [
       "<Figure size 640x480 with 1 Axes>"
      ]
     },
     "metadata": {},
     "output_type": "display_data"
    }
   ],
   "source": [
    "plt.plot(range(5),history.history['accuracy'],label='Train')\n",
    "plt.plot(range(5),history.history['val_accuracy'],label='Test')\n",
    "plt.legend()"
   ]
  },
  {
   "cell_type": "code",
   "execution_count": 19,
   "id": "525d44b2",
   "metadata": {},
   "outputs": [
    {
     "data": {
      "text/plain": [
       "<matplotlib.legend.Legend at 0x28e0bb1aad0>"
      ]
     },
     "execution_count": 19,
     "metadata": {},
     "output_type": "execute_result"
    },
    {
     "data": {
      "image/png": "[encoded data removed]",
      "text/plain": [
       "<Figure size 640x480 with 1 Axes>"
      ]
     },
     "metadata": {},
     "output_type": "display_data"
    }
   ],
   "source": [
    "plt.plot(range(5),history.history['loss'],label='Train')\n",
    "plt.plot(range(5),history.history['val_loss'],label='Test')\n",
    "plt.legend()"
   ]
  },
  {
   "cell_type": "code",
   "execution_count": 20,
   "id": "0bd2e207",
   "metadata": {},
   "outputs": [
    {
     "name": "stdout",
     "output_type": "stream",
     "text": [
      "313/313 [==============================] - 1s 4ms/step\n"
     ]
    }
   ],
   "source": [
    "y_pred=model.predict(x_test)"
   ]
  },
  {
   "cell_type": "code",
   "execution_count": 21,
   "id": "ec3e95a4",
   "metadata": {},
   "outputs": [
    {
     "data": {
      "text/plain": [
       "array([[2.83793211e-10, 4.39999859e-09, 1.08456543e-05, ...,\n",
       "        9.99982238e-01, 1.47089580e-07, 5.55502879e-08],\n",
       "       [2.18773337e-07, 2.71038967e-04, 9.99672294e-01, ...,\n",
       "        5.14061238e-09, 4.73409500e-06, 2.77732903e-09],\n",
       "       [2.28985655e-07, 9.99560058e-01, 1.35440705e-05, ...,\n",
       "        1.27716732e-04, 1.88678227e-04, 1.11441034e-06],\n",
       "       ...,\n",
       "       [1.19956332e-14, 8.02911296e-12, 1.08180338e-13, ...,\n",
       "        2.34267783e-09, 1.65053526e-09, 1.38619299e-07],\n",
       "       [7.05967368e-11, 3.80628363e-13, 1.63890762e-14, ...,\n",
       "        1.96141801e-11, 4.82557823e-07, 3.59166212e-12],\n",
       "       [9.95290655e-12, 4.58697642e-13, 5.75422939e-15, ...,\n",
       "        1.77164055e-17, 4.98114841e-13, 3.89357904e-12]], dtype=float32)"
      ]
     },
     "execution_count": 21,
     "metadata": {},
     "output_type": "execute_result"
    }
   ],
   "source": [
    "y_pred"
   ]
  },
  {
   "cell_type": "code",
   "execution_count": 22,
   "id": "3dc30e9e",
   "metadata": {},
   "outputs": [
    {
     "data": {
      "text/html": [
       "<div>\n",
       "<style scoped>\n",
       "    .dataframe tbody tr th:only-of-type {\n",
       "        vertical-align: middle;\n",
       "    }\n",
       "\n",
       "    .dataframe tbody tr th {\n",
       "        vertical-align: top;\n",
       "    }\n",
       "\n",
       "    .dataframe thead th {\n",
       "        text-align: right;\n",
       "    }\n",
       "</style>\n",
       "<table border=\"1\" class=\"dataframe\">\n",
       "  <thead>\n",
       "    <tr style=\"text-align: right;\">\n",
       "      <th></th>\n",
       "      <th>0</th>\n",
       "      <th>1</th>\n",
       "      <th>2</th>\n",
       "      <th>3</th>\n",
       "      <th>4</th>\n",
       "      <th>5</th>\n",
       "      <th>6</th>\n",
       "      <th>7</th>\n",
       "      <th>8</th>\n",
       "      <th>9</th>\n",
       "    </tr>\n",
       "  </thead>\n",
       "  <tbody>\n",
       "    <tr>\n",
       "      <th>0</th>\n",
       "      <td>2.837932e-10</td>\n",
       "      <td>4.399999e-09</td>\n",
       "      <td>1.084565e-05</td>\n",
       "      <td>6.635306e-06</td>\n",
       "      <td>2.356166e-12</td>\n",
       "      <td>3.397598e-09</td>\n",
       "      <td>9.049834e-12</td>\n",
       "      <td>9.999822e-01</td>\n",
       "      <td>1.470896e-07</td>\n",
       "      <td>5.555029e-08</td>\n",
       "    </tr>\n",
       "    <tr>\n",
       "      <th>1</th>\n",
       "      <td>2.187733e-07</td>\n",
       "      <td>2.710390e-04</td>\n",
       "      <td>9.996723e-01</td>\n",
       "      <td>3.837227e-05</td>\n",
       "      <td>6.031710e-10</td>\n",
       "      <td>2.092606e-06</td>\n",
       "      <td>1.122382e-05</td>\n",
       "      <td>5.140612e-09</td>\n",
       "      <td>4.734095e-06</td>\n",
       "      <td>2.777329e-09</td>\n",
       "    </tr>\n",
       "    <tr>\n",
       "      <th>2</th>\n",
       "      <td>2.289857e-07</td>\n",
       "      <td>9.995601e-01</td>\n",
       "      <td>1.354407e-05</td>\n",
       "      <td>9.509266e-07</td>\n",
       "      <td>6.214049e-05</td>\n",
       "      <td>4.572460e-06</td>\n",
       "      <td>4.096189e-05</td>\n",
       "      <td>1.277167e-04</td>\n",
       "      <td>1.886782e-04</td>\n",
       "      <td>1.114410e-06</td>\n",
       "    </tr>\n",
       "    <tr>\n",
       "      <th>3</th>\n",
       "      <td>9.999238e-01</td>\n",
       "      <td>1.255759e-09</td>\n",
       "      <td>1.652155e-07</td>\n",
       "      <td>3.832054e-08</td>\n",
       "      <td>2.393016e-08</td>\n",
       "      <td>3.894600e-07</td>\n",
       "      <td>6.307920e-05</td>\n",
       "      <td>3.750719e-07</td>\n",
       "      <td>3.493618e-09</td>\n",
       "      <td>1.201029e-05</td>\n",
       "    </tr>\n",
       "    <tr>\n",
       "      <th>4</th>\n",
       "      <td>8.003927e-09</td>\n",
       "      <td>1.755703e-08</td>\n",
       "      <td>1.272432e-08</td>\n",
       "      <td>1.108939e-10</td>\n",
       "      <td>9.999655e-01</td>\n",
       "      <td>2.689348e-09</td>\n",
       "      <td>2.288206e-08</td>\n",
       "      <td>3.678067e-07</td>\n",
       "      <td>1.311700e-08</td>\n",
       "      <td>3.410683e-05</td>\n",
       "    </tr>\n",
       "    <tr>\n",
       "      <th>...</th>\n",
       "      <td>...</td>\n",
       "      <td>...</td>\n",
       "      <td>...</td>\n",
       "      <td>...</td>\n",
       "      <td>...</td>\n",
       "      <td>...</td>\n",
       "      <td>...</td>\n",
       "      <td>...</td>\n",
       "      <td>...</td>\n",
       "      <td>...</td>\n",
       "    </tr>\n",
       "    <tr>\n",
       "      <th>9995</th>\n",
       "      <td>1.945451e-12</td>\n",
       "      <td>3.462064e-07</td>\n",
       "      <td>9.999995e-01</td>\n",
       "      <td>9.568687e-09</td>\n",
       "      <td>3.021605e-16</td>\n",
       "      <td>5.932002e-13</td>\n",
       "      <td>3.808499e-13</td>\n",
       "      <td>6.824676e-08</td>\n",
       "      <td>4.947342e-10</td>\n",
       "      <td>1.148019e-12</td>\n",
       "    </tr>\n",
       "    <tr>\n",
       "      <th>9996</th>\n",
       "      <td>1.046800e-13</td>\n",
       "      <td>6.612317e-10</td>\n",
       "      <td>7.838286e-10</td>\n",
       "      <td>9.999832e-01</td>\n",
       "      <td>1.104086e-13</td>\n",
       "      <td>5.301486e-06</td>\n",
       "      <td>3.971260e-16</td>\n",
       "      <td>9.648292e-12</td>\n",
       "      <td>1.416850e-09</td>\n",
       "      <td>1.151547e-05</td>\n",
       "    </tr>\n",
       "    <tr>\n",
       "      <th>9997</th>\n",
       "      <td>1.199563e-14</td>\n",
       "      <td>8.029113e-12</td>\n",
       "      <td>1.081803e-13</td>\n",
       "      <td>2.586049e-13</td>\n",
       "      <td>9.999999e-01</td>\n",
       "      <td>1.002012e-11</td>\n",
       "      <td>1.015600e-12</td>\n",
       "      <td>2.342678e-09</td>\n",
       "      <td>1.650535e-09</td>\n",
       "      <td>1.386193e-07</td>\n",
       "    </tr>\n",
       "    <tr>\n",
       "      <th>9998</th>\n",
       "      <td>7.059674e-11</td>\n",
       "      <td>3.806284e-13</td>\n",
       "      <td>1.638908e-14</td>\n",
       "      <td>5.715719e-09</td>\n",
       "      <td>1.523370e-14</td>\n",
       "      <td>9.999995e-01</td>\n",
       "      <td>6.248866e-09</td>\n",
       "      <td>1.961418e-11</td>\n",
       "      <td>4.825578e-07</td>\n",
       "      <td>3.591662e-12</td>\n",
       "    </tr>\n",
       "    <tr>\n",
       "      <th>9999</th>\n",
       "      <td>9.952907e-12</td>\n",
       "      <td>4.586976e-13</td>\n",
       "      <td>5.754229e-15</td>\n",
       "      <td>1.808703e-14</td>\n",
       "      <td>5.815944e-11</td>\n",
       "      <td>2.344794e-08</td>\n",
       "      <td>1.000000e+00</td>\n",
       "      <td>1.771641e-17</td>\n",
       "      <td>4.981148e-13</td>\n",
       "      <td>3.893579e-12</td>\n",
       "    </tr>\n",
       "  </tbody>\n",
       "</table>\n",
       "<p>10000 rows × 10 columns</p>\n",
       "</div>"
      ],
      "text/plain": [
       "                 0             1             2             3             4  \\\n",
       "0     2.837932e-10  4.399999e-09  1.084565e-05  6.635306e-06  2.356166e-12   \n",
       "1     2.187733e-07  2.710390e-04  9.996723e-01  3.837227e-05  6.031710e-10   \n",
       "2     2.289857e-07  9.995601e-01  1.354407e-05  9.509266e-07  6.214049e-05   \n",
       "3     9.999238e-01  1.255759e-09  1.652155e-07  3.832054e-08  2.393016e-08   \n",
       "4     8.003927e-09  1.755703e-08  1.272432e-08  1.108939e-10  9.999655e-01   \n",
       "...            ...           ...           ...           ...           ...   \n",
       "9995  1.945451e-12  3.462064e-07  9.999995e-01  9.568687e-09  3.021605e-16   \n",
       "9996  1.046800e-13  6.612317e-10  7.838286e-10  9.999832e-01  1.104086e-13   \n",
       "9997  1.199563e-14  8.029113e-12  1.081803e-13  2.586049e-13  9.999999e-01   \n",
       "9998  7.059674e-11  3.806284e-13  1.638908e-14  5.715719e-09  1.523370e-14   \n",
       "9999  9.952907e-12  4.586976e-13  5.754229e-15  1.808703e-14  5.815944e-11   \n",
       "\n",
       "                 5             6             7             8             9  \n",
       "0     3.397598e-09  9.049834e-12  9.999822e-01  1.470896e-07  5.555029e-08  \n",
       "1     2.092606e-06  1.122382e-05  5.140612e-09  4.734095e-06  2.777329e-09  \n",
       "2     4.572460e-06  4.096189e-05  1.277167e-04  1.886782e-04  1.114410e-06  \n",
       "3     3.894600e-07  6.307920e-05  3.750719e-07  3.493618e-09  1.201029e-05  \n",
       "4     2.689348e-09  2.288206e-08  3.678067e-07  1.311700e-08  3.410683e-05  \n",
       "...            ...           ...           ...           ...           ...  \n",
       "9995  5.932002e-13  3.808499e-13  6.824676e-08  4.947342e-10  1.148019e-12  \n",
       "9996  5.301486e-06  3.971260e-16  9.648292e-12  1.416850e-09  1.151547e-05  \n",
       "9997  1.002012e-11  1.015600e-12  2.342678e-09  1.650535e-09  1.386193e-07  \n",
       "9998  9.999995e-01  6.248866e-09  1.961418e-11  4.825578e-07  3.591662e-12  \n",
       "9999  2.344794e-08  1.000000e+00  1.771641e-17  4.981148e-13  3.893579e-12  \n",
       "\n",
       "[10000 rows x 10 columns]"
      ]
     },
     "execution_count": 22,
     "metadata": {},
     "output_type": "execute_result"
    }
   ],
   "source": [
    "pd.DataFrame(y_pred)"
   ]
  },
  {
   "cell_type": "code",
   "execution_count": 23,
   "id": "0c949c84",
   "metadata": {},
   "outputs": [
    {
     "data": {
      "text/plain": [
       "array([2.8379321e-10, 4.3999986e-09, 1.0845654e-05, 6.6353059e-06,\n",
       "       2.3561658e-12, 3.3975982e-09, 9.0498338e-12, 9.9998224e-01,\n",
       "       1.4708958e-07, 5.5550288e-08], dtype=float32)"
      ]
     },
     "execution_count": 23,
     "metadata": {},
     "output_type": "execute_result"
    }
   ],
   "source": [
    "y_pred[0]"
   ]
  },
  {
   "cell_type": "code",
   "execution_count": 24,
   "id": "a321d1bd",
   "metadata": {},
   "outputs": [
    {
     "data": {
      "text/plain": [
       "7"
      ]
     },
     "execution_count": 24,
     "metadata": {},
     "output_type": "execute_result"
    }
   ],
   "source": [
    "np.argmax(y_pred[0])"
   ]
  },
  {
   "cell_type": "code",
   "execution_count": 25,
   "id": "b223d51c",
   "metadata": {},
   "outputs": [
    {
     "data": {
      "text/plain": [
       "array([[0., 0., 0., ..., 1., 0., 0.],\n",
       "       [0., 0., 1., ..., 0., 0., 0.],\n",
       "       [0., 1., 0., ..., 0., 0., 0.],\n",
       "       ...,\n",
       "       [0., 0., 0., ..., 0., 0., 0.],\n",
       "       [0., 0., 0., ..., 0., 0., 0.],\n",
       "       [0., 0., 0., ..., 0., 0., 0.]], dtype=float32)"
      ]
     },
     "execution_count": 25,
     "metadata": {},
     "output_type": "execute_result"
    }
   ],
   "source": [
    "y_test"
   ]
  },
  {
   "cell_type": "code",
   "execution_count": 26,
   "id": "3b7db7fa",
   "metadata": {},
   "outputs": [],
   "source": [
    "a=[]\n",
    "for i in range(len(y_pred)):\n",
    "    a.append(np.argmax(y_pred[i]))"
   ]
  },
  {
   "cell_type": "code",
   "execution_count": 27,
   "id": "8590c507",
   "metadata": {},
   "outputs": [
    {
     "data": {
      "text/plain": [
       "[7,\n",
       " 2,\n",
       " 1,\n",
       " 0,\n",
       " 4,\n",
       " 1,\n",
       " 4,\n",
       " 9,\n",
       " 5,\n",
       " 9,\n",
       " 0,\n",
       " 6,\n",
       " 9,\n",
       " 0,\n",
       " 1,\n",
       " 5,\n",
       " 9,\n",
       " 7,\n",
       " 3,\n",
       " 4,\n",
       " 9,\n",
       " 6,\n",
       " 6,\n",
       " 5,\n",
       " 4,\n",
       " 0,\n",
       " 7,\n",
       " 4,\n",
       " 0,\n",
       " 1,\n",
       " 3,\n",
       " 1,\n",
       " 3,\n",
       " 4,\n",
       " 7,\n",
       " 2,\n",
       " 7,\n",
       " 1,\n",
       " 2,\n",
       " 1,\n",
       " 1,\n",
       " 7,\n",
       " 4,\n",
       " 2,\n",
       " 3,\n",
       " 5,\n",
       " 1,\n",
       " 2,\n",
       " 4,\n",
       " 4,\n",
       " 6,\n",
       " 3,\n",
       " 5,\n",
       " 5,\n",
       " 6,\n",
       " 0,\n",
       " 4,\n",
       " 1,\n",
       " 9,\n",
       " 5,\n",
       " 7,\n",
       " 8,\n",
       " 9,\n",
       " 3,\n",
       " 7,\n",
       " 4,\n",
       " 6,\n",
       " 4,\n",
       " 3,\n",
       " 0,\n",
       " 7,\n",
       " 0,\n",
       " 2,\n",
       " 9,\n",
       " 1,\n",
       " 7,\n",
       " 3,\n",
       " 2,\n",
       " 9,\n",
       " 7,\n",
       " 7,\n",
       " 6,\n",
       " 2,\n",
       " 7,\n",
       " 8,\n",
       " 4,\n",
       " 7,\n",
       " 3,\n",
       " 6,\n",
       " 1,\n",
       " 3,\n",
       " 6,\n",
       " 9,\n",
       " 3,\n",
       " 1,\n",
       " 4,\n",
       " 1,\n",
       " 7,\n",
       " 6,\n",
       " 9,\n",
       " 6,\n",
       " 0,\n",
       " 5,\n",
       " 4,\n",
       " 9,\n",
       " 9,\n",
       " 2,\n",
       " 1,\n",
       " 9,\n",
       " 4,\n",
       " 8,\n",
       " 7,\n",
       " 3,\n",
       " 9,\n",
       " 7,\n",
       " 9,\n",
       " 4,\n",
       " 4,\n",
       " 9,\n",
       " 2,\n",
       " 5,\n",
       " 4,\n",
       " 7,\n",
       " 6,\n",
       " 7,\n",
       " 9,\n",
       " 9,\n",
       " 5,\n",
       " 8,\n",
       " 5,\n",
       " 6,\n",
       " 6,\n",
       " 5,\n",
       " 7,\n",
       " 8,\n",
       " 1,\n",
       " 0,\n",
       " 1,\n",
       " 6,\n",
       " 4,\n",
       " 6,\n",
       " 7,\n",
       " 3,\n",
       " 1,\n",
       " 7,\n",
       " 1,\n",
       " 8,\n",
       " 2,\n",
       " 0,\n",
       " 2,\n",
       " 9,\n",
       " 8,\n",
       " 5,\n",
       " 5,\n",
       " 1,\n",
       " 5,\n",
       " 6,\n",
       " 0,\n",
       " 3,\n",
       " 4,\n",
       " 4,\n",
       " 6,\n",
       " 5,\n",
       " 4,\n",
       " 6,\n",
       " 5,\n",
       " 4,\n",
       " 5,\n",
       " 1,\n",
       " 4,\n",
       " 4,\n",
       " 7,\n",
       " 2,\n",
       " 3,\n",
       " 2,\n",
       " 7,\n",
       " 1,\n",
       " 8,\n",
       " 1,\n",
       " 8,\n",
       " 1,\n",
       " 8,\n",
       " 5,\n",
       " 0,\n",
       " 8,\n",
       " 9,\n",
       " 2,\n",
       " 5,\n",
       " 0,\n",
       " 1,\n",
       " 1,\n",
       " 1,\n",
       " 0,\n",
       " 9,\n",
       " 0,\n",
       " 3,\n",
       " 1,\n",
       " 6,\n",
       " 4,\n",
       " 2,\n",
       " 3,\n",
       " 6,\n",
       " 1,\n",
       " 1,\n",
       " 1,\n",
       " 3,\n",
       " 9,\n",
       " 5,\n",
       " 2,\n",
       " 9,\n",
       " 4,\n",
       " 5,\n",
       " 9,\n",
       " 3,\n",
       " 9,\n",
       " 0,\n",
       " 3,\n",
       " 5,\n",
       " 5,\n",
       " 5,\n",
       " 7,\n",
       " 2,\n",
       " 2,\n",
       " 7,\n",
       " 1,\n",
       " 2,\n",
       " 8,\n",
       " 4,\n",
       " 1,\n",
       " 7,\n",
       " 3,\n",
       " 3,\n",
       " 8,\n",
       " 8,\n",
       " 7,\n",
       " 9,\n",
       " 2,\n",
       " 2,\n",
       " 4,\n",
       " 1,\n",
       " 5,\n",
       " 9,\n",
       " 8,\n",
       " 7,\n",
       " 2,\n",
       " 3,\n",
       " 0,\n",
       " 6,\n",
       " 4,\n",
       " 2,\n",
       " 4,\n",
       " 1,\n",
       " 9,\n",
       " 5,\n",
       " 7,\n",
       " 7,\n",
       " 2,\n",
       " 8,\n",
       " 2,\n",
       " 0,\n",
       " 8,\n",
       " 5,\n",
       " 7,\n",
       " 7,\n",
       " 9,\n",
       " 1,\n",
       " 8,\n",
       " 1,\n",
       " 8,\n",
       " 0,\n",
       " 3,\n",
       " 0,\n",
       " 1,\n",
       " 9,\n",
       " 9,\n",
       " 4,\n",
       " 1,\n",
       " 8,\n",
       " 2,\n",
       " 1,\n",
       " 2,\n",
       " 9,\n",
       " 7,\n",
       " 5,\n",
       " 9,\n",
       " 2,\n",
       " 6,\n",
       " 4,\n",
       " 1,\n",
       " 5,\n",
       " 8,\n",
       " 2,\n",
       " 9,\n",
       " 2,\n",
       " 0,\n",
       " 4,\n",
       " 0,\n",
       " 0,\n",
       " 2,\n",
       " 8,\n",
       " 4,\n",
       " 7,\n",
       " 1,\n",
       " 2,\n",
       " 4,\n",
       " 0,\n",
       " 2,\n",
       " 7,\n",
       " 4,\n",
       " 3,\n",
       " 3,\n",
       " 0,\n",
       " 0,\n",
       " 3,\n",
       " 1,\n",
       " 9,\n",
       " 6,\n",
       " 5,\n",
       " 2,\n",
       " 5,\n",
       " 9,\n",
       " 7,\n",
       " 9,\n",
       " 3,\n",
       " 0,\n",
       " 4,\n",
       " 6,\n",
       " 0,\n",
       " 7,\n",
       " 1,\n",
       " 1,\n",
       " 2,\n",
       " 1,\n",
       " 5,\n",
       " 3,\n",
       " 3,\n",
       " 9,\n",
       " 7,\n",
       " 8,\n",
       " 6,\n",
       " 5,\n",
       " 6,\n",
       " 1,\n",
       " 3,\n",
       " 8,\n",
       " 1,\n",
       " 0,\n",
       " 5,\n",
       " 1,\n",
       " 3,\n",
       " 1,\n",
       " 5,\n",
       " 5,\n",
       " 6,\n",
       " 1,\n",
       " 8,\n",
       " 5,\n",
       " 1,\n",
       " 7,\n",
       " 8,\n",
       " 4,\n",
       " 6,\n",
       " 2,\n",
       " 2,\n",
       " 5,\n",
       " 0,\n",
       " 6,\n",
       " 5,\n",
       " 6,\n",
       " 3,\n",
       " 7,\n",
       " 2,\n",
       " 0,\n",
       " 8,\n",
       " 8,\n",
       " 5,\n",
       " 4,\n",
       " 1,\n",
       " 1,\n",
       " 4,\n",
       " 0,\n",
       " 7,\n",
       " 3,\n",
       " 7,\n",
       " 6,\n",
       " 1,\n",
       " 6,\n",
       " 2,\n",
       " 1,\n",
       " 9,\n",
       " 2,\n",
       " 8,\n",
       " 6,\n",
       " 1,\n",
       " 9,\n",
       " 5,\n",
       " 2,\n",
       " 5,\n",
       " 4,\n",
       " 4,\n",
       " 2,\n",
       " 8,\n",
       " 3,\n",
       " 8,\n",
       " 2,\n",
       " 4,\n",
       " 5,\n",
       " 0,\n",
       " 3,\n",
       " 1,\n",
       " 7,\n",
       " 7,\n",
       " 5,\n",
       " 7,\n",
       " 9,\n",
       " 7,\n",
       " 1,\n",
       " 9,\n",
       " 2,\n",
       " 1,\n",
       " 4,\n",
       " 2,\n",
       " 9,\n",
       " 2,\n",
       " 0,\n",
       " 4,\n",
       " 9,\n",
       " 1,\n",
       " 4,\n",
       " 8,\n",
       " 1,\n",
       " 8,\n",
       " 4,\n",
       " 5,\n",
       " 9,\n",
       " 8,\n",
       " 8,\n",
       " 3,\n",
       " 7,\n",
       " 6,\n",
       " 0,\n",
       " 0,\n",
       " 3,\n",
       " 0,\n",
       " 2,\n",
       " 0,\n",
       " 6,\n",
       " 4,\n",
       " 9,\n",
       " 5,\n",
       " 3,\n",
       " 3,\n",
       " 2,\n",
       " 3,\n",
       " 9,\n",
       " 1,\n",
       " 2,\n",
       " 6,\n",
       " 8,\n",
       " 0,\n",
       " 5,\n",
       " 6,\n",
       " 6,\n",
       " 6,\n",
       " 3,\n",
       " 8,\n",
       " 8,\n",
       " 2,\n",
       " 7,\n",
       " 5,\n",
       " 8,\n",
       " 9,\n",
       " 6,\n",
       " 1,\n",
       " 8,\n",
       " 4,\n",
       " 1,\n",
       " 2,\n",
       " 5,\n",
       " 9,\n",
       " 1,\n",
       " 9,\n",
       " 7,\n",
       " 5,\n",
       " 4,\n",
       " 0,\n",
       " 8,\n",
       " 9,\n",
       " 9,\n",
       " 1,\n",
       " 0,\n",
       " 5,\n",
       " 2,\n",
       " 3,\n",
       " 7,\n",
       " 0,\n",
       " 9,\n",
       " 4,\n",
       " 0,\n",
       " 6,\n",
       " 3,\n",
       " 9,\n",
       " 5,\n",
       " 2,\n",
       " 1,\n",
       " 3,\n",
       " 1,\n",
       " 3,\n",
       " 6,\n",
       " 5,\n",
       " 7,\n",
       " 4,\n",
       " 2,\n",
       " 2,\n",
       " 6,\n",
       " 3,\n",
       " 2,\n",
       " 6,\n",
       " 5,\n",
       " 4,\n",
       " 8,\n",
       " 9,\n",
       " 7,\n",
       " 1,\n",
       " 3,\n",
       " 0,\n",
       " 3,\n",
       " 8,\n",
       " 3,\n",
       " 1,\n",
       " 9,\n",
       " 3,\n",
       " 4,\n",
       " 4,\n",
       " 6,\n",
       " 4,\n",
       " 2,\n",
       " 1,\n",
       " 8,\n",
       " 2,\n",
       " 5,\n",
       " 4,\n",
       " 8,\n",
       " 8,\n",
       " 4,\n",
       " 0,\n",
       " 0,\n",
       " 2,\n",
       " 3,\n",
       " 2,\n",
       " 7,\n",
       " 7,\n",
       " 0,\n",
       " 8,\n",
       " 7,\n",
       " 4,\n",
       " 4,\n",
       " 7,\n",
       " 9,\n",
       " 6,\n",
       " 9,\n",
       " 0,\n",
       " 9,\n",
       " 8,\n",
       " 0,\n",
       " 4,\n",
       " 6,\n",
       " 0,\n",
       " 6,\n",
       " 3,\n",
       " 5,\n",
       " 4,\n",
       " 8,\n",
       " 3,\n",
       " 3,\n",
       " 9,\n",
       " 3,\n",
       " 3,\n",
       " 3,\n",
       " 7,\n",
       " 8,\n",
       " 0,\n",
       " 2,\n",
       " 2,\n",
       " 1,\n",
       " 7,\n",
       " 0,\n",
       " 6,\n",
       " 5,\n",
       " 4,\n",
       " 3,\n",
       " 8,\n",
       " 0,\n",
       " 9,\n",
       " 6,\n",
       " 3,\n",
       " 8,\n",
       " 0,\n",
       " 9,\n",
       " 9,\n",
       " 6,\n",
       " 8,\n",
       " 6,\n",
       " 8,\n",
       " 5,\n",
       " 7,\n",
       " 8,\n",
       " 6,\n",
       " 0,\n",
       " 2,\n",
       " 6,\n",
       " 0,\n",
       " 2,\n",
       " 2,\n",
       " 3,\n",
       " 1,\n",
       " 9,\n",
       " 7,\n",
       " 5,\n",
       " 1,\n",
       " 0,\n",
       " 8,\n",
       " 4,\n",
       " 6,\n",
       " 2,\n",
       " 6,\n",
       " 7,\n",
       " 9,\n",
       " 3,\n",
       " 2,\n",
       " 9,\n",
       " 8,\n",
       " 2,\n",
       " 2,\n",
       " 9,\n",
       " 2,\n",
       " 7,\n",
       " 3,\n",
       " 5,\n",
       " 9,\n",
       " 1,\n",
       " 8,\n",
       " 0,\n",
       " 2,\n",
       " 0,\n",
       " 5,\n",
       " 6,\n",
       " 1,\n",
       " 3,\n",
       " 7,\n",
       " 6,\n",
       " 7,\n",
       " 1,\n",
       " 2,\n",
       " 5,\n",
       " 8,\n",
       " 0,\n",
       " 3,\n",
       " 7,\n",
       " 2,\n",
       " 4,\n",
       " 0,\n",
       " 9,\n",
       " 1,\n",
       " 8,\n",
       " 6,\n",
       " 7,\n",
       " 7,\n",
       " 4,\n",
       " 3,\n",
       " 4,\n",
       " 9,\n",
       " 1,\n",
       " 9,\n",
       " 5,\n",
       " 1,\n",
       " 7,\n",
       " 3,\n",
       " 9,\n",
       " 7,\n",
       " 6,\n",
       " 9,\n",
       " 1,\n",
       " 3,\n",
       " 7,\n",
       " 8,\n",
       " 3,\n",
       " 3,\n",
       " 6,\n",
       " 7,\n",
       " 2,\n",
       " 4,\n",
       " 5,\n",
       " 8,\n",
       " 5,\n",
       " 1,\n",
       " 1,\n",
       " 4,\n",
       " 4,\n",
       " 3,\n",
       " 1,\n",
       " 0,\n",
       " 7,\n",
       " 7,\n",
       " 0,\n",
       " 7,\n",
       " 9,\n",
       " 4,\n",
       " 4,\n",
       " 8,\n",
       " 5,\n",
       " 5,\n",
       " 4,\n",
       " 0,\n",
       " 8,\n",
       " 2,\n",
       " 1,\n",
       " 0,\n",
       " 8,\n",
       " 4,\n",
       " 5,\n",
       " 0,\n",
       " 4,\n",
       " 0,\n",
       " 6,\n",
       " 1,\n",
       " 7,\n",
       " 3,\n",
       " 2,\n",
       " 6,\n",
       " 7,\n",
       " 2,\n",
       " 6,\n",
       " 9,\n",
       " 3,\n",
       " 1,\n",
       " 4,\n",
       " 6,\n",
       " 2,\n",
       " 5,\n",
       " 9,\n",
       " 2,\n",
       " 0,\n",
       " 6,\n",
       " 2,\n",
       " 1,\n",
       " 7,\n",
       " 3,\n",
       " 4,\n",
       " 1,\n",
       " 0,\n",
       " 5,\n",
       " 4,\n",
       " 3,\n",
       " 1,\n",
       " 1,\n",
       " 7,\n",
       " 4,\n",
       " 9,\n",
       " 9,\n",
       " 4,\n",
       " 8,\n",
       " 4,\n",
       " 0,\n",
       " 2,\n",
       " 4,\n",
       " 5,\n",
       " 1,\n",
       " 1,\n",
       " 6,\n",
       " 4,\n",
       " 7,\n",
       " 1,\n",
       " 9,\n",
       " 4,\n",
       " 2,\n",
       " 4,\n",
       " 1,\n",
       " 5,\n",
       " 5,\n",
       " 3,\n",
       " 8,\n",
       " 3,\n",
       " 1,\n",
       " 4,\n",
       " 5,\n",
       " 6,\n",
       " 8,\n",
       " 9,\n",
       " 4,\n",
       " 1,\n",
       " 5,\n",
       " 3,\n",
       " 8,\n",
       " 0,\n",
       " 3,\n",
       " 2,\n",
       " 5,\n",
       " 1,\n",
       " 2,\n",
       " 8,\n",
       " 3,\n",
       " 4,\n",
       " 4,\n",
       " 0,\n",
       " 8,\n",
       " 8,\n",
       " 3,\n",
       " 3,\n",
       " 1,\n",
       " 7,\n",
       " 3,\n",
       " 5,\n",
       " 8,\n",
       " 6,\n",
       " 3,\n",
       " 2,\n",
       " 6,\n",
       " 1,\n",
       " 3,\n",
       " 6,\n",
       " 0,\n",
       " 7,\n",
       " 2,\n",
       " 1,\n",
       " 7,\n",
       " 1,\n",
       " 4,\n",
       " 2,\n",
       " 4,\n",
       " 2,\n",
       " 1,\n",
       " 7,\n",
       " 9,\n",
       " 6,\n",
       " 1,\n",
       " 1,\n",
       " 2,\n",
       " 4,\n",
       " 8,\n",
       " 1,\n",
       " 7,\n",
       " 7,\n",
       " 4,\n",
       " 7,\n",
       " 0,\n",
       " 7,\n",
       " 3,\n",
       " 1,\n",
       " 3,\n",
       " 1,\n",
       " 0,\n",
       " 7,\n",
       " 7,\n",
       " 0,\n",
       " 3,\n",
       " 5,\n",
       " 5,\n",
       " 2,\n",
       " 7,\n",
       " 6,\n",
       " 6,\n",
       " 9,\n",
       " 2,\n",
       " 8,\n",
       " 3,\n",
       " 5,\n",
       " 2,\n",
       " 2,\n",
       " 5,\n",
       " 6,\n",
       " 0,\n",
       " 8,\n",
       " 2,\n",
       " 9,\n",
       " 2,\n",
       " 8,\n",
       " 5,\n",
       " 8,\n",
       " 8,\n",
       " 7,\n",
       " 4,\n",
       " 9,\n",
       " 3,\n",
       " 0,\n",
       " 6,\n",
       " 6,\n",
       " 3,\n",
       " 2,\n",
       " 1,\n",
       " 3,\n",
       " 2,\n",
       " 2,\n",
       " 9,\n",
       " 3,\n",
       " 0,\n",
       " 0,\n",
       " 5,\n",
       " 7,\n",
       " 8,\n",
       " 3,\n",
       " 4,\n",
       " 4,\n",
       " 6,\n",
       " 0,\n",
       " 2,\n",
       " 9,\n",
       " 1,\n",
       " 4,\n",
       " 7,\n",
       " 4,\n",
       " 7,\n",
       " 3,\n",
       " 9,\n",
       " 8,\n",
       " 8,\n",
       " 4,\n",
       " 7,\n",
       " 1,\n",
       " 2,\n",
       " 1,\n",
       " 2,\n",
       " 2,\n",
       " 3,\n",
       " 2,\n",
       " 3,\n",
       " 2,\n",
       " 3,\n",
       " 9,\n",
       " 1,\n",
       " 7,\n",
       " 4,\n",
       " 0,\n",
       " 3,\n",
       " 5,\n",
       " 5,\n",
       " 8,\n",
       " 6,\n",
       " 3,\n",
       " 2,\n",
       " 6,\n",
       " 7,\n",
       " 6,\n",
       " 6,\n",
       " 3,\n",
       " 2,\n",
       " 7,\n",
       " 9,\n",
       " 1,\n",
       " 1,\n",
       " 7,\n",
       " 4,\n",
       " 6,\n",
       " 4,\n",
       " 9,\n",
       " 5,\n",
       " 1,\n",
       " 3,\n",
       " 3,\n",
       " 4,\n",
       " 7,\n",
       " 8,\n",
       " 9,\n",
       " 1,\n",
       " 1,\n",
       " 6,\n",
       " 9,\n",
       " 1,\n",
       " 4,\n",
       " 4,\n",
       " 5,\n",
       " 4,\n",
       " 0,\n",
       " 6,\n",
       " 2,\n",
       " 2,\n",
       " 3,\n",
       " 1,\n",
       " 5,\n",
       " 1,\n",
       " 2,\n",
       " 0,\n",
       " 3,\n",
       " 8,\n",
       " 1,\n",
       " 2,\n",
       " 6,\n",
       " 7,\n",
       " 1,\n",
       " 6,\n",
       " 2,\n",
       " 3,\n",
       " 9,\n",
       " 0,\n",
       " 1,\n",
       " 2,\n",
       " 2,\n",
       " 0,\n",
       " 8,\n",
       " 9,\n",
       " ...]"
      ]
     },
     "execution_count": 27,
     "metadata": {},
     "output_type": "execute_result"
    }
   ],
   "source": [
    "a"
   ]
  },
  {
   "cell_type": "code",
   "execution_count": 30,
   "id": "75b6451b",
   "metadata": {},
   "outputs": [],
   "source": [
    "b=[]\n",
    "for i in range(len(y_test)):\n",
    "    b.append(np.argmax(y_test[i]))"
   ]
  },
  {
   "cell_type": "code",
   "execution_count": 31,
   "id": "69429d68",
   "metadata": {},
   "outputs": [
    {
     "data": {
      "text/plain": [
       "[7,\n",
       " 2,\n",
       " 1,\n",
       " 0,\n",
       " 4,\n",
       " 1,\n",
       " 4,\n",
       " 9,\n",
       " 5,\n",
       " 9,\n",
       " 0,\n",
       " 6,\n",
       " 9,\n",
       " 0,\n",
       " 1,\n",
       " 5,\n",
       " 9,\n",
       " 7,\n",
       " 3,\n",
       " 4,\n",
       " 9,\n",
       " 6,\n",
       " 6,\n",
       " 5,\n",
       " 4,\n",
       " 0,\n",
       " 7,\n",
       " 4,\n",
       " 0,\n",
       " 1,\n",
       " 3,\n",
       " 1,\n",
       " 3,\n",
       " 4,\n",
       " 7,\n",
       " 2,\n",
       " 7,\n",
       " 1,\n",
       " 2,\n",
       " 1,\n",
       " 1,\n",
       " 7,\n",
       " 4,\n",
       " 2,\n",
       " 3,\n",
       " 5,\n",
       " 1,\n",
       " 2,\n",
       " 4,\n",
       " 4,\n",
       " 6,\n",
       " 3,\n",
       " 5,\n",
       " 5,\n",
       " 6,\n",
       " 0,\n",
       " 4,\n",
       " 1,\n",
       " 9,\n",
       " 5,\n",
       " 7,\n",
       " 8,\n",
       " 9,\n",
       " 3,\n",
       " 7,\n",
       " 4,\n",
       " 6,\n",
       " 4,\n",
       " 3,\n",
       " 0,\n",
       " 7,\n",
       " 0,\n",
       " 2,\n",
       " 9,\n",
       " 1,\n",
       " 7,\n",
       " 3,\n",
       " 2,\n",
       " 9,\n",
       " 7,\n",
       " 7,\n",
       " 6,\n",
       " 2,\n",
       " 7,\n",
       " 8,\n",
       " 4,\n",
       " 7,\n",
       " 3,\n",
       " 6,\n",
       " 1,\n",
       " 3,\n",
       " 6,\n",
       " 9,\n",
       " 3,\n",
       " 1,\n",
       " 4,\n",
       " 1,\n",
       " 7,\n",
       " 6,\n",
       " 9,\n",
       " 6,\n",
       " 0,\n",
       " 5,\n",
       " 4,\n",
       " 9,\n",
       " 9,\n",
       " 2,\n",
       " 1,\n",
       " 9,\n",
       " 4,\n",
       " 8,\n",
       " 7,\n",
       " 3,\n",
       " 9,\n",
       " 7,\n",
       " 4,\n",
       " 4,\n",
       " 4,\n",
       " 9,\n",
       " 2,\n",
       " 5,\n",
       " 4,\n",
       " 7,\n",
       " 6,\n",
       " 7,\n",
       " 9,\n",
       " 0,\n",
       " 5,\n",
       " 8,\n",
       " 5,\n",
       " 6,\n",
       " 6,\n",
       " 5,\n",
       " 7,\n",
       " 8,\n",
       " 1,\n",
       " 0,\n",
       " 1,\n",
       " 6,\n",
       " 4,\n",
       " 6,\n",
       " 7,\n",
       " 3,\n",
       " 1,\n",
       " 7,\n",
       " 1,\n",
       " 8,\n",
       " 2,\n",
       " 0,\n",
       " 2,\n",
       " 9,\n",
       " 9,\n",
       " 5,\n",
       " 5,\n",
       " 1,\n",
       " 5,\n",
       " 6,\n",
       " 0,\n",
       " 3,\n",
       " 4,\n",
       " 4,\n",
       " 6,\n",
       " 5,\n",
       " 4,\n",
       " 6,\n",
       " 5,\n",
       " 4,\n",
       " 5,\n",
       " 1,\n",
       " 4,\n",
       " 4,\n",
       " 7,\n",
       " 2,\n",
       " 3,\n",
       " 2,\n",
       " 7,\n",
       " 1,\n",
       " 8,\n",
       " 1,\n",
       " 8,\n",
       " 1,\n",
       " 8,\n",
       " 5,\n",
       " 0,\n",
       " 8,\n",
       " 9,\n",
       " 2,\n",
       " 5,\n",
       " 0,\n",
       " 1,\n",
       " 1,\n",
       " 1,\n",
       " 0,\n",
       " 9,\n",
       " 0,\n",
       " 3,\n",
       " 1,\n",
       " 6,\n",
       " 4,\n",
       " 2,\n",
       " 3,\n",
       " 6,\n",
       " 1,\n",
       " 1,\n",
       " 1,\n",
       " 3,\n",
       " 9,\n",
       " 5,\n",
       " 2,\n",
       " 9,\n",
       " 4,\n",
       " 5,\n",
       " 9,\n",
       " 3,\n",
       " 9,\n",
       " 0,\n",
       " 3,\n",
       " 6,\n",
       " 5,\n",
       " 5,\n",
       " 7,\n",
       " 2,\n",
       " 2,\n",
       " 7,\n",
       " 1,\n",
       " 2,\n",
       " 8,\n",
       " 4,\n",
       " 1,\n",
       " 7,\n",
       " 3,\n",
       " 3,\n",
       " 8,\n",
       " 8,\n",
       " 7,\n",
       " 9,\n",
       " 2,\n",
       " 2,\n",
       " 4,\n",
       " 1,\n",
       " 5,\n",
       " 9,\n",
       " 8,\n",
       " 7,\n",
       " 2,\n",
       " 3,\n",
       " 0,\n",
       " 4,\n",
       " 4,\n",
       " 2,\n",
       " 4,\n",
       " 1,\n",
       " 9,\n",
       " 5,\n",
       " 7,\n",
       " 7,\n",
       " 2,\n",
       " 8,\n",
       " 2,\n",
       " 6,\n",
       " 8,\n",
       " 5,\n",
       " 7,\n",
       " 7,\n",
       " 9,\n",
       " 1,\n",
       " 8,\n",
       " 1,\n",
       " 8,\n",
       " 0,\n",
       " 3,\n",
       " 0,\n",
       " 1,\n",
       " 9,\n",
       " 9,\n",
       " 4,\n",
       " 1,\n",
       " 8,\n",
       " 2,\n",
       " 1,\n",
       " 2,\n",
       " 9,\n",
       " 7,\n",
       " 5,\n",
       " 9,\n",
       " 2,\n",
       " 6,\n",
       " 4,\n",
       " 1,\n",
       " 5,\n",
       " 8,\n",
       " 2,\n",
       " 9,\n",
       " 2,\n",
       " 0,\n",
       " 4,\n",
       " 0,\n",
       " 0,\n",
       " 2,\n",
       " 8,\n",
       " 4,\n",
       " 7,\n",
       " 1,\n",
       " 2,\n",
       " 4,\n",
       " 0,\n",
       " 2,\n",
       " 7,\n",
       " 4,\n",
       " 3,\n",
       " 3,\n",
       " 0,\n",
       " 0,\n",
       " 3,\n",
       " 1,\n",
       " 9,\n",
       " 6,\n",
       " 5,\n",
       " 2,\n",
       " 5,\n",
       " 9,\n",
       " 2,\n",
       " 9,\n",
       " 3,\n",
       " 0,\n",
       " 4,\n",
       " 2,\n",
       " 0,\n",
       " 7,\n",
       " 1,\n",
       " 1,\n",
       " 2,\n",
       " 1,\n",
       " 5,\n",
       " 3,\n",
       " 3,\n",
       " 9,\n",
       " 7,\n",
       " 8,\n",
       " 6,\n",
       " 5,\n",
       " 6,\n",
       " 1,\n",
       " 3,\n",
       " 8,\n",
       " 1,\n",
       " 0,\n",
       " 5,\n",
       " 1,\n",
       " 3,\n",
       " 1,\n",
       " 5,\n",
       " 5,\n",
       " 6,\n",
       " 1,\n",
       " 8,\n",
       " 5,\n",
       " 1,\n",
       " 7,\n",
       " 9,\n",
       " 4,\n",
       " 6,\n",
       " 2,\n",
       " 2,\n",
       " 5,\n",
       " 0,\n",
       " 6,\n",
       " 5,\n",
       " 6,\n",
       " 3,\n",
       " 7,\n",
       " 2,\n",
       " 0,\n",
       " 8,\n",
       " 8,\n",
       " 5,\n",
       " 4,\n",
       " 1,\n",
       " 1,\n",
       " 4,\n",
       " 0,\n",
       " 3,\n",
       " 3,\n",
       " 7,\n",
       " 6,\n",
       " 1,\n",
       " 6,\n",
       " 2,\n",
       " 1,\n",
       " 9,\n",
       " 2,\n",
       " 8,\n",
       " 6,\n",
       " 1,\n",
       " 9,\n",
       " 5,\n",
       " 2,\n",
       " 5,\n",
       " 4,\n",
       " 4,\n",
       " 2,\n",
       " 8,\n",
       " 3,\n",
       " 8,\n",
       " 2,\n",
       " 4,\n",
       " 5,\n",
       " 0,\n",
       " 3,\n",
       " 1,\n",
       " 7,\n",
       " 7,\n",
       " 5,\n",
       " 7,\n",
       " 9,\n",
       " 7,\n",
       " 1,\n",
       " 9,\n",
       " 2,\n",
       " 1,\n",
       " 4,\n",
       " 2,\n",
       " 9,\n",
       " 2,\n",
       " 0,\n",
       " 4,\n",
       " 9,\n",
       " 1,\n",
       " 4,\n",
       " 8,\n",
       " 1,\n",
       " 8,\n",
       " 4,\n",
       " 5,\n",
       " 9,\n",
       " 8,\n",
       " 8,\n",
       " 3,\n",
       " 7,\n",
       " 6,\n",
       " 0,\n",
       " 0,\n",
       " 3,\n",
       " 0,\n",
       " 2,\n",
       " 6,\n",
       " 6,\n",
       " 4,\n",
       " 9,\n",
       " 3,\n",
       " 3,\n",
       " 3,\n",
       " 2,\n",
       " 3,\n",
       " 9,\n",
       " 1,\n",
       " 2,\n",
       " 6,\n",
       " 8,\n",
       " 0,\n",
       " 5,\n",
       " 6,\n",
       " 6,\n",
       " 6,\n",
       " 3,\n",
       " 8,\n",
       " 8,\n",
       " 2,\n",
       " 7,\n",
       " 5,\n",
       " 8,\n",
       " 9,\n",
       " 6,\n",
       " 1,\n",
       " 8,\n",
       " 4,\n",
       " 1,\n",
       " 2,\n",
       " 5,\n",
       " 9,\n",
       " 1,\n",
       " 9,\n",
       " 7,\n",
       " 5,\n",
       " 4,\n",
       " 0,\n",
       " 8,\n",
       " 9,\n",
       " 9,\n",
       " 1,\n",
       " 0,\n",
       " 5,\n",
       " 2,\n",
       " 3,\n",
       " 7,\n",
       " 8,\n",
       " 9,\n",
       " 4,\n",
       " 0,\n",
       " 6,\n",
       " 3,\n",
       " 9,\n",
       " 5,\n",
       " 2,\n",
       " 1,\n",
       " 3,\n",
       " 1,\n",
       " 3,\n",
       " 6,\n",
       " 5,\n",
       " 7,\n",
       " 4,\n",
       " 2,\n",
       " 2,\n",
       " 6,\n",
       " 3,\n",
       " 2,\n",
       " 6,\n",
       " 5,\n",
       " 4,\n",
       " 8,\n",
       " 9,\n",
       " 7,\n",
       " 1,\n",
       " 3,\n",
       " 0,\n",
       " 3,\n",
       " 8,\n",
       " 3,\n",
       " 1,\n",
       " 9,\n",
       " 3,\n",
       " 4,\n",
       " 4,\n",
       " 6,\n",
       " 4,\n",
       " 2,\n",
       " 1,\n",
       " 8,\n",
       " 2,\n",
       " 5,\n",
       " 4,\n",
       " 8,\n",
       " 8,\n",
       " 4,\n",
       " 0,\n",
       " 0,\n",
       " 2,\n",
       " 3,\n",
       " 2,\n",
       " 7,\n",
       " 7,\n",
       " 0,\n",
       " 8,\n",
       " 7,\n",
       " 4,\n",
       " 4,\n",
       " 7,\n",
       " 9,\n",
       " 6,\n",
       " 9,\n",
       " 0,\n",
       " 9,\n",
       " 8,\n",
       " 0,\n",
       " 4,\n",
       " 6,\n",
       " 0,\n",
       " 6,\n",
       " 3,\n",
       " 5,\n",
       " 4,\n",
       " 8,\n",
       " 3,\n",
       " 3,\n",
       " 9,\n",
       " 3,\n",
       " 3,\n",
       " 3,\n",
       " 7,\n",
       " 8,\n",
       " 0,\n",
       " 8,\n",
       " 2,\n",
       " 1,\n",
       " 7,\n",
       " 0,\n",
       " 6,\n",
       " 5,\n",
       " 4,\n",
       " 3,\n",
       " 8,\n",
       " 0,\n",
       " 9,\n",
       " 6,\n",
       " 3,\n",
       " 8,\n",
       " 0,\n",
       " 9,\n",
       " 9,\n",
       " 6,\n",
       " 8,\n",
       " 6,\n",
       " 8,\n",
       " 5,\n",
       " 7,\n",
       " 8,\n",
       " 6,\n",
       " 0,\n",
       " 2,\n",
       " 4,\n",
       " 0,\n",
       " 2,\n",
       " 2,\n",
       " 3,\n",
       " 1,\n",
       " 9,\n",
       " 7,\n",
       " 5,\n",
       " 1,\n",
       " 0,\n",
       " 8,\n",
       " 4,\n",
       " 6,\n",
       " 2,\n",
       " 6,\n",
       " 7,\n",
       " 9,\n",
       " 3,\n",
       " 2,\n",
       " 9,\n",
       " 8,\n",
       " 2,\n",
       " 2,\n",
       " 9,\n",
       " 2,\n",
       " 7,\n",
       " 3,\n",
       " 5,\n",
       " 9,\n",
       " 1,\n",
       " 8,\n",
       " 0,\n",
       " 2,\n",
       " 0,\n",
       " 5,\n",
       " 2,\n",
       " 1,\n",
       " 3,\n",
       " 7,\n",
       " 6,\n",
       " 7,\n",
       " 1,\n",
       " 2,\n",
       " 5,\n",
       " 8,\n",
       " 0,\n",
       " 3,\n",
       " 7,\n",
       " 2,\n",
       " 4,\n",
       " 0,\n",
       " 9,\n",
       " 1,\n",
       " 8,\n",
       " 6,\n",
       " 7,\n",
       " 7,\n",
       " 4,\n",
       " 3,\n",
       " 4,\n",
       " 9,\n",
       " 1,\n",
       " 9,\n",
       " 5,\n",
       " 1,\n",
       " 7,\n",
       " 3,\n",
       " 9,\n",
       " 7,\n",
       " 6,\n",
       " 9,\n",
       " 1,\n",
       " 3,\n",
       " 7,\n",
       " 8,\n",
       " 3,\n",
       " 3,\n",
       " 6,\n",
       " 7,\n",
       " 2,\n",
       " 8,\n",
       " 5,\n",
       " 8,\n",
       " 5,\n",
       " 1,\n",
       " 1,\n",
       " 4,\n",
       " 4,\n",
       " 3,\n",
       " 1,\n",
       " 0,\n",
       " 7,\n",
       " 7,\n",
       " 0,\n",
       " 7,\n",
       " 9,\n",
       " 4,\n",
       " 4,\n",
       " 8,\n",
       " 5,\n",
       " 5,\n",
       " 4,\n",
       " 0,\n",
       " 8,\n",
       " 2,\n",
       " 1,\n",
       " 0,\n",
       " 8,\n",
       " 4,\n",
       " 5,\n",
       " 0,\n",
       " 4,\n",
       " 0,\n",
       " 6,\n",
       " 1,\n",
       " 7,\n",
       " 3,\n",
       " 2,\n",
       " 6,\n",
       " 7,\n",
       " 2,\n",
       " 6,\n",
       " 9,\n",
       " 3,\n",
       " 1,\n",
       " 4,\n",
       " 6,\n",
       " 2,\n",
       " 5,\n",
       " 4,\n",
       " 2,\n",
       " 0,\n",
       " 6,\n",
       " 2,\n",
       " 1,\n",
       " 7,\n",
       " 3,\n",
       " 4,\n",
       " 1,\n",
       " 0,\n",
       " 5,\n",
       " 4,\n",
       " 3,\n",
       " 1,\n",
       " 1,\n",
       " 7,\n",
       " 4,\n",
       " 9,\n",
       " 9,\n",
       " 4,\n",
       " 8,\n",
       " 4,\n",
       " 0,\n",
       " 2,\n",
       " 4,\n",
       " 5,\n",
       " 1,\n",
       " 1,\n",
       " 6,\n",
       " 4,\n",
       " 7,\n",
       " 1,\n",
       " 9,\n",
       " 4,\n",
       " 2,\n",
       " 4,\n",
       " 1,\n",
       " 5,\n",
       " 5,\n",
       " 3,\n",
       " 8,\n",
       " 3,\n",
       " 1,\n",
       " 4,\n",
       " 5,\n",
       " 6,\n",
       " 8,\n",
       " 9,\n",
       " 4,\n",
       " 1,\n",
       " 5,\n",
       " 3,\n",
       " 8,\n",
       " 0,\n",
       " 3,\n",
       " 2,\n",
       " 5,\n",
       " 1,\n",
       " 2,\n",
       " 8,\n",
       " 3,\n",
       " 4,\n",
       " 4,\n",
       " 0,\n",
       " 8,\n",
       " 8,\n",
       " 3,\n",
       " 3,\n",
       " 1,\n",
       " 7,\n",
       " 3,\n",
       " 5,\n",
       " 9,\n",
       " 6,\n",
       " 3,\n",
       " 2,\n",
       " 6,\n",
       " 1,\n",
       " 3,\n",
       " 6,\n",
       " 0,\n",
       " 7,\n",
       " 2,\n",
       " 1,\n",
       " 7,\n",
       " 1,\n",
       " 4,\n",
       " 2,\n",
       " 4,\n",
       " 2,\n",
       " 1,\n",
       " 7,\n",
       " 9,\n",
       " 6,\n",
       " 1,\n",
       " 1,\n",
       " 2,\n",
       " 4,\n",
       " 8,\n",
       " 1,\n",
       " 7,\n",
       " 7,\n",
       " 4,\n",
       " 8,\n",
       " 0,\n",
       " 7,\n",
       " 3,\n",
       " 1,\n",
       " 3,\n",
       " 1,\n",
       " 0,\n",
       " 7,\n",
       " 7,\n",
       " 0,\n",
       " 3,\n",
       " 5,\n",
       " 5,\n",
       " 2,\n",
       " 7,\n",
       " 6,\n",
       " 6,\n",
       " 9,\n",
       " 2,\n",
       " 8,\n",
       " 3,\n",
       " 5,\n",
       " 2,\n",
       " 2,\n",
       " 5,\n",
       " 6,\n",
       " 0,\n",
       " 8,\n",
       " 2,\n",
       " 9,\n",
       " 2,\n",
       " 8,\n",
       " 8,\n",
       " 8,\n",
       " 8,\n",
       " 7,\n",
       " 4,\n",
       " 9,\n",
       " 3,\n",
       " 0,\n",
       " 6,\n",
       " 6,\n",
       " 3,\n",
       " 2,\n",
       " 1,\n",
       " 3,\n",
       " 2,\n",
       " 2,\n",
       " 9,\n",
       " 3,\n",
       " 0,\n",
       " 0,\n",
       " 5,\n",
       " 7,\n",
       " 8,\n",
       " 1,\n",
       " 4,\n",
       " 4,\n",
       " 6,\n",
       " 0,\n",
       " 2,\n",
       " 9,\n",
       " 1,\n",
       " 4,\n",
       " 7,\n",
       " 4,\n",
       " 7,\n",
       " 3,\n",
       " 9,\n",
       " 8,\n",
       " 8,\n",
       " 4,\n",
       " 7,\n",
       " 1,\n",
       " 2,\n",
       " 1,\n",
       " 2,\n",
       " 2,\n",
       " 3,\n",
       " 2,\n",
       " 3,\n",
       " 2,\n",
       " 3,\n",
       " 9,\n",
       " 1,\n",
       " 7,\n",
       " 4,\n",
       " 0,\n",
       " 3,\n",
       " 5,\n",
       " 5,\n",
       " 8,\n",
       " 6,\n",
       " 3,\n",
       " 2,\n",
       " 6,\n",
       " 7,\n",
       " 6,\n",
       " 6,\n",
       " 3,\n",
       " 2,\n",
       " 7,\n",
       " 8,\n",
       " 1,\n",
       " 1,\n",
       " 7,\n",
       " 5,\n",
       " 6,\n",
       " 4,\n",
       " 9,\n",
       " 5,\n",
       " 1,\n",
       " 3,\n",
       " 3,\n",
       " 4,\n",
       " 7,\n",
       " 8,\n",
       " 9,\n",
       " 1,\n",
       " 1,\n",
       " 6,\n",
       " 9,\n",
       " 1,\n",
       " 4,\n",
       " 4,\n",
       " 5,\n",
       " 4,\n",
       " 0,\n",
       " 6,\n",
       " 2,\n",
       " 2,\n",
       " 3,\n",
       " 1,\n",
       " 5,\n",
       " 1,\n",
       " 2,\n",
       " 0,\n",
       " 3,\n",
       " 8,\n",
       " 1,\n",
       " 2,\n",
       " 6,\n",
       " 7,\n",
       " 1,\n",
       " 6,\n",
       " 2,\n",
       " 3,\n",
       " 9,\n",
       " 0,\n",
       " 1,\n",
       " 2,\n",
       " 2,\n",
       " 0,\n",
       " 8,\n",
       " 9,\n",
       " ...]"
      ]
     },
     "execution_count": 31,
     "metadata": {},
     "output_type": "execute_result"
    }
   ],
   "source": [
    "b"
   ]
  },
  {
   "cell_type": "code",
   "execution_count": 35,
   "id": "77e92c20",
   "metadata": {},
   "outputs": [
    {
     "data": {
      "text/html": [
       "<div>\n",
       "<style scoped>\n",
       "    .dataframe tbody tr th:only-of-type {\n",
       "        vertical-align: middle;\n",
       "    }\n",
       "\n",
       "    .dataframe tbody tr th {\n",
       "        vertical-align: top;\n",
       "    }\n",
       "\n",
       "    .dataframe thead th {\n",
       "        text-align: right;\n",
       "    }\n",
       "</style>\n",
       "<table border=\"1\" class=\"dataframe\">\n",
       "  <thead>\n",
       "    <tr style=\"text-align: right;\">\n",
       "      <th></th>\n",
       "      <th>predicted values</th>\n",
       "    </tr>\n",
       "  </thead>\n",
       "  <tbody>\n",
       "    <tr>\n",
       "      <th>0</th>\n",
       "      <td>7</td>\n",
       "    </tr>\n",
       "    <tr>\n",
       "      <th>1</th>\n",
       "      <td>2</td>\n",
       "    </tr>\n",
       "    <tr>\n",
       "      <th>2</th>\n",
       "      <td>1</td>\n",
       "    </tr>\n",
       "    <tr>\n",
       "      <th>3</th>\n",
       "      <td>0</td>\n",
       "    </tr>\n",
       "    <tr>\n",
       "      <th>4</th>\n",
       "      <td>4</td>\n",
       "    </tr>\n",
       "    <tr>\n",
       "      <th>...</th>\n",
       "      <td>...</td>\n",
       "    </tr>\n",
       "    <tr>\n",
       "      <th>9995</th>\n",
       "      <td>2</td>\n",
       "    </tr>\n",
       "    <tr>\n",
       "      <th>9996</th>\n",
       "      <td>3</td>\n",
       "    </tr>\n",
       "    <tr>\n",
       "      <th>9997</th>\n",
       "      <td>4</td>\n",
       "    </tr>\n",
       "    <tr>\n",
       "      <th>9998</th>\n",
       "      <td>5</td>\n",
       "    </tr>\n",
       "    <tr>\n",
       "      <th>9999</th>\n",
       "      <td>6</td>\n",
       "    </tr>\n",
       "  </tbody>\n",
       "</table>\n",
       "<p>10000 rows × 1 columns</p>\n",
       "</div>"
      ],
      "text/plain": [
       "      predicted values\n",
       "0                    7\n",
       "1                    2\n",
       "2                    1\n",
       "3                    0\n",
       "4                    4\n",
       "...                ...\n",
       "9995                 2\n",
       "9996                 3\n",
       "9997                 4\n",
       "9998                 5\n",
       "9999                 6\n",
       "\n",
       "[10000 rows x 1 columns]"
      ]
     },
     "execution_count": 35,
     "metadata": {},
     "output_type": "execute_result"
    }
   ],
   "source": [
    "df=pd.DataFrame(a,columns=['predicted values'])\n",
    "df"
   ]
  },
  {
   "cell_type": "code",
   "execution_count": 36,
   "id": "4e8ada66",
   "metadata": {},
   "outputs": [
    {
     "data": {
      "text/html": [
       "<div>\n",
       "<style scoped>\n",
       "    .dataframe tbody tr th:only-of-type {\n",
       "        vertical-align: middle;\n",
       "    }\n",
       "\n",
       "    .dataframe tbody tr th {\n",
       "        vertical-align: top;\n",
       "    }\n",
       "\n",
       "    .dataframe thead th {\n",
       "        text-align: right;\n",
       "    }\n",
       "</style>\n",
       "<table border=\"1\" class=\"dataframe\">\n",
       "  <thead>\n",
       "    <tr style=\"text-align: right;\">\n",
       "      <th></th>\n",
       "      <th>predicted values</th>\n",
       "      <th>actual values</th>\n",
       "    </tr>\n",
       "  </thead>\n",
       "  <tbody>\n",
       "    <tr>\n",
       "      <th>0</th>\n",
       "      <td>7</td>\n",
       "      <td>7</td>\n",
       "    </tr>\n",
       "    <tr>\n",
       "      <th>1</th>\n",
       "      <td>2</td>\n",
       "      <td>2</td>\n",
       "    </tr>\n",
       "    <tr>\n",
       "      <th>2</th>\n",
       "      <td>1</td>\n",
       "      <td>1</td>\n",
       "    </tr>\n",
       "    <tr>\n",
       "      <th>3</th>\n",
       "      <td>0</td>\n",
       "      <td>0</td>\n",
       "    </tr>\n",
       "    <tr>\n",
       "      <th>4</th>\n",
       "      <td>4</td>\n",
       "      <td>4</td>\n",
       "    </tr>\n",
       "    <tr>\n",
       "      <th>...</th>\n",
       "      <td>...</td>\n",
       "      <td>...</td>\n",
       "    </tr>\n",
       "    <tr>\n",
       "      <th>9995</th>\n",
       "      <td>2</td>\n",
       "      <td>2</td>\n",
       "    </tr>\n",
       "    <tr>\n",
       "      <th>9996</th>\n",
       "      <td>3</td>\n",
       "      <td>3</td>\n",
       "    </tr>\n",
       "    <tr>\n",
       "      <th>9997</th>\n",
       "      <td>4</td>\n",
       "      <td>4</td>\n",
       "    </tr>\n",
       "    <tr>\n",
       "      <th>9998</th>\n",
       "      <td>5</td>\n",
       "      <td>5</td>\n",
       "    </tr>\n",
       "    <tr>\n",
       "      <th>9999</th>\n",
       "      <td>6</td>\n",
       "      <td>6</td>\n",
       "    </tr>\n",
       "  </tbody>\n",
       "</table>\n",
       "<p>10000 rows × 2 columns</p>\n",
       "</div>"
      ],
      "text/plain": [
       "      predicted values  actual values\n",
       "0                    7              7\n",
       "1                    2              2\n",
       "2                    1              1\n",
       "3                    0              0\n",
       "4                    4              4\n",
       "...                ...            ...\n",
       "9995                 2              2\n",
       "9996                 3              3\n",
       "9997                 4              4\n",
       "9998                 5              5\n",
       "9999                 6              6\n",
       "\n",
       "[10000 rows x 2 columns]"
      ]
     },
     "execution_count": 36,
     "metadata": {},
     "output_type": "execute_result"
    }
   ],
   "source": [
    "df['actual values']=b\n",
    "df"
   ]
  },
  {
   "cell_type": "code",
   "execution_count": 37,
   "id": "fc5671cc",
   "metadata": {},
   "outputs": [],
   "source": [
    "from sklearn.metrics import accuracy_score,classification_report"
   ]
  },
  {
   "cell_type": "code",
   "execution_count": 44,
   "id": "5baf4a33",
   "metadata": {},
   "outputs": [
    {
     "data": {
      "text/plain": [
       "0.9799"
      ]
     },
     "execution_count": 44,
     "metadata": {},
     "output_type": "execute_result"
    }
   ],
   "source": [
    "accuracy_score(df['predicted values'],df['actual values'])"
   ]
  },
  {
   "cell_type": "code",
   "execution_count": 45,
   "id": "cb122f29",
   "metadata": {},
   "outputs": [
    {
     "name": "stdout",
     "output_type": "stream",
     "text": [
      "              precision    recall  f1-score   support\n",
      "\n",
      "           0       0.98      0.99      0.99       973\n",
      "           1       0.99      0.99      0.99      1133\n",
      "           2       0.97      0.99      0.98      1016\n",
      "           3       0.98      0.99      0.98       994\n",
      "           4       0.98      0.98      0.98       983\n",
      "           5       0.99      0.97      0.98       919\n",
      "           6       0.98      0.97      0.98       968\n",
      "           7       0.97      0.99      0.98      1010\n",
      "           8       0.98      0.96      0.97       992\n",
      "           9       0.98      0.97      0.97      1012\n",
      "\n",
      "    accuracy                           0.98     10000\n",
      "   macro avg       0.98      0.98      0.98     10000\n",
      "weighted avg       0.98      0.98      0.98     10000\n",
      "\n"
     ]
    }
   ],
   "source": [
    "print(classification_report(df['predicted values'],df['actual values']))"
   ]
  },
  {
   "cell_type": "markdown",
   "id": "fb49e1b3",
   "metadata": {},
   "source": [
    "## Hyper parameters Tuning"
   ]
  },
  {
   "cell_type": "code",
   "execution_count": 46,
   "id": "b78513c3",
   "metadata": {},
   "outputs": [],
   "source": [
    "params={'epochs':[5,10,15,20],'batch_size':[100,150,200,250]}"
   ]
  },
  {
   "cell_type": "code",
   "execution_count": 47,
   "id": "93c83d81",
   "metadata": {},
   "outputs": [],
   "source": [
    "kerasc=KerasClassifier(model)"
   ]
  },
  {
   "cell_type": "code",
   "execution_count": 48,
   "id": "6335d583",
   "metadata": {},
   "outputs": [],
   "source": [
    "grid_search=GridSearchCV(kerasc,params)"
   ]
  },
  {
   "cell_type": "code",
   "execution_count": 49,
   "id": "c124fa3d",
   "metadata": {},
   "outputs": [
    {
     "name": "stdout",
     "output_type": "stream",
     "text": [
      "INFO:tensorflow:Assets written to: C:\\Users\\hp\\AppData\\Local\\Temp\\tmp8ud95yuv\\assets\n"
     ]
    },
    {
     "name": "stderr",
     "output_type": "stream",
     "text": [
      "INFO:tensorflow:Assets written to: C:\\Users\\hp\\AppData\\Local\\Temp\\tmp8ud95yuv\\assets\n"
     ]
    },
    {
     "name": "stdout",
     "output_type": "stream",
     "text": [
      "INFO:tensorflow:Assets written to: C:\\Users\\hp\\AppData\\Local\\Temp\\tmph4thgps1\\assets\n"
     ]
    },
    {
     "name": "stderr",
     "output_type": "stream",
     "text": [
      "INFO:tensorflow:Assets written to: C:\\Users\\hp\\AppData\\Local\\Temp\\tmph4thgps1\\assets\n"
     ]
    },
    {
     "name": "stdout",
     "output_type": "stream",
     "text": [
      "Epoch 1/5\n",
      "480/480 [==============================] - 6s 12ms/step - loss: 0.0468 - accuracy: 0.9843\n",
      "Epoch 2/5\n",
      "480/480 [==============================] - 6s 13ms/step - loss: 0.0405 - accuracy: 0.9877\n",
      "Epoch 3/5\n",
      "480/480 [==============================] - 6s 12ms/step - loss: 0.0354 - accuracy: 0.9888\n",
      "Epoch 4/5\n",
      "480/480 [==============================] - 6s 12ms/step - loss: 0.0289 - accuracy: 0.9906\n",
      "Epoch 5/5\n",
      "480/480 [==============================] - 6s 12ms/step - loss: 0.0265 - accuracy: 0.9912\n",
      "120/120 [==============================] - 1s 4ms/step\n",
      "INFO:tensorflow:Assets written to: C:\\Users\\hp\\AppData\\Local\\Temp\\tmpwlmpd5sk\\assets\n"
     ]
    },
    {
     "name": "stderr",
     "output_type": "stream",
     "text": [
      "INFO:tensorflow:Assets written to: C:\\Users\\hp\\AppData\\Local\\Temp\\tmpwlmpd5sk\\assets\n"
     ]
    },
    {
     "name": "stdout",
     "output_type": "stream",
     "text": [
      "Epoch 1/5\n",
      "480/480 [==============================] - 7s 13ms/step - loss: 0.0475 - accuracy: 0.9851\n",
      "Epoch 2/5\n",
      "480/480 [==============================] - 6s 12ms/step - loss: 0.0419 - accuracy: 0.9869\n",
      "Epoch 3/5\n",
      "480/480 [==============================] - 6s 12ms/step - loss: 0.0358 - accuracy: 0.9889\n",
      "Epoch 4/5\n",
      "480/480 [==============================] - 6s 13ms/step - loss: 0.0311 - accuracy: 0.9898\n",
      "Epoch 5/5\n",
      "480/480 [==============================] - 6s 12ms/step - loss: 0.0286 - accuracy: 0.9904\n",
      "120/120 [==============================] - 1s 4ms/step\n",
      "INFO:tensorflow:Assets written to: C:\\Users\\hp\\AppData\\Local\\Temp\\tmpgxbdbnkq\\assets\n"
     ]
    },
    {
     "name": "stderr",
     "output_type": "stream",
     "text": [
      "INFO:tensorflow:Assets written to: C:\\Users\\hp\\AppData\\Local\\Temp\\tmpgxbdbnkq\\assets\n"
     ]
    },
    {
     "name": "stdout",
     "output_type": "stream",
     "text": [
      "Epoch 1/5\n",
      "480/480 [==============================] - 6s 12ms/step - loss: 0.0451 - accuracy: 0.9855\n",
      "Epoch 2/5\n",
      "480/480 [==============================] - 6s 12ms/step - loss: 0.0397 - accuracy: 0.9869\n",
      "Epoch 3/5\n",
      "480/480 [==============================] - 6s 12ms/step - loss: 0.0343 - accuracy: 0.9893\n",
      "Epoch 4/5\n",
      "480/480 [==============================] - 6s 12ms/step - loss: 0.0294 - accuracy: 0.9906\n",
      "Epoch 5/5\n",
      "480/480 [==============================] - 6s 12ms/step - loss: 0.0269 - accuracy: 0.9911\n",
      "120/120 [==============================] - 1s 4ms/step\n",
      "INFO:tensorflow:Assets written to: C:\\Users\\hp\\AppData\\Local\\Temp\\tmp7domqr99\\assets\n"
     ]
    },
    {
     "name": "stderr",
     "output_type": "stream",
     "text": [
      "INFO:tensorflow:Assets written to: C:\\Users\\hp\\AppData\\Local\\Temp\\tmp7domqr99\\assets\n"
     ]
    },
    {
     "name": "stdout",
     "output_type": "stream",
     "text": [
      "Epoch 1/5\n",
      "480/480 [==============================] - 6s 12ms/step - loss: 0.0471 - accuracy: 0.9851\n",
      "Epoch 2/5\n",
      "480/480 [==============================] - 6s 12ms/step - loss: 0.0383 - accuracy: 0.9877\n",
      "Epoch 3/5\n",
      "480/480 [==============================] - 6s 12ms/step - loss: 0.0327 - accuracy: 0.9895\n",
      "Epoch 4/5\n",
      "480/480 [==============================] - 6s 12ms/step - loss: 0.0291 - accuracy: 0.9907\n",
      "Epoch 5/5\n",
      "480/480 [==============================] - 6s 12ms/step - loss: 0.0248 - accuracy: 0.9921\n",
      "120/120 [==============================] - 1s 4ms/step\n",
      "INFO:tensorflow:Assets written to: C:\\Users\\hp\\AppData\\Local\\Temp\\tmpvozwhaji\\assets\n"
     ]
    },
    {
     "name": "stderr",
     "output_type": "stream",
     "text": [
      "INFO:tensorflow:Assets written to: C:\\Users\\hp\\AppData\\Local\\Temp\\tmpvozwhaji\\assets\n"
     ]
    },
    {
     "name": "stdout",
     "output_type": "stream",
     "text": [
      "WARNING:tensorflow:Detecting that an object or model or tf.train.Checkpoint is being deleted with unrestored values. See the following logs for the specific values in question. To silence these warnings, use `status.expect_partial()`. See https://www.tensorflow.org/api_docs/python/tf/train/Checkpoint#restorefor details about the status object returned by the restore function.\n"
     ]
    },
    {
     "name": "stderr",
     "output_type": "stream",
     "text": [
      "WARNING:tensorflow:Detecting that an object or model or tf.train.Checkpoint is being deleted with unrestored values. See the following logs for the specific values in question. To silence these warnings, use `status.expect_partial()`. See https://www.tensorflow.org/api_docs/python/tf/train/Checkpoint#restorefor details about the status object returned by the restore function.\n"
     ]
    },
    {
     "name": "stdout",
     "output_type": "stream",
     "text": [
      "WARNING:tensorflow:Value in checkpoint could not be found in the restored object: (root).keras_api.metrics.0.total\n"
     ]
    },
    {
     "name": "stderr",
     "output_type": "stream",
     "text": [
      "WARNING:tensorflow:Value in checkpoint could not be found in the restored object: (root).keras_api.metrics.0.total\n"
     ]
    },
    {
     "name": "stdout",
     "output_type": "stream",
     "text": [
      "WARNING:tensorflow:Value in checkpoint could not be found in the restored object: (root).keras_api.metrics.0.count\n"
     ]
    },
    {
     "name": "stderr",
     "output_type": "stream",
     "text": [
      "WARNING:tensorflow:Value in checkpoint could not be found in the restored object: (root).keras_api.metrics.0.count\n"
     ]
    },
    {
     "name": "stdout",
     "output_type": "stream",
     "text": [
      "WARNING:tensorflow:Value in checkpoint could not be found in the restored object: (root).keras_api.metrics.1.total\n"
     ]
    },
    {
     "name": "stderr",
     "output_type": "stream",
     "text": [
      "WARNING:tensorflow:Value in checkpoint could not be found in the restored object: (root).keras_api.metrics.1.total\n"
     ]
    },
    {
     "name": "stdout",
     "output_type": "stream",
     "text": [
      "WARNING:tensorflow:Value in checkpoint could not be found in the restored object: (root).keras_api.metrics.1.count\n"
     ]
    },
    {
     "name": "stderr",
     "output_type": "stream",
     "text": [
      "WARNING:tensorflow:Value in checkpoint could not be found in the restored object: (root).keras_api.metrics.1.count\n"
     ]
    },
    {
     "name": "stdout",
     "output_type": "stream",
     "text": [
      "WARNING:tensorflow:Detecting that an object or model or tf.train.Checkpoint is being deleted with unrestored values. See the following logs for the specific values in question. To silence these warnings, use `status.expect_partial()`. See https://www.tensorflow.org/api_docs/python/tf/train/Checkpoint#restorefor details about the status object returned by the restore function.\n"
     ]
    },
    {
     "name": "stderr",
     "output_type": "stream",
     "text": [
      "WARNING:tensorflow:Detecting that an object or model or tf.train.Checkpoint is being deleted with unrestored values. See the following logs for the specific values in question. To silence these warnings, use `status.expect_partial()`. See https://www.tensorflow.org/api_docs/python/tf/train/Checkpoint#restorefor details about the status object returned by the restore function.\n"
     ]
    },
    {
     "name": "stdout",
     "output_type": "stream",
     "text": [
      "WARNING:tensorflow:Value in checkpoint could not be found in the restored object: (root).keras_api.metrics.0.total\n"
     ]
    },
    {
     "name": "stderr",
     "output_type": "stream",
     "text": [
      "WARNING:tensorflow:Value in checkpoint could not be found in the restored object: (root).keras_api.metrics.0.total\n"
     ]
    },
    {
     "name": "stdout",
     "output_type": "stream",
     "text": [
      "WARNING:tensorflow:Value in checkpoint could not be found in the restored object: (root).keras_api.metrics.0.count\n"
     ]
    },
    {
     "name": "stderr",
     "output_type": "stream",
     "text": [
      "WARNING:tensorflow:Value in checkpoint could not be found in the restored object: (root).keras_api.metrics.0.count\n"
     ]
    },
    {
     "name": "stdout",
     "output_type": "stream",
     "text": [
      "WARNING:tensorflow:Value in checkpoint could not be found in the restored object: (root).keras_api.metrics.1.total\n"
     ]
    },
    {
     "name": "stderr",
     "output_type": "stream",
     "text": [
      "WARNING:tensorflow:Value in checkpoint could not be found in the restored object: (root).keras_api.metrics.1.total\n"
     ]
    },
    {
     "name": "stdout",
     "output_type": "stream",
     "text": [
      "WARNING:tensorflow:Value in checkpoint could not be found in the restored object: (root).keras_api.metrics.1.count\n"
     ]
    },
    {
     "name": "stderr",
     "output_type": "stream",
     "text": [
      "WARNING:tensorflow:Value in checkpoint could not be found in the restored object: (root).keras_api.metrics.1.count\n"
     ]
    },
    {
     "name": "stdout",
     "output_type": "stream",
     "text": [
      "Epoch 1/5\n",
      "480/480 [==============================] - 6s 12ms/step - loss: 0.0474 - accuracy: 0.9845\n",
      "Epoch 2/5\n",
      "480/480 [==============================] - 6s 12ms/step - loss: 0.0401 - accuracy: 0.9870\n",
      "Epoch 3/5\n",
      "480/480 [==============================] - 6s 13ms/step - loss: 0.0344 - accuracy: 0.9886\n",
      "Epoch 4/5\n",
      "480/480 [==============================] - 6s 13ms/step - loss: 0.0298 - accuracy: 0.9902\n",
      "Epoch 5/5\n",
      "480/480 [==============================] - 6s 13ms/step - loss: 0.0282 - accuracy: 0.9914\n",
      "120/120 [==============================] - 1s 4ms/step\n",
      "INFO:tensorflow:Assets written to: C:\\Users\\hp\\AppData\\Local\\Temp\\tmp02pcuxqj\\assets\n"
     ]
    },
    {
     "name": "stderr",
     "output_type": "stream",
     "text": [
      "INFO:tensorflow:Assets written to: C:\\Users\\hp\\AppData\\Local\\Temp\\tmp02pcuxqj\\assets\n"
     ]
    },
    {
     "name": "stdout",
     "output_type": "stream",
     "text": [
      "Epoch 1/10\n",
      "480/480 [==============================] - 6s 13ms/step - loss: 0.0461 - accuracy: 0.9853\n",
      "Epoch 2/10\n",
      "480/480 [==============================] - 6s 13ms/step - loss: 0.0406 - accuracy: 0.9872\n",
      "Epoch 3/10\n",
      "480/480 [==============================] - 6s 13ms/step - loss: 0.0343 - accuracy: 0.9887\n",
      "Epoch 4/10\n",
      "480/480 [==============================] - 6s 13ms/step - loss: 0.0318 - accuracy: 0.9902\n",
      "Epoch 5/10\n",
      "480/480 [==============================] - 6s 12ms/step - loss: 0.0239 - accuracy: 0.9922\n",
      "Epoch 6/10\n",
      "480/480 [==============================] - 6s 12ms/step - loss: 0.0236 - accuracy: 0.9925\n",
      "Epoch 7/10\n",
      "480/480 [==============================] - 6s 12ms/step - loss: 0.0201 - accuracy: 0.9931\n",
      "Epoch 8/10\n",
      "480/480 [==============================] - 6s 12ms/step - loss: 0.0193 - accuracy: 0.9937\n",
      "Epoch 9/10\n",
      "480/480 [==============================] - 6s 13ms/step - loss: 0.0174 - accuracy: 0.9942\n",
      "Epoch 10/10\n",
      "480/480 [==============================] - 6s 13ms/step - loss: 0.0167 - accuracy: 0.9944\n",
      "120/120 [==============================] - 1s 5ms/step\n",
      "INFO:tensorflow:Assets written to: C:\\Users\\hp\\AppData\\Local\\Temp\\tmphrozqp2u\\assets\n"
     ]
    },
    {
     "name": "stderr",
     "output_type": "stream",
     "text": [
      "INFO:tensorflow:Assets written to: C:\\Users\\hp\\AppData\\Local\\Temp\\tmphrozqp2u\\assets\n"
     ]
    },
    {
     "name": "stdout",
     "output_type": "stream",
     "text": [
      "Epoch 1/10\n",
      "480/480 [==============================] - 7s 14ms/step - loss: 0.0475 - accuracy: 0.9854\n",
      "Epoch 2/10\n",
      "480/480 [==============================] - 6s 14ms/step - loss: 0.0414 - accuracy: 0.9868\n",
      "Epoch 3/10\n",
      "480/480 [==============================] - 6s 13ms/step - loss: 0.0361 - accuracy: 0.9882\n",
      "Epoch 4/10\n",
      "480/480 [==============================] - 6s 13ms/step - loss: 0.0316 - accuracy: 0.9901\n",
      "Epoch 5/10\n",
      "480/480 [==============================] - 6s 12ms/step - loss: 0.0292 - accuracy: 0.9913\n",
      "Epoch 6/10\n",
      "480/480 [==============================] - 6s 12ms/step - loss: 0.0252 - accuracy: 0.9919\n",
      "Epoch 7/10\n",
      "480/480 [==============================] - 6s 12ms/step - loss: 0.0240 - accuracy: 0.9922\n",
      "Epoch 8/10\n",
      "480/480 [==============================] - 6s 12ms/step - loss: 0.0183 - accuracy: 0.9945\n",
      "Epoch 9/10\n",
      "480/480 [==============================] - 6s 12ms/step - loss: 0.0189 - accuracy: 0.9940\n",
      "Epoch 10/10\n",
      "480/480 [==============================] - 6s 12ms/step - loss: 0.0187 - accuracy: 0.9941\n",
      "120/120 [==============================] - 1s 5ms/step\n",
      "INFO:tensorflow:Assets written to: C:\\Users\\hp\\AppData\\Local\\Temp\\tmprqm96vgh\\assets\n"
     ]
    },
    {
     "name": "stderr",
     "output_type": "stream",
     "text": [
      "INFO:tensorflow:Assets written to: C:\\Users\\hp\\AppData\\Local\\Temp\\tmprqm96vgh\\assets\n"
     ]
    },
    {
     "name": "stdout",
     "output_type": "stream",
     "text": [
      "Epoch 1/10\n",
      "480/480 [==============================] - 6s 13ms/step - loss: 0.0476 - accuracy: 0.9852\n",
      "Epoch 2/10\n",
      "480/480 [==============================] - 6s 13ms/step - loss: 0.0407 - accuracy: 0.9876\n",
      "Epoch 3/10\n",
      "480/480 [==============================] - 6s 13ms/step - loss: 0.0355 - accuracy: 0.9885\n",
      "Epoch 4/10\n",
      "480/480 [==============================] - 6s 13ms/step - loss: 0.0310 - accuracy: 0.9902\n",
      "Epoch 5/10\n",
      "480/480 [==============================] - 7s 14ms/step - loss: 0.0288 - accuracy: 0.9904\n",
      "Epoch 6/10\n",
      "480/480 [==============================] - 7s 14ms/step - loss: 0.0225 - accuracy: 0.9923\n",
      "Epoch 7/10\n",
      "480/480 [==============================] - 9s 18ms/step - loss: 0.0196 - accuracy: 0.9940\n",
      "Epoch 8/10\n",
      "480/480 [==============================] - 7s 14ms/step - loss: 0.0183 - accuracy: 0.9937\n",
      "Epoch 9/10\n",
      "480/480 [==============================] - 8s 17ms/step - loss: 0.0168 - accuracy: 0.9949\n",
      "Epoch 10/10\n",
      "480/480 [==============================] - 7s 15ms/step - loss: 0.0158 - accuracy: 0.9948\n",
      "120/120 [==============================] - 1s 4ms/step\n",
      "INFO:tensorflow:Assets written to: C:\\Users\\hp\\AppData\\Local\\Temp\\tmp96hyont2\\assets\n"
     ]
    },
    {
     "name": "stderr",
     "output_type": "stream",
     "text": [
      "INFO:tensorflow:Assets written to: C:\\Users\\hp\\AppData\\Local\\Temp\\tmp96hyont2\\assets\n"
     ]
    },
    {
     "name": "stdout",
     "output_type": "stream",
     "text": [
      "Epoch 1/10\n",
      "480/480 [==============================] - 6s 12ms/step - loss: 0.0447 - accuracy: 0.9859\n",
      "Epoch 2/10\n",
      "480/480 [==============================] - 6s 13ms/step - loss: 0.0372 - accuracy: 0.9886\n",
      "Epoch 3/10\n",
      "480/480 [==============================] - 6s 12ms/step - loss: 0.0335 - accuracy: 0.9892\n",
      "Epoch 4/10\n",
      "480/480 [==============================] - 6s 13ms/step - loss: 0.0326 - accuracy: 0.9895\n",
      "Epoch 5/10\n",
      "480/480 [==============================] - 6s 13ms/step - loss: 0.0249 - accuracy: 0.9917\n",
      "Epoch 6/10\n",
      "480/480 [==============================] - 7s 14ms/step - loss: 0.0237 - accuracy: 0.9924\n",
      "Epoch 7/10\n",
      "480/480 [==============================] - 7s 14ms/step - loss: 0.0191 - accuracy: 0.9939\n",
      "Epoch 8/10\n",
      "480/480 [==============================] - 6s 12ms/step - loss: 0.0177 - accuracy: 0.9937\n",
      "Epoch 9/10\n",
      "480/480 [==============================] - 6s 12ms/step - loss: 0.0172 - accuracy: 0.9946\n",
      "Epoch 10/10\n",
      "480/480 [==============================] - 6s 12ms/step - loss: 0.0159 - accuracy: 0.9952\n",
      "120/120 [==============================] - 1s 4ms/step\n",
      "INFO:tensorflow:Assets written to: C:\\Users\\hp\\AppData\\Local\\Temp\\tmpaam8j8_t\\assets\n"
     ]
    },
    {
     "name": "stderr",
     "output_type": "stream",
     "text": [
      "INFO:tensorflow:Assets written to: C:\\Users\\hp\\AppData\\Local\\Temp\\tmpaam8j8_t\\assets\n"
     ]
    },
    {
     "name": "stdout",
     "output_type": "stream",
     "text": [
      "Epoch 1/10\n",
      "480/480 [==============================] - 6s 11ms/step - loss: 0.0467 - accuracy: 0.9853\n",
      "Epoch 2/10\n",
      "480/480 [==============================] - 5s 11ms/step - loss: 0.0401 - accuracy: 0.9868\n",
      "Epoch 3/10\n",
      "480/480 [==============================] - 5s 11ms/step - loss: 0.0309 - accuracy: 0.9901\n",
      "Epoch 4/10\n",
      "480/480 [==============================] - 6s 12ms/step - loss: 0.0307 - accuracy: 0.9902\n",
      "Epoch 5/10\n",
      "480/480 [==============================] - 6s 12ms/step - loss: 0.0265 - accuracy: 0.9910\n",
      "Epoch 6/10\n",
      "480/480 [==============================] - 6s 12ms/step - loss: 0.0227 - accuracy: 0.9926\n",
      "Epoch 7/10\n",
      "480/480 [==============================] - 6s 12ms/step - loss: 0.0209 - accuracy: 0.9936\n",
      "Epoch 8/10\n",
      "480/480 [==============================] - 6s 12ms/step - loss: 0.0211 - accuracy: 0.9930\n",
      "Epoch 9/10\n",
      "480/480 [==============================] - 6s 12ms/step - loss: 0.0178 - accuracy: 0.9945\n",
      "Epoch 10/10\n",
      "480/480 [==============================] - 6s 12ms/step - loss: 0.0173 - accuracy: 0.9944\n",
      "120/120 [==============================] - 1s 4ms/step\n",
      "INFO:tensorflow:Assets written to: C:\\Users\\hp\\AppData\\Local\\Temp\\tmpl81q5yum\\assets\n"
     ]
    },
    {
     "name": "stderr",
     "output_type": "stream",
     "text": [
      "INFO:tensorflow:Assets written to: C:\\Users\\hp\\AppData\\Local\\Temp\\tmpl81q5yum\\assets\n"
     ]
    },
    {
     "name": "stdout",
     "output_type": "stream",
     "text": [
      "Epoch 1/15\n",
      "480/480 [==============================] - 6s 12ms/step - loss: 0.0455 - accuracy: 0.9856\n",
      "Epoch 2/15\n",
      "480/480 [==============================] - 6s 12ms/step - loss: 0.0392 - accuracy: 0.9873\n",
      "Epoch 3/15\n",
      "480/480 [==============================] - 6s 12ms/step - loss: 0.0344 - accuracy: 0.9888\n",
      "Epoch 4/15\n",
      "480/480 [==============================] - 6s 12ms/step - loss: 0.0305 - accuracy: 0.9902\n",
      "Epoch 5/15\n",
      "480/480 [==============================] - 6s 12ms/step - loss: 0.0263 - accuracy: 0.9918\n",
      "Epoch 6/15\n",
      "480/480 [==============================] - 6s 12ms/step - loss: 0.0236 - accuracy: 0.9927\n",
      "Epoch 7/15\n",
      "480/480 [==============================] - 6s 12ms/step - loss: 0.0223 - accuracy: 0.9928\n",
      "Epoch 8/15\n",
      "480/480 [==============================] - 6s 12ms/step - loss: 0.0196 - accuracy: 0.9937\n",
      "Epoch 9/15\n",
      "480/480 [==============================] - 6s 12ms/step - loss: 0.0178 - accuracy: 0.9942\n",
      "Epoch 10/15\n",
      "480/480 [==============================] - 6s 12ms/step - loss: 0.0155 - accuracy: 0.9952\n",
      "Epoch 11/15\n",
      "480/480 [==============================] - 6s 12ms/step - loss: 0.0155 - accuracy: 0.9952\n",
      "Epoch 12/15\n",
      "480/480 [==============================] - 6s 12ms/step - loss: 0.0141 - accuracy: 0.9950\n",
      "Epoch 13/15\n",
      "480/480 [==============================] - 6s 12ms/step - loss: 0.0140 - accuracy: 0.9956\n",
      "Epoch 14/15\n",
      "480/480 [==============================] - 6s 12ms/step - loss: 0.0120 - accuracy: 0.9961\n",
      "Epoch 15/15\n",
      "480/480 [==============================] - 6s 12ms/step - loss: 0.0112 - accuracy: 0.9961\n",
      "120/120 [==============================] - 1s 4ms/step\n",
      "INFO:tensorflow:Assets written to: C:\\Users\\hp\\AppData\\Local\\Temp\\tmpjuozbgib\\assets\n"
     ]
    },
    {
     "name": "stderr",
     "output_type": "stream",
     "text": [
      "INFO:tensorflow:Assets written to: C:\\Users\\hp\\AppData\\Local\\Temp\\tmpjuozbgib\\assets\n"
     ]
    },
    {
     "name": "stdout",
     "output_type": "stream",
     "text": [
      "Epoch 1/15\n",
      "480/480 [==============================] - 6s 13ms/step - loss: 0.0490 - accuracy: 0.9841\n",
      "Epoch 2/15\n",
      "480/480 [==============================] - 6s 12ms/step - loss: 0.0410 - accuracy: 0.9869\n",
      "Epoch 3/15\n",
      "480/480 [==============================] - 6s 12ms/step - loss: 0.0364 - accuracy: 0.9890\n",
      "Epoch 4/15\n",
      "480/480 [==============================] - 6s 12ms/step - loss: 0.0320 - accuracy: 0.9896\n",
      "Epoch 5/15\n",
      "480/480 [==============================] - 6s 12ms/step - loss: 0.0284 - accuracy: 0.9907\n",
      "Epoch 6/15\n",
      "480/480 [==============================] - 6s 12ms/step - loss: 0.0249 - accuracy: 0.9918\n",
      "Epoch 7/15\n",
      "480/480 [==============================] - 6s 12ms/step - loss: 0.0208 - accuracy: 0.9936\n",
      "Epoch 8/15\n",
      "480/480 [==============================] - 6s 12ms/step - loss: 0.0200 - accuracy: 0.9937\n",
      "Epoch 9/15\n",
      "480/480 [==============================] - 6s 12ms/step - loss: 0.0187 - accuracy: 0.9942\n",
      "Epoch 10/15\n",
      "480/480 [==============================] - 6s 12ms/step - loss: 0.0185 - accuracy: 0.9941\n",
      "Epoch 11/15\n",
      "480/480 [==============================] - 6s 12ms/step - loss: 0.0148 - accuracy: 0.9949\n",
      "Epoch 12/15\n",
      "480/480 [==============================] - 6s 13ms/step - loss: 0.0149 - accuracy: 0.9953\n",
      "Epoch 13/15\n",
      "480/480 [==============================] - 6s 12ms/step - loss: 0.0133 - accuracy: 0.9956\n",
      "Epoch 14/15\n",
      "480/480 [==============================] - 6s 12ms/step - loss: 0.0127 - accuracy: 0.9961\n",
      "Epoch 15/15\n",
      "480/480 [==============================] - 6s 12ms/step - loss: 0.0117 - accuracy: 0.9966\n",
      "120/120 [==============================] - 1s 4ms/step\n",
      "INFO:tensorflow:Assets written to: C:\\Users\\hp\\AppData\\Local\\Temp\\tmpj5kp3m2g\\assets\n"
     ]
    },
    {
     "name": "stderr",
     "output_type": "stream",
     "text": [
      "INFO:tensorflow:Assets written to: C:\\Users\\hp\\AppData\\Local\\Temp\\tmpj5kp3m2g\\assets\n"
     ]
    },
    {
     "name": "stdout",
     "output_type": "stream",
     "text": [
      "Epoch 1/15\n",
      "480/480 [==============================] - 6s 12ms/step - loss: 0.0468 - accuracy: 0.9855\n",
      "Epoch 2/15\n",
      "480/480 [==============================] - 6s 12ms/step - loss: 0.0395 - accuracy: 0.9874\n",
      "Epoch 3/15\n",
      "480/480 [==============================] - 6s 12ms/step - loss: 0.0344 - accuracy: 0.9892\n",
      "Epoch 4/15\n",
      "480/480 [==============================] - 6s 12ms/step - loss: 0.0320 - accuracy: 0.9895\n",
      "Epoch 5/15\n",
      "480/480 [==============================] - 6s 12ms/step - loss: 0.0267 - accuracy: 0.9910\n",
      "Epoch 6/15\n",
      "480/480 [==============================] - 6s 13ms/step - loss: 0.0226 - accuracy: 0.9923\n",
      "Epoch 7/15\n",
      "480/480 [==============================] - 7s 14ms/step - loss: 0.0219 - accuracy: 0.9931\n",
      "Epoch 8/15\n",
      "480/480 [==============================] - 6s 12ms/step - loss: 0.0203 - accuracy: 0.9934\n",
      "Epoch 9/15\n",
      "480/480 [==============================] - 6s 12ms/step - loss: 0.0173 - accuracy: 0.9945\n",
      "Epoch 10/15\n",
      "480/480 [==============================] - 6s 12ms/step - loss: 0.0157 - accuracy: 0.9948\n",
      "Epoch 11/15\n",
      "480/480 [==============================] - 6s 12ms/step - loss: 0.0148 - accuracy: 0.9949\n",
      "Epoch 12/15\n",
      "480/480 [==============================] - 6s 12ms/step - loss: 0.0128 - accuracy: 0.9955\n",
      "Epoch 13/15\n",
      "480/480 [==============================] - 6s 11ms/step - loss: 0.0138 - accuracy: 0.9955\n",
      "Epoch 14/15\n",
      "480/480 [==============================] - 6s 12ms/step - loss: 0.0130 - accuracy: 0.9960\n",
      "Epoch 15/15\n",
      "480/480 [==============================] - 6s 12ms/step - loss: 0.0114 - accuracy: 0.9961\n",
      "120/120 [==============================] - 1s 4ms/step\n",
      "INFO:tensorflow:Assets written to: C:\\Users\\hp\\AppData\\Local\\Temp\\tmp67icqmol\\assets\n"
     ]
    },
    {
     "name": "stderr",
     "output_type": "stream",
     "text": [
      "INFO:tensorflow:Assets written to: C:\\Users\\hp\\AppData\\Local\\Temp\\tmp67icqmol\\assets\n"
     ]
    },
    {
     "name": "stdout",
     "output_type": "stream",
     "text": [
      "Epoch 1/15\n",
      "480/480 [==============================] - 6s 12ms/step - loss: 0.0447 - accuracy: 0.9858\n",
      "Epoch 2/15\n",
      "480/480 [==============================] - 6s 12ms/step - loss: 0.0385 - accuracy: 0.9877\n",
      "Epoch 3/15\n",
      "480/480 [==============================] - 6s 12ms/step - loss: 0.0338 - accuracy: 0.9892\n",
      "Epoch 4/15\n",
      "480/480 [==============================] - 6s 12ms/step - loss: 0.0300 - accuracy: 0.9903\n",
      "Epoch 5/15\n",
      "480/480 [==============================] - 6s 12ms/step - loss: 0.0252 - accuracy: 0.9911\n",
      "Epoch 6/15\n",
      "480/480 [==============================] - 6s 12ms/step - loss: 0.0221 - accuracy: 0.9926\n",
      "Epoch 7/15\n",
      "480/480 [==============================] - 6s 12ms/step - loss: 0.0207 - accuracy: 0.9932\n",
      "Epoch 8/15\n",
      "480/480 [==============================] - 6s 12ms/step - loss: 0.0213 - accuracy: 0.9934\n",
      "Epoch 9/15\n",
      "480/480 [==============================] - 6s 12ms/step - loss: 0.0167 - accuracy: 0.9947\n",
      "Epoch 10/15\n",
      "480/480 [==============================] - 6s 12ms/step - loss: 0.0156 - accuracy: 0.9948\n",
      "Epoch 11/15\n",
      "480/480 [==============================] - 6s 12ms/step - loss: 0.0136 - accuracy: 0.9956\n",
      "Epoch 12/15\n",
      "480/480 [==============================] - 6s 12ms/step - loss: 0.0119 - accuracy: 0.9960\n",
      "Epoch 13/15\n",
      "480/480 [==============================] - 6s 12ms/step - loss: 0.0120 - accuracy: 0.9961\n",
      "Epoch 14/15\n",
      "480/480 [==============================] - 6s 12ms/step - loss: 0.0123 - accuracy: 0.9964\n",
      "Epoch 15/15\n",
      "480/480 [==============================] - 6s 12ms/step - loss: 0.0103 - accuracy: 0.9966\n",
      "120/120 [==============================] - 1s 4ms/step\n",
      "INFO:tensorflow:Assets written to: C:\\Users\\hp\\AppData\\Local\\Temp\\tmpe4ylckyt\\assets\n"
     ]
    },
    {
     "name": "stderr",
     "output_type": "stream",
     "text": [
      "INFO:tensorflow:Assets written to: C:\\Users\\hp\\AppData\\Local\\Temp\\tmpe4ylckyt\\assets\n"
     ]
    },
    {
     "name": "stdout",
     "output_type": "stream",
     "text": [
      "Epoch 1/15\n",
      "480/480 [==============================] - 6s 12ms/step - loss: 0.0474 - accuracy: 0.9851\n",
      "Epoch 2/15\n",
      "480/480 [==============================] - 6s 12ms/step - loss: 0.0411 - accuracy: 0.9870\n",
      "Epoch 3/15\n",
      "480/480 [==============================] - 6s 12ms/step - loss: 0.0346 - accuracy: 0.9888\n",
      "Epoch 4/15\n",
      "480/480 [==============================] - 6s 12ms/step - loss: 0.0294 - accuracy: 0.9909\n",
      "Epoch 5/15\n",
      "480/480 [==============================] - 6s 12ms/step - loss: 0.0261 - accuracy: 0.9911\n",
      "Epoch 6/15\n",
      "480/480 [==============================] - 6s 12ms/step - loss: 0.0250 - accuracy: 0.9925\n",
      "Epoch 7/15\n",
      "480/480 [==============================] - 6s 12ms/step - loss: 0.0229 - accuracy: 0.9923\n",
      "Epoch 8/15\n",
      "480/480 [==============================] - 6s 12ms/step - loss: 0.0188 - accuracy: 0.9940\n",
      "Epoch 9/15\n",
      "480/480 [==============================] - 6s 12ms/step - loss: 0.0166 - accuracy: 0.9948\n",
      "Epoch 10/15\n",
      "480/480 [==============================] - 6s 12ms/step - loss: 0.0155 - accuracy: 0.9949\n",
      "Epoch 11/15\n",
      "480/480 [==============================] - 6s 12ms/step - loss: 0.0140 - accuracy: 0.9954\n",
      "Epoch 12/15\n",
      "480/480 [==============================] - 6s 12ms/step - loss: 0.0147 - accuracy: 0.9957\n",
      "Epoch 13/15\n",
      "480/480 [==============================] - 6s 12ms/step - loss: 0.0118 - accuracy: 0.9963\n",
      "Epoch 14/15\n",
      "480/480 [==============================] - 6s 12ms/step - loss: 0.0116 - accuracy: 0.9962\n",
      "Epoch 15/15\n",
      "480/480 [==============================] - 6s 12ms/step - loss: 0.0111 - accuracy: 0.9963\n",
      "120/120 [==============================] - 1s 4ms/step\n",
      "WARNING:tensorflow:Detecting that an object or model or tf.train.Checkpoint is being deleted with unrestored values. See the following logs for the specific values in question. To silence these warnings, use `status.expect_partial()`. See https://www.tensorflow.org/api_docs/python/tf/train/Checkpoint#restorefor details about the status object returned by the restore function.\n"
     ]
    },
    {
     "name": "stderr",
     "output_type": "stream",
     "text": [
      "WARNING:tensorflow:Detecting that an object or model or tf.train.Checkpoint is being deleted with unrestored values. See the following logs for the specific values in question. To silence these warnings, use `status.expect_partial()`. See https://www.tensorflow.org/api_docs/python/tf/train/Checkpoint#restorefor details about the status object returned by the restore function.\n"
     ]
    },
    {
     "name": "stdout",
     "output_type": "stream",
     "text": [
      "WARNING:tensorflow:Value in checkpoint could not be found in the restored object: (root).keras_api.metrics.0.total\n"
     ]
    },
    {
     "name": "stderr",
     "output_type": "stream",
     "text": [
      "WARNING:tensorflow:Value in checkpoint could not be found in the restored object: (root).keras_api.metrics.0.total\n"
     ]
    },
    {
     "name": "stdout",
     "output_type": "stream",
     "text": [
      "WARNING:tensorflow:Value in checkpoint could not be found in the restored object: (root).keras_api.metrics.0.count\n"
     ]
    },
    {
     "name": "stderr",
     "output_type": "stream",
     "text": [
      "WARNING:tensorflow:Value in checkpoint could not be found in the restored object: (root).keras_api.metrics.0.count\n"
     ]
    },
    {
     "name": "stdout",
     "output_type": "stream",
     "text": [
      "WARNING:tensorflow:Value in checkpoint could not be found in the restored object: (root).keras_api.metrics.1.total\n"
     ]
    },
    {
     "name": "stderr",
     "output_type": "stream",
     "text": [
      "WARNING:tensorflow:Value in checkpoint could not be found in the restored object: (root).keras_api.metrics.1.total\n"
     ]
    },
    {
     "name": "stdout",
     "output_type": "stream",
     "text": [
      "WARNING:tensorflow:Value in checkpoint could not be found in the restored object: (root).keras_api.metrics.1.count\n"
     ]
    },
    {
     "name": "stderr",
     "output_type": "stream",
     "text": [
      "WARNING:tensorflow:Value in checkpoint could not be found in the restored object: (root).keras_api.metrics.1.count\n"
     ]
    },
    {
     "name": "stdout",
     "output_type": "stream",
     "text": [
      "WARNING:tensorflow:Detecting that an object or model or tf.train.Checkpoint is being deleted with unrestored values. See the following logs for the specific values in question. To silence these warnings, use `status.expect_partial()`. See https://www.tensorflow.org/api_docs/python/tf/train/Checkpoint#restorefor details about the status object returned by the restore function.\n"
     ]
    },
    {
     "name": "stderr",
     "output_type": "stream",
     "text": [
      "WARNING:tensorflow:Detecting that an object or model or tf.train.Checkpoint is being deleted with unrestored values. See the following logs for the specific values in question. To silence these warnings, use `status.expect_partial()`. See https://www.tensorflow.org/api_docs/python/tf/train/Checkpoint#restorefor details about the status object returned by the restore function.\n"
     ]
    },
    {
     "name": "stdout",
     "output_type": "stream",
     "text": [
      "WARNING:tensorflow:Value in checkpoint could not be found in the restored object: (root).keras_api.metrics.0.total\n"
     ]
    },
    {
     "name": "stderr",
     "output_type": "stream",
     "text": [
      "WARNING:tensorflow:Value in checkpoint could not be found in the restored object: (root).keras_api.metrics.0.total\n"
     ]
    },
    {
     "name": "stdout",
     "output_type": "stream",
     "text": [
      "WARNING:tensorflow:Value in checkpoint could not be found in the restored object: (root).keras_api.metrics.0.count\n"
     ]
    },
    {
     "name": "stderr",
     "output_type": "stream",
     "text": [
      "WARNING:tensorflow:Value in checkpoint could not be found in the restored object: (root).keras_api.metrics.0.count\n"
     ]
    },
    {
     "name": "stdout",
     "output_type": "stream",
     "text": [
      "WARNING:tensorflow:Value in checkpoint could not be found in the restored object: (root).keras_api.metrics.1.total\n"
     ]
    },
    {
     "name": "stderr",
     "output_type": "stream",
     "text": [
      "WARNING:tensorflow:Value in checkpoint could not be found in the restored object: (root).keras_api.metrics.1.total\n"
     ]
    },
    {
     "name": "stdout",
     "output_type": "stream",
     "text": [
      "WARNING:tensorflow:Value in checkpoint could not be found in the restored object: (root).keras_api.metrics.1.count\n"
     ]
    },
    {
     "name": "stderr",
     "output_type": "stream",
     "text": [
      "WARNING:tensorflow:Value in checkpoint could not be found in the restored object: (root).keras_api.metrics.1.count\n"
     ]
    },
    {
     "name": "stdout",
     "output_type": "stream",
     "text": [
      "WARNING:tensorflow:Detecting that an object or model or tf.train.Checkpoint is being deleted with unrestored values. See the following logs for the specific values in question. To silence these warnings, use `status.expect_partial()`. See https://www.tensorflow.org/api_docs/python/tf/train/Checkpoint#restorefor details about the status object returned by the restore function.\n"
     ]
    },
    {
     "name": "stderr",
     "output_type": "stream",
     "text": [
      "WARNING:tensorflow:Detecting that an object or model or tf.train.Checkpoint is being deleted with unrestored values. See the following logs for the specific values in question. To silence these warnings, use `status.expect_partial()`. See https://www.tensorflow.org/api_docs/python/tf/train/Checkpoint#restorefor details about the status object returned by the restore function.\n"
     ]
    },
    {
     "name": "stdout",
     "output_type": "stream",
     "text": [
      "WARNING:tensorflow:Value in checkpoint could not be found in the restored object: (root).keras_api.metrics.0.total\n"
     ]
    },
    {
     "name": "stderr",
     "output_type": "stream",
     "text": [
      "WARNING:tensorflow:Value in checkpoint could not be found in the restored object: (root).keras_api.metrics.0.total\n"
     ]
    },
    {
     "name": "stdout",
     "output_type": "stream",
     "text": [
      "WARNING:tensorflow:Value in checkpoint could not be found in the restored object: (root).keras_api.metrics.0.count\n"
     ]
    },
    {
     "name": "stderr",
     "output_type": "stream",
     "text": [
      "WARNING:tensorflow:Value in checkpoint could not be found in the restored object: (root).keras_api.metrics.0.count\n"
     ]
    },
    {
     "name": "stdout",
     "output_type": "stream",
     "text": [
      "WARNING:tensorflow:Value in checkpoint could not be found in the restored object: (root).keras_api.metrics.1.total\n"
     ]
    },
    {
     "name": "stderr",
     "output_type": "stream",
     "text": [
      "WARNING:tensorflow:Value in checkpoint could not be found in the restored object: (root).keras_api.metrics.1.total\n"
     ]
    },
    {
     "name": "stdout",
     "output_type": "stream",
     "text": [
      "WARNING:tensorflow:Value in checkpoint could not be found in the restored object: (root).keras_api.metrics.1.count\n"
     ]
    },
    {
     "name": "stderr",
     "output_type": "stream",
     "text": [
      "WARNING:tensorflow:Value in checkpoint could not be found in the restored object: (root).keras_api.metrics.1.count\n"
     ]
    },
    {
     "name": "stdout",
     "output_type": "stream",
     "text": [
      "WARNING:tensorflow:Detecting that an object or model or tf.train.Checkpoint is being deleted with unrestored values. See the following logs for the specific values in question. To silence these warnings, use `status.expect_partial()`. See https://www.tensorflow.org/api_docs/python/tf/train/Checkpoint#restorefor details about the status object returned by the restore function.\n"
     ]
    },
    {
     "name": "stderr",
     "output_type": "stream",
     "text": [
      "WARNING:tensorflow:Detecting that an object or model or tf.train.Checkpoint is being deleted with unrestored values. See the following logs for the specific values in question. To silence these warnings, use `status.expect_partial()`. See https://www.tensorflow.org/api_docs/python/tf/train/Checkpoint#restorefor details about the status object returned by the restore function.\n"
     ]
    },
    {
     "name": "stdout",
     "output_type": "stream",
     "text": [
      "WARNING:tensorflow:Value in checkpoint could not be found in the restored object: (root).keras_api.metrics.0.total\n"
     ]
    },
    {
     "name": "stderr",
     "output_type": "stream",
     "text": [
      "WARNING:tensorflow:Value in checkpoint could not be found in the restored object: (root).keras_api.metrics.0.total\n"
     ]
    },
    {
     "name": "stdout",
     "output_type": "stream",
     "text": [
      "WARNING:tensorflow:Value in checkpoint could not be found in the restored object: (root).keras_api.metrics.0.count\n"
     ]
    },
    {
     "name": "stderr",
     "output_type": "stream",
     "text": [
      "WARNING:tensorflow:Value in checkpoint could not be found in the restored object: (root).keras_api.metrics.0.count\n"
     ]
    },
    {
     "name": "stdout",
     "output_type": "stream",
     "text": [
      "WARNING:tensorflow:Value in checkpoint could not be found in the restored object: (root).keras_api.metrics.1.total\n"
     ]
    },
    {
     "name": "stderr",
     "output_type": "stream",
     "text": [
      "WARNING:tensorflow:Value in checkpoint could not be found in the restored object: (root).keras_api.metrics.1.total\n"
     ]
    },
    {
     "name": "stdout",
     "output_type": "stream",
     "text": [
      "WARNING:tensorflow:Value in checkpoint could not be found in the restored object: (root).keras_api.metrics.1.count\n"
     ]
    },
    {
     "name": "stderr",
     "output_type": "stream",
     "text": [
      "WARNING:tensorflow:Value in checkpoint could not be found in the restored object: (root).keras_api.metrics.1.count\n"
     ]
    },
    {
     "name": "stdout",
     "output_type": "stream",
     "text": [
      "WARNING:tensorflow:Detecting that an object or model or tf.train.Checkpoint is being deleted with unrestored values. See the following logs for the specific values in question. To silence these warnings, use `status.expect_partial()`. See https://www.tensorflow.org/api_docs/python/tf/train/Checkpoint#restorefor details about the status object returned by the restore function.\n"
     ]
    },
    {
     "name": "stderr",
     "output_type": "stream",
     "text": [
      "WARNING:tensorflow:Detecting that an object or model or tf.train.Checkpoint is being deleted with unrestored values. See the following logs for the specific values in question. To silence these warnings, use `status.expect_partial()`. See https://www.tensorflow.org/api_docs/python/tf/train/Checkpoint#restorefor details about the status object returned by the restore function.\n"
     ]
    },
    {
     "name": "stdout",
     "output_type": "stream",
     "text": [
      "WARNING:tensorflow:Value in checkpoint could not be found in the restored object: (root).keras_api.metrics.0.total\n"
     ]
    },
    {
     "name": "stderr",
     "output_type": "stream",
     "text": [
      "WARNING:tensorflow:Value in checkpoint could not be found in the restored object: (root).keras_api.metrics.0.total\n"
     ]
    },
    {
     "name": "stdout",
     "output_type": "stream",
     "text": [
      "WARNING:tensorflow:Value in checkpoint could not be found in the restored object: (root).keras_api.metrics.0.count\n"
     ]
    },
    {
     "name": "stderr",
     "output_type": "stream",
     "text": [
      "WARNING:tensorflow:Value in checkpoint could not be found in the restored object: (root).keras_api.metrics.0.count\n"
     ]
    },
    {
     "name": "stdout",
     "output_type": "stream",
     "text": [
      "WARNING:tensorflow:Value in checkpoint could not be found in the restored object: (root).keras_api.metrics.1.total\n"
     ]
    },
    {
     "name": "stderr",
     "output_type": "stream",
     "text": [
      "WARNING:tensorflow:Value in checkpoint could not be found in the restored object: (root).keras_api.metrics.1.total\n"
     ]
    },
    {
     "name": "stdout",
     "output_type": "stream",
     "text": [
      "WARNING:tensorflow:Value in checkpoint could not be found in the restored object: (root).keras_api.metrics.1.count\n"
     ]
    },
    {
     "name": "stderr",
     "output_type": "stream",
     "text": [
      "WARNING:tensorflow:Value in checkpoint could not be found in the restored object: (root).keras_api.metrics.1.count\n"
     ]
    },
    {
     "name": "stdout",
     "output_type": "stream",
     "text": [
      "WARNING:tensorflow:Detecting that an object or model or tf.train.Checkpoint is being deleted with unrestored values. See the following logs for the specific values in question. To silence these warnings, use `status.expect_partial()`. See https://www.tensorflow.org/api_docs/python/tf/train/Checkpoint#restorefor details about the status object returned by the restore function.\n"
     ]
    },
    {
     "name": "stderr",
     "output_type": "stream",
     "text": [
      "WARNING:tensorflow:Detecting that an object or model or tf.train.Checkpoint is being deleted with unrestored values. See the following logs for the specific values in question. To silence these warnings, use `status.expect_partial()`. See https://www.tensorflow.org/api_docs/python/tf/train/Checkpoint#restorefor details about the status object returned by the restore function.\n"
     ]
    },
    {
     "name": "stdout",
     "output_type": "stream",
     "text": [
      "WARNING:tensorflow:Value in checkpoint could not be found in the restored object: (root).keras_api.metrics.0.total\n"
     ]
    },
    {
     "name": "stderr",
     "output_type": "stream",
     "text": [
      "WARNING:tensorflow:Value in checkpoint could not be found in the restored object: (root).keras_api.metrics.0.total\n"
     ]
    },
    {
     "name": "stdout",
     "output_type": "stream",
     "text": [
      "WARNING:tensorflow:Value in checkpoint could not be found in the restored object: (root).keras_api.metrics.0.count\n"
     ]
    },
    {
     "name": "stderr",
     "output_type": "stream",
     "text": [
      "WARNING:tensorflow:Value in checkpoint could not be found in the restored object: (root).keras_api.metrics.0.count\n"
     ]
    },
    {
     "name": "stdout",
     "output_type": "stream",
     "text": [
      "WARNING:tensorflow:Value in checkpoint could not be found in the restored object: (root).keras_api.metrics.1.total\n"
     ]
    },
    {
     "name": "stderr",
     "output_type": "stream",
     "text": [
      "WARNING:tensorflow:Value in checkpoint could not be found in the restored object: (root).keras_api.metrics.1.total\n"
     ]
    },
    {
     "name": "stdout",
     "output_type": "stream",
     "text": [
      "WARNING:tensorflow:Value in checkpoint could not be found in the restored object: (root).keras_api.metrics.1.count\n"
     ]
    },
    {
     "name": "stderr",
     "output_type": "stream",
     "text": [
      "WARNING:tensorflow:Value in checkpoint could not be found in the restored object: (root).keras_api.metrics.1.count\n"
     ]
    },
    {
     "name": "stdout",
     "output_type": "stream",
     "text": [
      "WARNING:tensorflow:Detecting that an object or model or tf.train.Checkpoint is being deleted with unrestored values. See the following logs for the specific values in question. To silence these warnings, use `status.expect_partial()`. See https://www.tensorflow.org/api_docs/python/tf/train/Checkpoint#restorefor details about the status object returned by the restore function.\n"
     ]
    },
    {
     "name": "stderr",
     "output_type": "stream",
     "text": [
      "WARNING:tensorflow:Detecting that an object or model or tf.train.Checkpoint is being deleted with unrestored values. See the following logs for the specific values in question. To silence these warnings, use `status.expect_partial()`. See https://www.tensorflow.org/api_docs/python/tf/train/Checkpoint#restorefor details about the status object returned by the restore function.\n"
     ]
    },
    {
     "name": "stdout",
     "output_type": "stream",
     "text": [
      "WARNING:tensorflow:Value in checkpoint could not be found in the restored object: (root).keras_api.metrics.0.total\n"
     ]
    },
    {
     "name": "stderr",
     "output_type": "stream",
     "text": [
      "WARNING:tensorflow:Value in checkpoint could not be found in the restored object: (root).keras_api.metrics.0.total\n"
     ]
    },
    {
     "name": "stdout",
     "output_type": "stream",
     "text": [
      "WARNING:tensorflow:Value in checkpoint could not be found in the restored object: (root).keras_api.metrics.0.count\n"
     ]
    },
    {
     "name": "stderr",
     "output_type": "stream",
     "text": [
      "WARNING:tensorflow:Value in checkpoint could not be found in the restored object: (root).keras_api.metrics.0.count\n"
     ]
    },
    {
     "name": "stdout",
     "output_type": "stream",
     "text": [
      "WARNING:tensorflow:Value in checkpoint could not be found in the restored object: (root).keras_api.metrics.1.total\n"
     ]
    },
    {
     "name": "stderr",
     "output_type": "stream",
     "text": [
      "WARNING:tensorflow:Value in checkpoint could not be found in the restored object: (root).keras_api.metrics.1.total\n"
     ]
    },
    {
     "name": "stdout",
     "output_type": "stream",
     "text": [
      "WARNING:tensorflow:Value in checkpoint could not be found in the restored object: (root).keras_api.metrics.1.count\n"
     ]
    },
    {
     "name": "stderr",
     "output_type": "stream",
     "text": [
      "WARNING:tensorflow:Value in checkpoint could not be found in the restored object: (root).keras_api.metrics.1.count\n"
     ]
    },
    {
     "name": "stdout",
     "output_type": "stream",
     "text": [
      "WARNING:tensorflow:Detecting that an object or model or tf.train.Checkpoint is being deleted with unrestored values. See the following logs for the specific values in question. To silence these warnings, use `status.expect_partial()`. See https://www.tensorflow.org/api_docs/python/tf/train/Checkpoint#restorefor details about the status object returned by the restore function.\n"
     ]
    },
    {
     "name": "stderr",
     "output_type": "stream",
     "text": [
      "WARNING:tensorflow:Detecting that an object or model or tf.train.Checkpoint is being deleted with unrestored values. See the following logs for the specific values in question. To silence these warnings, use `status.expect_partial()`. See https://www.tensorflow.org/api_docs/python/tf/train/Checkpoint#restorefor details about the status object returned by the restore function.\n"
     ]
    },
    {
     "name": "stdout",
     "output_type": "stream",
     "text": [
      "WARNING:tensorflow:Value in checkpoint could not be found in the restored object: (root).keras_api.metrics.0.total\n"
     ]
    },
    {
     "name": "stderr",
     "output_type": "stream",
     "text": [
      "WARNING:tensorflow:Value in checkpoint could not be found in the restored object: (root).keras_api.metrics.0.total\n"
     ]
    },
    {
     "name": "stdout",
     "output_type": "stream",
     "text": [
      "WARNING:tensorflow:Value in checkpoint could not be found in the restored object: (root).keras_api.metrics.0.count\n"
     ]
    },
    {
     "name": "stderr",
     "output_type": "stream",
     "text": [
      "WARNING:tensorflow:Value in checkpoint could not be found in the restored object: (root).keras_api.metrics.0.count\n"
     ]
    },
    {
     "name": "stdout",
     "output_type": "stream",
     "text": [
      "WARNING:tensorflow:Value in checkpoint could not be found in the restored object: (root).keras_api.metrics.1.total\n"
     ]
    },
    {
     "name": "stderr",
     "output_type": "stream",
     "text": [
      "WARNING:tensorflow:Value in checkpoint could not be found in the restored object: (root).keras_api.metrics.1.total\n"
     ]
    },
    {
     "name": "stdout",
     "output_type": "stream",
     "text": [
      "WARNING:tensorflow:Value in checkpoint could not be found in the restored object: (root).keras_api.metrics.1.count\n"
     ]
    },
    {
     "name": "stderr",
     "output_type": "stream",
     "text": [
      "WARNING:tensorflow:Value in checkpoint could not be found in the restored object: (root).keras_api.metrics.1.count\n"
     ]
    },
    {
     "name": "stdout",
     "output_type": "stream",
     "text": [
      "WARNING:tensorflow:Detecting that an object or model or tf.train.Checkpoint is being deleted with unrestored values. See the following logs for the specific values in question. To silence these warnings, use `status.expect_partial()`. See https://www.tensorflow.org/api_docs/python/tf/train/Checkpoint#restorefor details about the status object returned by the restore function.\n"
     ]
    },
    {
     "name": "stderr",
     "output_type": "stream",
     "text": [
      "WARNING:tensorflow:Detecting that an object or model or tf.train.Checkpoint is being deleted with unrestored values. See the following logs for the specific values in question. To silence these warnings, use `status.expect_partial()`. See https://www.tensorflow.org/api_docs/python/tf/train/Checkpoint#restorefor details about the status object returned by the restore function.\n"
     ]
    },
    {
     "name": "stdout",
     "output_type": "stream",
     "text": [
      "WARNING:tensorflow:Value in checkpoint could not be found in the restored object: (root).keras_api.metrics.0.total\n"
     ]
    },
    {
     "name": "stderr",
     "output_type": "stream",
     "text": [
      "WARNING:tensorflow:Value in checkpoint could not be found in the restored object: (root).keras_api.metrics.0.total\n"
     ]
    },
    {
     "name": "stdout",
     "output_type": "stream",
     "text": [
      "WARNING:tensorflow:Value in checkpoint could not be found in the restored object: (root).keras_api.metrics.0.count\n"
     ]
    },
    {
     "name": "stderr",
     "output_type": "stream",
     "text": [
      "WARNING:tensorflow:Value in checkpoint could not be found in the restored object: (root).keras_api.metrics.0.count\n"
     ]
    },
    {
     "name": "stdout",
     "output_type": "stream",
     "text": [
      "WARNING:tensorflow:Value in checkpoint could not be found in the restored object: (root).keras_api.metrics.1.total\n"
     ]
    },
    {
     "name": "stderr",
     "output_type": "stream",
     "text": [
      "WARNING:tensorflow:Value in checkpoint could not be found in the restored object: (root).keras_api.metrics.1.total\n"
     ]
    },
    {
     "name": "stdout",
     "output_type": "stream",
     "text": [
      "WARNING:tensorflow:Value in checkpoint could not be found in the restored object: (root).keras_api.metrics.1.count\n"
     ]
    },
    {
     "name": "stderr",
     "output_type": "stream",
     "text": [
      "WARNING:tensorflow:Value in checkpoint could not be found in the restored object: (root).keras_api.metrics.1.count\n"
     ]
    },
    {
     "name": "stdout",
     "output_type": "stream",
     "text": [
      "WARNING:tensorflow:Detecting that an object or model or tf.train.Checkpoint is being deleted with unrestored values. See the following logs for the specific values in question. To silence these warnings, use `status.expect_partial()`. See https://www.tensorflow.org/api_docs/python/tf/train/Checkpoint#restorefor details about the status object returned by the restore function.\n"
     ]
    },
    {
     "name": "stderr",
     "output_type": "stream",
     "text": [
      "WARNING:tensorflow:Detecting that an object or model or tf.train.Checkpoint is being deleted with unrestored values. See the following logs for the specific values in question. To silence these warnings, use `status.expect_partial()`. See https://www.tensorflow.org/api_docs/python/tf/train/Checkpoint#restorefor details about the status object returned by the restore function.\n"
     ]
    },
    {
     "name": "stdout",
     "output_type": "stream",
     "text": [
      "WARNING:tensorflow:Value in checkpoint could not be found in the restored object: (root).keras_api.metrics.0.total\n"
     ]
    },
    {
     "name": "stderr",
     "output_type": "stream",
     "text": [
      "WARNING:tensorflow:Value in checkpoint could not be found in the restored object: (root).keras_api.metrics.0.total\n"
     ]
    },
    {
     "name": "stdout",
     "output_type": "stream",
     "text": [
      "WARNING:tensorflow:Value in checkpoint could not be found in the restored object: (root).keras_api.metrics.0.count\n"
     ]
    },
    {
     "name": "stderr",
     "output_type": "stream",
     "text": [
      "WARNING:tensorflow:Value in checkpoint could not be found in the restored object: (root).keras_api.metrics.0.count\n"
     ]
    },
    {
     "name": "stdout",
     "output_type": "stream",
     "text": [
      "WARNING:tensorflow:Value in checkpoint could not be found in the restored object: (root).keras_api.metrics.1.total\n"
     ]
    },
    {
     "name": "stderr",
     "output_type": "stream",
     "text": [
      "WARNING:tensorflow:Value in checkpoint could not be found in the restored object: (root).keras_api.metrics.1.total\n"
     ]
    },
    {
     "name": "stdout",
     "output_type": "stream",
     "text": [
      "WARNING:tensorflow:Value in checkpoint could not be found in the restored object: (root).keras_api.metrics.1.count\n"
     ]
    },
    {
     "name": "stderr",
     "output_type": "stream",
     "text": [
      "WARNING:tensorflow:Value in checkpoint could not be found in the restored object: (root).keras_api.metrics.1.count\n"
     ]
    },
    {
     "name": "stdout",
     "output_type": "stream",
     "text": [
      "WARNING:tensorflow:Detecting that an object or model or tf.train.Checkpoint is being deleted with unrestored values. See the following logs for the specific values in question. To silence these warnings, use `status.expect_partial()`. See https://www.tensorflow.org/api_docs/python/tf/train/Checkpoint#restorefor details about the status object returned by the restore function.\n"
     ]
    },
    {
     "name": "stderr",
     "output_type": "stream",
     "text": [
      "WARNING:tensorflow:Detecting that an object or model or tf.train.Checkpoint is being deleted with unrestored values. See the following logs for the specific values in question. To silence these warnings, use `status.expect_partial()`. See https://www.tensorflow.org/api_docs/python/tf/train/Checkpoint#restorefor details about the status object returned by the restore function.\n"
     ]
    },
    {
     "name": "stdout",
     "output_type": "stream",
     "text": [
      "WARNING:tensorflow:Value in checkpoint could not be found in the restored object: (root).keras_api.metrics.0.total\n"
     ]
    },
    {
     "name": "stderr",
     "output_type": "stream",
     "text": [
      "WARNING:tensorflow:Value in checkpoint could not be found in the restored object: (root).keras_api.metrics.0.total\n"
     ]
    },
    {
     "name": "stdout",
     "output_type": "stream",
     "text": [
      "WARNING:tensorflow:Value in checkpoint could not be found in the restored object: (root).keras_api.metrics.0.count\n"
     ]
    },
    {
     "name": "stderr",
     "output_type": "stream",
     "text": [
      "WARNING:tensorflow:Value in checkpoint could not be found in the restored object: (root).keras_api.metrics.0.count\n"
     ]
    },
    {
     "name": "stdout",
     "output_type": "stream",
     "text": [
      "WARNING:tensorflow:Value in checkpoint could not be found in the restored object: (root).keras_api.metrics.1.total\n"
     ]
    },
    {
     "name": "stderr",
     "output_type": "stream",
     "text": [
      "WARNING:tensorflow:Value in checkpoint could not be found in the restored object: (root).keras_api.metrics.1.total\n"
     ]
    },
    {
     "name": "stdout",
     "output_type": "stream",
     "text": [
      "WARNING:tensorflow:Value in checkpoint could not be found in the restored object: (root).keras_api.metrics.1.count\n"
     ]
    },
    {
     "name": "stderr",
     "output_type": "stream",
     "text": [
      "WARNING:tensorflow:Value in checkpoint could not be found in the restored object: (root).keras_api.metrics.1.count\n"
     ]
    },
    {
     "name": "stdout",
     "output_type": "stream",
     "text": [
      "INFO:tensorflow:Assets written to: C:\\Users\\hp\\AppData\\Local\\Temp\\tmpm5fu848y\\assets\n"
     ]
    },
    {
     "name": "stderr",
     "output_type": "stream",
     "text": [
      "INFO:tensorflow:Assets written to: C:\\Users\\hp\\AppData\\Local\\Temp\\tmpm5fu848y\\assets\n"
     ]
    },
    {
     "name": "stdout",
     "output_type": "stream",
     "text": [
      "Epoch 1/20\n",
      "480/480 [==============================] - 6s 12ms/step - loss: 0.0471 - accuracy: 0.9852\n",
      "Epoch 2/20\n",
      "480/480 [==============================] - 6s 12ms/step - loss: 0.0391 - accuracy: 0.9874\n",
      "Epoch 3/20\n",
      "480/480 [==============================] - 6s 12ms/step - loss: 0.0339 - accuracy: 0.9889\n",
      "Epoch 4/20\n",
      "480/480 [==============================] - 6s 12ms/step - loss: 0.0287 - accuracy: 0.9904\n",
      "Epoch 5/20\n",
      "480/480 [==============================] - 6s 12ms/step - loss: 0.0260 - accuracy: 0.9912\n",
      "Epoch 6/20\n",
      "480/480 [==============================] - 6s 12ms/step - loss: 0.0232 - accuracy: 0.9927\n",
      "Epoch 7/20\n",
      "480/480 [==============================] - 6s 12ms/step - loss: 0.0235 - accuracy: 0.9933\n",
      "Epoch 8/20\n",
      "480/480 [==============================] - 6s 12ms/step - loss: 0.0192 - accuracy: 0.9937\n",
      "Epoch 9/20\n",
      "480/480 [==============================] - 6s 12ms/step - loss: 0.0175 - accuracy: 0.9944\n",
      "Epoch 10/20\n",
      "480/480 [==============================] - 6s 12ms/step - loss: 0.0158 - accuracy: 0.9952\n",
      "Epoch 11/20\n",
      "480/480 [==============================] - 6s 12ms/step - loss: 0.0144 - accuracy: 0.9956\n",
      "Epoch 12/20\n",
      "480/480 [==============================] - 7s 14ms/step - loss: 0.0127 - accuracy: 0.9960\n",
      "Epoch 13/20\n",
      "480/480 [==============================] - 9s 18ms/step - loss: 0.0131 - accuracy: 0.9959\n",
      "Epoch 14/20\n",
      "480/480 [==============================] - 8s 16ms/step - loss: 0.0105 - accuracy: 0.9967\n",
      "Epoch 15/20\n",
      "480/480 [==============================] - 7s 14ms/step - loss: 0.0122 - accuracy: 0.9962\n",
      "Epoch 16/20\n",
      "480/480 [==============================] - 7s 14ms/step - loss: 0.0112 - accuracy: 0.9967\n",
      "Epoch 17/20\n",
      "480/480 [==============================] - 6s 13ms/step - loss: 0.0102 - accuracy: 0.9965\n",
      "Epoch 18/20\n",
      "480/480 [==============================] - 6s 13ms/step - loss: 0.0092 - accuracy: 0.9970\n",
      "Epoch 19/20\n",
      "480/480 [==============================] - 6s 13ms/step - loss: 0.0099 - accuracy: 0.9970\n",
      "Epoch 20/20\n",
      "480/480 [==============================] - 6s 14ms/step - loss: 0.0093 - accuracy: 0.9971\n",
      "120/120 [==============================] - 1s 5ms/step\n",
      "INFO:tensorflow:Assets written to: C:\\Users\\hp\\AppData\\Local\\Temp\\tmpiihdmfg5\\assets\n"
     ]
    },
    {
     "name": "stderr",
     "output_type": "stream",
     "text": [
      "INFO:tensorflow:Assets written to: C:\\Users\\hp\\AppData\\Local\\Temp\\tmpiihdmfg5\\assets\n"
     ]
    },
    {
     "name": "stdout",
     "output_type": "stream",
     "text": [
      "Epoch 1/20\n",
      "480/480 [==============================] - 7s 13ms/step - loss: 0.0481 - accuracy: 0.9848\n",
      "Epoch 2/20\n",
      "480/480 [==============================] - 6s 13ms/step - loss: 0.0423 - accuracy: 0.9870\n",
      "Epoch 3/20\n",
      "480/480 [==============================] - 6s 13ms/step - loss: 0.0357 - accuracy: 0.9889\n",
      "Epoch 4/20\n",
      "480/480 [==============================] - 7s 14ms/step - loss: 0.0305 - accuracy: 0.9903\n",
      "Epoch 5/20\n",
      "480/480 [==============================] - 7s 14ms/step - loss: 0.0265 - accuracy: 0.9914\n",
      "Epoch 6/20\n",
      "480/480 [==============================] - 6s 13ms/step - loss: 0.0234 - accuracy: 0.9925\n",
      "Epoch 7/20\n",
      "480/480 [==============================] - 6s 13ms/step - loss: 0.0223 - accuracy: 0.9927\n",
      "Epoch 8/20\n",
      "480/480 [==============================] - 6s 13ms/step - loss: 0.0211 - accuracy: 0.9934\n",
      "Epoch 9/20\n",
      "480/480 [==============================] - 6s 13ms/step - loss: 0.0182 - accuracy: 0.9944\n",
      "Epoch 10/20\n",
      "480/480 [==============================] - 6s 13ms/step - loss: 0.0174 - accuracy: 0.9944\n",
      "Epoch 11/20\n",
      "480/480 [==============================] - 6s 13ms/step - loss: 0.0151 - accuracy: 0.9948\n",
      "Epoch 12/20\n",
      "480/480 [==============================] - 6s 13ms/step - loss: 0.0150 - accuracy: 0.9954\n",
      "Epoch 13/20\n",
      "480/480 [==============================] - 6s 13ms/step - loss: 0.0146 - accuracy: 0.9955\n",
      "Epoch 14/20\n",
      "480/480 [==============================] - 6s 13ms/step - loss: 0.0126 - accuracy: 0.9963\n",
      "Epoch 15/20\n",
      "480/480 [==============================] - 6s 13ms/step - loss: 0.0116 - accuracy: 0.9964\n",
      "Epoch 16/20\n",
      "480/480 [==============================] - 6s 13ms/step - loss: 0.0105 - accuracy: 0.9966\n",
      "Epoch 17/20\n",
      "480/480 [==============================] - 6s 13ms/step - loss: 0.0109 - accuracy: 0.9964\n",
      "Epoch 18/20\n",
      "480/480 [==============================] - 6s 13ms/step - loss: 0.0110 - accuracy: 0.9962\n",
      "Epoch 19/20\n",
      "480/480 [==============================] - 6s 13ms/step - loss: 0.0111 - accuracy: 0.9964\n",
      "Epoch 20/20\n",
      "480/480 [==============================] - 6s 13ms/step - loss: 0.0094 - accuracy: 0.9974\n",
      "120/120 [==============================] - 1s 5ms/step\n",
      "INFO:tensorflow:Assets written to: C:\\Users\\hp\\AppData\\Local\\Temp\\tmpylu449d1\\assets\n"
     ]
    },
    {
     "name": "stderr",
     "output_type": "stream",
     "text": [
      "INFO:tensorflow:Assets written to: C:\\Users\\hp\\AppData\\Local\\Temp\\tmpylu449d1\\assets\n"
     ]
    },
    {
     "name": "stdout",
     "output_type": "stream",
     "text": [
      "Epoch 1/20\n",
      "480/480 [==============================] - 7s 13ms/step - loss: 0.0474 - accuracy: 0.9846\n",
      "Epoch 2/20\n",
      "480/480 [==============================] - 6s 13ms/step - loss: 0.0403 - accuracy: 0.9866\n",
      "Epoch 3/20\n",
      "480/480 [==============================] - 6s 13ms/step - loss: 0.0329 - accuracy: 0.9899\n",
      "Epoch 4/20\n",
      "480/480 [==============================] - 6s 13ms/step - loss: 0.0282 - accuracy: 0.9910\n",
      "Epoch 5/20\n",
      "480/480 [==============================] - 6s 13ms/step - loss: 0.0270 - accuracy: 0.9915\n",
      "Epoch 6/20\n",
      "480/480 [==============================] - 6s 13ms/step - loss: 0.0249 - accuracy: 0.9920\n",
      "Epoch 7/20\n",
      "480/480 [==============================] - 7s 15ms/step - loss: 0.0214 - accuracy: 0.9931\n",
      "Epoch 8/20\n",
      "480/480 [==============================] - 7s 14ms/step - loss: 0.0202 - accuracy: 0.9935\n",
      "Epoch 9/20\n",
      "480/480 [==============================] - 6s 13ms/step - loss: 0.0170 - accuracy: 0.9943\n",
      "Epoch 10/20\n",
      "480/480 [==============================] - 6s 13ms/step - loss: 0.0174 - accuracy: 0.9940\n",
      "Epoch 11/20\n",
      "480/480 [==============================] - 6s 13ms/step - loss: 0.0160 - accuracy: 0.9949\n",
      "Epoch 12/20\n",
      "480/480 [==============================] - 6s 13ms/step - loss: 0.0137 - accuracy: 0.9956\n",
      "Epoch 13/20\n",
      "480/480 [==============================] - 6s 13ms/step - loss: 0.0135 - accuracy: 0.9957\n",
      "Epoch 14/20\n",
      "480/480 [==============================] - 6s 13ms/step - loss: 0.0110 - accuracy: 0.9963\n",
      "Epoch 15/20\n",
      "480/480 [==============================] - 6s 13ms/step - loss: 0.0106 - accuracy: 0.9965\n",
      "Epoch 16/20\n",
      "480/480 [==============================] - 6s 13ms/step - loss: 0.0107 - accuracy: 0.9965\n",
      "Epoch 17/20\n",
      "480/480 [==============================] - 6s 13ms/step - loss: 0.0111 - accuracy: 0.9965\n",
      "Epoch 18/20\n",
      "480/480 [==============================] - 6s 13ms/step - loss: 0.0088 - accuracy: 0.9967\n",
      "Epoch 19/20\n",
      "480/480 [==============================] - 6s 13ms/step - loss: 0.0087 - accuracy: 0.9971\n",
      "Epoch 20/20\n",
      "480/480 [==============================] - 6s 13ms/step - loss: 0.0078 - accuracy: 0.9975\n",
      "120/120 [==============================] - 1s 5ms/step\n",
      "INFO:tensorflow:Assets written to: C:\\Users\\hp\\AppData\\Local\\Temp\\tmpxprz29v4\\assets\n"
     ]
    },
    {
     "name": "stderr",
     "output_type": "stream",
     "text": [
      "INFO:tensorflow:Assets written to: C:\\Users\\hp\\AppData\\Local\\Temp\\tmpxprz29v4\\assets\n"
     ]
    },
    {
     "name": "stdout",
     "output_type": "stream",
     "text": [
      "Epoch 1/20\n",
      "480/480 [==============================] - 7s 14ms/step - loss: 0.0459 - accuracy: 0.9854\n",
      "Epoch 2/20\n",
      "480/480 [==============================] - 7s 14ms/step - loss: 0.0383 - accuracy: 0.9877\n",
      "Epoch 3/20\n",
      "480/480 [==============================] - 7s 14ms/step - loss: 0.0314 - accuracy: 0.9893\n",
      "Epoch 4/20\n",
      "480/480 [==============================] - 7s 14ms/step - loss: 0.0287 - accuracy: 0.9910\n",
      "Epoch 5/20\n",
      "480/480 [==============================] - 7s 14ms/step - loss: 0.0241 - accuracy: 0.9924\n",
      "Epoch 6/20\n",
      "480/480 [==============================] - 7s 14ms/step - loss: 0.0224 - accuracy: 0.9927\n",
      "Epoch 7/20\n",
      "480/480 [==============================] - 7s 15ms/step - loss: 0.0196 - accuracy: 0.9932\n",
      "Epoch 8/20\n",
      "480/480 [==============================] - 7s 15ms/step - loss: 0.0186 - accuracy: 0.9941\n",
      "Epoch 9/20\n",
      "480/480 [==============================] - 7s 15ms/step - loss: 0.0182 - accuracy: 0.9940\n",
      "Epoch 10/20\n",
      "480/480 [==============================] - 7s 15ms/step - loss: 0.0159 - accuracy: 0.9951\n",
      "Epoch 11/20\n",
      "480/480 [==============================] - 7s 15ms/step - loss: 0.0134 - accuracy: 0.9956\n",
      "Epoch 12/20\n",
      "480/480 [==============================] - 7s 15ms/step - loss: 0.0139 - accuracy: 0.9954\n",
      "Epoch 13/20\n",
      "480/480 [==============================] - 7s 15ms/step - loss: 0.0129 - accuracy: 0.9957\n",
      "Epoch 14/20\n",
      "480/480 [==============================] - 7s 15ms/step - loss: 0.0126 - accuracy: 0.9961\n",
      "Epoch 15/20\n",
      "480/480 [==============================] - 7s 15ms/step - loss: 0.0111 - accuracy: 0.9963\n",
      "Epoch 16/20\n",
      "480/480 [==============================] - 7s 15ms/step - loss: 0.0097 - accuracy: 0.9970\n",
      "Epoch 17/20\n",
      "480/480 [==============================] - 7s 15ms/step - loss: 0.0090 - accuracy: 0.9971\n",
      "Epoch 18/20\n",
      "480/480 [==============================] - 7s 15ms/step - loss: 0.0090 - accuracy: 0.9974\n",
      "Epoch 19/20\n",
      "480/480 [==============================] - 7s 15ms/step - loss: 0.0087 - accuracy: 0.9973\n",
      "Epoch 20/20\n",
      "480/480 [==============================] - 7s 15ms/step - loss: 0.0071 - accuracy: 0.9976\n",
      "120/120 [==============================] - 1s 6ms/step\n",
      "INFO:tensorflow:Assets written to: C:\\Users\\hp\\AppData\\Local\\Temp\\tmp86r38o2h\\assets\n"
     ]
    },
    {
     "name": "stderr",
     "output_type": "stream",
     "text": [
      "INFO:tensorflow:Assets written to: C:\\Users\\hp\\AppData\\Local\\Temp\\tmp86r38o2h\\assets\n"
     ]
    },
    {
     "name": "stdout",
     "output_type": "stream",
     "text": [
      "Epoch 1/20\n",
      "480/480 [==============================] - 8s 15ms/step - loss: 0.0478 - accuracy: 0.9846\n",
      "Epoch 2/20\n",
      "480/480 [==============================] - 7s 15ms/step - loss: 0.0406 - accuracy: 0.9879\n",
      "Epoch 3/20\n",
      "480/480 [==============================] - 8s 16ms/step - loss: 0.0346 - accuracy: 0.9886\n",
      "Epoch 4/20\n",
      "480/480 [==============================] - 8s 16ms/step - loss: 0.0302 - accuracy: 0.9901\n",
      "Epoch 5/20\n",
      "480/480 [==============================] - 8s 16ms/step - loss: 0.0269 - accuracy: 0.9910\n",
      "Epoch 6/20\n",
      "480/480 [==============================] - 9s 20ms/step - loss: 0.0258 - accuracy: 0.9921\n",
      "Epoch 7/20\n",
      "480/480 [==============================] - 9s 18ms/step - loss: 0.0213 - accuracy: 0.9928\n",
      "Epoch 8/20\n",
      "480/480 [==============================] - 10s 20ms/step - loss: 0.0206 - accuracy: 0.9936\n",
      "Epoch 9/20\n",
      "480/480 [==============================] - 8s 18ms/step - loss: 0.0179 - accuracy: 0.9941\n",
      "Epoch 10/20\n",
      "480/480 [==============================] - 8s 16ms/step - loss: 0.0187 - accuracy: 0.9942\n",
      "Epoch 11/20\n",
      "480/480 [==============================] - 7s 15ms/step - loss: 0.0151 - accuracy: 0.9950\n",
      "Epoch 12/20\n",
      "480/480 [==============================] - 8s 16ms/step - loss: 0.0114 - accuracy: 0.9963\n",
      "Epoch 13/20\n",
      "480/480 [==============================] - 8s 16ms/step - loss: 0.0125 - accuracy: 0.9961\n",
      "Epoch 14/20\n",
      "480/480 [==============================] - 8s 16ms/step - loss: 0.0126 - accuracy: 0.9955\n",
      "Epoch 15/20\n",
      "480/480 [==============================] - 8s 16ms/step - loss: 0.0105 - accuracy: 0.9965\n",
      "Epoch 16/20\n",
      "480/480 [==============================] - 8s 16ms/step - loss: 0.0103 - accuracy: 0.9965\n",
      "Epoch 17/20\n",
      "480/480 [==============================] - 8s 16ms/step - loss: 0.0098 - accuracy: 0.9968\n",
      "Epoch 18/20\n",
      "480/480 [==============================] - 8s 16ms/step - loss: 0.0100 - accuracy: 0.9968\n",
      "Epoch 19/20\n",
      "480/480 [==============================] - 8s 16ms/step - loss: 0.0085 - accuracy: 0.9970\n",
      "Epoch 20/20\n",
      "480/480 [==============================] - 8s 16ms/step - loss: 0.0097 - accuracy: 0.9969\n",
      "120/120 [==============================] - 1s 6ms/step\n",
      "INFO:tensorflow:Assets written to: C:\\Users\\hp\\AppData\\Local\\Temp\\tmp2mwu6xfx\\assets\n"
     ]
    },
    {
     "name": "stderr",
     "output_type": "stream",
     "text": [
      "INFO:tensorflow:Assets written to: C:\\Users\\hp\\AppData\\Local\\Temp\\tmp2mwu6xfx\\assets\n"
     ]
    },
    {
     "name": "stdout",
     "output_type": "stream",
     "text": [
      "Epoch 1/5\n",
      "320/320 [==============================] - 6s 16ms/step - loss: 0.0415 - accuracy: 0.9866\n",
      "Epoch 2/5\n",
      "320/320 [==============================] - 6s 17ms/step - loss: 0.0347 - accuracy: 0.9889\n",
      "Epoch 3/5\n",
      "320/320 [==============================] - 5s 17ms/step - loss: 0.0282 - accuracy: 0.9910\n",
      "Epoch 4/5\n",
      "320/320 [==============================] - 6s 18ms/step - loss: 0.0243 - accuracy: 0.9924\n",
      "Epoch 5/5\n",
      "320/320 [==============================] - 5s 17ms/step - loss: 0.0230 - accuracy: 0.9925\n",
      "80/80 [==============================] - 1s 6ms/step\n",
      "INFO:tensorflow:Assets written to: C:\\Users\\hp\\AppData\\Local\\Temp\\tmpfkllshal\\assets\n"
     ]
    },
    {
     "name": "stderr",
     "output_type": "stream",
     "text": [
      "INFO:tensorflow:Assets written to: C:\\Users\\hp\\AppData\\Local\\Temp\\tmpfkllshal\\assets\n"
     ]
    },
    {
     "name": "stdout",
     "output_type": "stream",
     "text": [
      "Epoch 1/5\n",
      "320/320 [==============================] - 6s 17ms/step - loss: 0.0438 - accuracy: 0.9860\n",
      "Epoch 2/5\n",
      "320/320 [==============================] - 5s 17ms/step - loss: 0.0356 - accuracy: 0.9891\n",
      "Epoch 3/5\n",
      "320/320 [==============================] - 5s 17ms/step - loss: 0.0311 - accuracy: 0.9898\n",
      "Epoch 4/5\n",
      "320/320 [==============================] - 5s 17ms/step - loss: 0.0280 - accuracy: 0.9909\n",
      "Epoch 5/5\n",
      "320/320 [==============================] - 5s 17ms/step - loss: 0.0227 - accuracy: 0.9925\n",
      "80/80 [==============================] - 1s 6ms/step\n",
      "INFO:tensorflow:Assets written to: C:\\Users\\hp\\AppData\\Local\\Temp\\tmpfsgci42u\\assets\n"
     ]
    },
    {
     "name": "stderr",
     "output_type": "stream",
     "text": [
      "INFO:tensorflow:Assets written to: C:\\Users\\hp\\AppData\\Local\\Temp\\tmpfsgci42u\\assets\n"
     ]
    },
    {
     "name": "stdout",
     "output_type": "stream",
     "text": [
      "Epoch 1/5\n",
      "320/320 [==============================] - 6s 17ms/step - loss: 0.0422 - accuracy: 0.9862\n",
      "Epoch 2/5\n",
      "320/320 [==============================] - 5s 17ms/step - loss: 0.0344 - accuracy: 0.9889\n",
      "Epoch 3/5\n",
      "320/320 [==============================] - 5s 17ms/step - loss: 0.0287 - accuracy: 0.9908\n",
      "Epoch 4/5\n",
      "320/320 [==============================] - 5s 17ms/step - loss: 0.0250 - accuracy: 0.9919\n",
      "Epoch 5/5\n",
      "320/320 [==============================] - 5s 17ms/step - loss: 0.0226 - accuracy: 0.9924\n",
      "80/80 [==============================] - 1s 6ms/step\n",
      "INFO:tensorflow:Assets written to: C:\\Users\\hp\\AppData\\Local\\Temp\\tmpy50exoru\\assets\n"
     ]
    },
    {
     "name": "stderr",
     "output_type": "stream",
     "text": [
      "INFO:tensorflow:Assets written to: C:\\Users\\hp\\AppData\\Local\\Temp\\tmpy50exoru\\assets\n"
     ]
    },
    {
     "name": "stdout",
     "output_type": "stream",
     "text": [
      "Epoch 1/5\n",
      "320/320 [==============================] - 6s 17ms/step - loss: 0.0397 - accuracy: 0.9869\n",
      "Epoch 2/5\n",
      "320/320 [==============================] - 6s 17ms/step - loss: 0.0326 - accuracy: 0.9895\n",
      "Epoch 3/5\n",
      "320/320 [==============================] - 5s 17ms/step - loss: 0.0278 - accuracy: 0.9909\n",
      "Epoch 4/5\n",
      "320/320 [==============================] - 5s 17ms/step - loss: 0.0248 - accuracy: 0.9919\n",
      "Epoch 5/5\n",
      "320/320 [==============================] - 5s 17ms/step - loss: 0.0217 - accuracy: 0.9932\n",
      "80/80 [==============================] - 1s 6ms/step\n",
      "INFO:tensorflow:Assets written to: C:\\Users\\hp\\AppData\\Local\\Temp\\tmpcps07t8i\\assets\n"
     ]
    },
    {
     "name": "stderr",
     "output_type": "stream",
     "text": [
      "INFO:tensorflow:Assets written to: C:\\Users\\hp\\AppData\\Local\\Temp\\tmpcps07t8i\\assets\n"
     ]
    },
    {
     "name": "stdout",
     "output_type": "stream",
     "text": [
      "Epoch 1/5\n",
      "320/320 [==============================] - 6s 17ms/step - loss: 0.0414 - accuracy: 0.9864\n",
      "Epoch 2/5\n",
      "320/320 [==============================] - 5s 17ms/step - loss: 0.0357 - accuracy: 0.9881\n",
      "Epoch 3/5\n",
      "320/320 [==============================] - 5s 17ms/step - loss: 0.0275 - accuracy: 0.9908\n",
      "Epoch 4/5\n",
      "320/320 [==============================] - 5s 17ms/step - loss: 0.0259 - accuracy: 0.9911\n",
      "Epoch 5/5\n",
      "320/320 [==============================] - 5s 17ms/step - loss: 0.0227 - accuracy: 0.9927\n",
      "80/80 [==============================] - 1s 6ms/step\n",
      "INFO:tensorflow:Assets written to: C:\\Users\\hp\\AppData\\Local\\Temp\\tmpr9dxqcl1\\assets\n"
     ]
    },
    {
     "name": "stderr",
     "output_type": "stream",
     "text": [
      "INFO:tensorflow:Assets written to: C:\\Users\\hp\\AppData\\Local\\Temp\\tmpr9dxqcl1\\assets\n"
     ]
    },
    {
     "name": "stdout",
     "output_type": "stream",
     "text": [
      "Epoch 1/10\n",
      "WARNING:tensorflow:Detecting that an object or model or tf.train.Checkpoint is being deleted with unrestored values. See the following logs for the specific values in question. To silence these warnings, use `status.expect_partial()`. See https://www.tensorflow.org/api_docs/python/tf/train/Checkpoint#restorefor details about the status object returned by the restore function.\n"
     ]
    },
    {
     "name": "stderr",
     "output_type": "stream",
     "text": [
      "WARNING:tensorflow:Detecting that an object or model or tf.train.Checkpoint is being deleted with unrestored values. See the following logs for the specific values in question. To silence these warnings, use `status.expect_partial()`. See https://www.tensorflow.org/api_docs/python/tf/train/Checkpoint#restorefor details about the status object returned by the restore function.\n"
     ]
    },
    {
     "name": "stdout",
     "output_type": "stream",
     "text": [
      "WARNING:tensorflow:Value in checkpoint could not be found in the restored object: (root).keras_api.metrics.0.total\n"
     ]
    },
    {
     "name": "stderr",
     "output_type": "stream",
     "text": [
      "WARNING:tensorflow:Value in checkpoint could not be found in the restored object: (root).keras_api.metrics.0.total\n"
     ]
    },
    {
     "name": "stdout",
     "output_type": "stream",
     "text": [
      "WARNING:tensorflow:Value in checkpoint could not be found in the restored object: (root).keras_api.metrics.0.count\n"
     ]
    },
    {
     "name": "stderr",
     "output_type": "stream",
     "text": [
      "WARNING:tensorflow:Value in checkpoint could not be found in the restored object: (root).keras_api.metrics.0.count\n"
     ]
    },
    {
     "name": "stdout",
     "output_type": "stream",
     "text": [
      "WARNING:tensorflow:Value in checkpoint could not be found in the restored object: (root).keras_api.metrics.1.total\n"
     ]
    },
    {
     "name": "stderr",
     "output_type": "stream",
     "text": [
      "WARNING:tensorflow:Value in checkpoint could not be found in the restored object: (root).keras_api.metrics.1.total\n"
     ]
    },
    {
     "name": "stdout",
     "output_type": "stream",
     "text": [
      "WARNING:tensorflow:Value in checkpoint could not be found in the restored object: (root).keras_api.metrics.1.count\n"
     ]
    },
    {
     "name": "stderr",
     "output_type": "stream",
     "text": [
      "WARNING:tensorflow:Value in checkpoint could not be found in the restored object: (root).keras_api.metrics.1.count\n"
     ]
    },
    {
     "name": "stdout",
     "output_type": "stream",
     "text": [
      "WARNING:tensorflow:Detecting that an object or model or tf.train.Checkpoint is being deleted with unrestored values. See the following logs for the specific values in question. To silence these warnings, use `status.expect_partial()`. See https://www.tensorflow.org/api_docs/python/tf/train/Checkpoint#restorefor details about the status object returned by the restore function.\n"
     ]
    },
    {
     "name": "stderr",
     "output_type": "stream",
     "text": [
      "WARNING:tensorflow:Detecting that an object or model or tf.train.Checkpoint is being deleted with unrestored values. See the following logs for the specific values in question. To silence these warnings, use `status.expect_partial()`. See https://www.tensorflow.org/api_docs/python/tf/train/Checkpoint#restorefor details about the status object returned by the restore function.\n"
     ]
    },
    {
     "name": "stdout",
     "output_type": "stream",
     "text": [
      "WARNING:tensorflow:Value in checkpoint could not be found in the restored object: (root).keras_api.metrics.0.total\n"
     ]
    },
    {
     "name": "stderr",
     "output_type": "stream",
     "text": [
      "WARNING:tensorflow:Value in checkpoint could not be found in the restored object: (root).keras_api.metrics.0.total\n"
     ]
    },
    {
     "name": "stdout",
     "output_type": "stream",
     "text": [
      "WARNING:tensorflow:Value in checkpoint could not be found in the restored object: (root).keras_api.metrics.0.count\n"
     ]
    },
    {
     "name": "stderr",
     "output_type": "stream",
     "text": [
      "WARNING:tensorflow:Value in checkpoint could not be found in the restored object: (root).keras_api.metrics.0.count\n"
     ]
    },
    {
     "name": "stdout",
     "output_type": "stream",
     "text": [
      "WARNING:tensorflow:Value in checkpoint could not be found in the restored object: (root).keras_api.metrics.1.total\n"
     ]
    },
    {
     "name": "stderr",
     "output_type": "stream",
     "text": [
      "WARNING:tensorflow:Value in checkpoint could not be found in the restored object: (root).keras_api.metrics.1.total\n"
     ]
    },
    {
     "name": "stdout",
     "output_type": "stream",
     "text": [
      "WARNING:tensorflow:Value in checkpoint could not be found in the restored object: (root).keras_api.metrics.1.count\n"
     ]
    },
    {
     "name": "stderr",
     "output_type": "stream",
     "text": [
      "WARNING:tensorflow:Value in checkpoint could not be found in the restored object: (root).keras_api.metrics.1.count\n"
     ]
    },
    {
     "name": "stdout",
     "output_type": "stream",
     "text": [
      "WARNING:tensorflow:Detecting that an object or model or tf.train.Checkpoint is being deleted with unrestored values. See the following logs for the specific values in question. To silence these warnings, use `status.expect_partial()`. See https://www.tensorflow.org/api_docs/python/tf/train/Checkpoint#restorefor details about the status object returned by the restore function.\n"
     ]
    },
    {
     "name": "stderr",
     "output_type": "stream",
     "text": [
      "WARNING:tensorflow:Detecting that an object or model or tf.train.Checkpoint is being deleted with unrestored values. See the following logs for the specific values in question. To silence these warnings, use `status.expect_partial()`. See https://www.tensorflow.org/api_docs/python/tf/train/Checkpoint#restorefor details about the status object returned by the restore function.\n"
     ]
    },
    {
     "name": "stdout",
     "output_type": "stream",
     "text": [
      "WARNING:tensorflow:Value in checkpoint could not be found in the restored object: (root).keras_api.metrics.0.total\n"
     ]
    },
    {
     "name": "stderr",
     "output_type": "stream",
     "text": [
      "WARNING:tensorflow:Value in checkpoint could not be found in the restored object: (root).keras_api.metrics.0.total\n"
     ]
    },
    {
     "name": "stdout",
     "output_type": "stream",
     "text": [
      "WARNING:tensorflow:Value in checkpoint could not be found in the restored object: (root).keras_api.metrics.0.count\n"
     ]
    },
    {
     "name": "stderr",
     "output_type": "stream",
     "text": [
      "WARNING:tensorflow:Value in checkpoint could not be found in the restored object: (root).keras_api.metrics.0.count\n"
     ]
    },
    {
     "name": "stdout",
     "output_type": "stream",
     "text": [
      "WARNING:tensorflow:Value in checkpoint could not be found in the restored object: (root).keras_api.metrics.1.total\n"
     ]
    },
    {
     "name": "stderr",
     "output_type": "stream",
     "text": [
      "WARNING:tensorflow:Value in checkpoint could not be found in the restored object: (root).keras_api.metrics.1.total\n"
     ]
    },
    {
     "name": "stdout",
     "output_type": "stream",
     "text": [
      "WARNING:tensorflow:Value in checkpoint could not be found in the restored object: (root).keras_api.metrics.1.count\n"
     ]
    },
    {
     "name": "stderr",
     "output_type": "stream",
     "text": [
      "WARNING:tensorflow:Value in checkpoint could not be found in the restored object: (root).keras_api.metrics.1.count\n"
     ]
    },
    {
     "name": "stdout",
     "output_type": "stream",
     "text": [
      "WARNING:tensorflow:Detecting that an object or model or tf.train.Checkpoint is being deleted with unrestored values. See the following logs for the specific values in question. To silence these warnings, use `status.expect_partial()`. See https://www.tensorflow.org/api_docs/python/tf/train/Checkpoint#restorefor details about the status object returned by the restore function.\n"
     ]
    },
    {
     "name": "stderr",
     "output_type": "stream",
     "text": [
      "WARNING:tensorflow:Detecting that an object or model or tf.train.Checkpoint is being deleted with unrestored values. See the following logs for the specific values in question. To silence these warnings, use `status.expect_partial()`. See https://www.tensorflow.org/api_docs/python/tf/train/Checkpoint#restorefor details about the status object returned by the restore function.\n"
     ]
    },
    {
     "name": "stdout",
     "output_type": "stream",
     "text": [
      "WARNING:tensorflow:Value in checkpoint could not be found in the restored object: (root).keras_api.metrics.0.total\n"
     ]
    },
    {
     "name": "stderr",
     "output_type": "stream",
     "text": [
      "WARNING:tensorflow:Value in checkpoint could not be found in the restored object: (root).keras_api.metrics.0.total\n"
     ]
    },
    {
     "name": "stdout",
     "output_type": "stream",
     "text": [
      "WARNING:tensorflow:Value in checkpoint could not be found in the restored object: (root).keras_api.metrics.0.count\n"
     ]
    },
    {
     "name": "stderr",
     "output_type": "stream",
     "text": [
      "WARNING:tensorflow:Value in checkpoint could not be found in the restored object: (root).keras_api.metrics.0.count\n"
     ]
    },
    {
     "name": "stdout",
     "output_type": "stream",
     "text": [
      "WARNING:tensorflow:Value in checkpoint could not be found in the restored object: (root).keras_api.metrics.1.total\n"
     ]
    },
    {
     "name": "stderr",
     "output_type": "stream",
     "text": [
      "WARNING:tensorflow:Value in checkpoint could not be found in the restored object: (root).keras_api.metrics.1.total\n"
     ]
    },
    {
     "name": "stdout",
     "output_type": "stream",
     "text": [
      "WARNING:tensorflow:Value in checkpoint could not be found in the restored object: (root).keras_api.metrics.1.count\n"
     ]
    },
    {
     "name": "stderr",
     "output_type": "stream",
     "text": [
      "WARNING:tensorflow:Value in checkpoint could not be found in the restored object: (root).keras_api.metrics.1.count\n"
     ]
    },
    {
     "name": "stdout",
     "output_type": "stream",
     "text": [
      "WARNING:tensorflow:Detecting that an object or model or tf.train.Checkpoint is being deleted with unrestored values. See the following logs for the specific values in question. To silence these warnings, use `status.expect_partial()`. See https://www.tensorflow.org/api_docs/python/tf/train/Checkpoint#restorefor details about the status object returned by the restore function.\n"
     ]
    },
    {
     "name": "stderr",
     "output_type": "stream",
     "text": [
      "WARNING:tensorflow:Detecting that an object or model or tf.train.Checkpoint is being deleted with unrestored values. See the following logs for the specific values in question. To silence these warnings, use `status.expect_partial()`. See https://www.tensorflow.org/api_docs/python/tf/train/Checkpoint#restorefor details about the status object returned by the restore function.\n"
     ]
    },
    {
     "name": "stdout",
     "output_type": "stream",
     "text": [
      "WARNING:tensorflow:Value in checkpoint could not be found in the restored object: (root).keras_api.metrics.0.total\n"
     ]
    },
    {
     "name": "stderr",
     "output_type": "stream",
     "text": [
      "WARNING:tensorflow:Value in checkpoint could not be found in the restored object: (root).keras_api.metrics.0.total\n"
     ]
    },
    {
     "name": "stdout",
     "output_type": "stream",
     "text": [
      "WARNING:tensorflow:Value in checkpoint could not be found in the restored object: (root).keras_api.metrics.0.count\n"
     ]
    },
    {
     "name": "stderr",
     "output_type": "stream",
     "text": [
      "WARNING:tensorflow:Value in checkpoint could not be found in the restored object: (root).keras_api.metrics.0.count\n"
     ]
    },
    {
     "name": "stdout",
     "output_type": "stream",
     "text": [
      "WARNING:tensorflow:Value in checkpoint could not be found in the restored object: (root).keras_api.metrics.1.total\n"
     ]
    },
    {
     "name": "stderr",
     "output_type": "stream",
     "text": [
      "WARNING:tensorflow:Value in checkpoint could not be found in the restored object: (root).keras_api.metrics.1.total\n"
     ]
    },
    {
     "name": "stdout",
     "output_type": "stream",
     "text": [
      "WARNING:tensorflow:Value in checkpoint could not be found in the restored object: (root).keras_api.metrics.1.count\n"
     ]
    },
    {
     "name": "stderr",
     "output_type": "stream",
     "text": [
      "WARNING:tensorflow:Value in checkpoint could not be found in the restored object: (root).keras_api.metrics.1.count\n"
     ]
    },
    {
     "name": "stdout",
     "output_type": "stream",
     "text": [
      "WARNING:tensorflow:Detecting that an object or model or tf.train.Checkpoint is being deleted with unrestored values. See the following logs for the specific values in question. To silence these warnings, use `status.expect_partial()`. See https://www.tensorflow.org/api_docs/python/tf/train/Checkpoint#restorefor details about the status object returned by the restore function.\n"
     ]
    },
    {
     "name": "stderr",
     "output_type": "stream",
     "text": [
      "WARNING:tensorflow:Detecting that an object or model or tf.train.Checkpoint is being deleted with unrestored values. See the following logs for the specific values in question. To silence these warnings, use `status.expect_partial()`. See https://www.tensorflow.org/api_docs/python/tf/train/Checkpoint#restorefor details about the status object returned by the restore function.\n"
     ]
    },
    {
     "name": "stdout",
     "output_type": "stream",
     "text": [
      "WARNING:tensorflow:Value in checkpoint could not be found in the restored object: (root).keras_api.metrics.0.total\n"
     ]
    },
    {
     "name": "stderr",
     "output_type": "stream",
     "text": [
      "WARNING:tensorflow:Value in checkpoint could not be found in the restored object: (root).keras_api.metrics.0.total\n"
     ]
    },
    {
     "name": "stdout",
     "output_type": "stream",
     "text": [
      "WARNING:tensorflow:Value in checkpoint could not be found in the restored object: (root).keras_api.metrics.0.count\n"
     ]
    },
    {
     "name": "stderr",
     "output_type": "stream",
     "text": [
      "WARNING:tensorflow:Value in checkpoint could not be found in the restored object: (root).keras_api.metrics.0.count\n"
     ]
    },
    {
     "name": "stdout",
     "output_type": "stream",
     "text": [
      "WARNING:tensorflow:Value in checkpoint could not be found in the restored object: (root).keras_api.metrics.1.total\n"
     ]
    },
    {
     "name": "stderr",
     "output_type": "stream",
     "text": [
      "WARNING:tensorflow:Value in checkpoint could not be found in the restored object: (root).keras_api.metrics.1.total\n"
     ]
    },
    {
     "name": "stdout",
     "output_type": "stream",
     "text": [
      "WARNING:tensorflow:Value in checkpoint could not be found in the restored object: (root).keras_api.metrics.1.count\n"
     ]
    },
    {
     "name": "stderr",
     "output_type": "stream",
     "text": [
      "WARNING:tensorflow:Value in checkpoint could not be found in the restored object: (root).keras_api.metrics.1.count\n"
     ]
    },
    {
     "name": "stdout",
     "output_type": "stream",
     "text": [
      "WARNING:tensorflow:Detecting that an object or model or tf.train.Checkpoint is being deleted with unrestored values. See the following logs for the specific values in question. To silence these warnings, use `status.expect_partial()`. See https://www.tensorflow.org/api_docs/python/tf/train/Checkpoint#restorefor details about the status object returned by the restore function.\n"
     ]
    },
    {
     "name": "stderr",
     "output_type": "stream",
     "text": [
      "WARNING:tensorflow:Detecting that an object or model or tf.train.Checkpoint is being deleted with unrestored values. See the following logs for the specific values in question. To silence these warnings, use `status.expect_partial()`. See https://www.tensorflow.org/api_docs/python/tf/train/Checkpoint#restorefor details about the status object returned by the restore function.\n"
     ]
    },
    {
     "name": "stdout",
     "output_type": "stream",
     "text": [
      "WARNING:tensorflow:Value in checkpoint could not be found in the restored object: (root).keras_api.metrics.0.total\n"
     ]
    },
    {
     "name": "stderr",
     "output_type": "stream",
     "text": [
      "WARNING:tensorflow:Value in checkpoint could not be found in the restored object: (root).keras_api.metrics.0.total\n"
     ]
    },
    {
     "name": "stdout",
     "output_type": "stream",
     "text": [
      "WARNING:tensorflow:Value in checkpoint could not be found in the restored object: (root).keras_api.metrics.0.count\n"
     ]
    },
    {
     "name": "stderr",
     "output_type": "stream",
     "text": [
      "WARNING:tensorflow:Value in checkpoint could not be found in the restored object: (root).keras_api.metrics.0.count\n"
     ]
    },
    {
     "name": "stdout",
     "output_type": "stream",
     "text": [
      "WARNING:tensorflow:Value in checkpoint could not be found in the restored object: (root).keras_api.metrics.1.total\n"
     ]
    },
    {
     "name": "stderr",
     "output_type": "stream",
     "text": [
      "WARNING:tensorflow:Value in checkpoint could not be found in the restored object: (root).keras_api.metrics.1.total\n"
     ]
    },
    {
     "name": "stdout",
     "output_type": "stream",
     "text": [
      "WARNING:tensorflow:Value in checkpoint could not be found in the restored object: (root).keras_api.metrics.1.count\n"
     ]
    },
    {
     "name": "stderr",
     "output_type": "stream",
     "text": [
      "WARNING:tensorflow:Value in checkpoint could not be found in the restored object: (root).keras_api.metrics.1.count\n"
     ]
    },
    {
     "name": "stdout",
     "output_type": "stream",
     "text": [
      "WARNING:tensorflow:Detecting that an object or model or tf.train.Checkpoint is being deleted with unrestored values. See the following logs for the specific values in question. To silence these warnings, use `status.expect_partial()`. See https://www.tensorflow.org/api_docs/python/tf/train/Checkpoint#restorefor details about the status object returned by the restore function.\n"
     ]
    },
    {
     "name": "stderr",
     "output_type": "stream",
     "text": [
      "WARNING:tensorflow:Detecting that an object or model or tf.train.Checkpoint is being deleted with unrestored values. See the following logs for the specific values in question. To silence these warnings, use `status.expect_partial()`. See https://www.tensorflow.org/api_docs/python/tf/train/Checkpoint#restorefor details about the status object returned by the restore function.\n"
     ]
    },
    {
     "name": "stdout",
     "output_type": "stream",
     "text": [
      "WARNING:tensorflow:Value in checkpoint could not be found in the restored object: (root).keras_api.metrics.0.total\n"
     ]
    },
    {
     "name": "stderr",
     "output_type": "stream",
     "text": [
      "WARNING:tensorflow:Value in checkpoint could not be found in the restored object: (root).keras_api.metrics.0.total\n"
     ]
    },
    {
     "name": "stdout",
     "output_type": "stream",
     "text": [
      "WARNING:tensorflow:Value in checkpoint could not be found in the restored object: (root).keras_api.metrics.0.count\n"
     ]
    },
    {
     "name": "stderr",
     "output_type": "stream",
     "text": [
      "WARNING:tensorflow:Value in checkpoint could not be found in the restored object: (root).keras_api.metrics.0.count\n"
     ]
    },
    {
     "name": "stdout",
     "output_type": "stream",
     "text": [
      "WARNING:tensorflow:Value in checkpoint could not be found in the restored object: (root).keras_api.metrics.1.total\n"
     ]
    },
    {
     "name": "stderr",
     "output_type": "stream",
     "text": [
      "WARNING:tensorflow:Value in checkpoint could not be found in the restored object: (root).keras_api.metrics.1.total\n"
     ]
    },
    {
     "name": "stdout",
     "output_type": "stream",
     "text": [
      "WARNING:tensorflow:Value in checkpoint could not be found in the restored object: (root).keras_api.metrics.1.count\n"
     ]
    },
    {
     "name": "stderr",
     "output_type": "stream",
     "text": [
      "WARNING:tensorflow:Value in checkpoint could not be found in the restored object: (root).keras_api.metrics.1.count\n"
     ]
    },
    {
     "name": "stdout",
     "output_type": "stream",
     "text": [
      "WARNING:tensorflow:Detecting that an object or model or tf.train.Checkpoint is being deleted with unrestored values. See the following logs for the specific values in question. To silence these warnings, use `status.expect_partial()`. See https://www.tensorflow.org/api_docs/python/tf/train/Checkpoint#restorefor details about the status object returned by the restore function.\n"
     ]
    },
    {
     "name": "stderr",
     "output_type": "stream",
     "text": [
      "WARNING:tensorflow:Detecting that an object or model or tf.train.Checkpoint is being deleted with unrestored values. See the following logs for the specific values in question. To silence these warnings, use `status.expect_partial()`. See https://www.tensorflow.org/api_docs/python/tf/train/Checkpoint#restorefor details about the status object returned by the restore function.\n"
     ]
    },
    {
     "name": "stdout",
     "output_type": "stream",
     "text": [
      "WARNING:tensorflow:Value in checkpoint could not be found in the restored object: (root).keras_api.metrics.0.total\n"
     ]
    },
    {
     "name": "stderr",
     "output_type": "stream",
     "text": [
      "WARNING:tensorflow:Value in checkpoint could not be found in the restored object: (root).keras_api.metrics.0.total\n"
     ]
    },
    {
     "name": "stdout",
     "output_type": "stream",
     "text": [
      "WARNING:tensorflow:Value in checkpoint could not be found in the restored object: (root).keras_api.metrics.0.count\n"
     ]
    },
    {
     "name": "stderr",
     "output_type": "stream",
     "text": [
      "WARNING:tensorflow:Value in checkpoint could not be found in the restored object: (root).keras_api.metrics.0.count\n"
     ]
    },
    {
     "name": "stdout",
     "output_type": "stream",
     "text": [
      "WARNING:tensorflow:Value in checkpoint could not be found in the restored object: (root).keras_api.metrics.1.total\n"
     ]
    },
    {
     "name": "stderr",
     "output_type": "stream",
     "text": [
      "WARNING:tensorflow:Value in checkpoint could not be found in the restored object: (root).keras_api.metrics.1.total\n"
     ]
    },
    {
     "name": "stdout",
     "output_type": "stream",
     "text": [
      "WARNING:tensorflow:Value in checkpoint could not be found in the restored object: (root).keras_api.metrics.1.count\n"
     ]
    },
    {
     "name": "stderr",
     "output_type": "stream",
     "text": [
      "WARNING:tensorflow:Value in checkpoint could not be found in the restored object: (root).keras_api.metrics.1.count\n"
     ]
    },
    {
     "name": "stdout",
     "output_type": "stream",
     "text": [
      "WARNING:tensorflow:Detecting that an object or model or tf.train.Checkpoint is being deleted with unrestored values. See the following logs for the specific values in question. To silence these warnings, use `status.expect_partial()`. See https://www.tensorflow.org/api_docs/python/tf/train/Checkpoint#restorefor details about the status object returned by the restore function.\n"
     ]
    },
    {
     "name": "stderr",
     "output_type": "stream",
     "text": [
      "WARNING:tensorflow:Detecting that an object or model or tf.train.Checkpoint is being deleted with unrestored values. See the following logs for the specific values in question. To silence these warnings, use `status.expect_partial()`. See https://www.tensorflow.org/api_docs/python/tf/train/Checkpoint#restorefor details about the status object returned by the restore function.\n"
     ]
    },
    {
     "name": "stdout",
     "output_type": "stream",
     "text": [
      "WARNING:tensorflow:Value in checkpoint could not be found in the restored object: (root).keras_api.metrics.0.total\n"
     ]
    },
    {
     "name": "stderr",
     "output_type": "stream",
     "text": [
      "WARNING:tensorflow:Value in checkpoint could not be found in the restored object: (root).keras_api.metrics.0.total\n"
     ]
    },
    {
     "name": "stdout",
     "output_type": "stream",
     "text": [
      "WARNING:tensorflow:Value in checkpoint could not be found in the restored object: (root).keras_api.metrics.0.count\n"
     ]
    },
    {
     "name": "stderr",
     "output_type": "stream",
     "text": [
      "WARNING:tensorflow:Value in checkpoint could not be found in the restored object: (root).keras_api.metrics.0.count\n"
     ]
    },
    {
     "name": "stdout",
     "output_type": "stream",
     "text": [
      "WARNING:tensorflow:Value in checkpoint could not be found in the restored object: (root).keras_api.metrics.1.total\n"
     ]
    },
    {
     "name": "stderr",
     "output_type": "stream",
     "text": [
      "WARNING:tensorflow:Value in checkpoint could not be found in the restored object: (root).keras_api.metrics.1.total\n"
     ]
    },
    {
     "name": "stdout",
     "output_type": "stream",
     "text": [
      "WARNING:tensorflow:Value in checkpoint could not be found in the restored object: (root).keras_api.metrics.1.count\n"
     ]
    },
    {
     "name": "stderr",
     "output_type": "stream",
     "text": [
      "WARNING:tensorflow:Value in checkpoint could not be found in the restored object: (root).keras_api.metrics.1.count\n"
     ]
    },
    {
     "name": "stdout",
     "output_type": "stream",
     "text": [
      "WARNING:tensorflow:Detecting that an object or model or tf.train.Checkpoint is being deleted with unrestored values. See the following logs for the specific values in question. To silence these warnings, use `status.expect_partial()`. See https://www.tensorflow.org/api_docs/python/tf/train/Checkpoint#restorefor details about the status object returned by the restore function.\n"
     ]
    },
    {
     "name": "stderr",
     "output_type": "stream",
     "text": [
      "WARNING:tensorflow:Detecting that an object or model or tf.train.Checkpoint is being deleted with unrestored values. See the following logs for the specific values in question. To silence these warnings, use `status.expect_partial()`. See https://www.tensorflow.org/api_docs/python/tf/train/Checkpoint#restorefor details about the status object returned by the restore function.\n"
     ]
    },
    {
     "name": "stdout",
     "output_type": "stream",
     "text": [
      "WARNING:tensorflow:Value in checkpoint could not be found in the restored object: (root).keras_api.metrics.0.total\n"
     ]
    },
    {
     "name": "stderr",
     "output_type": "stream",
     "text": [
      "WARNING:tensorflow:Value in checkpoint could not be found in the restored object: (root).keras_api.metrics.0.total\n"
     ]
    },
    {
     "name": "stdout",
     "output_type": "stream",
     "text": [
      "WARNING:tensorflow:Value in checkpoint could not be found in the restored object: (root).keras_api.metrics.0.count\n"
     ]
    },
    {
     "name": "stderr",
     "output_type": "stream",
     "text": [
      "WARNING:tensorflow:Value in checkpoint could not be found in the restored object: (root).keras_api.metrics.0.count\n"
     ]
    },
    {
     "name": "stdout",
     "output_type": "stream",
     "text": [
      "WARNING:tensorflow:Value in checkpoint could not be found in the restored object: (root).keras_api.metrics.1.total\n"
     ]
    },
    {
     "name": "stderr",
     "output_type": "stream",
     "text": [
      "WARNING:tensorflow:Value in checkpoint could not be found in the restored object: (root).keras_api.metrics.1.total\n"
     ]
    },
    {
     "name": "stdout",
     "output_type": "stream",
     "text": [
      "WARNING:tensorflow:Value in checkpoint could not be found in the restored object: (root).keras_api.metrics.1.count\n"
     ]
    },
    {
     "name": "stderr",
     "output_type": "stream",
     "text": [
      "WARNING:tensorflow:Value in checkpoint could not be found in the restored object: (root).keras_api.metrics.1.count\n"
     ]
    },
    {
     "name": "stdout",
     "output_type": "stream",
     "text": [
      "320/320 [==============================] - 7s 17ms/step - loss: 0.0424 - accuracy: 0.9865\n",
      "Epoch 2/10\n",
      "320/320 [==============================] - 5s 17ms/step - loss: 0.0352 - accuracy: 0.9886\n",
      "Epoch 3/10\n",
      "320/320 [==============================] - 5s 17ms/step - loss: 0.0280 - accuracy: 0.9909\n",
      "Epoch 4/10\n",
      "320/320 [==============================] - 5s 17ms/step - loss: 0.0259 - accuracy: 0.9914\n",
      "Epoch 5/10\n",
      "320/320 [==============================] - 5s 17ms/step - loss: 0.0226 - accuracy: 0.9926\n",
      "Epoch 6/10\n",
      "320/320 [==============================] - 5s 17ms/step - loss: 0.0209 - accuracy: 0.9933\n",
      "Epoch 7/10\n",
      "320/320 [==============================] - 5s 17ms/step - loss: 0.0165 - accuracy: 0.9941\n",
      "Epoch 8/10\n",
      "320/320 [==============================] - 5s 17ms/step - loss: 0.0156 - accuracy: 0.9949\n",
      "Epoch 9/10\n",
      "320/320 [==============================] - 5s 17ms/step - loss: 0.0159 - accuracy: 0.9946\n",
      "Epoch 10/10\n",
      "320/320 [==============================] - 5s 17ms/step - loss: 0.0144 - accuracy: 0.9953\n",
      "80/80 [==============================] - 1s 6ms/step\n",
      "INFO:tensorflow:Assets written to: C:\\Users\\hp\\AppData\\Local\\Temp\\tmpjesks3yc\\assets\n"
     ]
    },
    {
     "name": "stderr",
     "output_type": "stream",
     "text": [
      "INFO:tensorflow:Assets written to: C:\\Users\\hp\\AppData\\Local\\Temp\\tmpjesks3yc\\assets\n"
     ]
    },
    {
     "name": "stdout",
     "output_type": "stream",
     "text": [
      "Epoch 1/10\n",
      "320/320 [==============================] - 6s 17ms/step - loss: 0.0431 - accuracy: 0.9868\n",
      "Epoch 2/10\n",
      "320/320 [==============================] - 6s 17ms/step - loss: 0.0343 - accuracy: 0.9888\n",
      "Epoch 3/10\n",
      "320/320 [==============================] - 6s 17ms/step - loss: 0.0297 - accuracy: 0.9900\n",
      "Epoch 4/10\n",
      "320/320 [==============================] - 6s 17ms/step - loss: 0.0272 - accuracy: 0.9913\n",
      "Epoch 5/10\n",
      "320/320 [==============================] - 6s 18ms/step - loss: 0.0237 - accuracy: 0.9923\n",
      "Epoch 6/10\n",
      "320/320 [==============================] - 6s 18ms/step - loss: 0.0206 - accuracy: 0.9935\n",
      "Epoch 7/10\n",
      "320/320 [==============================] - 6s 18ms/step - loss: 0.0189 - accuracy: 0.9942\n",
      "Epoch 8/10\n",
      "320/320 [==============================] - 6s 18ms/step - loss: 0.0198 - accuracy: 0.9937\n",
      "Epoch 9/10\n",
      "320/320 [==============================] - 6s 18ms/step - loss: 0.0154 - accuracy: 0.9950\n",
      "Epoch 10/10\n",
      "320/320 [==============================] - 6s 17ms/step - loss: 0.0150 - accuracy: 0.9951\n",
      "80/80 [==============================] - 1s 6ms/step\n",
      "INFO:tensorflow:Assets written to: C:\\Users\\hp\\AppData\\Local\\Temp\\tmpieww1v50\\assets\n"
     ]
    },
    {
     "name": "stderr",
     "output_type": "stream",
     "text": [
      "INFO:tensorflow:Assets written to: C:\\Users\\hp\\AppData\\Local\\Temp\\tmpieww1v50\\assets\n"
     ]
    },
    {
     "name": "stdout",
     "output_type": "stream",
     "text": [
      "Epoch 1/10\n",
      "320/320 [==============================] - 6s 17ms/step - loss: 0.0418 - accuracy: 0.9866\n",
      "Epoch 2/10\n",
      "320/320 [==============================] - 6s 17ms/step - loss: 0.0347 - accuracy: 0.9890\n",
      "Epoch 3/10\n",
      "320/320 [==============================] - 5s 17ms/step - loss: 0.0292 - accuracy: 0.9902\n",
      "Epoch 4/10\n",
      "320/320 [==============================] - 5s 17ms/step - loss: 0.0260 - accuracy: 0.9916\n",
      "Epoch 5/10\n",
      "320/320 [==============================] - 5s 17ms/step - loss: 0.0221 - accuracy: 0.9925\n",
      "Epoch 6/10\n",
      "320/320 [==============================] - 5s 17ms/step - loss: 0.0195 - accuracy: 0.9936\n",
      "Epoch 7/10\n",
      "320/320 [==============================] - 5s 17ms/step - loss: 0.0177 - accuracy: 0.9942\n",
      "Epoch 8/10\n",
      "320/320 [==============================] - 5s 17ms/step - loss: 0.0166 - accuracy: 0.9945\n",
      "Epoch 9/10\n",
      "320/320 [==============================] - 6s 17ms/step - loss: 0.0148 - accuracy: 0.9954\n",
      "Epoch 10/10\n",
      "320/320 [==============================] - 5s 17ms/step - loss: 0.0143 - accuracy: 0.9950\n",
      "80/80 [==============================] - 1s 6ms/step\n",
      "INFO:tensorflow:Assets written to: C:\\Users\\hp\\AppData\\Local\\Temp\\tmpaga7wvbm\\assets\n"
     ]
    },
    {
     "name": "stderr",
     "output_type": "stream",
     "text": [
      "INFO:tensorflow:Assets written to: C:\\Users\\hp\\AppData\\Local\\Temp\\tmpaga7wvbm\\assets\n"
     ]
    },
    {
     "name": "stdout",
     "output_type": "stream",
     "text": [
      "Epoch 1/10\n",
      "320/320 [==============================] - 6s 17ms/step - loss: 0.0409 - accuracy: 0.9869\n",
      "Epoch 2/10\n",
      "320/320 [==============================] - 5s 17ms/step - loss: 0.0312 - accuracy: 0.9898\n",
      "Epoch 3/10\n",
      "320/320 [==============================] - 5s 16ms/step - loss: 0.0294 - accuracy: 0.9907\n",
      "Epoch 4/10\n",
      "320/320 [==============================] - 5s 17ms/step - loss: 0.0236 - accuracy: 0.9917\n",
      "Epoch 5/10\n",
      "320/320 [==============================] - 6s 17ms/step - loss: 0.0233 - accuracy: 0.9923\n",
      "Epoch 6/10\n",
      "320/320 [==============================] - 5s 16ms/step - loss: 0.0168 - accuracy: 0.9945\n",
      "Epoch 7/10\n",
      "320/320 [==============================] - 5s 16ms/step - loss: 0.0172 - accuracy: 0.9943\n",
      "Epoch 8/10\n",
      "320/320 [==============================] - 5s 16ms/step - loss: 0.0168 - accuracy: 0.9944\n",
      "Epoch 9/10\n",
      "320/320 [==============================] - 5s 16ms/step - loss: 0.0136 - accuracy: 0.9954\n",
      "Epoch 10/10\n",
      "320/320 [==============================] - 5s 16ms/step - loss: 0.0120 - accuracy: 0.9959\n",
      "80/80 [==============================] - 1s 5ms/step\n",
      "INFO:tensorflow:Assets written to: C:\\Users\\hp\\AppData\\Local\\Temp\\tmpy9ax6orc\\assets\n"
     ]
    },
    {
     "name": "stderr",
     "output_type": "stream",
     "text": [
      "INFO:tensorflow:Assets written to: C:\\Users\\hp\\AppData\\Local\\Temp\\tmpy9ax6orc\\assets\n"
     ]
    },
    {
     "name": "stdout",
     "output_type": "stream",
     "text": [
      "Epoch 1/10\n",
      "320/320 [==============================] - 6s 16ms/step - loss: 0.0419 - accuracy: 0.9864\n",
      "Epoch 2/10\n",
      "320/320 [==============================] - 5s 16ms/step - loss: 0.0340 - accuracy: 0.9892\n",
      "Epoch 3/10\n",
      "320/320 [==============================] - 5s 16ms/step - loss: 0.0311 - accuracy: 0.9902\n",
      "Epoch 4/10\n",
      "320/320 [==============================] - 5s 16ms/step - loss: 0.0258 - accuracy: 0.9917\n",
      "Epoch 5/10\n",
      "320/320 [==============================] - 5s 16ms/step - loss: 0.0240 - accuracy: 0.9924\n",
      "Epoch 6/10\n",
      "320/320 [==============================] - 5s 16ms/step - loss: 0.0203 - accuracy: 0.9933\n",
      "Epoch 7/10\n",
      "320/320 [==============================] - 5s 16ms/step - loss: 0.0166 - accuracy: 0.9944\n",
      "Epoch 8/10\n",
      "320/320 [==============================] - 5s 16ms/step - loss: 0.0152 - accuracy: 0.9949\n",
      "Epoch 9/10\n",
      "320/320 [==============================] - 5s 16ms/step - loss: 0.0149 - accuracy: 0.9949\n",
      "Epoch 10/10\n",
      "320/320 [==============================] - 5s 16ms/step - loss: 0.0148 - accuracy: 0.9951\n",
      "80/80 [==============================] - 1s 6ms/step\n",
      "INFO:tensorflow:Assets written to: C:\\Users\\hp\\AppData\\Local\\Temp\\tmpixsmd0cx\\assets\n"
     ]
    },
    {
     "name": "stderr",
     "output_type": "stream",
     "text": [
      "INFO:tensorflow:Assets written to: C:\\Users\\hp\\AppData\\Local\\Temp\\tmpixsmd0cx\\assets\n"
     ]
    },
    {
     "name": "stdout",
     "output_type": "stream",
     "text": [
      "Epoch 1/15\n",
      "320/320 [==============================] - 6s 16ms/step - loss: 0.0413 - accuracy: 0.9868\n",
      "Epoch 2/15\n",
      "320/320 [==============================] - 5s 16ms/step - loss: 0.0333 - accuracy: 0.9892\n",
      "Epoch 3/15\n",
      "320/320 [==============================] - 5s 16ms/step - loss: 0.0287 - accuracy: 0.9905\n",
      "Epoch 4/15\n",
      "320/320 [==============================] - 5s 16ms/step - loss: 0.0249 - accuracy: 0.9916\n",
      "Epoch 5/15\n",
      "320/320 [==============================] - 5s 16ms/step - loss: 0.0231 - accuracy: 0.9928\n",
      "Epoch 6/15\n",
      "320/320 [==============================] - 5s 16ms/step - loss: 0.0213 - accuracy: 0.9932\n",
      "Epoch 7/15\n",
      "320/320 [==============================] - 5s 16ms/step - loss: 0.0177 - accuracy: 0.9937\n",
      "Epoch 8/15\n",
      "320/320 [==============================] - 5s 16ms/step - loss: 0.0172 - accuracy: 0.9942\n",
      "Epoch 9/15\n",
      "320/320 [==============================] - 5s 16ms/step - loss: 0.0149 - accuracy: 0.9954\n",
      "Epoch 10/15\n",
      "320/320 [==============================] - 5s 16ms/step - loss: 0.0135 - accuracy: 0.9954\n",
      "Epoch 11/15\n",
      "320/320 [==============================] - 5s 16ms/step - loss: 0.0113 - accuracy: 0.9962\n",
      "Epoch 12/15\n",
      "320/320 [==============================] - 5s 16ms/step - loss: 0.0107 - accuracy: 0.9965\n",
      "Epoch 13/15\n",
      "320/320 [==============================] - 5s 16ms/step - loss: 0.0108 - accuracy: 0.9965\n",
      "Epoch 14/15\n",
      "320/320 [==============================] - 5s 16ms/step - loss: 0.0094 - accuracy: 0.9971\n",
      "Epoch 15/15\n",
      "320/320 [==============================] - 5s 16ms/step - loss: 0.0093 - accuracy: 0.9972\n",
      "80/80 [==============================] - 1s 6ms/step\n",
      "INFO:tensorflow:Assets written to: C:\\Users\\hp\\AppData\\Local\\Temp\\tmpi1egggn3\\assets\n"
     ]
    },
    {
     "name": "stderr",
     "output_type": "stream",
     "text": [
      "INFO:tensorflow:Assets written to: C:\\Users\\hp\\AppData\\Local\\Temp\\tmpi1egggn3\\assets\n"
     ]
    },
    {
     "name": "stdout",
     "output_type": "stream",
     "text": [
      "Epoch 1/15\n",
      "320/320 [==============================] - 6s 16ms/step - loss: 0.0438 - accuracy: 0.9859\n",
      "Epoch 2/15\n",
      "320/320 [==============================] - 5s 16ms/step - loss: 0.0355 - accuracy: 0.9886\n",
      "Epoch 3/15\n",
      "320/320 [==============================] - 5s 16ms/step - loss: 0.0289 - accuracy: 0.9902\n",
      "Epoch 4/15\n",
      "320/320 [==============================] - 5s 16ms/step - loss: 0.0285 - accuracy: 0.9906\n",
      "Epoch 5/15\n",
      "320/320 [==============================] - 5s 16ms/step - loss: 0.0234 - accuracy: 0.9925\n",
      "Epoch 6/15\n",
      "320/320 [==============================] - 5s 16ms/step - loss: 0.0202 - accuracy: 0.9934\n",
      "Epoch 7/15\n",
      "320/320 [==============================] - 5s 16ms/step - loss: 0.0199 - accuracy: 0.9936\n",
      "Epoch 8/15\n",
      "320/320 [==============================] - 5s 16ms/step - loss: 0.0177 - accuracy: 0.9939\n",
      "Epoch 9/15\n",
      "320/320 [==============================] - 5s 16ms/step - loss: 0.0157 - accuracy: 0.9950\n",
      "Epoch 10/15\n",
      "320/320 [==============================] - 5s 16ms/step - loss: 0.0150 - accuracy: 0.9951\n",
      "Epoch 11/15\n",
      "320/320 [==============================] - 5s 16ms/step - loss: 0.0127 - accuracy: 0.9961\n",
      "Epoch 12/15\n",
      "320/320 [==============================] - 5s 15ms/step - loss: 0.0120 - accuracy: 0.9959\n",
      "Epoch 13/15\n",
      "320/320 [==============================] - 5s 16ms/step - loss: 0.0114 - accuracy: 0.9962\n",
      "Epoch 14/15\n",
      "320/320 [==============================] - 5s 16ms/step - loss: 0.0107 - accuracy: 0.9963\n",
      "Epoch 15/15\n",
      "320/320 [==============================] - 5s 15ms/step - loss: 0.0082 - accuracy: 0.9973\n",
      "80/80 [==============================] - 0s 5ms/step\n",
      "INFO:tensorflow:Assets written to: C:\\Users\\hp\\AppData\\Local\\Temp\\tmp9_9d_05i\\assets\n"
     ]
    },
    {
     "name": "stderr",
     "output_type": "stream",
     "text": [
      "INFO:tensorflow:Assets written to: C:\\Users\\hp\\AppData\\Local\\Temp\\tmp9_9d_05i\\assets\n"
     ]
    },
    {
     "name": "stdout",
     "output_type": "stream",
     "text": [
      "Epoch 1/15\n",
      "320/320 [==============================] - 5s 15ms/step - loss: 0.0409 - accuracy: 0.9866\n",
      "Epoch 2/15\n",
      "320/320 [==============================] - 5s 15ms/step - loss: 0.0346 - accuracy: 0.9889\n",
      "Epoch 3/15\n",
      "320/320 [==============================] - 5s 15ms/step - loss: 0.0282 - accuracy: 0.9906\n",
      "Epoch 4/15\n",
      "320/320 [==============================] - 5s 15ms/step - loss: 0.0252 - accuracy: 0.9922\n",
      "Epoch 5/15\n",
      "320/320 [==============================] - 5s 15ms/step - loss: 0.0227 - accuracy: 0.9924\n",
      "Epoch 6/15\n",
      "320/320 [==============================] - 5s 15ms/step - loss: 0.0194 - accuracy: 0.9937\n",
      "Epoch 7/15\n",
      "320/320 [==============================] - 5s 15ms/step - loss: 0.0189 - accuracy: 0.9937\n",
      "Epoch 8/15\n",
      "320/320 [==============================] - 5s 15ms/step - loss: 0.0165 - accuracy: 0.9944\n",
      "Epoch 9/15\n",
      "320/320 [==============================] - 5s 15ms/step - loss: 0.0149 - accuracy: 0.9951\n",
      "Epoch 10/15\n",
      "320/320 [==============================] - 5s 15ms/step - loss: 0.0129 - accuracy: 0.9955\n",
      "Epoch 11/15\n",
      "320/320 [==============================] - 5s 15ms/step - loss: 0.0137 - accuracy: 0.9958\n",
      "Epoch 12/15\n",
      "320/320 [==============================] - 5s 15ms/step - loss: 0.0117 - accuracy: 0.9959\n",
      "Epoch 13/15\n",
      "320/320 [==============================] - 5s 15ms/step - loss: 0.0117 - accuracy: 0.9960\n",
      "Epoch 14/15\n",
      "320/320 [==============================] - 5s 15ms/step - loss: 0.0116 - accuracy: 0.9959\n",
      "Epoch 15/15\n",
      "320/320 [==============================] - 5s 15ms/step - loss: 0.0092 - accuracy: 0.9972\n",
      "80/80 [==============================] - 0s 5ms/step\n",
      "INFO:tensorflow:Assets written to: C:\\Users\\hp\\AppData\\Local\\Temp\\tmpcleqsmga\\assets\n"
     ]
    },
    {
     "name": "stderr",
     "output_type": "stream",
     "text": [
      "INFO:tensorflow:Assets written to: C:\\Users\\hp\\AppData\\Local\\Temp\\tmpcleqsmga\\assets\n"
     ]
    },
    {
     "name": "stdout",
     "output_type": "stream",
     "text": [
      "Epoch 1/15\n",
      "320/320 [==============================] - 5s 15ms/step - loss: 0.0408 - accuracy: 0.9866\n",
      "Epoch 2/15\n",
      "320/320 [==============================] - 5s 15ms/step - loss: 0.0334 - accuracy: 0.9891\n",
      "Epoch 3/15\n",
      "320/320 [==============================] - 5s 15ms/step - loss: 0.0279 - accuracy: 0.9915\n",
      "Epoch 4/15\n",
      "320/320 [==============================] - 5s 15ms/step - loss: 0.0247 - accuracy: 0.9924\n",
      "Epoch 5/15\n",
      "320/320 [==============================] - 5s 15ms/step - loss: 0.0210 - accuracy: 0.9927\n",
      "Epoch 6/15\n",
      "320/320 [==============================] - 5s 15ms/step - loss: 0.0193 - accuracy: 0.9937\n",
      "Epoch 7/15\n",
      "320/320 [==============================] - 5s 15ms/step - loss: 0.0170 - accuracy: 0.9944\n",
      "Epoch 8/15\n",
      "320/320 [==============================] - 5s 15ms/step - loss: 0.0157 - accuracy: 0.9947\n",
      "Epoch 9/15\n",
      "320/320 [==============================] - 5s 15ms/step - loss: 0.0145 - accuracy: 0.9949\n",
      "Epoch 10/15\n",
      "320/320 [==============================] - 5s 15ms/step - loss: 0.0126 - accuracy: 0.9958\n",
      "Epoch 11/15\n",
      "320/320 [==============================] - 5s 15ms/step - loss: 0.0104 - accuracy: 0.9966\n",
      "Epoch 12/15\n",
      "320/320 [==============================] - 5s 15ms/step - loss: 0.0126 - accuracy: 0.9961\n",
      "Epoch 13/15\n",
      "320/320 [==============================] - 5s 15ms/step - loss: 0.0105 - accuracy: 0.9966\n",
      "Epoch 14/15\n",
      "320/320 [==============================] - 5s 15ms/step - loss: 0.0101 - accuracy: 0.9966\n",
      "Epoch 15/15\n",
      "320/320 [==============================] - 5s 15ms/step - loss: 0.0085 - accuracy: 0.9969\n",
      "80/80 [==============================] - 0s 5ms/step\n",
      "INFO:tensorflow:Assets written to: C:\\Users\\hp\\AppData\\Local\\Temp\\tmp1o8at8iu\\assets\n"
     ]
    },
    {
     "name": "stderr",
     "output_type": "stream",
     "text": [
      "INFO:tensorflow:Assets written to: C:\\Users\\hp\\AppData\\Local\\Temp\\tmp1o8at8iu\\assets\n"
     ]
    },
    {
     "name": "stdout",
     "output_type": "stream",
     "text": [
      "Epoch 1/15\n",
      "320/320 [==============================] - 5s 15ms/step - loss: 0.0412 - accuracy: 0.9863\n",
      "Epoch 2/15\n",
      "320/320 [==============================] - 5s 15ms/step - loss: 0.0347 - accuracy: 0.9884\n",
      "Epoch 3/15\n",
      "320/320 [==============================] - 5s 15ms/step - loss: 0.0303 - accuracy: 0.9899\n",
      "Epoch 4/15\n",
      "320/320 [==============================] - 5s 15ms/step - loss: 0.0260 - accuracy: 0.9913\n",
      "Epoch 5/15\n",
      "320/320 [==============================] - 5s 16ms/step - loss: 0.0231 - accuracy: 0.9924\n",
      "Epoch 6/15\n",
      "320/320 [==============================] - 5s 15ms/step - loss: 0.0200 - accuracy: 0.9932\n",
      "Epoch 7/15\n",
      "320/320 [==============================] - 5s 15ms/step - loss: 0.0176 - accuracy: 0.9942\n",
      "Epoch 8/15\n",
      "320/320 [==============================] - 5s 15ms/step - loss: 0.0170 - accuracy: 0.9941\n",
      "Epoch 9/15\n",
      "320/320 [==============================] - 5s 15ms/step - loss: 0.0157 - accuracy: 0.9947\n",
      "Epoch 10/15\n",
      "320/320 [==============================] - 5s 15ms/step - loss: 0.0115 - accuracy: 0.9959\n",
      "Epoch 11/15\n",
      "320/320 [==============================] - 5s 15ms/step - loss: 0.0125 - accuracy: 0.9960\n",
      "Epoch 12/15\n",
      "320/320 [==============================] - 5s 15ms/step - loss: 0.0101 - accuracy: 0.9962\n",
      "Epoch 13/15\n",
      "320/320 [==============================] - 5s 15ms/step - loss: 0.0105 - accuracy: 0.9963\n",
      "Epoch 14/15\n",
      "320/320 [==============================] - 5s 15ms/step - loss: 0.0114 - accuracy: 0.9961\n",
      "Epoch 15/15\n",
      "320/320 [==============================] - 5s 15ms/step - loss: 0.0086 - accuracy: 0.9970\n",
      "80/80 [==============================] - 0s 5ms/step\n",
      "INFO:tensorflow:Assets written to: C:\\Users\\hp\\AppData\\Local\\Temp\\tmprhrpmrs_\\assets\n"
     ]
    },
    {
     "name": "stderr",
     "output_type": "stream",
     "text": [
      "INFO:tensorflow:Assets written to: C:\\Users\\hp\\AppData\\Local\\Temp\\tmprhrpmrs_\\assets\n"
     ]
    },
    {
     "name": "stdout",
     "output_type": "stream",
     "text": [
      "Epoch 1/20\n",
      "320/320 [==============================] - 6s 15ms/step - loss: 0.0410 - accuracy: 0.9872\n",
      "Epoch 2/20\n",
      "320/320 [==============================] - 5s 15ms/step - loss: 0.0352 - accuracy: 0.9889\n",
      "Epoch 3/20\n",
      "320/320 [==============================] - 5s 15ms/step - loss: 0.0298 - accuracy: 0.9900\n",
      "Epoch 4/20\n",
      "320/320 [==============================] - 5s 15ms/step - loss: 0.0254 - accuracy: 0.9913\n",
      "Epoch 5/20\n",
      "320/320 [==============================] - 5s 15ms/step - loss: 0.0218 - accuracy: 0.9925\n",
      "Epoch 6/20\n",
      "320/320 [==============================] - 5s 15ms/step - loss: 0.0184 - accuracy: 0.9939\n",
      "Epoch 7/20\n",
      "320/320 [==============================] - 5s 15ms/step - loss: 0.0195 - accuracy: 0.9934\n",
      "Epoch 8/20\n",
      "320/320 [==============================] - 5s 15ms/step - loss: 0.0165 - accuracy: 0.9947\n",
      "Epoch 9/20\n",
      "320/320 [==============================] - 5s 15ms/step - loss: 0.0148 - accuracy: 0.9949\n",
      "Epoch 10/20\n",
      "320/320 [==============================] - 5s 15ms/step - loss: 0.0148 - accuracy: 0.9953\n",
      "Epoch 11/20\n",
      "320/320 [==============================] - 5s 15ms/step - loss: 0.0123 - accuracy: 0.9959\n",
      "Epoch 12/20\n",
      "320/320 [==============================] - 5s 15ms/step - loss: 0.0124 - accuracy: 0.9960\n",
      "Epoch 13/20\n",
      "320/320 [==============================] - 5s 15ms/step - loss: 0.0105 - accuracy: 0.9963\n",
      "Epoch 14/20\n",
      "320/320 [==============================] - 5s 16ms/step - loss: 0.0092 - accuracy: 0.9966\n",
      "Epoch 15/20\n",
      "320/320 [==============================] - 5s 17ms/step - loss: 0.0102 - accuracy: 0.9965\n",
      "Epoch 16/20\n",
      "320/320 [==============================] - 5s 16ms/step - loss: 0.0093 - accuracy: 0.9968\n",
      "Epoch 17/20\n",
      "320/320 [==============================] - 5s 16ms/step - loss: 0.0079 - accuracy: 0.9972\n",
      "Epoch 18/20\n",
      "320/320 [==============================] - 5s 15ms/step - loss: 0.0069 - accuracy: 0.9979\n",
      "Epoch 19/20\n",
      "320/320 [==============================] - 5s 15ms/step - loss: 0.0069 - accuracy: 0.9976\n",
      "Epoch 20/20\n",
      "320/320 [==============================] - 5s 15ms/step - loss: 0.0073 - accuracy: 0.9975\n",
      "80/80 [==============================] - 0s 5ms/step\n",
      "WARNING:tensorflow:Detecting that an object or model or tf.train.Checkpoint is being deleted with unrestored values. See the following logs for the specific values in question. To silence these warnings, use `status.expect_partial()`. See https://www.tensorflow.org/api_docs/python/tf/train/Checkpoint#restorefor details about the status object returned by the restore function.\n"
     ]
    },
    {
     "name": "stderr",
     "output_type": "stream",
     "text": [
      "WARNING:tensorflow:Detecting that an object or model or tf.train.Checkpoint is being deleted with unrestored values. See the following logs for the specific values in question. To silence these warnings, use `status.expect_partial()`. See https://www.tensorflow.org/api_docs/python/tf/train/Checkpoint#restorefor details about the status object returned by the restore function.\n"
     ]
    },
    {
     "name": "stdout",
     "output_type": "stream",
     "text": [
      "WARNING:tensorflow:Value in checkpoint could not be found in the restored object: (root).keras_api.metrics.0.total\n"
     ]
    },
    {
     "name": "stderr",
     "output_type": "stream",
     "text": [
      "WARNING:tensorflow:Value in checkpoint could not be found in the restored object: (root).keras_api.metrics.0.total\n"
     ]
    },
    {
     "name": "stdout",
     "output_type": "stream",
     "text": [
      "WARNING:tensorflow:Value in checkpoint could not be found in the restored object: (root).keras_api.metrics.0.count\n"
     ]
    },
    {
     "name": "stderr",
     "output_type": "stream",
     "text": [
      "WARNING:tensorflow:Value in checkpoint could not be found in the restored object: (root).keras_api.metrics.0.count\n"
     ]
    },
    {
     "name": "stdout",
     "output_type": "stream",
     "text": [
      "WARNING:tensorflow:Value in checkpoint could not be found in the restored object: (root).keras_api.metrics.1.total\n"
     ]
    },
    {
     "name": "stderr",
     "output_type": "stream",
     "text": [
      "WARNING:tensorflow:Value in checkpoint could not be found in the restored object: (root).keras_api.metrics.1.total\n"
     ]
    },
    {
     "name": "stdout",
     "output_type": "stream",
     "text": [
      "WARNING:tensorflow:Value in checkpoint could not be found in the restored object: (root).keras_api.metrics.1.count\n"
     ]
    },
    {
     "name": "stderr",
     "output_type": "stream",
     "text": [
      "WARNING:tensorflow:Value in checkpoint could not be found in the restored object: (root).keras_api.metrics.1.count\n"
     ]
    },
    {
     "name": "stdout",
     "output_type": "stream",
     "text": [
      "WARNING:tensorflow:Detecting that an object or model or tf.train.Checkpoint is being deleted with unrestored values. See the following logs for the specific values in question. To silence these warnings, use `status.expect_partial()`. See https://www.tensorflow.org/api_docs/python/tf/train/Checkpoint#restorefor details about the status object returned by the restore function.\n"
     ]
    },
    {
     "name": "stderr",
     "output_type": "stream",
     "text": [
      "WARNING:tensorflow:Detecting that an object or model or tf.train.Checkpoint is being deleted with unrestored values. See the following logs for the specific values in question. To silence these warnings, use `status.expect_partial()`. See https://www.tensorflow.org/api_docs/python/tf/train/Checkpoint#restorefor details about the status object returned by the restore function.\n"
     ]
    },
    {
     "name": "stdout",
     "output_type": "stream",
     "text": [
      "WARNING:tensorflow:Value in checkpoint could not be found in the restored object: (root).keras_api.metrics.0.total\n"
     ]
    },
    {
     "name": "stderr",
     "output_type": "stream",
     "text": [
      "WARNING:tensorflow:Value in checkpoint could not be found in the restored object: (root).keras_api.metrics.0.total\n"
     ]
    },
    {
     "name": "stdout",
     "output_type": "stream",
     "text": [
      "WARNING:tensorflow:Value in checkpoint could not be found in the restored object: (root).keras_api.metrics.0.count\n"
     ]
    },
    {
     "name": "stderr",
     "output_type": "stream",
     "text": [
      "WARNING:tensorflow:Value in checkpoint could not be found in the restored object: (root).keras_api.metrics.0.count\n"
     ]
    },
    {
     "name": "stdout",
     "output_type": "stream",
     "text": [
      "WARNING:tensorflow:Value in checkpoint could not be found in the restored object: (root).keras_api.metrics.1.total\n"
     ]
    },
    {
     "name": "stderr",
     "output_type": "stream",
     "text": [
      "WARNING:tensorflow:Value in checkpoint could not be found in the restored object: (root).keras_api.metrics.1.total\n"
     ]
    },
    {
     "name": "stdout",
     "output_type": "stream",
     "text": [
      "WARNING:tensorflow:Value in checkpoint could not be found in the restored object: (root).keras_api.metrics.1.count\n"
     ]
    },
    {
     "name": "stderr",
     "output_type": "stream",
     "text": [
      "WARNING:tensorflow:Value in checkpoint could not be found in the restored object: (root).keras_api.metrics.1.count\n"
     ]
    },
    {
     "name": "stdout",
     "output_type": "stream",
     "text": [
      "WARNING:tensorflow:Detecting that an object or model or tf.train.Checkpoint is being deleted with unrestored values. See the following logs for the specific values in question. To silence these warnings, use `status.expect_partial()`. See https://www.tensorflow.org/api_docs/python/tf/train/Checkpoint#restorefor details about the status object returned by the restore function.\n"
     ]
    },
    {
     "name": "stderr",
     "output_type": "stream",
     "text": [
      "WARNING:tensorflow:Detecting that an object or model or tf.train.Checkpoint is being deleted with unrestored values. See the following logs for the specific values in question. To silence these warnings, use `status.expect_partial()`. See https://www.tensorflow.org/api_docs/python/tf/train/Checkpoint#restorefor details about the status object returned by the restore function.\n"
     ]
    },
    {
     "name": "stdout",
     "output_type": "stream",
     "text": [
      "WARNING:tensorflow:Value in checkpoint could not be found in the restored object: (root).keras_api.metrics.0.total\n"
     ]
    },
    {
     "name": "stderr",
     "output_type": "stream",
     "text": [
      "WARNING:tensorflow:Value in checkpoint could not be found in the restored object: (root).keras_api.metrics.0.total\n"
     ]
    },
    {
     "name": "stdout",
     "output_type": "stream",
     "text": [
      "WARNING:tensorflow:Value in checkpoint could not be found in the restored object: (root).keras_api.metrics.0.count\n"
     ]
    },
    {
     "name": "stderr",
     "output_type": "stream",
     "text": [
      "WARNING:tensorflow:Value in checkpoint could not be found in the restored object: (root).keras_api.metrics.0.count\n"
     ]
    },
    {
     "name": "stdout",
     "output_type": "stream",
     "text": [
      "WARNING:tensorflow:Value in checkpoint could not be found in the restored object: (root).keras_api.metrics.1.total\n"
     ]
    },
    {
     "name": "stderr",
     "output_type": "stream",
     "text": [
      "WARNING:tensorflow:Value in checkpoint could not be found in the restored object: (root).keras_api.metrics.1.total\n"
     ]
    },
    {
     "name": "stdout",
     "output_type": "stream",
     "text": [
      "WARNING:tensorflow:Value in checkpoint could not be found in the restored object: (root).keras_api.metrics.1.count\n"
     ]
    },
    {
     "name": "stderr",
     "output_type": "stream",
     "text": [
      "WARNING:tensorflow:Value in checkpoint could not be found in the restored object: (root).keras_api.metrics.1.count\n"
     ]
    },
    {
     "name": "stdout",
     "output_type": "stream",
     "text": [
      "WARNING:tensorflow:Detecting that an object or model or tf.train.Checkpoint is being deleted with unrestored values. See the following logs for the specific values in question. To silence these warnings, use `status.expect_partial()`. See https://www.tensorflow.org/api_docs/python/tf/train/Checkpoint#restorefor details about the status object returned by the restore function.\n"
     ]
    },
    {
     "name": "stderr",
     "output_type": "stream",
     "text": [
      "WARNING:tensorflow:Detecting that an object or model or tf.train.Checkpoint is being deleted with unrestored values. See the following logs for the specific values in question. To silence these warnings, use `status.expect_partial()`. See https://www.tensorflow.org/api_docs/python/tf/train/Checkpoint#restorefor details about the status object returned by the restore function.\n"
     ]
    },
    {
     "name": "stdout",
     "output_type": "stream",
     "text": [
      "WARNING:tensorflow:Value in checkpoint could not be found in the restored object: (root).keras_api.metrics.0.total\n"
     ]
    },
    {
     "name": "stderr",
     "output_type": "stream",
     "text": [
      "WARNING:tensorflow:Value in checkpoint could not be found in the restored object: (root).keras_api.metrics.0.total\n"
     ]
    },
    {
     "name": "stdout",
     "output_type": "stream",
     "text": [
      "WARNING:tensorflow:Value in checkpoint could not be found in the restored object: (root).keras_api.metrics.0.count\n"
     ]
    },
    {
     "name": "stderr",
     "output_type": "stream",
     "text": [
      "WARNING:tensorflow:Value in checkpoint could not be found in the restored object: (root).keras_api.metrics.0.count\n"
     ]
    },
    {
     "name": "stdout",
     "output_type": "stream",
     "text": [
      "WARNING:tensorflow:Value in checkpoint could not be found in the restored object: (root).keras_api.metrics.1.total\n"
     ]
    },
    {
     "name": "stderr",
     "output_type": "stream",
     "text": [
      "WARNING:tensorflow:Value in checkpoint could not be found in the restored object: (root).keras_api.metrics.1.total\n"
     ]
    },
    {
     "name": "stdout",
     "output_type": "stream",
     "text": [
      "WARNING:tensorflow:Value in checkpoint could not be found in the restored object: (root).keras_api.metrics.1.count\n"
     ]
    },
    {
     "name": "stderr",
     "output_type": "stream",
     "text": [
      "WARNING:tensorflow:Value in checkpoint could not be found in the restored object: (root).keras_api.metrics.1.count\n"
     ]
    },
    {
     "name": "stdout",
     "output_type": "stream",
     "text": [
      "WARNING:tensorflow:Detecting that an object or model or tf.train.Checkpoint is being deleted with unrestored values. See the following logs for the specific values in question. To silence these warnings, use `status.expect_partial()`. See https://www.tensorflow.org/api_docs/python/tf/train/Checkpoint#restorefor details about the status object returned by the restore function.\n"
     ]
    },
    {
     "name": "stderr",
     "output_type": "stream",
     "text": [
      "WARNING:tensorflow:Detecting that an object or model or tf.train.Checkpoint is being deleted with unrestored values. See the following logs for the specific values in question. To silence these warnings, use `status.expect_partial()`. See https://www.tensorflow.org/api_docs/python/tf/train/Checkpoint#restorefor details about the status object returned by the restore function.\n"
     ]
    },
    {
     "name": "stdout",
     "output_type": "stream",
     "text": [
      "WARNING:tensorflow:Value in checkpoint could not be found in the restored object: (root).keras_api.metrics.0.total\n"
     ]
    },
    {
     "name": "stderr",
     "output_type": "stream",
     "text": [
      "WARNING:tensorflow:Value in checkpoint could not be found in the restored object: (root).keras_api.metrics.0.total\n"
     ]
    },
    {
     "name": "stdout",
     "output_type": "stream",
     "text": [
      "WARNING:tensorflow:Value in checkpoint could not be found in the restored object: (root).keras_api.metrics.0.count\n"
     ]
    },
    {
     "name": "stderr",
     "output_type": "stream",
     "text": [
      "WARNING:tensorflow:Value in checkpoint could not be found in the restored object: (root).keras_api.metrics.0.count\n"
     ]
    },
    {
     "name": "stdout",
     "output_type": "stream",
     "text": [
      "WARNING:tensorflow:Value in checkpoint could not be found in the restored object: (root).keras_api.metrics.1.total\n"
     ]
    },
    {
     "name": "stderr",
     "output_type": "stream",
     "text": [
      "WARNING:tensorflow:Value in checkpoint could not be found in the restored object: (root).keras_api.metrics.1.total\n"
     ]
    },
    {
     "name": "stdout",
     "output_type": "stream",
     "text": [
      "WARNING:tensorflow:Value in checkpoint could not be found in the restored object: (root).keras_api.metrics.1.count\n"
     ]
    },
    {
     "name": "stderr",
     "output_type": "stream",
     "text": [
      "WARNING:tensorflow:Value in checkpoint could not be found in the restored object: (root).keras_api.metrics.1.count\n"
     ]
    },
    {
     "name": "stdout",
     "output_type": "stream",
     "text": [
      "WARNING:tensorflow:Detecting that an object or model or tf.train.Checkpoint is being deleted with unrestored values. See the following logs for the specific values in question. To silence these warnings, use `status.expect_partial()`. See https://www.tensorflow.org/api_docs/python/tf/train/Checkpoint#restorefor details about the status object returned by the restore function.\n"
     ]
    },
    {
     "name": "stderr",
     "output_type": "stream",
     "text": [
      "WARNING:tensorflow:Detecting that an object or model or tf.train.Checkpoint is being deleted with unrestored values. See the following logs for the specific values in question. To silence these warnings, use `status.expect_partial()`. See https://www.tensorflow.org/api_docs/python/tf/train/Checkpoint#restorefor details about the status object returned by the restore function.\n"
     ]
    },
    {
     "name": "stdout",
     "output_type": "stream",
     "text": [
      "WARNING:tensorflow:Value in checkpoint could not be found in the restored object: (root).keras_api.metrics.0.total\n"
     ]
    },
    {
     "name": "stderr",
     "output_type": "stream",
     "text": [
      "WARNING:tensorflow:Value in checkpoint could not be found in the restored object: (root).keras_api.metrics.0.total\n"
     ]
    },
    {
     "name": "stdout",
     "output_type": "stream",
     "text": [
      "WARNING:tensorflow:Value in checkpoint could not be found in the restored object: (root).keras_api.metrics.0.count\n"
     ]
    },
    {
     "name": "stderr",
     "output_type": "stream",
     "text": [
      "WARNING:tensorflow:Value in checkpoint could not be found in the restored object: (root).keras_api.metrics.0.count\n"
     ]
    },
    {
     "name": "stdout",
     "output_type": "stream",
     "text": [
      "WARNING:tensorflow:Value in checkpoint could not be found in the restored object: (root).keras_api.metrics.1.total\n"
     ]
    },
    {
     "name": "stderr",
     "output_type": "stream",
     "text": [
      "WARNING:tensorflow:Value in checkpoint could not be found in the restored object: (root).keras_api.metrics.1.total\n"
     ]
    },
    {
     "name": "stdout",
     "output_type": "stream",
     "text": [
      "WARNING:tensorflow:Value in checkpoint could not be found in the restored object: (root).keras_api.metrics.1.count\n"
     ]
    },
    {
     "name": "stderr",
     "output_type": "stream",
     "text": [
      "WARNING:tensorflow:Value in checkpoint could not be found in the restored object: (root).keras_api.metrics.1.count\n"
     ]
    },
    {
     "name": "stdout",
     "output_type": "stream",
     "text": [
      "WARNING:tensorflow:Detecting that an object or model or tf.train.Checkpoint is being deleted with unrestored values. See the following logs for the specific values in question. To silence these warnings, use `status.expect_partial()`. See https://www.tensorflow.org/api_docs/python/tf/train/Checkpoint#restorefor details about the status object returned by the restore function.\n"
     ]
    },
    {
     "name": "stderr",
     "output_type": "stream",
     "text": [
      "WARNING:tensorflow:Detecting that an object or model or tf.train.Checkpoint is being deleted with unrestored values. See the following logs for the specific values in question. To silence these warnings, use `status.expect_partial()`. See https://www.tensorflow.org/api_docs/python/tf/train/Checkpoint#restorefor details about the status object returned by the restore function.\n"
     ]
    },
    {
     "name": "stdout",
     "output_type": "stream",
     "text": [
      "WARNING:tensorflow:Value in checkpoint could not be found in the restored object: (root).keras_api.metrics.0.total\n"
     ]
    },
    {
     "name": "stderr",
     "output_type": "stream",
     "text": [
      "WARNING:tensorflow:Value in checkpoint could not be found in the restored object: (root).keras_api.metrics.0.total\n"
     ]
    },
    {
     "name": "stdout",
     "output_type": "stream",
     "text": [
      "WARNING:tensorflow:Value in checkpoint could not be found in the restored object: (root).keras_api.metrics.0.count\n"
     ]
    },
    {
     "name": "stderr",
     "output_type": "stream",
     "text": [
      "WARNING:tensorflow:Value in checkpoint could not be found in the restored object: (root).keras_api.metrics.0.count\n"
     ]
    },
    {
     "name": "stdout",
     "output_type": "stream",
     "text": [
      "WARNING:tensorflow:Value in checkpoint could not be found in the restored object: (root).keras_api.metrics.1.total\n"
     ]
    },
    {
     "name": "stderr",
     "output_type": "stream",
     "text": [
      "WARNING:tensorflow:Value in checkpoint could not be found in the restored object: (root).keras_api.metrics.1.total\n"
     ]
    },
    {
     "name": "stdout",
     "output_type": "stream",
     "text": [
      "WARNING:tensorflow:Value in checkpoint could not be found in the restored object: (root).keras_api.metrics.1.count\n"
     ]
    },
    {
     "name": "stderr",
     "output_type": "stream",
     "text": [
      "WARNING:tensorflow:Value in checkpoint could not be found in the restored object: (root).keras_api.metrics.1.count\n"
     ]
    },
    {
     "name": "stdout",
     "output_type": "stream",
     "text": [
      "WARNING:tensorflow:Detecting that an object or model or tf.train.Checkpoint is being deleted with unrestored values. See the following logs for the specific values in question. To silence these warnings, use `status.expect_partial()`. See https://www.tensorflow.org/api_docs/python/tf/train/Checkpoint#restorefor details about the status object returned by the restore function.\n"
     ]
    },
    {
     "name": "stderr",
     "output_type": "stream",
     "text": [
      "WARNING:tensorflow:Detecting that an object or model or tf.train.Checkpoint is being deleted with unrestored values. See the following logs for the specific values in question. To silence these warnings, use `status.expect_partial()`. See https://www.tensorflow.org/api_docs/python/tf/train/Checkpoint#restorefor details about the status object returned by the restore function.\n"
     ]
    },
    {
     "name": "stdout",
     "output_type": "stream",
     "text": [
      "WARNING:tensorflow:Value in checkpoint could not be found in the restored object: (root).keras_api.metrics.0.total\n"
     ]
    },
    {
     "name": "stderr",
     "output_type": "stream",
     "text": [
      "WARNING:tensorflow:Value in checkpoint could not be found in the restored object: (root).keras_api.metrics.0.total\n"
     ]
    },
    {
     "name": "stdout",
     "output_type": "stream",
     "text": [
      "WARNING:tensorflow:Value in checkpoint could not be found in the restored object: (root).keras_api.metrics.0.count\n"
     ]
    },
    {
     "name": "stderr",
     "output_type": "stream",
     "text": [
      "WARNING:tensorflow:Value in checkpoint could not be found in the restored object: (root).keras_api.metrics.0.count\n"
     ]
    },
    {
     "name": "stdout",
     "output_type": "stream",
     "text": [
      "WARNING:tensorflow:Value in checkpoint could not be found in the restored object: (root).keras_api.metrics.1.total\n"
     ]
    },
    {
     "name": "stderr",
     "output_type": "stream",
     "text": [
      "WARNING:tensorflow:Value in checkpoint could not be found in the restored object: (root).keras_api.metrics.1.total\n"
     ]
    },
    {
     "name": "stdout",
     "output_type": "stream",
     "text": [
      "WARNING:tensorflow:Value in checkpoint could not be found in the restored object: (root).keras_api.metrics.1.count\n"
     ]
    },
    {
     "name": "stderr",
     "output_type": "stream",
     "text": [
      "WARNING:tensorflow:Value in checkpoint could not be found in the restored object: (root).keras_api.metrics.1.count\n"
     ]
    },
    {
     "name": "stdout",
     "output_type": "stream",
     "text": [
      "WARNING:tensorflow:Detecting that an object or model or tf.train.Checkpoint is being deleted with unrestored values. See the following logs for the specific values in question. To silence these warnings, use `status.expect_partial()`. See https://www.tensorflow.org/api_docs/python/tf/train/Checkpoint#restorefor details about the status object returned by the restore function.\n"
     ]
    },
    {
     "name": "stderr",
     "output_type": "stream",
     "text": [
      "WARNING:tensorflow:Detecting that an object or model or tf.train.Checkpoint is being deleted with unrestored values. See the following logs for the specific values in question. To silence these warnings, use `status.expect_partial()`. See https://www.tensorflow.org/api_docs/python/tf/train/Checkpoint#restorefor details about the status object returned by the restore function.\n"
     ]
    },
    {
     "name": "stdout",
     "output_type": "stream",
     "text": [
      "WARNING:tensorflow:Value in checkpoint could not be found in the restored object: (root).keras_api.metrics.0.total\n"
     ]
    },
    {
     "name": "stderr",
     "output_type": "stream",
     "text": [
      "WARNING:tensorflow:Value in checkpoint could not be found in the restored object: (root).keras_api.metrics.0.total\n"
     ]
    },
    {
     "name": "stdout",
     "output_type": "stream",
     "text": [
      "WARNING:tensorflow:Value in checkpoint could not be found in the restored object: (root).keras_api.metrics.0.count\n"
     ]
    },
    {
     "name": "stderr",
     "output_type": "stream",
     "text": [
      "WARNING:tensorflow:Value in checkpoint could not be found in the restored object: (root).keras_api.metrics.0.count\n"
     ]
    },
    {
     "name": "stdout",
     "output_type": "stream",
     "text": [
      "WARNING:tensorflow:Value in checkpoint could not be found in the restored object: (root).keras_api.metrics.1.total\n"
     ]
    },
    {
     "name": "stderr",
     "output_type": "stream",
     "text": [
      "WARNING:tensorflow:Value in checkpoint could not be found in the restored object: (root).keras_api.metrics.1.total\n"
     ]
    },
    {
     "name": "stdout",
     "output_type": "stream",
     "text": [
      "WARNING:tensorflow:Value in checkpoint could not be found in the restored object: (root).keras_api.metrics.1.count\n"
     ]
    },
    {
     "name": "stderr",
     "output_type": "stream",
     "text": [
      "WARNING:tensorflow:Value in checkpoint could not be found in the restored object: (root).keras_api.metrics.1.count\n"
     ]
    },
    {
     "name": "stdout",
     "output_type": "stream",
     "text": [
      "WARNING:tensorflow:Detecting that an object or model or tf.train.Checkpoint is being deleted with unrestored values. See the following logs for the specific values in question. To silence these warnings, use `status.expect_partial()`. See https://www.tensorflow.org/api_docs/python/tf/train/Checkpoint#restorefor details about the status object returned by the restore function.\n"
     ]
    },
    {
     "name": "stderr",
     "output_type": "stream",
     "text": [
      "WARNING:tensorflow:Detecting that an object or model or tf.train.Checkpoint is being deleted with unrestored values. See the following logs for the specific values in question. To silence these warnings, use `status.expect_partial()`. See https://www.tensorflow.org/api_docs/python/tf/train/Checkpoint#restorefor details about the status object returned by the restore function.\n"
     ]
    },
    {
     "name": "stdout",
     "output_type": "stream",
     "text": [
      "WARNING:tensorflow:Value in checkpoint could not be found in the restored object: (root).keras_api.metrics.0.total\n"
     ]
    },
    {
     "name": "stderr",
     "output_type": "stream",
     "text": [
      "WARNING:tensorflow:Value in checkpoint could not be found in the restored object: (root).keras_api.metrics.0.total\n"
     ]
    },
    {
     "name": "stdout",
     "output_type": "stream",
     "text": [
      "WARNING:tensorflow:Value in checkpoint could not be found in the restored object: (root).keras_api.metrics.0.count\n"
     ]
    },
    {
     "name": "stderr",
     "output_type": "stream",
     "text": [
      "WARNING:tensorflow:Value in checkpoint could not be found in the restored object: (root).keras_api.metrics.0.count\n"
     ]
    },
    {
     "name": "stdout",
     "output_type": "stream",
     "text": [
      "WARNING:tensorflow:Value in checkpoint could not be found in the restored object: (root).keras_api.metrics.1.total\n"
     ]
    },
    {
     "name": "stderr",
     "output_type": "stream",
     "text": [
      "WARNING:tensorflow:Value in checkpoint could not be found in the restored object: (root).keras_api.metrics.1.total\n"
     ]
    },
    {
     "name": "stdout",
     "output_type": "stream",
     "text": [
      "WARNING:tensorflow:Value in checkpoint could not be found in the restored object: (root).keras_api.metrics.1.count\n"
     ]
    },
    {
     "name": "stderr",
     "output_type": "stream",
     "text": [
      "WARNING:tensorflow:Value in checkpoint could not be found in the restored object: (root).keras_api.metrics.1.count\n"
     ]
    },
    {
     "name": "stdout",
     "output_type": "stream",
     "text": [
      "INFO:tensorflow:Assets written to: C:\\Users\\hp\\AppData\\Local\\Temp\\tmps8vy_ceq\\assets\n"
     ]
    },
    {
     "name": "stderr",
     "output_type": "stream",
     "text": [
      "INFO:tensorflow:Assets written to: C:\\Users\\hp\\AppData\\Local\\Temp\\tmps8vy_ceq\\assets\n"
     ]
    },
    {
     "name": "stdout",
     "output_type": "stream",
     "text": [
      "Epoch 1/20\n",
      "320/320 [==============================] - 6s 16ms/step - loss: 0.0420 - accuracy: 0.9868\n",
      "Epoch 2/20\n",
      "320/320 [==============================] - 5s 15ms/step - loss: 0.0358 - accuracy: 0.9884\n",
      "Epoch 3/20\n",
      "320/320 [==============================] - 5s 15ms/step - loss: 0.0304 - accuracy: 0.9899\n",
      "Epoch 4/20\n",
      "320/320 [==============================] - 5s 15ms/step - loss: 0.0276 - accuracy: 0.9914\n",
      "Epoch 5/20\n",
      "320/320 [==============================] - 5s 15ms/step - loss: 0.0229 - accuracy: 0.9926\n",
      "Epoch 6/20\n",
      "320/320 [==============================] - 5s 15ms/step - loss: 0.0199 - accuracy: 0.9934\n",
      "Epoch 7/20\n",
      "320/320 [==============================] - 5s 15ms/step - loss: 0.0188 - accuracy: 0.9938\n",
      "Epoch 8/20\n",
      "320/320 [==============================] - 5s 15ms/step - loss: 0.0173 - accuracy: 0.9942\n",
      "Epoch 9/20\n",
      "320/320 [==============================] - 5s 15ms/step - loss: 0.0152 - accuracy: 0.9950\n",
      "Epoch 10/20\n",
      "320/320 [==============================] - 5s 15ms/step - loss: 0.0144 - accuracy: 0.9951\n",
      "Epoch 11/20\n",
      "320/320 [==============================] - 5s 15ms/step - loss: 0.0127 - accuracy: 0.9959\n",
      "Epoch 12/20\n",
      "320/320 [==============================] - 5s 16ms/step - loss: 0.0135 - accuracy: 0.9955\n",
      "Epoch 13/20\n",
      "320/320 [==============================] - 5s 15ms/step - loss: 0.0113 - accuracy: 0.9962\n",
      "Epoch 14/20\n",
      "320/320 [==============================] - 5s 15ms/step - loss: 0.0104 - accuracy: 0.9964\n",
      "Epoch 15/20\n",
      "320/320 [==============================] - 5s 15ms/step - loss: 0.0094 - accuracy: 0.9966\n",
      "Epoch 16/20\n",
      "320/320 [==============================] - 5s 14ms/step - loss: 0.0087 - accuracy: 0.9969\n",
      "Epoch 17/20\n",
      "320/320 [==============================] - 5s 14ms/step - loss: 0.0078 - accuracy: 0.9975\n",
      "Epoch 18/20\n",
      "320/320 [==============================] - 5s 15ms/step - loss: 0.0083 - accuracy: 0.9975\n",
      "Epoch 19/20\n",
      "320/320 [==============================] - 5s 14ms/step - loss: 0.0084 - accuracy: 0.9972\n",
      "Epoch 20/20\n",
      "320/320 [==============================] - 5s 14ms/step - loss: 0.0073 - accuracy: 0.9976\n",
      "80/80 [==============================] - 0s 5ms/step\n",
      "INFO:tensorflow:Assets written to: C:\\Users\\hp\\AppData\\Local\\Temp\\tmpy_wcme2z\\assets\n"
     ]
    },
    {
     "name": "stderr",
     "output_type": "stream",
     "text": [
      "INFO:tensorflow:Assets written to: C:\\Users\\hp\\AppData\\Local\\Temp\\tmpy_wcme2z\\assets\n"
     ]
    },
    {
     "name": "stdout",
     "output_type": "stream",
     "text": [
      "Epoch 1/20\n",
      "320/320 [==============================] - 5s 15ms/step - loss: 0.0414 - accuracy: 0.9862\n",
      "Epoch 2/20\n",
      "320/320 [==============================] - 5s 15ms/step - loss: 0.0352 - accuracy: 0.9887\n",
      "Epoch 3/20\n",
      "320/320 [==============================] - 7s 22ms/step - loss: 0.0309 - accuracy: 0.9897\n",
      "Epoch 4/20\n",
      "320/320 [==============================] - 7s 23ms/step - loss: 0.0264 - accuracy: 0.9912\n",
      "Epoch 5/20\n",
      "320/320 [==============================] - 7s 23ms/step - loss: 0.0229 - accuracy: 0.9927\n",
      "Epoch 6/20\n",
      "320/320 [==============================] - 8s 24ms/step - loss: 0.0203 - accuracy: 0.9931\n",
      "Epoch 7/20\n",
      "320/320 [==============================] - 8s 24ms/step - loss: 0.0182 - accuracy: 0.9945\n",
      "Epoch 8/20\n",
      "320/320 [==============================] - 8s 25ms/step - loss: 0.0175 - accuracy: 0.9940\n",
      "Epoch 9/20\n",
      "320/320 [==============================] - 8s 26ms/step - loss: 0.0146 - accuracy: 0.9952\n",
      "Epoch 10/20\n",
      "320/320 [==============================] - 8s 24ms/step - loss: 0.0138 - accuracy: 0.9955\n",
      "Epoch 11/20\n",
      "320/320 [==============================] - 8s 24ms/step - loss: 0.0126 - accuracy: 0.9957\n",
      "Epoch 12/20\n",
      "320/320 [==============================] - 8s 24ms/step - loss: 0.0120 - accuracy: 0.9961\n",
      "Epoch 13/20\n",
      "320/320 [==============================] - 8s 24ms/step - loss: 0.0097 - accuracy: 0.9965\n",
      "Epoch 14/20\n",
      "320/320 [==============================] - 7s 23ms/step - loss: 0.0081 - accuracy: 0.9974\n",
      "Epoch 15/20\n",
      "320/320 [==============================] - 7s 23ms/step - loss: 0.0097 - accuracy: 0.9966\n",
      "Epoch 16/20\n",
      "320/320 [==============================] - 7s 23ms/step - loss: 0.0053 - accuracy: 0.9981\n",
      "80/80 [==============================] - 1s 8ms/step\n",
      "INFO:tensorflow:Assets written to: C:\\Users\\hp\\AppData\\Local\\Temp\\tmp1k5p_qnw\\assets\n"
     ]
    },
    {
     "name": "stderr",
     "output_type": "stream",
     "text": [
      "INFO:tensorflow:Assets written to: C:\\Users\\hp\\AppData\\Local\\Temp\\tmp1k5p_qnw\\assets\n"
     ]
    },
    {
     "name": "stdout",
     "output_type": "stream",
     "text": [
      "Epoch 1/20\n",
      "320/320 [==============================] - 9s 23ms/step - loss: 0.0421 - accuracy: 0.9872\n",
      "Epoch 2/20\n",
      "320/320 [==============================] - 7s 23ms/step - loss: 0.0334 - accuracy: 0.9893\n",
      "Epoch 3/20\n",
      "320/320 [==============================] - 7s 23ms/step - loss: 0.0288 - accuracy: 0.9907\n",
      "Epoch 4/20\n",
      "320/320 [==============================] - 7s 23ms/step - loss: 0.0274 - accuracy: 0.9912\n",
      "Epoch 5/20\n",
      "320/320 [==============================] - 7s 23ms/step - loss: 0.0122 - accuracy: 0.9962\n",
      "Epoch 15/20\n",
      "320/320 [==============================] - 7s 23ms/step - loss: 0.0090 - accuracy: 0.9970\n",
      "Epoch 16/20\n",
      "320/320 [==============================] - 7s 22ms/step - loss: 0.0094 - accuracy: 0.9972\n",
      "Epoch 17/20\n",
      "320/320 [==============================] - 7s 23ms/step - loss: 0.0095 - accuracy: 0.9969\n",
      "Epoch 18/20\n",
      "320/320 [==============================] - 7s 23ms/step - loss: 0.0080 - accuracy: 0.9975\n",
      "Epoch 19/20\n",
      "320/320 [==============================] - 6s 20ms/step - loss: 0.0073 - accuracy: 0.9975\n",
      "Epoch 20/20\n",
      "320/320 [==============================] - 6s 18ms/step - loss: 0.0076 - accuracy: 0.9973\n",
      "80/80 [==============================] - 1s 9ms/step\n",
      "INFO:tensorflow:Assets written to: C:\\Users\\hp\\AppData\\Local\\Temp\\tmp_1hwwxx7\\assets\n"
     ]
    },
    {
     "name": "stderr",
     "output_type": "stream",
     "text": [
      "INFO:tensorflow:Assets written to: C:\\Users\\hp\\AppData\\Local\\Temp\\tmp_1hwwxx7\\assets\n"
     ]
    },
    {
     "name": "stdout",
     "output_type": "stream",
     "text": [
      "Epoch 1/5\n",
      "240/240 [==============================] - 8s 27ms/step - loss: 0.0374 - accuracy: 0.9881\n",
      "Epoch 2/5\n",
      "240/240 [==============================] - 7s 27ms/step - loss: 0.0309 - accuracy: 0.9898\n",
      "Epoch 3/5\n",
      "240/240 [==============================] - 6s 27ms/step - loss: 0.0277 - accuracy: 0.9910\n",
      "Epoch 4/5\n",
      "240/240 [==============================] - 6s 27ms/step - loss: 0.0215 - accuracy: 0.9929\n",
      "Epoch 5/5\n",
      "240/240 [==============================] - 6s 26ms/step - loss: 0.0194 - accuracy: 0.9939\n",
      "60/60 [==============================] - 1s 9ms/step\n",
      "INFO:tensorflow:Assets written to: C:\\Users\\hp\\AppData\\Local\\Temp\\tmpye3tres9\\assets\n"
     ]
    },
    {
     "name": "stderr",
     "output_type": "stream",
     "text": [
      "INFO:tensorflow:Assets written to: C:\\Users\\hp\\AppData\\Local\\Temp\\tmpye3tres9\\assets\n"
     ]
    },
    {
     "name": "stdout",
     "output_type": "stream",
     "text": [
      "Epoch 1/5\n",
      "240/240 [==============================] - 8s 26ms/step - loss: 0.0402 - accuracy: 0.9870\n",
      "Epoch 2/5\n",
      "240/240 [==============================] - 7s 27ms/step - loss: 0.0324 - accuracy: 0.9894\n",
      "Epoch 3/5\n",
      "240/240 [==============================] - 6s 27ms/step - loss: 0.0276 - accuracy: 0.9912\n",
      "Epoch 4/5\n",
      "240/240 [==============================] - 6s 27ms/step - loss: 0.0247 - accuracy: 0.9916\n",
      "Epoch 5/5\n",
      "240/240 [==============================] - 6s 26ms/step - loss: 0.0204 - accuracy: 0.9935\n",
      "60/60 [==============================] - 1s 10ms/step\n",
      "INFO:tensorflow:Assets written to: C:\\Users\\hp\\AppData\\Local\\Temp\\tmp4ya4pltc\\assets\n"
     ]
    },
    {
     "name": "stderr",
     "output_type": "stream",
     "text": [
      "INFO:tensorflow:Assets written to: C:\\Users\\hp\\AppData\\Local\\Temp\\tmp4ya4pltc\\assets\n"
     ]
    },
    {
     "name": "stdout",
     "output_type": "stream",
     "text": [
      "Epoch 1/5\n",
      "240/240 [==============================] - 6s 21ms/step - loss: 0.0372 - accuracy: 0.9884\n",
      "Epoch 2/5\n",
      "240/240 [==============================] - 6s 23ms/step - loss: 0.0334 - accuracy: 0.9895\n",
      "Epoch 3/5\n",
      "240/240 [==============================] - 6s 27ms/step - loss: 0.0276 - accuracy: 0.9914\n",
      "Epoch 4/5\n",
      "240/240 [==============================] - 6s 25ms/step - loss: 0.0244 - accuracy: 0.9920\n",
      "Epoch 5/5\n",
      "240/240 [==============================] - 6s 27ms/step - loss: 0.0200 - accuracy: 0.9932\n",
      "60/60 [==============================] - 1s 10ms/step\n",
      "INFO:tensorflow:Assets written to: C:\\Users\\hp\\AppData\\Local\\Temp\\tmpth_a260n\\assets\n"
     ]
    },
    {
     "name": "stderr",
     "output_type": "stream",
     "text": [
      "INFO:tensorflow:Assets written to: C:\\Users\\hp\\AppData\\Local\\Temp\\tmpth_a260n\\assets\n"
     ]
    },
    {
     "name": "stdout",
     "output_type": "stream",
     "text": [
      "Epoch 1/5\n",
      "240/240 [==============================] - 8s 27ms/step - loss: 0.0368 - accuracy: 0.9875\n",
      "Epoch 2/5\n",
      "240/240 [==============================] - 6s 26ms/step - loss: 0.0310 - accuracy: 0.9896\n",
      "Epoch 3/5\n",
      "240/240 [==============================] - 6s 27ms/step - loss: 0.0270 - accuracy: 0.9910\n",
      "Epoch 4/5\n",
      "240/240 [==============================] - 6s 26ms/step - loss: 0.0218 - accuracy: 0.9927\n",
      "Epoch 5/5\n",
      "240/240 [==============================] - 7s 27ms/step - loss: 0.0192 - accuracy: 0.9934\n",
      "60/60 [==============================] - 1s 10ms/step\n",
      "INFO:tensorflow:Assets written to: C:\\Users\\hp\\AppData\\Local\\Temp\\tmp8ctxwys0\\assets\n"
     ]
    },
    {
     "name": "stderr",
     "output_type": "stream",
     "text": [
      "INFO:tensorflow:Assets written to: C:\\Users\\hp\\AppData\\Local\\Temp\\tmp8ctxwys0\\assets\n"
     ]
    },
    {
     "name": "stdout",
     "output_type": "stream",
     "text": [
      "Epoch 1/5\n",
      "240/240 [==============================] - 8s 28ms/step - loss: 0.0398 - accuracy: 0.9875\n",
      "Epoch 2/5\n",
      "240/240 [==============================] - 6s 27ms/step - loss: 0.0308 - accuracy: 0.9902\n",
      "Epoch 3/5\n",
      "240/240 [==============================] - 7s 27ms/step - loss: 0.0260 - accuracy: 0.9920\n",
      "Epoch 4/5\n",
      "240/240 [==============================] - 7s 28ms/step - loss: 0.0230 - accuracy: 0.9925\n",
      "Epoch 5/5\n",
      "240/240 [==============================] - 6s 27ms/step - loss: 0.0216 - accuracy: 0.9928\n",
      "60/60 [==============================] - 1s 9ms/step\n",
      "INFO:tensorflow:Assets written to: C:\\Users\\hp\\AppData\\Local\\Temp\\tmppank9oj0\\assets\n"
     ]
    },
    {
     "name": "stderr",
     "output_type": "stream",
     "text": [
      "INFO:tensorflow:Assets written to: C:\\Users\\hp\\AppData\\Local\\Temp\\tmppank9oj0\\assets\n"
     ]
    },
    {
     "name": "stdout",
     "output_type": "stream",
     "text": [
      "Epoch 1/10\n",
      "240/240 [==============================] - 8s 27ms/step - loss: 0.0384 - accuracy: 0.9873\n",
      "Epoch 2/10\n",
      "240/240 [==============================] - 7s 27ms/step - loss: 0.0311 - accuracy: 0.9892\n",
      "Epoch 3/10\n",
      "240/240 [==============================] - 6s 27ms/step - loss: 0.0262 - accuracy: 0.9911\n",
      "Epoch 4/10\n",
      "240/240 [==============================] - 7s 28ms/step - loss: 0.0228 - accuracy: 0.9924\n",
      "Epoch 5/10\n",
      "240/240 [==============================] - 6s 27ms/step - loss: 0.0203 - accuracy: 0.9933\n",
      "Epoch 6/10\n",
      "240/240 [==============================] - 6s 26ms/step - loss: 0.0169 - accuracy: 0.9945\n",
      "Epoch 7/10\n",
      "240/240 [==============================] - 6s 27ms/step - loss: 0.0164 - accuracy: 0.9948\n",
      "Epoch 8/10\n",
      "240/240 [==============================] - 7s 27ms/step - loss: 0.0146 - accuracy: 0.9953\n",
      "Epoch 9/10\n",
      "240/240 [==============================] - 7s 27ms/step - loss: 0.0124 - accuracy: 0.9960\n",
      "Epoch 10/10\n",
      "240/240 [==============================] - 7s 27ms/step - loss: 0.0118 - accuracy: 0.9958\n",
      "60/60 [==============================] - 1s 10ms/step\n",
      "INFO:tensorflow:Assets written to: C:\\Users\\hp\\AppData\\Local\\Temp\\tmpu31gdx87\\assets\n"
     ]
    },
    {
     "name": "stderr",
     "output_type": "stream",
     "text": [
      "INFO:tensorflow:Assets written to: C:\\Users\\hp\\AppData\\Local\\Temp\\tmpu31gdx87\\assets\n"
     ]
    },
    {
     "name": "stdout",
     "output_type": "stream",
     "text": [
      "Epoch 1/10\n",
      "240/240 [==============================] - 8s 26ms/step - loss: 0.0402 - accuracy: 0.9872\n",
      "Epoch 2/10\n",
      "240/240 [==============================] - 6s 25ms/step - loss: 0.0329 - accuracy: 0.9893\n",
      "Epoch 3/10\n",
      "240/240 [==============================] - 6s 26ms/step - loss: 0.0278 - accuracy: 0.9914\n",
      "Epoch 4/10\n",
      "240/240 [==============================] - 6s 26ms/step - loss: 0.0243 - accuracy: 0.9925\n",
      "Epoch 5/10\n",
      "240/240 [==============================] - 6s 25ms/step - loss: 0.0216 - accuracy: 0.9927\n",
      "Epoch 6/10\n",
      "240/240 [==============================] - 6s 25ms/step - loss: 0.0187 - accuracy: 0.9939\n",
      "Epoch 7/10\n",
      "240/240 [==============================] - 6s 25ms/step - loss: 0.0163 - accuracy: 0.9944\n",
      "Epoch 8/10\n",
      "240/240 [==============================] - 6s 26ms/step - loss: 0.0157 - accuracy: 0.9949\n",
      "Epoch 9/10\n",
      "240/240 [==============================] - 6s 25ms/step - loss: 0.0137 - accuracy: 0.9953\n",
      "Epoch 10/10\n",
      "240/240 [==============================] - 6s 26ms/step - loss: 0.0132 - accuracy: 0.9956\n",
      "60/60 [==============================] - 1s 9ms/step\n",
      "INFO:tensorflow:Assets written to: C:\\Users\\hp\\AppData\\Local\\Temp\\tmpoc116_dt\\assets\n"
     ]
    },
    {
     "name": "stderr",
     "output_type": "stream",
     "text": [
      "INFO:tensorflow:Assets written to: C:\\Users\\hp\\AppData\\Local\\Temp\\tmpoc116_dt\\assets\n"
     ]
    },
    {
     "name": "stdout",
     "output_type": "stream",
     "text": [
      "WARNING:tensorflow:Detecting that an object or model or tf.train.Checkpoint is being deleted with unrestored values. See the following logs for the specific values in question. To silence these warnings, use `status.expect_partial()`. See https://www.tensorflow.org/api_docs/python/tf/train/Checkpoint#restorefor details about the status object returned by the restore function.\n"
     ]
    },
    {
     "name": "stderr",
     "output_type": "stream",
     "text": [
      "WARNING:tensorflow:Detecting that an object or model or tf.train.Checkpoint is being deleted with unrestored values. See the following logs for the specific values in question. To silence these warnings, use `status.expect_partial()`. See https://www.tensorflow.org/api_docs/python/tf/train/Checkpoint#restorefor details about the status object returned by the restore function.\n"
     ]
    },
    {
     "name": "stdout",
     "output_type": "stream",
     "text": [
      "WARNING:tensorflow:Value in checkpoint could not be found in the restored object: (root).keras_api.metrics.0.total\n"
     ]
    },
    {
     "name": "stderr",
     "output_type": "stream",
     "text": [
      "WARNING:tensorflow:Value in checkpoint could not be found in the restored object: (root).keras_api.metrics.0.total\n"
     ]
    },
    {
     "name": "stdout",
     "output_type": "stream",
     "text": [
      "WARNING:tensorflow:Value in checkpoint could not be found in the restored object: (root).keras_api.metrics.0.count\n"
     ]
    },
    {
     "name": "stderr",
     "output_type": "stream",
     "text": [
      "WARNING:tensorflow:Value in checkpoint could not be found in the restored object: (root).keras_api.metrics.0.count\n"
     ]
    },
    {
     "name": "stdout",
     "output_type": "stream",
     "text": [
      "WARNING:tensorflow:Value in checkpoint could not be found in the restored object: (root).keras_api.metrics.1.total\n"
     ]
    },
    {
     "name": "stderr",
     "output_type": "stream",
     "text": [
      "WARNING:tensorflow:Value in checkpoint could not be found in the restored object: (root).keras_api.metrics.1.total\n"
     ]
    },
    {
     "name": "stdout",
     "output_type": "stream",
     "text": [
      "WARNING:tensorflow:Value in checkpoint could not be found in the restored object: (root).keras_api.metrics.1.count\n"
     ]
    },
    {
     "name": "stderr",
     "output_type": "stream",
     "text": [
      "WARNING:tensorflow:Value in checkpoint could not be found in the restored object: (root).keras_api.metrics.1.count\n"
     ]
    },
    {
     "name": "stdout",
     "output_type": "stream",
     "text": [
      "WARNING:tensorflow:Detecting that an object or model or tf.train.Checkpoint is being deleted with unrestored values. See the following logs for the specific values in question. To silence these warnings, use `status.expect_partial()`. See https://www.tensorflow.org/api_docs/python/tf/train/Checkpoint#restorefor details about the status object returned by the restore function.\n"
     ]
    },
    {
     "name": "stderr",
     "output_type": "stream",
     "text": [
      "WARNING:tensorflow:Detecting that an object or model or tf.train.Checkpoint is being deleted with unrestored values. See the following logs for the specific values in question. To silence these warnings, use `status.expect_partial()`. See https://www.tensorflow.org/api_docs/python/tf/train/Checkpoint#restorefor details about the status object returned by the restore function.\n"
     ]
    },
    {
     "name": "stdout",
     "output_type": "stream",
     "text": [
      "WARNING:tensorflow:Value in checkpoint could not be found in the restored object: (root).keras_api.metrics.0.total\n"
     ]
    },
    {
     "name": "stderr",
     "output_type": "stream",
     "text": [
      "WARNING:tensorflow:Value in checkpoint could not be found in the restored object: (root).keras_api.metrics.0.total\n"
     ]
    },
    {
     "name": "stdout",
     "output_type": "stream",
     "text": [
      "WARNING:tensorflow:Value in checkpoint could not be found in the restored object: (root).keras_api.metrics.0.count\n"
     ]
    },
    {
     "name": "stderr",
     "output_type": "stream",
     "text": [
      "WARNING:tensorflow:Value in checkpoint could not be found in the restored object: (root).keras_api.metrics.0.count\n"
     ]
    },
    {
     "name": "stdout",
     "output_type": "stream",
     "text": [
      "WARNING:tensorflow:Value in checkpoint could not be found in the restored object: (root).keras_api.metrics.1.total\n"
     ]
    },
    {
     "name": "stderr",
     "output_type": "stream",
     "text": [
      "WARNING:tensorflow:Value in checkpoint could not be found in the restored object: (root).keras_api.metrics.1.total\n"
     ]
    },
    {
     "name": "stdout",
     "output_type": "stream",
     "text": [
      "WARNING:tensorflow:Value in checkpoint could not be found in the restored object: (root).keras_api.metrics.1.count\n"
     ]
    },
    {
     "name": "stderr",
     "output_type": "stream",
     "text": [
      "WARNING:tensorflow:Value in checkpoint could not be found in the restored object: (root).keras_api.metrics.1.count\n"
     ]
    },
    {
     "name": "stdout",
     "output_type": "stream",
     "text": [
      "WARNING:tensorflow:Detecting that an object or model or tf.train.Checkpoint is being deleted with unrestored values. See the following logs for the specific values in question. To silence these warnings, use `status.expect_partial()`. See https://www.tensorflow.org/api_docs/python/tf/train/Checkpoint#restorefor details about the status object returned by the restore function.\n"
     ]
    },
    {
     "name": "stderr",
     "output_type": "stream",
     "text": [
      "WARNING:tensorflow:Detecting that an object or model or tf.train.Checkpoint is being deleted with unrestored values. See the following logs for the specific values in question. To silence these warnings, use `status.expect_partial()`. See https://www.tensorflow.org/api_docs/python/tf/train/Checkpoint#restorefor details about the status object returned by the restore function.\n"
     ]
    },
    {
     "name": "stdout",
     "output_type": "stream",
     "text": [
      "WARNING:tensorflow:Value in checkpoint could not be found in the restored object: (root).keras_api.metrics.0.total\n"
     ]
    },
    {
     "name": "stderr",
     "output_type": "stream",
     "text": [
      "WARNING:tensorflow:Value in checkpoint could not be found in the restored object: (root).keras_api.metrics.0.total\n"
     ]
    },
    {
     "name": "stdout",
     "output_type": "stream",
     "text": [
      "WARNING:tensorflow:Value in checkpoint could not be found in the restored object: (root).keras_api.metrics.0.count\n"
     ]
    },
    {
     "name": "stderr",
     "output_type": "stream",
     "text": [
      "WARNING:tensorflow:Value in checkpoint could not be found in the restored object: (root).keras_api.metrics.0.count\n"
     ]
    },
    {
     "name": "stdout",
     "output_type": "stream",
     "text": [
      "WARNING:tensorflow:Value in checkpoint could not be found in the restored object: (root).keras_api.metrics.1.total\n"
     ]
    },
    {
     "name": "stderr",
     "output_type": "stream",
     "text": [
      "WARNING:tensorflow:Value in checkpoint could not be found in the restored object: (root).keras_api.metrics.1.total\n"
     ]
    },
    {
     "name": "stdout",
     "output_type": "stream",
     "text": [
      "WARNING:tensorflow:Value in checkpoint could not be found in the restored object: (root).keras_api.metrics.1.count\n"
     ]
    },
    {
     "name": "stderr",
     "output_type": "stream",
     "text": [
      "WARNING:tensorflow:Value in checkpoint could not be found in the restored object: (root).keras_api.metrics.1.count\n"
     ]
    },
    {
     "name": "stdout",
     "output_type": "stream",
     "text": [
      "WARNING:tensorflow:Detecting that an object or model or tf.train.Checkpoint is being deleted with unrestored values. See the following logs for the specific values in question. To silence these warnings, use `status.expect_partial()`. See https://www.tensorflow.org/api_docs/python/tf/train/Checkpoint#restorefor details about the status object returned by the restore function.\n"
     ]
    },
    {
     "name": "stderr",
     "output_type": "stream",
     "text": [
      "WARNING:tensorflow:Detecting that an object or model or tf.train.Checkpoint is being deleted with unrestored values. See the following logs for the specific values in question. To silence these warnings, use `status.expect_partial()`. See https://www.tensorflow.org/api_docs/python/tf/train/Checkpoint#restorefor details about the status object returned by the restore function.\n"
     ]
    },
    {
     "name": "stdout",
     "output_type": "stream",
     "text": [
      "WARNING:tensorflow:Value in checkpoint could not be found in the restored object: (root).keras_api.metrics.0.total\n"
     ]
    },
    {
     "name": "stderr",
     "output_type": "stream",
     "text": [
      "WARNING:tensorflow:Value in checkpoint could not be found in the restored object: (root).keras_api.metrics.0.total\n"
     ]
    },
    {
     "name": "stdout",
     "output_type": "stream",
     "text": [
      "WARNING:tensorflow:Value in checkpoint could not be found in the restored object: (root).keras_api.metrics.0.count\n"
     ]
    },
    {
     "name": "stderr",
     "output_type": "stream",
     "text": [
      "WARNING:tensorflow:Value in checkpoint could not be found in the restored object: (root).keras_api.metrics.0.count\n"
     ]
    },
    {
     "name": "stdout",
     "output_type": "stream",
     "text": [
      "WARNING:tensorflow:Value in checkpoint could not be found in the restored object: (root).keras_api.metrics.1.total\n"
     ]
    },
    {
     "name": "stderr",
     "output_type": "stream",
     "text": [
      "WARNING:tensorflow:Value in checkpoint could not be found in the restored object: (root).keras_api.metrics.1.total\n"
     ]
    },
    {
     "name": "stdout",
     "output_type": "stream",
     "text": [
      "WARNING:tensorflow:Value in checkpoint could not be found in the restored object: (root).keras_api.metrics.1.count\n"
     ]
    },
    {
     "name": "stderr",
     "output_type": "stream",
     "text": [
      "WARNING:tensorflow:Value in checkpoint could not be found in the restored object: (root).keras_api.metrics.1.count\n"
     ]
    },
    {
     "name": "stdout",
     "output_type": "stream",
     "text": [
      "WARNING:tensorflow:Detecting that an object or model or tf.train.Checkpoint is being deleted with unrestored values. See the following logs for the specific values in question. To silence these warnings, use `status.expect_partial()`. See https://www.tensorflow.org/api_docs/python/tf/train/Checkpoint#restorefor details about the status object returned by the restore function.\n"
     ]
    },
    {
     "name": "stderr",
     "output_type": "stream",
     "text": [
      "WARNING:tensorflow:Detecting that an object or model or tf.train.Checkpoint is being deleted with unrestored values. See the following logs for the specific values in question. To silence these warnings, use `status.expect_partial()`. See https://www.tensorflow.org/api_docs/python/tf/train/Checkpoint#restorefor details about the status object returned by the restore function.\n"
     ]
    },
    {
     "name": "stdout",
     "output_type": "stream",
     "text": [
      "WARNING:tensorflow:Value in checkpoint could not be found in the restored object: (root).keras_api.metrics.0.total\n"
     ]
    },
    {
     "name": "stderr",
     "output_type": "stream",
     "text": [
      "WARNING:tensorflow:Value in checkpoint could not be found in the restored object: (root).keras_api.metrics.0.total\n"
     ]
    },
    {
     "name": "stdout",
     "output_type": "stream",
     "text": [
      "WARNING:tensorflow:Value in checkpoint could not be found in the restored object: (root).keras_api.metrics.0.count\n"
     ]
    },
    {
     "name": "stderr",
     "output_type": "stream",
     "text": [
      "WARNING:tensorflow:Value in checkpoint could not be found in the restored object: (root).keras_api.metrics.0.count\n"
     ]
    },
    {
     "name": "stdout",
     "output_type": "stream",
     "text": [
      "WARNING:tensorflow:Value in checkpoint could not be found in the restored object: (root).keras_api.metrics.1.total\n"
     ]
    },
    {
     "name": "stderr",
     "output_type": "stream",
     "text": [
      "WARNING:tensorflow:Value in checkpoint could not be found in the restored object: (root).keras_api.metrics.1.total\n"
     ]
    },
    {
     "name": "stdout",
     "output_type": "stream",
     "text": [
      "WARNING:tensorflow:Value in checkpoint could not be found in the restored object: (root).keras_api.metrics.1.count\n"
     ]
    },
    {
     "name": "stderr",
     "output_type": "stream",
     "text": [
      "WARNING:tensorflow:Value in checkpoint could not be found in the restored object: (root).keras_api.metrics.1.count\n"
     ]
    },
    {
     "name": "stdout",
     "output_type": "stream",
     "text": [
      "WARNING:tensorflow:Detecting that an object or model or tf.train.Checkpoint is being deleted with unrestored values. See the following logs for the specific values in question. To silence these warnings, use `status.expect_partial()`. See https://www.tensorflow.org/api_docs/python/tf/train/Checkpoint#restorefor details about the status object returned by the restore function.\n"
     ]
    },
    {
     "name": "stderr",
     "output_type": "stream",
     "text": [
      "WARNING:tensorflow:Detecting that an object or model or tf.train.Checkpoint is being deleted with unrestored values. See the following logs for the specific values in question. To silence these warnings, use `status.expect_partial()`. See https://www.tensorflow.org/api_docs/python/tf/train/Checkpoint#restorefor details about the status object returned by the restore function.\n"
     ]
    },
    {
     "name": "stdout",
     "output_type": "stream",
     "text": [
      "WARNING:tensorflow:Value in checkpoint could not be found in the restored object: (root).keras_api.metrics.0.total\n"
     ]
    },
    {
     "name": "stderr",
     "output_type": "stream",
     "text": [
      "WARNING:tensorflow:Value in checkpoint could not be found in the restored object: (root).keras_api.metrics.0.total\n"
     ]
    },
    {
     "name": "stdout",
     "output_type": "stream",
     "text": [
      "WARNING:tensorflow:Value in checkpoint could not be found in the restored object: (root).keras_api.metrics.0.count\n"
     ]
    },
    {
     "name": "stderr",
     "output_type": "stream",
     "text": [
      "WARNING:tensorflow:Value in checkpoint could not be found in the restored object: (root).keras_api.metrics.0.count\n"
     ]
    },
    {
     "name": "stdout",
     "output_type": "stream",
     "text": [
      "WARNING:tensorflow:Value in checkpoint could not be found in the restored object: (root).keras_api.metrics.1.total\n"
     ]
    },
    {
     "name": "stderr",
     "output_type": "stream",
     "text": [
      "WARNING:tensorflow:Value in checkpoint could not be found in the restored object: (root).keras_api.metrics.1.total\n"
     ]
    },
    {
     "name": "stdout",
     "output_type": "stream",
     "text": [
      "WARNING:tensorflow:Value in checkpoint could not be found in the restored object: (root).keras_api.metrics.1.count\n"
     ]
    },
    {
     "name": "stderr",
     "output_type": "stream",
     "text": [
      "WARNING:tensorflow:Value in checkpoint could not be found in the restored object: (root).keras_api.metrics.1.count\n"
     ]
    },
    {
     "name": "stdout",
     "output_type": "stream",
     "text": [
      "WARNING:tensorflow:Detecting that an object or model or tf.train.Checkpoint is being deleted with unrestored values. See the following logs for the specific values in question. To silence these warnings, use `status.expect_partial()`. See https://www.tensorflow.org/api_docs/python/tf/train/Checkpoint#restorefor details about the status object returned by the restore function.\n"
     ]
    },
    {
     "name": "stderr",
     "output_type": "stream",
     "text": [
      "WARNING:tensorflow:Detecting that an object or model or tf.train.Checkpoint is being deleted with unrestored values. See the following logs for the specific values in question. To silence these warnings, use `status.expect_partial()`. See https://www.tensorflow.org/api_docs/python/tf/train/Checkpoint#restorefor details about the status object returned by the restore function.\n"
     ]
    },
    {
     "name": "stdout",
     "output_type": "stream",
     "text": [
      "WARNING:tensorflow:Value in checkpoint could not be found in the restored object: (root).keras_api.metrics.0.total\n"
     ]
    },
    {
     "name": "stderr",
     "output_type": "stream",
     "text": [
      "WARNING:tensorflow:Value in checkpoint could not be found in the restored object: (root).keras_api.metrics.0.total\n"
     ]
    },
    {
     "name": "stdout",
     "output_type": "stream",
     "text": [
      "WARNING:tensorflow:Value in checkpoint could not be found in the restored object: (root).keras_api.metrics.0.count\n"
     ]
    },
    {
     "name": "stderr",
     "output_type": "stream",
     "text": [
      "WARNING:tensorflow:Value in checkpoint could not be found in the restored object: (root).keras_api.metrics.0.count\n"
     ]
    },
    {
     "name": "stdout",
     "output_type": "stream",
     "text": [
      "WARNING:tensorflow:Value in checkpoint could not be found in the restored object: (root).keras_api.metrics.1.total\n"
     ]
    },
    {
     "name": "stderr",
     "output_type": "stream",
     "text": [
      "WARNING:tensorflow:Value in checkpoint could not be found in the restored object: (root).keras_api.metrics.1.total\n"
     ]
    },
    {
     "name": "stdout",
     "output_type": "stream",
     "text": [
      "WARNING:tensorflow:Value in checkpoint could not be found in the restored object: (root).keras_api.metrics.1.count\n"
     ]
    },
    {
     "name": "stderr",
     "output_type": "stream",
     "text": [
      "WARNING:tensorflow:Value in checkpoint could not be found in the restored object: (root).keras_api.metrics.1.count\n"
     ]
    },
    {
     "name": "stdout",
     "output_type": "stream",
     "text": [
      "WARNING:tensorflow:Detecting that an object or model or tf.train.Checkpoint is being deleted with unrestored values. See the following logs for the specific values in question. To silence these warnings, use `status.expect_partial()`. See https://www.tensorflow.org/api_docs/python/tf/train/Checkpoint#restorefor details about the status object returned by the restore function.\n"
     ]
    },
    {
     "name": "stderr",
     "output_type": "stream",
     "text": [
      "WARNING:tensorflow:Detecting that an object or model or tf.train.Checkpoint is being deleted with unrestored values. See the following logs for the specific values in question. To silence these warnings, use `status.expect_partial()`. See https://www.tensorflow.org/api_docs/python/tf/train/Checkpoint#restorefor details about the status object returned by the restore function.\n"
     ]
    },
    {
     "name": "stdout",
     "output_type": "stream",
     "text": [
      "WARNING:tensorflow:Value in checkpoint could not be found in the restored object: (root).keras_api.metrics.0.total\n"
     ]
    },
    {
     "name": "stderr",
     "output_type": "stream",
     "text": [
      "WARNING:tensorflow:Value in checkpoint could not be found in the restored object: (root).keras_api.metrics.0.total\n"
     ]
    },
    {
     "name": "stdout",
     "output_type": "stream",
     "text": [
      "WARNING:tensorflow:Value in checkpoint could not be found in the restored object: (root).keras_api.metrics.0.count\n"
     ]
    },
    {
     "name": "stderr",
     "output_type": "stream",
     "text": [
      "WARNING:tensorflow:Value in checkpoint could not be found in the restored object: (root).keras_api.metrics.0.count\n"
     ]
    },
    {
     "name": "stdout",
     "output_type": "stream",
     "text": [
      "WARNING:tensorflow:Value in checkpoint could not be found in the restored object: (root).keras_api.metrics.1.total\n"
     ]
    },
    {
     "name": "stderr",
     "output_type": "stream",
     "text": [
      "WARNING:tensorflow:Value in checkpoint could not be found in the restored object: (root).keras_api.metrics.1.total\n"
     ]
    },
    {
     "name": "stdout",
     "output_type": "stream",
     "text": [
      "WARNING:tensorflow:Value in checkpoint could not be found in the restored object: (root).keras_api.metrics.1.count\n"
     ]
    },
    {
     "name": "stderr",
     "output_type": "stream",
     "text": [
      "WARNING:tensorflow:Value in checkpoint could not be found in the restored object: (root).keras_api.metrics.1.count\n"
     ]
    },
    {
     "name": "stdout",
     "output_type": "stream",
     "text": [
      "WARNING:tensorflow:Detecting that an object or model or tf.train.Checkpoint is being deleted with unrestored values. See the following logs for the specific values in question. To silence these warnings, use `status.expect_partial()`. See https://www.tensorflow.org/api_docs/python/tf/train/Checkpoint#restorefor details about the status object returned by the restore function.\n"
     ]
    },
    {
     "name": "stderr",
     "output_type": "stream",
     "text": [
      "WARNING:tensorflow:Detecting that an object or model or tf.train.Checkpoint is being deleted with unrestored values. See the following logs for the specific values in question. To silence these warnings, use `status.expect_partial()`. See https://www.tensorflow.org/api_docs/python/tf/train/Checkpoint#restorefor details about the status object returned by the restore function.\n"
     ]
    },
    {
     "name": "stdout",
     "output_type": "stream",
     "text": [
      "WARNING:tensorflow:Value in checkpoint could not be found in the restored object: (root).keras_api.metrics.0.total\n"
     ]
    },
    {
     "name": "stderr",
     "output_type": "stream",
     "text": [
      "WARNING:tensorflow:Value in checkpoint could not be found in the restored object: (root).keras_api.metrics.0.total\n"
     ]
    },
    {
     "name": "stdout",
     "output_type": "stream",
     "text": [
      "WARNING:tensorflow:Value in checkpoint could not be found in the restored object: (root).keras_api.metrics.0.count\n"
     ]
    },
    {
     "name": "stderr",
     "output_type": "stream",
     "text": [
      "WARNING:tensorflow:Value in checkpoint could not be found in the restored object: (root).keras_api.metrics.0.count\n"
     ]
    },
    {
     "name": "stdout",
     "output_type": "stream",
     "text": [
      "WARNING:tensorflow:Value in checkpoint could not be found in the restored object: (root).keras_api.metrics.1.total\n"
     ]
    },
    {
     "name": "stderr",
     "output_type": "stream",
     "text": [
      "WARNING:tensorflow:Value in checkpoint could not be found in the restored object: (root).keras_api.metrics.1.total\n"
     ]
    },
    {
     "name": "stdout",
     "output_type": "stream",
     "text": [
      "WARNING:tensorflow:Value in checkpoint could not be found in the restored object: (root).keras_api.metrics.1.count\n"
     ]
    },
    {
     "name": "stderr",
     "output_type": "stream",
     "text": [
      "WARNING:tensorflow:Value in checkpoint could not be found in the restored object: (root).keras_api.metrics.1.count\n"
     ]
    },
    {
     "name": "stdout",
     "output_type": "stream",
     "text": [
      "WARNING:tensorflow:Detecting that an object or model or tf.train.Checkpoint is being deleted with unrestored values. See the following logs for the specific values in question. To silence these warnings, use `status.expect_partial()`. See https://www.tensorflow.org/api_docs/python/tf/train/Checkpoint#restorefor details about the status object returned by the restore function.\n"
     ]
    },
    {
     "name": "stderr",
     "output_type": "stream",
     "text": [
      "WARNING:tensorflow:Detecting that an object or model or tf.train.Checkpoint is being deleted with unrestored values. See the following logs for the specific values in question. To silence these warnings, use `status.expect_partial()`. See https://www.tensorflow.org/api_docs/python/tf/train/Checkpoint#restorefor details about the status object returned by the restore function.\n"
     ]
    },
    {
     "name": "stdout",
     "output_type": "stream",
     "text": [
      "WARNING:tensorflow:Value in checkpoint could not be found in the restored object: (root).keras_api.metrics.0.total\n"
     ]
    },
    {
     "name": "stderr",
     "output_type": "stream",
     "text": [
      "WARNING:tensorflow:Value in checkpoint could not be found in the restored object: (root).keras_api.metrics.0.total\n"
     ]
    },
    {
     "name": "stdout",
     "output_type": "stream",
     "text": [
      "WARNING:tensorflow:Value in checkpoint could not be found in the restored object: (root).keras_api.metrics.0.count\n"
     ]
    },
    {
     "name": "stderr",
     "output_type": "stream",
     "text": [
      "WARNING:tensorflow:Value in checkpoint could not be found in the restored object: (root).keras_api.metrics.0.count\n"
     ]
    },
    {
     "name": "stdout",
     "output_type": "stream",
     "text": [
      "WARNING:tensorflow:Value in checkpoint could not be found in the restored object: (root).keras_api.metrics.1.total\n"
     ]
    },
    {
     "name": "stderr",
     "output_type": "stream",
     "text": [
      "WARNING:tensorflow:Value in checkpoint could not be found in the restored object: (root).keras_api.metrics.1.total\n"
     ]
    },
    {
     "name": "stdout",
     "output_type": "stream",
     "text": [
      "WARNING:tensorflow:Value in checkpoint could not be found in the restored object: (root).keras_api.metrics.1.count\n"
     ]
    },
    {
     "name": "stderr",
     "output_type": "stream",
     "text": [
      "WARNING:tensorflow:Value in checkpoint could not be found in the restored object: (root).keras_api.metrics.1.count\n"
     ]
    },
    {
     "name": "stdout",
     "output_type": "stream",
     "text": [
      "WARNING:tensorflow:Detecting that an object or model or tf.train.Checkpoint is being deleted with unrestored values. See the following logs for the specific values in question. To silence these warnings, use `status.expect_partial()`. See https://www.tensorflow.org/api_docs/python/tf/train/Checkpoint#restorefor details about the status object returned by the restore function.\n"
     ]
    },
    {
     "name": "stderr",
     "output_type": "stream",
     "text": [
      "WARNING:tensorflow:Detecting that an object or model or tf.train.Checkpoint is being deleted with unrestored values. See the following logs for the specific values in question. To silence these warnings, use `status.expect_partial()`. See https://www.tensorflow.org/api_docs/python/tf/train/Checkpoint#restorefor details about the status object returned by the restore function.\n"
     ]
    },
    {
     "name": "stdout",
     "output_type": "stream",
     "text": [
      "WARNING:tensorflow:Value in checkpoint could not be found in the restored object: (root).keras_api.metrics.0.total\n"
     ]
    },
    {
     "name": "stderr",
     "output_type": "stream",
     "text": [
      "WARNING:tensorflow:Value in checkpoint could not be found in the restored object: (root).keras_api.metrics.0.total\n"
     ]
    },
    {
     "name": "stdout",
     "output_type": "stream",
     "text": [
      "WARNING:tensorflow:Value in checkpoint could not be found in the restored object: (root).keras_api.metrics.0.count\n"
     ]
    },
    {
     "name": "stderr",
     "output_type": "stream",
     "text": [
      "WARNING:tensorflow:Value in checkpoint could not be found in the restored object: (root).keras_api.metrics.0.count\n"
     ]
    },
    {
     "name": "stdout",
     "output_type": "stream",
     "text": [
      "WARNING:tensorflow:Value in checkpoint could not be found in the restored object: (root).keras_api.metrics.1.total\n"
     ]
    },
    {
     "name": "stderr",
     "output_type": "stream",
     "text": [
      "WARNING:tensorflow:Value in checkpoint could not be found in the restored object: (root).keras_api.metrics.1.total\n"
     ]
    },
    {
     "name": "stdout",
     "output_type": "stream",
     "text": [
      "WARNING:tensorflow:Value in checkpoint could not be found in the restored object: (root).keras_api.metrics.1.count\n"
     ]
    },
    {
     "name": "stderr",
     "output_type": "stream",
     "text": [
      "WARNING:tensorflow:Value in checkpoint could not be found in the restored object: (root).keras_api.metrics.1.count\n"
     ]
    },
    {
     "name": "stdout",
     "output_type": "stream",
     "text": [
      "Epoch 1/10\n",
      "240/240 [==============================] - 6s 23ms/step - loss: 0.0386 - accuracy: 0.9876\n",
      "Epoch 2/10\n",
      "240/240 [==============================] - 6s 26ms/step - loss: 0.0324 - accuracy: 0.9898\n",
      "Epoch 3/10\n",
      "240/240 [==============================] - 6s 26ms/step - loss: 0.0268 - accuracy: 0.9912\n",
      "Epoch 4/10\n",
      "240/240 [==============================] - 6s 26ms/step - loss: 0.0214 - accuracy: 0.9932\n",
      "Epoch 5/10\n",
      "240/240 [==============================] - 6s 26ms/step - loss: 0.0195 - accuracy: 0.9939\n",
      "Epoch 6/10\n",
      "240/240 [==============================] - 6s 25ms/step - loss: 0.0180 - accuracy: 0.9943\n",
      "Epoch 7/10\n",
      "240/240 [==============================] - 6s 26ms/step - loss: 0.0157 - accuracy: 0.9947\n",
      "Epoch 8/10\n",
      "240/240 [==============================] - 6s 26ms/step - loss: 0.0139 - accuracy: 0.9952\n",
      "Epoch 9/10\n",
      "240/240 [==============================] - 6s 26ms/step - loss: 0.0127 - accuracy: 0.9957\n",
      "Epoch 10/10\n",
      "240/240 [==============================] - 6s 25ms/step - loss: 0.0128 - accuracy: 0.9958\n",
      "60/60 [==============================] - 1s 9ms/step\n",
      "INFO:tensorflow:Assets written to: C:\\Users\\hp\\AppData\\Local\\Temp\\tmpig4cw8oz\\assets\n"
     ]
    },
    {
     "name": "stderr",
     "output_type": "stream",
     "text": [
      "INFO:tensorflow:Assets written to: C:\\Users\\hp\\AppData\\Local\\Temp\\tmpig4cw8oz\\assets\n"
     ]
    },
    {
     "name": "stdout",
     "output_type": "stream",
     "text": [
      "Epoch 1/10\n",
      "240/240 [==============================] - 6s 19ms/step - loss: 0.0368 - accuracy: 0.9881\n",
      "Epoch 2/10\n",
      "240/240 [==============================] - 4s 17ms/step - loss: 0.0303 - accuracy: 0.9902\n",
      "Epoch 3/10\n",
      "240/240 [==============================] - 4s 18ms/step - loss: 0.0251 - accuracy: 0.9921\n",
      "Epoch 4/10\n",
      "240/240 [==============================] - 4s 18ms/step - loss: 0.0230 - accuracy: 0.9924\n",
      "Epoch 5/10\n",
      "240/240 [==============================] - 4s 18ms/step - loss: 0.0192 - accuracy: 0.9935\n",
      "Epoch 6/10\n",
      "240/240 [==============================] - 4s 18ms/step - loss: 0.0171 - accuracy: 0.9939\n",
      "Epoch 7/10\n",
      "240/240 [==============================] - 4s 18ms/step - loss: 0.0164 - accuracy: 0.9943\n",
      "Epoch 8/10\n",
      "240/240 [==============================] - 4s 19ms/step - loss: 0.0127 - accuracy: 0.9957\n",
      "Epoch 9/10\n",
      "240/240 [==============================] - 5s 19ms/step - loss: 0.0126 - accuracy: 0.9959\n",
      "Epoch 10/10\n",
      "240/240 [==============================] - 4s 18ms/step - loss: 0.0125 - accuracy: 0.9958\n",
      "60/60 [==============================] - 0s 6ms/step\n",
      "INFO:tensorflow:Assets written to: C:\\Users\\hp\\AppData\\Local\\Temp\\tmp16ylaz49\\assets\n"
     ]
    },
    {
     "name": "stderr",
     "output_type": "stream",
     "text": [
      "INFO:tensorflow:Assets written to: C:\\Users\\hp\\AppData\\Local\\Temp\\tmp16ylaz49\\assets\n"
     ]
    },
    {
     "name": "stdout",
     "output_type": "stream",
     "text": [
      "Epoch 1/10\n",
      "240/240 [==============================] - 5s 19ms/step - loss: 0.0371 - accuracy: 0.9885\n",
      "Epoch 2/10\n",
      "240/240 [==============================] - 5s 19ms/step - loss: 0.0317 - accuracy: 0.9895\n",
      "Epoch 3/10\n",
      "240/240 [==============================] - 5s 20ms/step - loss: 0.0280 - accuracy: 0.9906\n",
      "Epoch 4/10\n",
      "240/240 [==============================] - 4s 19ms/step - loss: 0.0224 - accuracy: 0.9927\n",
      "Epoch 5/10\n",
      "240/240 [==============================] - 4s 19ms/step - loss: 0.0216 - accuracy: 0.9931\n",
      "Epoch 6/10\n",
      "240/240 [==============================] - 4s 19ms/step - loss: 0.0187 - accuracy: 0.9935\n",
      "Epoch 7/10\n",
      "240/240 [==============================] - 4s 19ms/step - loss: 0.0155 - accuracy: 0.9949\n",
      "Epoch 8/10\n",
      "240/240 [==============================] - 5s 19ms/step - loss: 0.0161 - accuracy: 0.9945\n",
      "Epoch 9/10\n",
      "240/240 [==============================] - 5s 20ms/step - loss: 0.0126 - accuracy: 0.9957\n",
      "Epoch 10/10\n",
      "240/240 [==============================] - 5s 20ms/step - loss: 0.0122 - accuracy: 0.9955\n",
      "60/60 [==============================] - 0s 6ms/step\n",
      "INFO:tensorflow:Assets written to: C:\\Users\\hp\\AppData\\Local\\Temp\\tmph0at74ty\\assets\n"
     ]
    },
    {
     "name": "stderr",
     "output_type": "stream",
     "text": [
      "INFO:tensorflow:Assets written to: C:\\Users\\hp\\AppData\\Local\\Temp\\tmph0at74ty\\assets\n"
     ]
    },
    {
     "name": "stdout",
     "output_type": "stream",
     "text": [
      "Epoch 1/15\n",
      "240/240 [==============================] - 5s 19ms/step - loss: 0.0377 - accuracy: 0.9876\n",
      "Epoch 2/15\n",
      "240/240 [==============================] - 4s 18ms/step - loss: 0.0310 - accuracy: 0.9895\n",
      "Epoch 3/15\n",
      "240/240 [==============================] - 4s 18ms/step - loss: 0.0262 - accuracy: 0.9915\n",
      "Epoch 4/15\n",
      "240/240 [==============================] - 4s 18ms/step - loss: 0.0231 - accuracy: 0.9926\n",
      "Epoch 5/15\n",
      "240/240 [==============================] - 4s 17ms/step - loss: 0.0212 - accuracy: 0.9929\n",
      "Epoch 6/15\n",
      "240/240 [==============================] - 4s 17ms/step - loss: 0.0185 - accuracy: 0.9939\n",
      "Epoch 7/15\n",
      "240/240 [==============================] - 4s 17ms/step - loss: 0.0170 - accuracy: 0.9942\n",
      "Epoch 8/15\n",
      "240/240 [==============================] - 4s 17ms/step - loss: 0.0155 - accuracy: 0.9947\n",
      "Epoch 9/15\n",
      "240/240 [==============================] - 4s 18ms/step - loss: 0.0132 - accuracy: 0.9954\n",
      "Epoch 10/15\n",
      "240/240 [==============================] - 4s 17ms/step - loss: 0.0121 - accuracy: 0.9959\n",
      "Epoch 11/15\n",
      "240/240 [==============================] - 4s 19ms/step - loss: 0.0107 - accuracy: 0.9962\n",
      "Epoch 12/15\n",
      "240/240 [==============================] - 4s 18ms/step - loss: 0.0100 - accuracy: 0.9967\n",
      "Epoch 13/15\n",
      "240/240 [==============================] - 5s 19ms/step - loss: 0.0097 - accuracy: 0.9967\n",
      "Epoch 14/15\n",
      "240/240 [==============================] - 4s 18ms/step - loss: 0.0087 - accuracy: 0.9970\n",
      "Epoch 15/15\n",
      "240/240 [==============================] - 4s 18ms/step - loss: 0.0080 - accuracy: 0.9974\n",
      "60/60 [==============================] - 0s 6ms/step\n",
      "INFO:tensorflow:Assets written to: C:\\Users\\hp\\AppData\\Local\\Temp\\tmpl28msayr\\assets\n"
     ]
    },
    {
     "name": "stderr",
     "output_type": "stream",
     "text": [
      "INFO:tensorflow:Assets written to: C:\\Users\\hp\\AppData\\Local\\Temp\\tmpl28msayr\\assets\n"
     ]
    },
    {
     "name": "stdout",
     "output_type": "stream",
     "text": [
      "Epoch 1/15\n",
      "240/240 [==============================] - 5s 19ms/step - loss: 0.0383 - accuracy: 0.9881\n",
      "Epoch 2/15\n",
      "240/240 [==============================] - 5s 20ms/step - loss: 0.0329 - accuracy: 0.9890\n",
      "Epoch 3/15\n",
      "240/240 [==============================] - 5s 20ms/step - loss: 0.0275 - accuracy: 0.9913\n",
      "Epoch 4/15\n",
      "240/240 [==============================] - 5s 19ms/step - loss: 0.0234 - accuracy: 0.9921\n",
      "Epoch 5/15\n",
      "240/240 [==============================] - 5s 19ms/step - loss: 0.0223 - accuracy: 0.9925\n",
      "Epoch 6/15\n",
      "240/240 [==============================] - 5s 19ms/step - loss: 0.0198 - accuracy: 0.9930\n",
      "Epoch 7/15\n",
      "240/240 [==============================] - 5s 19ms/step - loss: 0.0163 - accuracy: 0.9945\n",
      "Epoch 8/15\n",
      "240/240 [==============================] - 5s 20ms/step - loss: 0.0158 - accuracy: 0.9950\n",
      "Epoch 9/15\n",
      "240/240 [==============================] - 5s 20ms/step - loss: 0.0132 - accuracy: 0.9958\n",
      "Epoch 10/15\n",
      "240/240 [==============================] - 5s 20ms/step - loss: 0.0123 - accuracy: 0.9958\n",
      "Epoch 11/15\n",
      "240/240 [==============================] - 5s 20ms/step - loss: 0.0111 - accuracy: 0.9963\n",
      "Epoch 12/15\n",
      "240/240 [==============================] - 5s 19ms/step - loss: 0.0112 - accuracy: 0.9963\n",
      "Epoch 13/15\n",
      "240/240 [==============================] - 5s 20ms/step - loss: 0.0117 - accuracy: 0.9961\n",
      "Epoch 14/15\n",
      "240/240 [==============================] - 5s 19ms/step - loss: 0.0093 - accuracy: 0.9969\n",
      "Epoch 15/15\n",
      "240/240 [==============================] - 5s 19ms/step - loss: 0.0093 - accuracy: 0.9970\n",
      "60/60 [==============================] - 0s 6ms/step\n",
      "INFO:tensorflow:Assets written to: C:\\Users\\hp\\AppData\\Local\\Temp\\tmpolyus9km\\assets\n"
     ]
    },
    {
     "name": "stderr",
     "output_type": "stream",
     "text": [
      "INFO:tensorflow:Assets written to: C:\\Users\\hp\\AppData\\Local\\Temp\\tmpolyus9km\\assets\n"
     ]
    },
    {
     "name": "stdout",
     "output_type": "stream",
     "text": [
      "Epoch 1/15\n",
      "240/240 [==============================] - 5s 20ms/step - loss: 0.0388 - accuracy: 0.9876\n",
      "Epoch 2/15\n",
      "240/240 [==============================] - 5s 20ms/step - loss: 0.0314 - accuracy: 0.9901\n",
      "Epoch 3/15\n",
      "240/240 [==============================] - 4s 17ms/step - loss: 0.0261 - accuracy: 0.9912\n",
      "Epoch 4/15\n",
      "240/240 [==============================] - 4s 18ms/step - loss: 0.0243 - accuracy: 0.9920\n",
      "Epoch 5/15\n",
      "240/240 [==============================] - 4s 18ms/step - loss: 0.0205 - accuracy: 0.9927\n",
      "Epoch 6/15\n",
      "240/240 [==============================] - 5s 19ms/step - loss: 0.0180 - accuracy: 0.9941\n",
      "Epoch 7/15\n",
      "240/240 [==============================] - 4s 19ms/step - loss: 0.0165 - accuracy: 0.9946\n",
      "Epoch 8/15\n",
      "240/240 [==============================] - 4s 19ms/step - loss: 0.0140 - accuracy: 0.9949\n",
      "Epoch 9/15\n",
      "240/240 [==============================] - 4s 18ms/step - loss: 0.0127 - accuracy: 0.9956\n",
      "Epoch 10/15\n",
      "240/240 [==============================] - 4s 18ms/step - loss: 0.0138 - accuracy: 0.9952\n",
      "Epoch 11/15\n",
      "240/240 [==============================] - 4s 18ms/step - loss: 0.0112 - accuracy: 0.9960\n",
      "Epoch 12/15\n",
      "240/240 [==============================] - 4s 18ms/step - loss: 0.0107 - accuracy: 0.9961\n",
      "Epoch 13/15\n",
      "240/240 [==============================] - 4s 18ms/step - loss: 0.0099 - accuracy: 0.9965\n",
      "Epoch 14/15\n",
      "240/240 [==============================] - 4s 17ms/step - loss: 0.0088 - accuracy: 0.9968\n",
      "Epoch 15/15\n",
      "240/240 [==============================] - 4s 18ms/step - loss: 0.0076 - accuracy: 0.9975\n",
      "60/60 [==============================] - 1s 6ms/step\n",
      "INFO:tensorflow:Assets written to: C:\\Users\\hp\\AppData\\Local\\Temp\\tmp0d_emt_z\\assets\n"
     ]
    },
    {
     "name": "stderr",
     "output_type": "stream",
     "text": [
      "INFO:tensorflow:Assets written to: C:\\Users\\hp\\AppData\\Local\\Temp\\tmp0d_emt_z\\assets\n"
     ]
    },
    {
     "name": "stdout",
     "output_type": "stream",
     "text": [
      "Epoch 1/15\n",
      "240/240 [==============================] - 6s 23ms/step - loss: 0.0385 - accuracy: 0.9873\n",
      "Epoch 2/15\n",
      "240/240 [==============================] - 5s 21ms/step - loss: 0.0321 - accuracy: 0.9895\n",
      "Epoch 3/15\n",
      "240/240 [==============================] - 5s 20ms/step - loss: 0.0251 - accuracy: 0.9918\n",
      "Epoch 4/15\n",
      "240/240 [==============================] - 5s 20ms/step - loss: 0.0209 - accuracy: 0.9928\n",
      "Epoch 5/15\n",
      "240/240 [==============================] - 5s 20ms/step - loss: 0.0177 - accuracy: 0.9939\n",
      "Epoch 6/15\n",
      "240/240 [==============================] - 5s 21ms/step - loss: 0.0178 - accuracy: 0.9941\n",
      "Epoch 7/15\n",
      "240/240 [==============================] - 5s 21ms/step - loss: 0.0154 - accuracy: 0.9948\n",
      "Epoch 8/15\n",
      "240/240 [==============================] - 5s 21ms/step - loss: 0.0146 - accuracy: 0.9950\n",
      "Epoch 9/15\n",
      "240/240 [==============================] - 4s 19ms/step - loss: 0.0133 - accuracy: 0.9955\n",
      "Epoch 10/15\n",
      "240/240 [==============================] - 5s 19ms/step - loss: 0.0121 - accuracy: 0.9958\n",
      "Epoch 11/15\n",
      "240/240 [==============================] - 5s 19ms/step - loss: 0.0104 - accuracy: 0.9964\n",
      "Epoch 12/15\n",
      "240/240 [==============================] - 5s 20ms/step - loss: 0.0090 - accuracy: 0.9970\n",
      "Epoch 13/15\n",
      "240/240 [==============================] - 5s 20ms/step - loss: 0.0085 - accuracy: 0.9967\n",
      "Epoch 14/15\n",
      "240/240 [==============================] - 5s 22ms/step - loss: 0.0076 - accuracy: 0.9974\n",
      "Epoch 15/15\n",
      "240/240 [==============================] - 6s 24ms/step - loss: 0.0078 - accuracy: 0.9976\n",
      "60/60 [==============================] - 0s 6ms/step\n",
      "INFO:tensorflow:Assets written to: C:\\Users\\hp\\AppData\\Local\\Temp\\tmpldn10nvj\\assets\n"
     ]
    },
    {
     "name": "stderr",
     "output_type": "stream",
     "text": [
      "INFO:tensorflow:Assets written to: C:\\Users\\hp\\AppData\\Local\\Temp\\tmpldn10nvj\\assets\n"
     ]
    },
    {
     "name": "stdout",
     "output_type": "stream",
     "text": [
      "Epoch 1/15\n",
      "240/240 [==============================] - 6s 20ms/step - loss: 0.0387 - accuracy: 0.9873\n",
      "Epoch 2/15\n",
      "240/240 [==============================] - 5s 21ms/step - loss: 0.0309 - accuracy: 0.9900\n",
      "Epoch 3/15\n",
      "240/240 [==============================] - 5s 20ms/step - loss: 0.0268 - accuracy: 0.9913\n",
      "Epoch 4/15\n",
      "240/240 [==============================] - 5s 20ms/step - loss: 0.0227 - accuracy: 0.9927\n",
      "Epoch 5/15\n",
      "240/240 [==============================] - 4s 19ms/step - loss: 0.0186 - accuracy: 0.9934\n",
      "Epoch 6/15\n",
      "240/240 [==============================] - 4s 18ms/step - loss: 0.0194 - accuracy: 0.9937\n",
      "Epoch 7/15\n",
      "240/240 [==============================] - 4s 19ms/step - loss: 0.0149 - accuracy: 0.9949\n",
      "Epoch 8/15\n",
      "240/240 [==============================] - 5s 20ms/step - loss: 0.0154 - accuracy: 0.9948\n",
      "Epoch 9/15\n",
      "240/240 [==============================] - 4s 18ms/step - loss: 0.0130 - accuracy: 0.9956\n",
      "Epoch 10/15\n",
      "240/240 [==============================] - 4s 18ms/step - loss: 0.0125 - accuracy: 0.9958\n",
      "Epoch 11/15\n",
      "240/240 [==============================] - 4s 18ms/step - loss: 0.0109 - accuracy: 0.9963\n",
      "Epoch 12/15\n",
      "240/240 [==============================] - 4s 18ms/step - loss: 0.0104 - accuracy: 0.9963\n",
      "Epoch 13/15\n",
      "240/240 [==============================] - 4s 18ms/step - loss: 0.0095 - accuracy: 0.9966\n",
      "Epoch 14/15\n",
      "240/240 [==============================] - 4s 18ms/step - loss: 0.0089 - accuracy: 0.9970\n",
      "Epoch 15/15\n",
      "240/240 [==============================] - 4s 18ms/step - loss: 0.0087 - accuracy: 0.9971\n",
      "60/60 [==============================] - 0s 6ms/step\n",
      "INFO:tensorflow:Assets written to: C:\\Users\\hp\\AppData\\Local\\Temp\\tmpdrst9g9g\\assets\n"
     ]
    },
    {
     "name": "stderr",
     "output_type": "stream",
     "text": [
      "INFO:tensorflow:Assets written to: C:\\Users\\hp\\AppData\\Local\\Temp\\tmpdrst9g9g\\assets\n"
     ]
    },
    {
     "name": "stdout",
     "output_type": "stream",
     "text": [
      "Epoch 1/20\n",
      "240/240 [==============================] - 5s 19ms/step - loss: 0.0371 - accuracy: 0.9878\n",
      "Epoch 2/20\n",
      "240/240 [==============================] - 4s 19ms/step - loss: 0.0322 - accuracy: 0.9891\n",
      "Epoch 3/20\n",
      "240/240 [==============================] - 4s 18ms/step - loss: 0.0263 - accuracy: 0.9916\n",
      "Epoch 4/20\n",
      "240/240 [==============================] - 5s 19ms/step - loss: 0.0225 - accuracy: 0.9922\n",
      "Epoch 5/20\n",
      "240/240 [==============================] - 4s 18ms/step - loss: 0.0207 - accuracy: 0.9933\n",
      "Epoch 6/20\n",
      "240/240 [==============================] - 4s 18ms/step - loss: 0.0171 - accuracy: 0.9941\n",
      "Epoch 7/20\n",
      "240/240 [==============================] - 4s 19ms/step - loss: 0.0159 - accuracy: 0.9948\n",
      "Epoch 8/20\n",
      "240/240 [==============================] - 4s 18ms/step - loss: 0.0156 - accuracy: 0.9945\n",
      "Epoch 9/20\n",
      "240/240 [==============================] - 5s 19ms/step - loss: 0.0126 - accuracy: 0.9958\n",
      "Epoch 10/20\n",
      "240/240 [==============================] - 5s 20ms/step - loss: 0.0122 - accuracy: 0.9962\n",
      "Epoch 11/20\n",
      "240/240 [==============================] - 5s 20ms/step - loss: 0.0113 - accuracy: 0.9963\n",
      "Epoch 12/20\n",
      "240/240 [==============================] - 5s 19ms/step - loss: 0.0094 - accuracy: 0.9966\n",
      "Epoch 13/20\n",
      "240/240 [==============================] - 4s 18ms/step - loss: 0.0089 - accuracy: 0.9967\n",
      "Epoch 14/20\n",
      "240/240 [==============================] - 4s 18ms/step - loss: 0.0105 - accuracy: 0.9964\n",
      "Epoch 15/20\n",
      "240/240 [==============================] - 4s 18ms/step - loss: 0.0092 - accuracy: 0.9969\n",
      "Epoch 16/20\n",
      "240/240 [==============================] - 4s 18ms/step - loss: 0.0082 - accuracy: 0.9969\n",
      "Epoch 17/20\n",
      "240/240 [==============================] - 4s 18ms/step - loss: 0.0077 - accuracy: 0.9973\n",
      "Epoch 18/20\n",
      "240/240 [==============================] - 4s 19ms/step - loss: 0.0083 - accuracy: 0.9970\n",
      "Epoch 19/20\n",
      "240/240 [==============================] - 5s 19ms/step - loss: 0.0070 - accuracy: 0.9977\n",
      "Epoch 20/20\n",
      "240/240 [==============================] - 4s 18ms/step - loss: 0.0060 - accuracy: 0.9980\n",
      "60/60 [==============================] - 0s 6ms/step\n",
      "INFO:tensorflow:Assets written to: C:\\Users\\hp\\AppData\\Local\\Temp\\tmpd0s6bks8\\assets\n"
     ]
    },
    {
     "name": "stderr",
     "output_type": "stream",
     "text": [
      "INFO:tensorflow:Assets written to: C:\\Users\\hp\\AppData\\Local\\Temp\\tmpd0s6bks8\\assets\n"
     ]
    },
    {
     "name": "stdout",
     "output_type": "stream",
     "text": [
      "Epoch 1/20\n",
      "240/240 [==============================] - 5s 18ms/step - loss: 0.0385 - accuracy: 0.9873\n",
      "Epoch 2/20\n",
      "240/240 [==============================] - 4s 18ms/step - loss: 0.0346 - accuracy: 0.9894\n",
      "Epoch 3/20\n",
      "240/240 [==============================] - 4s 17ms/step - loss: 0.0266 - accuracy: 0.9914\n",
      "Epoch 4/20\n",
      "240/240 [==============================] - 4s 18ms/step - loss: 0.0248 - accuracy: 0.9924\n",
      "Epoch 5/20\n",
      "240/240 [==============================] - 4s 18ms/step - loss: 0.0219 - accuracy: 0.9927\n",
      "Epoch 6/20\n",
      "240/240 [==============================] - 4s 18ms/step - loss: 0.0182 - accuracy: 0.9936\n",
      "Epoch 7/20\n",
      "240/240 [==============================] - 5s 19ms/step - loss: 0.0163 - accuracy: 0.9945\n",
      "Epoch 8/20\n",
      "240/240 [==============================] - 4s 19ms/step - loss: 0.0160 - accuracy: 0.9948\n",
      "Epoch 9/20\n",
      "240/240 [==============================] - 5s 20ms/step - loss: 0.0132 - accuracy: 0.9953\n",
      "Epoch 10/20\n",
      "240/240 [==============================] - 5s 20ms/step - loss: 0.0121 - accuracy: 0.9958\n",
      "Epoch 11/20\n",
      "240/240 [==============================] - 5s 19ms/step - loss: 0.0112 - accuracy: 0.9961\n",
      "Epoch 12/20\n",
      "240/240 [==============================] - 4s 17ms/step - loss: 0.0121 - accuracy: 0.9959\n",
      "Epoch 13/20\n",
      "240/240 [==============================] - 4s 17ms/step - loss: 0.0093 - accuracy: 0.9969\n",
      "Epoch 14/20\n",
      "240/240 [==============================] - 4s 17ms/step - loss: 0.0090 - accuracy: 0.9968\n",
      "Epoch 15/20\n",
      "240/240 [==============================] - 4s 17ms/step - loss: 0.0089 - accuracy: 0.9972\n",
      "Epoch 16/20\n",
      "240/240 [==============================] - 4s 17ms/step - loss: 0.0068 - accuracy: 0.9977\n",
      "Epoch 17/20\n",
      "240/240 [==============================] - 4s 18ms/step - loss: 0.0074 - accuracy: 0.9976\n",
      "Epoch 18/20\n",
      "240/240 [==============================] - 4s 18ms/step - loss: 0.0069 - accuracy: 0.9974\n",
      "Epoch 19/20\n",
      "240/240 [==============================] - 4s 18ms/step - loss: 0.0064 - accuracy: 0.9978\n",
      "Epoch 20/20\n",
      "240/240 [==============================] - 4s 18ms/step - loss: 0.0063 - accuracy: 0.9981\n",
      "60/60 [==============================] - 0s 6ms/step\n",
      "INFO:tensorflow:Assets written to: C:\\Users\\hp\\AppData\\Local\\Temp\\tmpfuv0fuum\\assets\n"
     ]
    },
    {
     "name": "stderr",
     "output_type": "stream",
     "text": [
      "INFO:tensorflow:Assets written to: C:\\Users\\hp\\AppData\\Local\\Temp\\tmpfuv0fuum\\assets\n"
     ]
    },
    {
     "name": "stdout",
     "output_type": "stream",
     "text": [
      "Epoch 1/20\n",
      "240/240 [==============================] - 5s 18ms/step - loss: 0.0376 - accuracy: 0.9876\n",
      "Epoch 2/20\n",
      "240/240 [==============================] - 4s 17ms/step - loss: 0.0317 - accuracy: 0.9895\n",
      "Epoch 3/20\n",
      "240/240 [==============================] - 4s 18ms/step - loss: 0.0252 - accuracy: 0.9919\n",
      "Epoch 4/20\n",
      "240/240 [==============================] - 5s 20ms/step - loss: 0.0227 - accuracy: 0.9929\n",
      "Epoch 5/20\n",
      "240/240 [==============================] - 4s 18ms/step - loss: 0.0215 - accuracy: 0.9927\n",
      "Epoch 6/20\n",
      "240/240 [==============================] - 4s 17ms/step - loss: 0.0192 - accuracy: 0.9935\n",
      "Epoch 7/20\n",
      "240/240 [==============================] - 4s 17ms/step - loss: 0.0167 - accuracy: 0.9941\n",
      "Epoch 8/20\n",
      "240/240 [==============================] - 4s 18ms/step - loss: 0.0147 - accuracy: 0.9950\n",
      "Epoch 9/20\n",
      "240/240 [==============================] - 5s 20ms/step - loss: 0.0136 - accuracy: 0.9955\n",
      "Epoch 10/20\n",
      "240/240 [==============================] - 5s 20ms/step - loss: 0.0114 - accuracy: 0.9960\n",
      "Epoch 11/20\n",
      "240/240 [==============================] - 5s 20ms/step - loss: 0.0112 - accuracy: 0.9961\n",
      "Epoch 12/20\n",
      "240/240 [==============================] - 5s 20ms/step - loss: 0.0102 - accuracy: 0.9970\n",
      "Epoch 13/20\n",
      "240/240 [==============================] - 5s 20ms/step - loss: 0.0104 - accuracy: 0.9964\n",
      "Epoch 14/20\n",
      "240/240 [==============================] - 4s 18ms/step - loss: 0.0092 - accuracy: 0.9968\n",
      "Epoch 15/20\n",
      "240/240 [==============================] - 4s 19ms/step - loss: 0.0089 - accuracy: 0.9968\n",
      "Epoch 16/20\n",
      "240/240 [==============================] - 4s 18ms/step - loss: 0.0072 - accuracy: 0.9974\n",
      "Epoch 17/20\n",
      "240/240 [==============================] - 5s 19ms/step - loss: 0.0069 - accuracy: 0.9976\n",
      "Epoch 18/20\n",
      "240/240 [==============================] - 4s 19ms/step - loss: 0.0064 - accuracy: 0.9979\n",
      "Epoch 19/20\n",
      "240/240 [==============================] - 5s 19ms/step - loss: 0.0067 - accuracy: 0.9977\n",
      "Epoch 20/20\n",
      "240/240 [==============================] - 5s 19ms/step - loss: 0.0062 - accuracy: 0.9978\n",
      "60/60 [==============================] - 0s 6ms/step\n",
      "WARNING:tensorflow:Detecting that an object or model or tf.train.Checkpoint is being deleted with unrestored values. See the following logs for the specific values in question. To silence these warnings, use `status.expect_partial()`. See https://www.tensorflow.org/api_docs/python/tf/train/Checkpoint#restorefor details about the status object returned by the restore function.\n"
     ]
    },
    {
     "name": "stderr",
     "output_type": "stream",
     "text": [
      "WARNING:tensorflow:Detecting that an object or model or tf.train.Checkpoint is being deleted with unrestored values. See the following logs for the specific values in question. To silence these warnings, use `status.expect_partial()`. See https://www.tensorflow.org/api_docs/python/tf/train/Checkpoint#restorefor details about the status object returned by the restore function.\n"
     ]
    },
    {
     "name": "stdout",
     "output_type": "stream",
     "text": [
      "WARNING:tensorflow:Value in checkpoint could not be found in the restored object: (root).keras_api.metrics.0.total\n"
     ]
    },
    {
     "name": "stderr",
     "output_type": "stream",
     "text": [
      "WARNING:tensorflow:Value in checkpoint could not be found in the restored object: (root).keras_api.metrics.0.total\n"
     ]
    },
    {
     "name": "stdout",
     "output_type": "stream",
     "text": [
      "WARNING:tensorflow:Value in checkpoint could not be found in the restored object: (root).keras_api.metrics.0.count\n"
     ]
    },
    {
     "name": "stderr",
     "output_type": "stream",
     "text": [
      "WARNING:tensorflow:Value in checkpoint could not be found in the restored object: (root).keras_api.metrics.0.count\n"
     ]
    },
    {
     "name": "stdout",
     "output_type": "stream",
     "text": [
      "WARNING:tensorflow:Value in checkpoint could not be found in the restored object: (root).keras_api.metrics.1.total\n"
     ]
    },
    {
     "name": "stderr",
     "output_type": "stream",
     "text": [
      "WARNING:tensorflow:Value in checkpoint could not be found in the restored object: (root).keras_api.metrics.1.total\n"
     ]
    },
    {
     "name": "stdout",
     "output_type": "stream",
     "text": [
      "WARNING:tensorflow:Value in checkpoint could not be found in the restored object: (root).keras_api.metrics.1.count\n"
     ]
    },
    {
     "name": "stderr",
     "output_type": "stream",
     "text": [
      "WARNING:tensorflow:Value in checkpoint could not be found in the restored object: (root).keras_api.metrics.1.count\n"
     ]
    },
    {
     "name": "stdout",
     "output_type": "stream",
     "text": [
      "WARNING:tensorflow:Detecting that an object or model or tf.train.Checkpoint is being deleted with unrestored values. See the following logs for the specific values in question. To silence these warnings, use `status.expect_partial()`. See https://www.tensorflow.org/api_docs/python/tf/train/Checkpoint#restorefor details about the status object returned by the restore function.\n"
     ]
    },
    {
     "name": "stderr",
     "output_type": "stream",
     "text": [
      "WARNING:tensorflow:Detecting that an object or model or tf.train.Checkpoint is being deleted with unrestored values. See the following logs for the specific values in question. To silence these warnings, use `status.expect_partial()`. See https://www.tensorflow.org/api_docs/python/tf/train/Checkpoint#restorefor details about the status object returned by the restore function.\n"
     ]
    },
    {
     "name": "stdout",
     "output_type": "stream",
     "text": [
      "WARNING:tensorflow:Value in checkpoint could not be found in the restored object: (root).keras_api.metrics.0.total\n"
     ]
    },
    {
     "name": "stderr",
     "output_type": "stream",
     "text": [
      "WARNING:tensorflow:Value in checkpoint could not be found in the restored object: (root).keras_api.metrics.0.total\n"
     ]
    },
    {
     "name": "stdout",
     "output_type": "stream",
     "text": [
      "WARNING:tensorflow:Value in checkpoint could not be found in the restored object: (root).keras_api.metrics.0.count\n"
     ]
    },
    {
     "name": "stderr",
     "output_type": "stream",
     "text": [
      "WARNING:tensorflow:Value in checkpoint could not be found in the restored object: (root).keras_api.metrics.0.count\n"
     ]
    },
    {
     "name": "stdout",
     "output_type": "stream",
     "text": [
      "WARNING:tensorflow:Value in checkpoint could not be found in the restored object: (root).keras_api.metrics.1.total\n"
     ]
    },
    {
     "name": "stderr",
     "output_type": "stream",
     "text": [
      "WARNING:tensorflow:Value in checkpoint could not be found in the restored object: (root).keras_api.metrics.1.total\n"
     ]
    },
    {
     "name": "stdout",
     "output_type": "stream",
     "text": [
      "WARNING:tensorflow:Value in checkpoint could not be found in the restored object: (root).keras_api.metrics.1.count\n"
     ]
    },
    {
     "name": "stderr",
     "output_type": "stream",
     "text": [
      "WARNING:tensorflow:Value in checkpoint could not be found in the restored object: (root).keras_api.metrics.1.count\n"
     ]
    },
    {
     "name": "stdout",
     "output_type": "stream",
     "text": [
      "WARNING:tensorflow:Detecting that an object or model or tf.train.Checkpoint is being deleted with unrestored values. See the following logs for the specific values in question. To silence these warnings, use `status.expect_partial()`. See https://www.tensorflow.org/api_docs/python/tf/train/Checkpoint#restorefor details about the status object returned by the restore function.\n"
     ]
    },
    {
     "name": "stderr",
     "output_type": "stream",
     "text": [
      "WARNING:tensorflow:Detecting that an object or model or tf.train.Checkpoint is being deleted with unrestored values. See the following logs for the specific values in question. To silence these warnings, use `status.expect_partial()`. See https://www.tensorflow.org/api_docs/python/tf/train/Checkpoint#restorefor details about the status object returned by the restore function.\n"
     ]
    },
    {
     "name": "stdout",
     "output_type": "stream",
     "text": [
      "WARNING:tensorflow:Value in checkpoint could not be found in the restored object: (root).keras_api.metrics.0.total\n"
     ]
    },
    {
     "name": "stderr",
     "output_type": "stream",
     "text": [
      "WARNING:tensorflow:Value in checkpoint could not be found in the restored object: (root).keras_api.metrics.0.total\n"
     ]
    },
    {
     "name": "stdout",
     "output_type": "stream",
     "text": [
      "WARNING:tensorflow:Value in checkpoint could not be found in the restored object: (root).keras_api.metrics.0.count\n"
     ]
    },
    {
     "name": "stderr",
     "output_type": "stream",
     "text": [
      "WARNING:tensorflow:Value in checkpoint could not be found in the restored object: (root).keras_api.metrics.0.count\n"
     ]
    },
    {
     "name": "stdout",
     "output_type": "stream",
     "text": [
      "WARNING:tensorflow:Value in checkpoint could not be found in the restored object: (root).keras_api.metrics.1.total\n"
     ]
    },
    {
     "name": "stderr",
     "output_type": "stream",
     "text": [
      "WARNING:tensorflow:Value in checkpoint could not be found in the restored object: (root).keras_api.metrics.1.total\n"
     ]
    },
    {
     "name": "stdout",
     "output_type": "stream",
     "text": [
      "WARNING:tensorflow:Value in checkpoint could not be found in the restored object: (root).keras_api.metrics.1.count\n"
     ]
    },
    {
     "name": "stderr",
     "output_type": "stream",
     "text": [
      "WARNING:tensorflow:Value in checkpoint could not be found in the restored object: (root).keras_api.metrics.1.count\n"
     ]
    },
    {
     "name": "stdout",
     "output_type": "stream",
     "text": [
      "WARNING:tensorflow:Detecting that an object or model or tf.train.Checkpoint is being deleted with unrestored values. See the following logs for the specific values in question. To silence these warnings, use `status.expect_partial()`. See https://www.tensorflow.org/api_docs/python/tf/train/Checkpoint#restorefor details about the status object returned by the restore function.\n"
     ]
    },
    {
     "name": "stderr",
     "output_type": "stream",
     "text": [
      "WARNING:tensorflow:Detecting that an object or model or tf.train.Checkpoint is being deleted with unrestored values. See the following logs for the specific values in question. To silence these warnings, use `status.expect_partial()`. See https://www.tensorflow.org/api_docs/python/tf/train/Checkpoint#restorefor details about the status object returned by the restore function.\n"
     ]
    },
    {
     "name": "stdout",
     "output_type": "stream",
     "text": [
      "WARNING:tensorflow:Value in checkpoint could not be found in the restored object: (root).keras_api.metrics.0.total\n"
     ]
    },
    {
     "name": "stderr",
     "output_type": "stream",
     "text": [
      "WARNING:tensorflow:Value in checkpoint could not be found in the restored object: (root).keras_api.metrics.0.total\n"
     ]
    },
    {
     "name": "stdout",
     "output_type": "stream",
     "text": [
      "WARNING:tensorflow:Value in checkpoint could not be found in the restored object: (root).keras_api.metrics.0.count\n"
     ]
    },
    {
     "name": "stderr",
     "output_type": "stream",
     "text": [
      "WARNING:tensorflow:Value in checkpoint could not be found in the restored object: (root).keras_api.metrics.0.count\n"
     ]
    },
    {
     "name": "stdout",
     "output_type": "stream",
     "text": [
      "WARNING:tensorflow:Value in checkpoint could not be found in the restored object: (root).keras_api.metrics.1.total\n"
     ]
    },
    {
     "name": "stderr",
     "output_type": "stream",
     "text": [
      "WARNING:tensorflow:Value in checkpoint could not be found in the restored object: (root).keras_api.metrics.1.total\n"
     ]
    },
    {
     "name": "stdout",
     "output_type": "stream",
     "text": [
      "WARNING:tensorflow:Value in checkpoint could not be found in the restored object: (root).keras_api.metrics.1.count\n"
     ]
    },
    {
     "name": "stderr",
     "output_type": "stream",
     "text": [
      "WARNING:tensorflow:Value in checkpoint could not be found in the restored object: (root).keras_api.metrics.1.count\n"
     ]
    },
    {
     "name": "stdout",
     "output_type": "stream",
     "text": [
      "WARNING:tensorflow:Detecting that an object or model or tf.train.Checkpoint is being deleted with unrestored values. See the following logs for the specific values in question. To silence these warnings, use `status.expect_partial()`. See https://www.tensorflow.org/api_docs/python/tf/train/Checkpoint#restorefor details about the status object returned by the restore function.\n"
     ]
    },
    {
     "name": "stderr",
     "output_type": "stream",
     "text": [
      "WARNING:tensorflow:Detecting that an object or model or tf.train.Checkpoint is being deleted with unrestored values. See the following logs for the specific values in question. To silence these warnings, use `status.expect_partial()`. See https://www.tensorflow.org/api_docs/python/tf/train/Checkpoint#restorefor details about the status object returned by the restore function.\n"
     ]
    },
    {
     "name": "stdout",
     "output_type": "stream",
     "text": [
      "WARNING:tensorflow:Value in checkpoint could not be found in the restored object: (root).keras_api.metrics.0.total\n"
     ]
    },
    {
     "name": "stderr",
     "output_type": "stream",
     "text": [
      "WARNING:tensorflow:Value in checkpoint could not be found in the restored object: (root).keras_api.metrics.0.total\n"
     ]
    },
    {
     "name": "stdout",
     "output_type": "stream",
     "text": [
      "WARNING:tensorflow:Value in checkpoint could not be found in the restored object: (root).keras_api.metrics.0.count\n"
     ]
    },
    {
     "name": "stderr",
     "output_type": "stream",
     "text": [
      "WARNING:tensorflow:Value in checkpoint could not be found in the restored object: (root).keras_api.metrics.0.count\n"
     ]
    },
    {
     "name": "stdout",
     "output_type": "stream",
     "text": [
      "WARNING:tensorflow:Value in checkpoint could not be found in the restored object: (root).keras_api.metrics.1.total\n"
     ]
    },
    {
     "name": "stderr",
     "output_type": "stream",
     "text": [
      "WARNING:tensorflow:Value in checkpoint could not be found in the restored object: (root).keras_api.metrics.1.total\n"
     ]
    },
    {
     "name": "stdout",
     "output_type": "stream",
     "text": [
      "WARNING:tensorflow:Value in checkpoint could not be found in the restored object: (root).keras_api.metrics.1.count\n"
     ]
    },
    {
     "name": "stderr",
     "output_type": "stream",
     "text": [
      "WARNING:tensorflow:Value in checkpoint could not be found in the restored object: (root).keras_api.metrics.1.count\n"
     ]
    },
    {
     "name": "stdout",
     "output_type": "stream",
     "text": [
      "WARNING:tensorflow:Detecting that an object or model or tf.train.Checkpoint is being deleted with unrestored values. See the following logs for the specific values in question. To silence these warnings, use `status.expect_partial()`. See https://www.tensorflow.org/api_docs/python/tf/train/Checkpoint#restorefor details about the status object returned by the restore function.\n"
     ]
    },
    {
     "name": "stderr",
     "output_type": "stream",
     "text": [
      "WARNING:tensorflow:Detecting that an object or model or tf.train.Checkpoint is being deleted with unrestored values. See the following logs for the specific values in question. To silence these warnings, use `status.expect_partial()`. See https://www.tensorflow.org/api_docs/python/tf/train/Checkpoint#restorefor details about the status object returned by the restore function.\n"
     ]
    },
    {
     "name": "stdout",
     "output_type": "stream",
     "text": [
      "WARNING:tensorflow:Value in checkpoint could not be found in the restored object: (root).keras_api.metrics.0.total\n"
     ]
    },
    {
     "name": "stderr",
     "output_type": "stream",
     "text": [
      "WARNING:tensorflow:Value in checkpoint could not be found in the restored object: (root).keras_api.metrics.0.total\n"
     ]
    },
    {
     "name": "stdout",
     "output_type": "stream",
     "text": [
      "WARNING:tensorflow:Value in checkpoint could not be found in the restored object: (root).keras_api.metrics.0.count\n"
     ]
    },
    {
     "name": "stderr",
     "output_type": "stream",
     "text": [
      "WARNING:tensorflow:Value in checkpoint could not be found in the restored object: (root).keras_api.metrics.0.count\n"
     ]
    },
    {
     "name": "stdout",
     "output_type": "stream",
     "text": [
      "WARNING:tensorflow:Value in checkpoint could not be found in the restored object: (root).keras_api.metrics.1.total\n"
     ]
    },
    {
     "name": "stderr",
     "output_type": "stream",
     "text": [
      "WARNING:tensorflow:Value in checkpoint could not be found in the restored object: (root).keras_api.metrics.1.total\n"
     ]
    },
    {
     "name": "stdout",
     "output_type": "stream",
     "text": [
      "WARNING:tensorflow:Value in checkpoint could not be found in the restored object: (root).keras_api.metrics.1.count\n"
     ]
    },
    {
     "name": "stderr",
     "output_type": "stream",
     "text": [
      "WARNING:tensorflow:Value in checkpoint could not be found in the restored object: (root).keras_api.metrics.1.count\n"
     ]
    },
    {
     "name": "stdout",
     "output_type": "stream",
     "text": [
      "WARNING:tensorflow:Detecting that an object or model or tf.train.Checkpoint is being deleted with unrestored values. See the following logs for the specific values in question. To silence these warnings, use `status.expect_partial()`. See https://www.tensorflow.org/api_docs/python/tf/train/Checkpoint#restorefor details about the status object returned by the restore function.\n"
     ]
    },
    {
     "name": "stderr",
     "output_type": "stream",
     "text": [
      "WARNING:tensorflow:Detecting that an object or model or tf.train.Checkpoint is being deleted with unrestored values. See the following logs for the specific values in question. To silence these warnings, use `status.expect_partial()`. See https://www.tensorflow.org/api_docs/python/tf/train/Checkpoint#restorefor details about the status object returned by the restore function.\n"
     ]
    },
    {
     "name": "stdout",
     "output_type": "stream",
     "text": [
      "WARNING:tensorflow:Value in checkpoint could not be found in the restored object: (root).keras_api.metrics.0.total\n"
     ]
    },
    {
     "name": "stderr",
     "output_type": "stream",
     "text": [
      "WARNING:tensorflow:Value in checkpoint could not be found in the restored object: (root).keras_api.metrics.0.total\n"
     ]
    },
    {
     "name": "stdout",
     "output_type": "stream",
     "text": [
      "WARNING:tensorflow:Value in checkpoint could not be found in the restored object: (root).keras_api.metrics.0.count\n"
     ]
    },
    {
     "name": "stderr",
     "output_type": "stream",
     "text": [
      "WARNING:tensorflow:Value in checkpoint could not be found in the restored object: (root).keras_api.metrics.0.count\n"
     ]
    },
    {
     "name": "stdout",
     "output_type": "stream",
     "text": [
      "WARNING:tensorflow:Value in checkpoint could not be found in the restored object: (root).keras_api.metrics.1.total\n"
     ]
    },
    {
     "name": "stderr",
     "output_type": "stream",
     "text": [
      "WARNING:tensorflow:Value in checkpoint could not be found in the restored object: (root).keras_api.metrics.1.total\n"
     ]
    },
    {
     "name": "stdout",
     "output_type": "stream",
     "text": [
      "WARNING:tensorflow:Value in checkpoint could not be found in the restored object: (root).keras_api.metrics.1.count\n"
     ]
    },
    {
     "name": "stderr",
     "output_type": "stream",
     "text": [
      "WARNING:tensorflow:Value in checkpoint could not be found in the restored object: (root).keras_api.metrics.1.count\n"
     ]
    },
    {
     "name": "stdout",
     "output_type": "stream",
     "text": [
      "WARNING:tensorflow:Detecting that an object or model or tf.train.Checkpoint is being deleted with unrestored values. See the following logs for the specific values in question. To silence these warnings, use `status.expect_partial()`. See https://www.tensorflow.org/api_docs/python/tf/train/Checkpoint#restorefor details about the status object returned by the restore function.\n"
     ]
    },
    {
     "name": "stderr",
     "output_type": "stream",
     "text": [
      "WARNING:tensorflow:Detecting that an object or model or tf.train.Checkpoint is being deleted with unrestored values. See the following logs for the specific values in question. To silence these warnings, use `status.expect_partial()`. See https://www.tensorflow.org/api_docs/python/tf/train/Checkpoint#restorefor details about the status object returned by the restore function.\n"
     ]
    },
    {
     "name": "stdout",
     "output_type": "stream",
     "text": [
      "WARNING:tensorflow:Value in checkpoint could not be found in the restored object: (root).keras_api.metrics.0.total\n"
     ]
    },
    {
     "name": "stderr",
     "output_type": "stream",
     "text": [
      "WARNING:tensorflow:Value in checkpoint could not be found in the restored object: (root).keras_api.metrics.0.total\n"
     ]
    },
    {
     "name": "stdout",
     "output_type": "stream",
     "text": [
      "WARNING:tensorflow:Value in checkpoint could not be found in the restored object: (root).keras_api.metrics.0.count\n"
     ]
    },
    {
     "name": "stderr",
     "output_type": "stream",
     "text": [
      "WARNING:tensorflow:Value in checkpoint could not be found in the restored object: (root).keras_api.metrics.0.count\n"
     ]
    },
    {
     "name": "stdout",
     "output_type": "stream",
     "text": [
      "WARNING:tensorflow:Value in checkpoint could not be found in the restored object: (root).keras_api.metrics.1.total\n"
     ]
    },
    {
     "name": "stderr",
     "output_type": "stream",
     "text": [
      "WARNING:tensorflow:Value in checkpoint could not be found in the restored object: (root).keras_api.metrics.1.total\n"
     ]
    },
    {
     "name": "stdout",
     "output_type": "stream",
     "text": [
      "WARNING:tensorflow:Value in checkpoint could not be found in the restored object: (root).keras_api.metrics.1.count\n"
     ]
    },
    {
     "name": "stderr",
     "output_type": "stream",
     "text": [
      "WARNING:tensorflow:Value in checkpoint could not be found in the restored object: (root).keras_api.metrics.1.count\n"
     ]
    },
    {
     "name": "stdout",
     "output_type": "stream",
     "text": [
      "WARNING:tensorflow:Detecting that an object or model or tf.train.Checkpoint is being deleted with unrestored values. See the following logs for the specific values in question. To silence these warnings, use `status.expect_partial()`. See https://www.tensorflow.org/api_docs/python/tf/train/Checkpoint#restorefor details about the status object returned by the restore function.\n"
     ]
    },
    {
     "name": "stderr",
     "output_type": "stream",
     "text": [
      "WARNING:tensorflow:Detecting that an object or model or tf.train.Checkpoint is being deleted with unrestored values. See the following logs for the specific values in question. To silence these warnings, use `status.expect_partial()`. See https://www.tensorflow.org/api_docs/python/tf/train/Checkpoint#restorefor details about the status object returned by the restore function.\n"
     ]
    },
    {
     "name": "stdout",
     "output_type": "stream",
     "text": [
      "WARNING:tensorflow:Value in checkpoint could not be found in the restored object: (root).keras_api.metrics.0.total\n"
     ]
    },
    {
     "name": "stderr",
     "output_type": "stream",
     "text": [
      "WARNING:tensorflow:Value in checkpoint could not be found in the restored object: (root).keras_api.metrics.0.total\n"
     ]
    },
    {
     "name": "stdout",
     "output_type": "stream",
     "text": [
      "WARNING:tensorflow:Value in checkpoint could not be found in the restored object: (root).keras_api.metrics.0.count\n"
     ]
    },
    {
     "name": "stderr",
     "output_type": "stream",
     "text": [
      "WARNING:tensorflow:Value in checkpoint could not be found in the restored object: (root).keras_api.metrics.0.count\n"
     ]
    },
    {
     "name": "stdout",
     "output_type": "stream",
     "text": [
      "WARNING:tensorflow:Value in checkpoint could not be found in the restored object: (root).keras_api.metrics.1.total\n"
     ]
    },
    {
     "name": "stderr",
     "output_type": "stream",
     "text": [
      "WARNING:tensorflow:Value in checkpoint could not be found in the restored object: (root).keras_api.metrics.1.total\n"
     ]
    },
    {
     "name": "stdout",
     "output_type": "stream",
     "text": [
      "WARNING:tensorflow:Value in checkpoint could not be found in the restored object: (root).keras_api.metrics.1.count\n"
     ]
    },
    {
     "name": "stderr",
     "output_type": "stream",
     "text": [
      "WARNING:tensorflow:Value in checkpoint could not be found in the restored object: (root).keras_api.metrics.1.count\n"
     ]
    },
    {
     "name": "stdout",
     "output_type": "stream",
     "text": [
      "WARNING:tensorflow:Detecting that an object or model or tf.train.Checkpoint is being deleted with unrestored values. See the following logs for the specific values in question. To silence these warnings, use `status.expect_partial()`. See https://www.tensorflow.org/api_docs/python/tf/train/Checkpoint#restorefor details about the status object returned by the restore function.\n"
     ]
    },
    {
     "name": "stderr",
     "output_type": "stream",
     "text": [
      "WARNING:tensorflow:Detecting that an object or model or tf.train.Checkpoint is being deleted with unrestored values. See the following logs for the specific values in question. To silence these warnings, use `status.expect_partial()`. See https://www.tensorflow.org/api_docs/python/tf/train/Checkpoint#restorefor details about the status object returned by the restore function.\n"
     ]
    },
    {
     "name": "stdout",
     "output_type": "stream",
     "text": [
      "WARNING:tensorflow:Value in checkpoint could not be found in the restored object: (root).keras_api.metrics.0.total\n"
     ]
    },
    {
     "name": "stderr",
     "output_type": "stream",
     "text": [
      "WARNING:tensorflow:Value in checkpoint could not be found in the restored object: (root).keras_api.metrics.0.total\n"
     ]
    },
    {
     "name": "stdout",
     "output_type": "stream",
     "text": [
      "WARNING:tensorflow:Value in checkpoint could not be found in the restored object: (root).keras_api.metrics.0.count\n"
     ]
    },
    {
     "name": "stderr",
     "output_type": "stream",
     "text": [
      "WARNING:tensorflow:Value in checkpoint could not be found in the restored object: (root).keras_api.metrics.0.count\n"
     ]
    },
    {
     "name": "stdout",
     "output_type": "stream",
     "text": [
      "WARNING:tensorflow:Value in checkpoint could not be found in the restored object: (root).keras_api.metrics.1.total\n"
     ]
    },
    {
     "name": "stderr",
     "output_type": "stream",
     "text": [
      "WARNING:tensorflow:Value in checkpoint could not be found in the restored object: (root).keras_api.metrics.1.total\n"
     ]
    },
    {
     "name": "stdout",
     "output_type": "stream",
     "text": [
      "WARNING:tensorflow:Value in checkpoint could not be found in the restored object: (root).keras_api.metrics.1.count\n"
     ]
    },
    {
     "name": "stderr",
     "output_type": "stream",
     "text": [
      "WARNING:tensorflow:Value in checkpoint could not be found in the restored object: (root).keras_api.metrics.1.count\n"
     ]
    },
    {
     "name": "stdout",
     "output_type": "stream",
     "text": [
      "WARNING:tensorflow:Detecting that an object or model or tf.train.Checkpoint is being deleted with unrestored values. See the following logs for the specific values in question. To silence these warnings, use `status.expect_partial()`. See https://www.tensorflow.org/api_docs/python/tf/train/Checkpoint#restorefor details about the status object returned by the restore function.\n"
     ]
    },
    {
     "name": "stderr",
     "output_type": "stream",
     "text": [
      "WARNING:tensorflow:Detecting that an object or model or tf.train.Checkpoint is being deleted with unrestored values. See the following logs for the specific values in question. To silence these warnings, use `status.expect_partial()`. See https://www.tensorflow.org/api_docs/python/tf/train/Checkpoint#restorefor details about the status object returned by the restore function.\n"
     ]
    },
    {
     "name": "stdout",
     "output_type": "stream",
     "text": [
      "WARNING:tensorflow:Value in checkpoint could not be found in the restored object: (root).keras_api.metrics.0.total\n"
     ]
    },
    {
     "name": "stderr",
     "output_type": "stream",
     "text": [
      "WARNING:tensorflow:Value in checkpoint could not be found in the restored object: (root).keras_api.metrics.0.total\n"
     ]
    },
    {
     "name": "stdout",
     "output_type": "stream",
     "text": [
      "WARNING:tensorflow:Value in checkpoint could not be found in the restored object: (root).keras_api.metrics.0.count\n"
     ]
    },
    {
     "name": "stderr",
     "output_type": "stream",
     "text": [
      "WARNING:tensorflow:Value in checkpoint could not be found in the restored object: (root).keras_api.metrics.0.count\n"
     ]
    },
    {
     "name": "stdout",
     "output_type": "stream",
     "text": [
      "WARNING:tensorflow:Value in checkpoint could not be found in the restored object: (root).keras_api.metrics.1.total\n"
     ]
    },
    {
     "name": "stderr",
     "output_type": "stream",
     "text": [
      "WARNING:tensorflow:Value in checkpoint could not be found in the restored object: (root).keras_api.metrics.1.total\n"
     ]
    },
    {
     "name": "stdout",
     "output_type": "stream",
     "text": [
      "WARNING:tensorflow:Value in checkpoint could not be found in the restored object: (root).keras_api.metrics.1.count\n"
     ]
    },
    {
     "name": "stderr",
     "output_type": "stream",
     "text": [
      "WARNING:tensorflow:Value in checkpoint could not be found in the restored object: (root).keras_api.metrics.1.count\n"
     ]
    },
    {
     "name": "stdout",
     "output_type": "stream",
     "text": [
      "INFO:tensorflow:Assets written to: C:\\Users\\hp\\AppData\\Local\\Temp\\tmp_shcdkkv\\assets\n"
     ]
    },
    {
     "name": "stderr",
     "output_type": "stream",
     "text": [
      "INFO:tensorflow:Assets written to: C:\\Users\\hp\\AppData\\Local\\Temp\\tmp_shcdkkv\\assets\n"
     ]
    },
    {
     "name": "stdout",
     "output_type": "stream",
     "text": [
      "Epoch 1/20\n",
      "240/240 [==============================] - 5s 20ms/step - loss: 0.0362 - accuracy: 0.9879\n",
      "Epoch 2/20\n",
      "240/240 [==============================] - 5s 19ms/step - loss: 0.0301 - accuracy: 0.9906\n",
      "Epoch 3/20\n",
      "240/240 [==============================] - 5s 19ms/step - loss: 0.0265 - accuracy: 0.9914\n",
      "Epoch 4/20\n",
      "240/240 [==============================] - 5s 20ms/step - loss: 0.0217 - accuracy: 0.9929\n",
      "Epoch 5/20\n",
      "240/240 [==============================] - 5s 19ms/step - loss: 0.0190 - accuracy: 0.9940\n",
      "Epoch 6/20\n",
      "240/240 [==============================] - 4s 18ms/step - loss: 0.0161 - accuracy: 0.9947\n",
      "Epoch 7/20\n",
      "240/240 [==============================] - 4s 17ms/step - loss: 0.0151 - accuracy: 0.9948\n",
      "Epoch 8/20\n",
      "240/240 [==============================] - 4s 18ms/step - loss: 0.0135 - accuracy: 0.9955\n",
      "Epoch 9/20\n",
      "240/240 [==============================] - 5s 22ms/step - loss: 0.0148 - accuracy: 0.9951\n",
      "Epoch 10/20\n",
      "240/240 [==============================] - 5s 21ms/step - loss: 0.0111 - accuracy: 0.9961\n",
      "Epoch 11/20\n",
      "240/240 [==============================] - 5s 20ms/step - loss: 0.0099 - accuracy: 0.9964\n",
      "Epoch 12/20\n",
      "240/240 [==============================] - 5s 19ms/step - loss: 0.0097 - accuracy: 0.9966\n",
      "Epoch 13/20\n",
      "240/240 [==============================] - 5s 19ms/step - loss: 0.0094 - accuracy: 0.9968\n",
      "Epoch 14/20\n",
      "240/240 [==============================] - 5s 20ms/step - loss: 0.0085 - accuracy: 0.9973\n",
      "Epoch 15/20\n",
      "240/240 [==============================] - 5s 21ms/step - loss: 0.0075 - accuracy: 0.9975\n",
      "Epoch 16/20\n",
      "240/240 [==============================] - 5s 19ms/step - loss: 0.0063 - accuracy: 0.9978\n",
      "Epoch 17/20\n",
      "240/240 [==============================] - 4s 18ms/step - loss: 0.0076 - accuracy: 0.9974\n",
      "Epoch 18/20\n",
      "240/240 [==============================] - 4s 18ms/step - loss: 0.0066 - accuracy: 0.9979\n",
      "Epoch 19/20\n",
      "240/240 [==============================] - 4s 18ms/step - loss: 0.0062 - accuracy: 0.9980\n",
      "Epoch 20/20\n",
      "240/240 [==============================] - 5s 19ms/step - loss: 0.0066 - accuracy: 0.9977\n",
      "60/60 [==============================] - 0s 6ms/step\n",
      "INFO:tensorflow:Assets written to: C:\\Users\\hp\\AppData\\Local\\Temp\\tmp_0fhar18\\assets\n"
     ]
    },
    {
     "name": "stderr",
     "output_type": "stream",
     "text": [
      "INFO:tensorflow:Assets written to: C:\\Users\\hp\\AppData\\Local\\Temp\\tmp_0fhar18\\assets\n"
     ]
    },
    {
     "name": "stdout",
     "output_type": "stream",
     "text": [
      "Epoch 1/20\n",
      "240/240 [==============================] - 5s 17ms/step - loss: 0.0396 - accuracy: 0.9875\n",
      "Epoch 2/20\n",
      "240/240 [==============================] - 4s 17ms/step - loss: 0.0320 - accuracy: 0.9893\n",
      "Epoch 3/20\n",
      "240/240 [==============================] - 4s 17ms/step - loss: 0.0262 - accuracy: 0.9915\n",
      "Epoch 4/20\n",
      "240/240 [==============================] - 4s 17ms/step - loss: 0.0228 - accuracy: 0.9924\n",
      "Epoch 5/20\n",
      "240/240 [==============================] - 4s 17ms/step - loss: 0.0199 - accuracy: 0.9935\n",
      "Epoch 6/20\n",
      "240/240 [==============================] - 4s 17ms/step - loss: 0.0184 - accuracy: 0.9935\n",
      "Epoch 7/20\n",
      "240/240 [==============================] - 4s 17ms/step - loss: 0.0161 - accuracy: 0.9945\n",
      "Epoch 8/20\n",
      "240/240 [==============================] - 4s 17ms/step - loss: 0.0146 - accuracy: 0.9952\n",
      "Epoch 9/20\n",
      "240/240 [==============================] - 4s 17ms/step - loss: 0.0130 - accuracy: 0.9957\n",
      "Epoch 10/20\n",
      "240/240 [==============================] - 4s 17ms/step - loss: 0.0110 - accuracy: 0.9964\n",
      "Epoch 11/20\n",
      "240/240 [==============================] - 4s 17ms/step - loss: 0.0122 - accuracy: 0.9961\n",
      "Epoch 12/20\n",
      "240/240 [==============================] - 4s 17ms/step - loss: 0.0097 - accuracy: 0.9968\n",
      "Epoch 13/20\n",
      "240/240 [==============================] - 4s 17ms/step - loss: 0.0088 - accuracy: 0.9968\n",
      "Epoch 14/20\n",
      "240/240 [==============================] - 4s 17ms/step - loss: 0.0097 - accuracy: 0.9967\n",
      "Epoch 15/20\n",
      "240/240 [==============================] - 4s 17ms/step - loss: 0.0079 - accuracy: 0.9973\n",
      "Epoch 16/20\n",
      "240/240 [==============================] - 4s 17ms/step - loss: 0.0072 - accuracy: 0.9975\n",
      "Epoch 17/20\n",
      "240/240 [==============================] - 4s 17ms/step - loss: 0.0086 - accuracy: 0.9972\n",
      "Epoch 18/20\n",
      "240/240 [==============================] - 4s 17ms/step - loss: 0.0069 - accuracy: 0.9976\n",
      "Epoch 19/20\n",
      "240/240 [==============================] - 4s 17ms/step - loss: 0.0072 - accuracy: 0.9976\n",
      "Epoch 20/20\n",
      "240/240 [==============================] - 4s 17ms/step - loss: 0.0061 - accuracy: 0.9980\n",
      "60/60 [==============================] - 0s 6ms/step\n",
      "INFO:tensorflow:Assets written to: C:\\Users\\hp\\AppData\\Local\\Temp\\tmplak2tkvc\\assets\n"
     ]
    },
    {
     "name": "stderr",
     "output_type": "stream",
     "text": [
      "INFO:tensorflow:Assets written to: C:\\Users\\hp\\AppData\\Local\\Temp\\tmplak2tkvc\\assets\n"
     ]
    },
    {
     "name": "stdout",
     "output_type": "stream",
     "text": [
      "Epoch 1/5\n",
      "192/192 [==============================] - 4s 20ms/step - loss: 0.0373 - accuracy: 0.9883\n",
      "Epoch 2/5\n",
      "192/192 [==============================] - 4s 19ms/step - loss: 0.0280 - accuracy: 0.9907\n",
      "Epoch 3/5\n",
      "192/192 [==============================] - 4s 19ms/step - loss: 0.0240 - accuracy: 0.9923\n",
      "Epoch 4/5\n",
      "192/192 [==============================] - 4s 19ms/step - loss: 0.0218 - accuracy: 0.9927\n",
      "Epoch 5/5\n",
      "192/192 [==============================] - 4s 20ms/step - loss: 0.0190 - accuracy: 0.9936\n",
      "48/48 [==============================] - 0s 7ms/step\n",
      "INFO:tensorflow:Assets written to: C:\\Users\\hp\\AppData\\Local\\Temp\\tmpdcmqri7t\\assets\n"
     ]
    },
    {
     "name": "stderr",
     "output_type": "stream",
     "text": [
      "INFO:tensorflow:Assets written to: C:\\Users\\hp\\AppData\\Local\\Temp\\tmpdcmqri7t\\assets\n"
     ]
    },
    {
     "name": "stdout",
     "output_type": "stream",
     "text": [
      "Epoch 1/5\n",
      "192/192 [==============================] - 4s 20ms/step - loss: 0.0372 - accuracy: 0.9889\n",
      "Epoch 2/5\n",
      "192/192 [==============================] - 4s 20ms/step - loss: 0.0294 - accuracy: 0.9902\n",
      "Epoch 3/5\n",
      "192/192 [==============================] - 4s 19ms/step - loss: 0.0261 - accuracy: 0.9913\n",
      "Epoch 4/5\n",
      "192/192 [==============================] - 4s 20ms/step - loss: 0.0236 - accuracy: 0.9922\n",
      "Epoch 5/5\n",
      "192/192 [==============================] - 4s 19ms/step - loss: 0.0199 - accuracy: 0.9931\n",
      "48/48 [==============================] - 0s 7ms/step\n",
      "INFO:tensorflow:Assets written to: C:\\Users\\hp\\AppData\\Local\\Temp\\tmpymauuyy4\\assets\n"
     ]
    },
    {
     "name": "stderr",
     "output_type": "stream",
     "text": [
      "INFO:tensorflow:Assets written to: C:\\Users\\hp\\AppData\\Local\\Temp\\tmpymauuyy4\\assets\n"
     ]
    },
    {
     "name": "stdout",
     "output_type": "stream",
     "text": [
      "Epoch 1/5\n",
      "192/192 [==============================] - 4s 20ms/step - loss: 0.0370 - accuracy: 0.9881\n",
      "Epoch 2/5\n",
      "192/192 [==============================] - 4s 20ms/step - loss: 0.0292 - accuracy: 0.9904\n",
      "Epoch 3/5\n",
      "192/192 [==============================] - 4s 20ms/step - loss: 0.0247 - accuracy: 0.9918\n",
      "Epoch 4/5\n",
      "192/192 [==============================] - 4s 20ms/step - loss: 0.0226 - accuracy: 0.9919\n",
      "Epoch 5/5\n",
      "192/192 [==============================] - 4s 20ms/step - loss: 0.0187 - accuracy: 0.9939\n",
      "48/48 [==============================] - 0s 6ms/step\n",
      "INFO:tensorflow:Assets written to: C:\\Users\\hp\\AppData\\Local\\Temp\\tmpwnnvjjd_\\assets\n"
     ]
    },
    {
     "name": "stderr",
     "output_type": "stream",
     "text": [
      "INFO:tensorflow:Assets written to: C:\\Users\\hp\\AppData\\Local\\Temp\\tmpwnnvjjd_\\assets\n"
     ]
    },
    {
     "name": "stdout",
     "output_type": "stream",
     "text": [
      "Epoch 1/5\n",
      "192/192 [==============================] - 4s 20ms/step - loss: 0.0353 - accuracy: 0.9884\n",
      "Epoch 2/5\n",
      "192/192 [==============================] - 4s 20ms/step - loss: 0.0278 - accuracy: 0.9910\n",
      "Epoch 3/5\n",
      "192/192 [==============================] - 4s 20ms/step - loss: 0.0238 - accuracy: 0.9922\n",
      "Epoch 4/5\n",
      "192/192 [==============================] - 4s 20ms/step - loss: 0.0208 - accuracy: 0.9932\n",
      "Epoch 5/5\n",
      "192/192 [==============================] - 4s 20ms/step - loss: 0.0177 - accuracy: 0.9939\n",
      "48/48 [==============================] - 0s 6ms/step\n",
      "INFO:tensorflow:Assets written to: C:\\Users\\hp\\AppData\\Local\\Temp\\tmp10cst8_0\\assets\n"
     ]
    },
    {
     "name": "stderr",
     "output_type": "stream",
     "text": [
      "INFO:tensorflow:Assets written to: C:\\Users\\hp\\AppData\\Local\\Temp\\tmp10cst8_0\\assets\n"
     ]
    },
    {
     "name": "stdout",
     "output_type": "stream",
     "text": [
      "Epoch 1/5\n",
      "192/192 [==============================] - 4s 20ms/step - loss: 0.0363 - accuracy: 0.9884\n",
      "Epoch 2/5\n",
      "192/192 [==============================] - 4s 20ms/step - loss: 0.0302 - accuracy: 0.9901\n",
      "Epoch 3/5\n",
      "192/192 [==============================] - 4s 21ms/step - loss: 0.0240 - accuracy: 0.9914\n",
      "Epoch 4/5\n",
      "192/192 [==============================] - 4s 20ms/step - loss: 0.0230 - accuracy: 0.9925\n",
      "Epoch 5/5\n",
      "192/192 [==============================] - 4s 21ms/step - loss: 0.0173 - accuracy: 0.9942\n",
      "48/48 [==============================] - 0s 7ms/step\n",
      "INFO:tensorflow:Assets written to: C:\\Users\\hp\\AppData\\Local\\Temp\\tmp9uao1xgo\\assets\n"
     ]
    },
    {
     "name": "stderr",
     "output_type": "stream",
     "text": [
      "INFO:tensorflow:Assets written to: C:\\Users\\hp\\AppData\\Local\\Temp\\tmp9uao1xgo\\assets\n"
     ]
    },
    {
     "name": "stdout",
     "output_type": "stream",
     "text": [
      "Epoch 1/10\n",
      "192/192 [==============================] - 4s 20ms/step - loss: 0.0376 - accuracy: 0.9878\n",
      "Epoch 2/10\n",
      "192/192 [==============================] - 4s 21ms/step - loss: 0.0305 - accuracy: 0.9903\n",
      "Epoch 3/10\n",
      "192/192 [==============================] - 4s 20ms/step - loss: 0.0247 - accuracy: 0.9920\n",
      "Epoch 4/10\n",
      "192/192 [==============================] - 4s 20ms/step - loss: 0.0227 - accuracy: 0.9922\n",
      "Epoch 5/10\n",
      "192/192 [==============================] - 4s 19ms/step - loss: 0.0182 - accuracy: 0.9937\n",
      "Epoch 6/10\n",
      "192/192 [==============================] - 4s 19ms/step - loss: 0.0161 - accuracy: 0.9946\n",
      "Epoch 7/10\n",
      "192/192 [==============================] - 4s 19ms/step - loss: 0.0153 - accuracy: 0.9946\n",
      "Epoch 8/10\n",
      "192/192 [==============================] - 4s 20ms/step - loss: 0.0140 - accuracy: 0.9954\n",
      "Epoch 9/10\n",
      "192/192 [==============================] - 4s 20ms/step - loss: 0.0121 - accuracy: 0.9958\n",
      "Epoch 10/10\n",
      "192/192 [==============================] - 4s 19ms/step - loss: 0.0100 - accuracy: 0.9964\n",
      "48/48 [==============================] - 0s 6ms/step\n",
      "INFO:tensorflow:Assets written to: C:\\Users\\hp\\AppData\\Local\\Temp\\tmp_cgv_z6b\\assets\n"
     ]
    },
    {
     "name": "stderr",
     "output_type": "stream",
     "text": [
      "INFO:tensorflow:Assets written to: C:\\Users\\hp\\AppData\\Local\\Temp\\tmp_cgv_z6b\\assets\n"
     ]
    },
    {
     "name": "stdout",
     "output_type": "stream",
     "text": [
      "Epoch 1/10\n",
      "192/192 [==============================] - 5s 22ms/step - loss: 0.0368 - accuracy: 0.9881\n",
      "Epoch 2/10\n",
      "192/192 [==============================] - 5s 24ms/step - loss: 0.0306 - accuracy: 0.9902\n",
      "Epoch 3/10\n",
      "192/192 [==============================] - 4s 23ms/step - loss: 0.0262 - accuracy: 0.9915\n",
      "Epoch 4/10\n",
      "192/192 [==============================] - 4s 22ms/step - loss: 0.0223 - accuracy: 0.9924\n",
      "Epoch 5/10\n",
      "192/192 [==============================] - 4s 22ms/step - loss: 0.0192 - accuracy: 0.9937\n",
      "Epoch 6/10\n",
      "192/192 [==============================] - 4s 23ms/step - loss: 0.0170 - accuracy: 0.9942\n",
      "Epoch 7/10\n",
      "192/192 [==============================] - 4s 22ms/step - loss: 0.0156 - accuracy: 0.9947\n",
      "Epoch 8/10\n",
      "192/192 [==============================] - 4s 22ms/step - loss: 0.0145 - accuracy: 0.9952\n",
      "Epoch 9/10\n",
      "192/192 [==============================] - 4s 22ms/step - loss: 0.0135 - accuracy: 0.9955\n",
      "Epoch 10/10\n",
      "192/192 [==============================] - 4s 22ms/step - loss: 0.0106 - accuracy: 0.9960\n",
      "48/48 [==============================] - 0s 7ms/step\n",
      "INFO:tensorflow:Assets written to: C:\\Users\\hp\\AppData\\Local\\Temp\\tmptpm9c855\\assets\n"
     ]
    },
    {
     "name": "stderr",
     "output_type": "stream",
     "text": [
      "INFO:tensorflow:Assets written to: C:\\Users\\hp\\AppData\\Local\\Temp\\tmptpm9c855\\assets\n"
     ]
    },
    {
     "name": "stdout",
     "output_type": "stream",
     "text": [
      "Epoch 1/10\n",
      "192/192 [==============================] - 5s 22ms/step - loss: 0.0363 - accuracy: 0.9881\n",
      "Epoch 2/10\n",
      "192/192 [==============================] - 4s 23ms/step - loss: 0.0303 - accuracy: 0.9900\n",
      "Epoch 3/10\n",
      "192/192 [==============================] - 4s 22ms/step - loss: 0.0245 - accuracy: 0.9923\n",
      "Epoch 4/10\n",
      "192/192 [==============================] - 4s 22ms/step - loss: 0.0211 - accuracy: 0.9926\n",
      "Epoch 5/10\n",
      "192/192 [==============================] - 4s 23ms/step - loss: 0.0197 - accuracy: 0.9938\n",
      "Epoch 6/10\n",
      "192/192 [==============================] - 4s 20ms/step - loss: 0.0157 - accuracy: 0.9945\n",
      "Epoch 7/10\n",
      "192/192 [==============================] - 4s 21ms/step - loss: 0.0139 - accuracy: 0.9951\n",
      "Epoch 8/10\n",
      "192/192 [==============================] - 4s 22ms/step - loss: 0.0129 - accuracy: 0.9958\n",
      "Epoch 9/10\n",
      "192/192 [==============================] - 5s 24ms/step - loss: 0.0121 - accuracy: 0.9956\n",
      "Epoch 10/10\n",
      "192/192 [==============================] - 5s 25ms/step - loss: 0.0106 - accuracy: 0.9966\n",
      "48/48 [==============================] - 1s 8ms/step\n",
      "INFO:tensorflow:Assets written to: C:\\Users\\hp\\AppData\\Local\\Temp\\tmptxj959gu\\assets\n"
     ]
    },
    {
     "name": "stderr",
     "output_type": "stream",
     "text": [
      "INFO:tensorflow:Assets written to: C:\\Users\\hp\\AppData\\Local\\Temp\\tmptxj959gu\\assets\n"
     ]
    },
    {
     "name": "stdout",
     "output_type": "stream",
     "text": [
      "WARNING:tensorflow:Detecting that an object or model or tf.train.Checkpoint is being deleted with unrestored values. See the following logs for the specific values in question. To silence these warnings, use `status.expect_partial()`. See https://www.tensorflow.org/api_docs/python/tf/train/Checkpoint#restorefor details about the status object returned by the restore function.\n"
     ]
    },
    {
     "name": "stderr",
     "output_type": "stream",
     "text": [
      "WARNING:tensorflow:Detecting that an object or model or tf.train.Checkpoint is being deleted with unrestored values. See the following logs for the specific values in question. To silence these warnings, use `status.expect_partial()`. See https://www.tensorflow.org/api_docs/python/tf/train/Checkpoint#restorefor details about the status object returned by the restore function.\n"
     ]
    },
    {
     "name": "stdout",
     "output_type": "stream",
     "text": [
      "WARNING:tensorflow:Value in checkpoint could not be found in the restored object: (root).keras_api.metrics.0.total\n"
     ]
    },
    {
     "name": "stderr",
     "output_type": "stream",
     "text": [
      "WARNING:tensorflow:Value in checkpoint could not be found in the restored object: (root).keras_api.metrics.0.total\n"
     ]
    },
    {
     "name": "stdout",
     "output_type": "stream",
     "text": [
      "WARNING:tensorflow:Value in checkpoint could not be found in the restored object: (root).keras_api.metrics.0.count\n"
     ]
    },
    {
     "name": "stderr",
     "output_type": "stream",
     "text": [
      "WARNING:tensorflow:Value in checkpoint could not be found in the restored object: (root).keras_api.metrics.0.count\n"
     ]
    },
    {
     "name": "stdout",
     "output_type": "stream",
     "text": [
      "WARNING:tensorflow:Value in checkpoint could not be found in the restored object: (root).keras_api.metrics.1.total\n"
     ]
    },
    {
     "name": "stderr",
     "output_type": "stream",
     "text": [
      "WARNING:tensorflow:Value in checkpoint could not be found in the restored object: (root).keras_api.metrics.1.total\n"
     ]
    },
    {
     "name": "stdout",
     "output_type": "stream",
     "text": [
      "WARNING:tensorflow:Value in checkpoint could not be found in the restored object: (root).keras_api.metrics.1.count\n"
     ]
    },
    {
     "name": "stderr",
     "output_type": "stream",
     "text": [
      "WARNING:tensorflow:Value in checkpoint could not be found in the restored object: (root).keras_api.metrics.1.count\n"
     ]
    },
    {
     "name": "stdout",
     "output_type": "stream",
     "text": [
      "WARNING:tensorflow:Detecting that an object or model or tf.train.Checkpoint is being deleted with unrestored values. See the following logs for the specific values in question. To silence these warnings, use `status.expect_partial()`. See https://www.tensorflow.org/api_docs/python/tf/train/Checkpoint#restorefor details about the status object returned by the restore function.\n"
     ]
    },
    {
     "name": "stderr",
     "output_type": "stream",
     "text": [
      "WARNING:tensorflow:Detecting that an object or model or tf.train.Checkpoint is being deleted with unrestored values. See the following logs for the specific values in question. To silence these warnings, use `status.expect_partial()`. See https://www.tensorflow.org/api_docs/python/tf/train/Checkpoint#restorefor details about the status object returned by the restore function.\n"
     ]
    },
    {
     "name": "stdout",
     "output_type": "stream",
     "text": [
      "WARNING:tensorflow:Value in checkpoint could not be found in the restored object: (root).keras_api.metrics.0.total\n"
     ]
    },
    {
     "name": "stderr",
     "output_type": "stream",
     "text": [
      "WARNING:tensorflow:Value in checkpoint could not be found in the restored object: (root).keras_api.metrics.0.total\n"
     ]
    },
    {
     "name": "stdout",
     "output_type": "stream",
     "text": [
      "WARNING:tensorflow:Value in checkpoint could not be found in the restored object: (root).keras_api.metrics.0.count\n"
     ]
    },
    {
     "name": "stderr",
     "output_type": "stream",
     "text": [
      "WARNING:tensorflow:Value in checkpoint could not be found in the restored object: (root).keras_api.metrics.0.count\n"
     ]
    },
    {
     "name": "stdout",
     "output_type": "stream",
     "text": [
      "WARNING:tensorflow:Value in checkpoint could not be found in the restored object: (root).keras_api.metrics.1.total\n"
     ]
    },
    {
     "name": "stderr",
     "output_type": "stream",
     "text": [
      "WARNING:tensorflow:Value in checkpoint could not be found in the restored object: (root).keras_api.metrics.1.total\n"
     ]
    },
    {
     "name": "stdout",
     "output_type": "stream",
     "text": [
      "WARNING:tensorflow:Value in checkpoint could not be found in the restored object: (root).keras_api.metrics.1.count\n"
     ]
    },
    {
     "name": "stderr",
     "output_type": "stream",
     "text": [
      "WARNING:tensorflow:Value in checkpoint could not be found in the restored object: (root).keras_api.metrics.1.count\n"
     ]
    },
    {
     "name": "stdout",
     "output_type": "stream",
     "text": [
      "WARNING:tensorflow:Detecting that an object or model or tf.train.Checkpoint is being deleted with unrestored values. See the following logs for the specific values in question. To silence these warnings, use `status.expect_partial()`. See https://www.tensorflow.org/api_docs/python/tf/train/Checkpoint#restorefor details about the status object returned by the restore function.\n"
     ]
    },
    {
     "name": "stderr",
     "output_type": "stream",
     "text": [
      "WARNING:tensorflow:Detecting that an object or model or tf.train.Checkpoint is being deleted with unrestored values. See the following logs for the specific values in question. To silence these warnings, use `status.expect_partial()`. See https://www.tensorflow.org/api_docs/python/tf/train/Checkpoint#restorefor details about the status object returned by the restore function.\n"
     ]
    },
    {
     "name": "stdout",
     "output_type": "stream",
     "text": [
      "WARNING:tensorflow:Value in checkpoint could not be found in the restored object: (root).keras_api.metrics.0.total\n"
     ]
    },
    {
     "name": "stderr",
     "output_type": "stream",
     "text": [
      "WARNING:tensorflow:Value in checkpoint could not be found in the restored object: (root).keras_api.metrics.0.total\n"
     ]
    },
    {
     "name": "stdout",
     "output_type": "stream",
     "text": [
      "WARNING:tensorflow:Value in checkpoint could not be found in the restored object: (root).keras_api.metrics.0.count\n"
     ]
    },
    {
     "name": "stderr",
     "output_type": "stream",
     "text": [
      "WARNING:tensorflow:Value in checkpoint could not be found in the restored object: (root).keras_api.metrics.0.count\n"
     ]
    },
    {
     "name": "stdout",
     "output_type": "stream",
     "text": [
      "WARNING:tensorflow:Value in checkpoint could not be found in the restored object: (root).keras_api.metrics.1.total\n"
     ]
    },
    {
     "name": "stderr",
     "output_type": "stream",
     "text": [
      "WARNING:tensorflow:Value in checkpoint could not be found in the restored object: (root).keras_api.metrics.1.total\n"
     ]
    },
    {
     "name": "stdout",
     "output_type": "stream",
     "text": [
      "WARNING:tensorflow:Value in checkpoint could not be found in the restored object: (root).keras_api.metrics.1.count\n"
     ]
    },
    {
     "name": "stderr",
     "output_type": "stream",
     "text": [
      "WARNING:tensorflow:Value in checkpoint could not be found in the restored object: (root).keras_api.metrics.1.count\n"
     ]
    },
    {
     "name": "stdout",
     "output_type": "stream",
     "text": [
      "WARNING:tensorflow:Detecting that an object or model or tf.train.Checkpoint is being deleted with unrestored values. See the following logs for the specific values in question. To silence these warnings, use `status.expect_partial()`. See https://www.tensorflow.org/api_docs/python/tf/train/Checkpoint#restorefor details about the status object returned by the restore function.\n"
     ]
    },
    {
     "name": "stderr",
     "output_type": "stream",
     "text": [
      "WARNING:tensorflow:Detecting that an object or model or tf.train.Checkpoint is being deleted with unrestored values. See the following logs for the specific values in question. To silence these warnings, use `status.expect_partial()`. See https://www.tensorflow.org/api_docs/python/tf/train/Checkpoint#restorefor details about the status object returned by the restore function.\n"
     ]
    },
    {
     "name": "stdout",
     "output_type": "stream",
     "text": [
      "WARNING:tensorflow:Value in checkpoint could not be found in the restored object: (root).keras_api.metrics.0.total\n"
     ]
    },
    {
     "name": "stderr",
     "output_type": "stream",
     "text": [
      "WARNING:tensorflow:Value in checkpoint could not be found in the restored object: (root).keras_api.metrics.0.total\n"
     ]
    },
    {
     "name": "stdout",
     "output_type": "stream",
     "text": [
      "WARNING:tensorflow:Value in checkpoint could not be found in the restored object: (root).keras_api.metrics.0.count\n"
     ]
    },
    {
     "name": "stderr",
     "output_type": "stream",
     "text": [
      "WARNING:tensorflow:Value in checkpoint could not be found in the restored object: (root).keras_api.metrics.0.count\n"
     ]
    },
    {
     "name": "stdout",
     "output_type": "stream",
     "text": [
      "WARNING:tensorflow:Value in checkpoint could not be found in the restored object: (root).keras_api.metrics.1.total\n"
     ]
    },
    {
     "name": "stderr",
     "output_type": "stream",
     "text": [
      "WARNING:tensorflow:Value in checkpoint could not be found in the restored object: (root).keras_api.metrics.1.total\n"
     ]
    },
    {
     "name": "stdout",
     "output_type": "stream",
     "text": [
      "WARNING:tensorflow:Value in checkpoint could not be found in the restored object: (root).keras_api.metrics.1.count\n"
     ]
    },
    {
     "name": "stderr",
     "output_type": "stream",
     "text": [
      "WARNING:tensorflow:Value in checkpoint could not be found in the restored object: (root).keras_api.metrics.1.count\n"
     ]
    },
    {
     "name": "stdout",
     "output_type": "stream",
     "text": [
      "WARNING:tensorflow:Detecting that an object or model or tf.train.Checkpoint is being deleted with unrestored values. See the following logs for the specific values in question. To silence these warnings, use `status.expect_partial()`. See https://www.tensorflow.org/api_docs/python/tf/train/Checkpoint#restorefor details about the status object returned by the restore function.\n"
     ]
    },
    {
     "name": "stderr",
     "output_type": "stream",
     "text": [
      "WARNING:tensorflow:Detecting that an object or model or tf.train.Checkpoint is being deleted with unrestored values. See the following logs for the specific values in question. To silence these warnings, use `status.expect_partial()`. See https://www.tensorflow.org/api_docs/python/tf/train/Checkpoint#restorefor details about the status object returned by the restore function.\n"
     ]
    },
    {
     "name": "stdout",
     "output_type": "stream",
     "text": [
      "WARNING:tensorflow:Value in checkpoint could not be found in the restored object: (root).keras_api.metrics.0.total\n"
     ]
    },
    {
     "name": "stderr",
     "output_type": "stream",
     "text": [
      "WARNING:tensorflow:Value in checkpoint could not be found in the restored object: (root).keras_api.metrics.0.total\n"
     ]
    },
    {
     "name": "stdout",
     "output_type": "stream",
     "text": [
      "WARNING:tensorflow:Value in checkpoint could not be found in the restored object: (root).keras_api.metrics.0.count\n"
     ]
    },
    {
     "name": "stderr",
     "output_type": "stream",
     "text": [
      "WARNING:tensorflow:Value in checkpoint could not be found in the restored object: (root).keras_api.metrics.0.count\n"
     ]
    },
    {
     "name": "stdout",
     "output_type": "stream",
     "text": [
      "WARNING:tensorflow:Value in checkpoint could not be found in the restored object: (root).keras_api.metrics.1.total\n"
     ]
    },
    {
     "name": "stderr",
     "output_type": "stream",
     "text": [
      "WARNING:tensorflow:Value in checkpoint could not be found in the restored object: (root).keras_api.metrics.1.total\n"
     ]
    },
    {
     "name": "stdout",
     "output_type": "stream",
     "text": [
      "WARNING:tensorflow:Value in checkpoint could not be found in the restored object: (root).keras_api.metrics.1.count\n"
     ]
    },
    {
     "name": "stderr",
     "output_type": "stream",
     "text": [
      "WARNING:tensorflow:Value in checkpoint could not be found in the restored object: (root).keras_api.metrics.1.count\n"
     ]
    },
    {
     "name": "stdout",
     "output_type": "stream",
     "text": [
      "WARNING:tensorflow:Detecting that an object or model or tf.train.Checkpoint is being deleted with unrestored values. See the following logs for the specific values in question. To silence these warnings, use `status.expect_partial()`. See https://www.tensorflow.org/api_docs/python/tf/train/Checkpoint#restorefor details about the status object returned by the restore function.\n"
     ]
    },
    {
     "name": "stderr",
     "output_type": "stream",
     "text": [
      "WARNING:tensorflow:Detecting that an object or model or tf.train.Checkpoint is being deleted with unrestored values. See the following logs for the specific values in question. To silence these warnings, use `status.expect_partial()`. See https://www.tensorflow.org/api_docs/python/tf/train/Checkpoint#restorefor details about the status object returned by the restore function.\n"
     ]
    },
    {
     "name": "stdout",
     "output_type": "stream",
     "text": [
      "WARNING:tensorflow:Value in checkpoint could not be found in the restored object: (root).keras_api.metrics.0.total\n"
     ]
    },
    {
     "name": "stderr",
     "output_type": "stream",
     "text": [
      "WARNING:tensorflow:Value in checkpoint could not be found in the restored object: (root).keras_api.metrics.0.total\n"
     ]
    },
    {
     "name": "stdout",
     "output_type": "stream",
     "text": [
      "WARNING:tensorflow:Value in checkpoint could not be found in the restored object: (root).keras_api.metrics.0.count\n"
     ]
    },
    {
     "name": "stderr",
     "output_type": "stream",
     "text": [
      "WARNING:tensorflow:Value in checkpoint could not be found in the restored object: (root).keras_api.metrics.0.count\n"
     ]
    },
    {
     "name": "stdout",
     "output_type": "stream",
     "text": [
      "WARNING:tensorflow:Value in checkpoint could not be found in the restored object: (root).keras_api.metrics.1.total\n"
     ]
    },
    {
     "name": "stderr",
     "output_type": "stream",
     "text": [
      "WARNING:tensorflow:Value in checkpoint could not be found in the restored object: (root).keras_api.metrics.1.total\n"
     ]
    },
    {
     "name": "stdout",
     "output_type": "stream",
     "text": [
      "WARNING:tensorflow:Value in checkpoint could not be found in the restored object: (root).keras_api.metrics.1.count\n"
     ]
    },
    {
     "name": "stderr",
     "output_type": "stream",
     "text": [
      "WARNING:tensorflow:Value in checkpoint could not be found in the restored object: (root).keras_api.metrics.1.count\n"
     ]
    },
    {
     "name": "stdout",
     "output_type": "stream",
     "text": [
      "WARNING:tensorflow:Detecting that an object or model or tf.train.Checkpoint is being deleted with unrestored values. See the following logs for the specific values in question. To silence these warnings, use `status.expect_partial()`. See https://www.tensorflow.org/api_docs/python/tf/train/Checkpoint#restorefor details about the status object returned by the restore function.\n"
     ]
    },
    {
     "name": "stderr",
     "output_type": "stream",
     "text": [
      "WARNING:tensorflow:Detecting that an object or model or tf.train.Checkpoint is being deleted with unrestored values. See the following logs for the specific values in question. To silence these warnings, use `status.expect_partial()`. See https://www.tensorflow.org/api_docs/python/tf/train/Checkpoint#restorefor details about the status object returned by the restore function.\n"
     ]
    },
    {
     "name": "stdout",
     "output_type": "stream",
     "text": [
      "WARNING:tensorflow:Value in checkpoint could not be found in the restored object: (root).keras_api.metrics.0.total\n"
     ]
    },
    {
     "name": "stderr",
     "output_type": "stream",
     "text": [
      "WARNING:tensorflow:Value in checkpoint could not be found in the restored object: (root).keras_api.metrics.0.total\n"
     ]
    },
    {
     "name": "stdout",
     "output_type": "stream",
     "text": [
      "WARNING:tensorflow:Value in checkpoint could not be found in the restored object: (root).keras_api.metrics.0.count\n"
     ]
    },
    {
     "name": "stderr",
     "output_type": "stream",
     "text": [
      "WARNING:tensorflow:Value in checkpoint could not be found in the restored object: (root).keras_api.metrics.0.count\n"
     ]
    },
    {
     "name": "stdout",
     "output_type": "stream",
     "text": [
      "WARNING:tensorflow:Value in checkpoint could not be found in the restored object: (root).keras_api.metrics.1.total\n"
     ]
    },
    {
     "name": "stderr",
     "output_type": "stream",
     "text": [
      "WARNING:tensorflow:Value in checkpoint could not be found in the restored object: (root).keras_api.metrics.1.total\n"
     ]
    },
    {
     "name": "stdout",
     "output_type": "stream",
     "text": [
      "WARNING:tensorflow:Value in checkpoint could not be found in the restored object: (root).keras_api.metrics.1.count\n"
     ]
    },
    {
     "name": "stderr",
     "output_type": "stream",
     "text": [
      "WARNING:tensorflow:Value in checkpoint could not be found in the restored object: (root).keras_api.metrics.1.count\n"
     ]
    },
    {
     "name": "stdout",
     "output_type": "stream",
     "text": [
      "WARNING:tensorflow:Detecting that an object or model or tf.train.Checkpoint is being deleted with unrestored values. See the following logs for the specific values in question. To silence these warnings, use `status.expect_partial()`. See https://www.tensorflow.org/api_docs/python/tf/train/Checkpoint#restorefor details about the status object returned by the restore function.\n"
     ]
    },
    {
     "name": "stderr",
     "output_type": "stream",
     "text": [
      "WARNING:tensorflow:Detecting that an object or model or tf.train.Checkpoint is being deleted with unrestored values. See the following logs for the specific values in question. To silence these warnings, use `status.expect_partial()`. See https://www.tensorflow.org/api_docs/python/tf/train/Checkpoint#restorefor details about the status object returned by the restore function.\n"
     ]
    },
    {
     "name": "stdout",
     "output_type": "stream",
     "text": [
      "WARNING:tensorflow:Value in checkpoint could not be found in the restored object: (root).keras_api.metrics.0.total\n"
     ]
    },
    {
     "name": "stderr",
     "output_type": "stream",
     "text": [
      "WARNING:tensorflow:Value in checkpoint could not be found in the restored object: (root).keras_api.metrics.0.total\n"
     ]
    },
    {
     "name": "stdout",
     "output_type": "stream",
     "text": [
      "WARNING:tensorflow:Value in checkpoint could not be found in the restored object: (root).keras_api.metrics.0.count\n"
     ]
    },
    {
     "name": "stderr",
     "output_type": "stream",
     "text": [
      "WARNING:tensorflow:Value in checkpoint could not be found in the restored object: (root).keras_api.metrics.0.count\n"
     ]
    },
    {
     "name": "stdout",
     "output_type": "stream",
     "text": [
      "WARNING:tensorflow:Value in checkpoint could not be found in the restored object: (root).keras_api.metrics.1.total\n"
     ]
    },
    {
     "name": "stderr",
     "output_type": "stream",
     "text": [
      "WARNING:tensorflow:Value in checkpoint could not be found in the restored object: (root).keras_api.metrics.1.total\n"
     ]
    },
    {
     "name": "stdout",
     "output_type": "stream",
     "text": [
      "WARNING:tensorflow:Value in checkpoint could not be found in the restored object: (root).keras_api.metrics.1.count\n"
     ]
    },
    {
     "name": "stderr",
     "output_type": "stream",
     "text": [
      "WARNING:tensorflow:Value in checkpoint could not be found in the restored object: (root).keras_api.metrics.1.count\n"
     ]
    },
    {
     "name": "stdout",
     "output_type": "stream",
     "text": [
      "WARNING:tensorflow:Detecting that an object or model or tf.train.Checkpoint is being deleted with unrestored values. See the following logs for the specific values in question. To silence these warnings, use `status.expect_partial()`. See https://www.tensorflow.org/api_docs/python/tf/train/Checkpoint#restorefor details about the status object returned by the restore function.\n"
     ]
    },
    {
     "name": "stderr",
     "output_type": "stream",
     "text": [
      "WARNING:tensorflow:Detecting that an object or model or tf.train.Checkpoint is being deleted with unrestored values. See the following logs for the specific values in question. To silence these warnings, use `status.expect_partial()`. See https://www.tensorflow.org/api_docs/python/tf/train/Checkpoint#restorefor details about the status object returned by the restore function.\n"
     ]
    },
    {
     "name": "stdout",
     "output_type": "stream",
     "text": [
      "WARNING:tensorflow:Value in checkpoint could not be found in the restored object: (root).keras_api.metrics.0.total\n"
     ]
    },
    {
     "name": "stderr",
     "output_type": "stream",
     "text": [
      "WARNING:tensorflow:Value in checkpoint could not be found in the restored object: (root).keras_api.metrics.0.total\n"
     ]
    },
    {
     "name": "stdout",
     "output_type": "stream",
     "text": [
      "WARNING:tensorflow:Value in checkpoint could not be found in the restored object: (root).keras_api.metrics.0.count\n"
     ]
    },
    {
     "name": "stderr",
     "output_type": "stream",
     "text": [
      "WARNING:tensorflow:Value in checkpoint could not be found in the restored object: (root).keras_api.metrics.0.count\n"
     ]
    },
    {
     "name": "stdout",
     "output_type": "stream",
     "text": [
      "WARNING:tensorflow:Value in checkpoint could not be found in the restored object: (root).keras_api.metrics.1.total\n"
     ]
    },
    {
     "name": "stderr",
     "output_type": "stream",
     "text": [
      "WARNING:tensorflow:Value in checkpoint could not be found in the restored object: (root).keras_api.metrics.1.total\n"
     ]
    },
    {
     "name": "stdout",
     "output_type": "stream",
     "text": [
      "WARNING:tensorflow:Value in checkpoint could not be found in the restored object: (root).keras_api.metrics.1.count\n"
     ]
    },
    {
     "name": "stderr",
     "output_type": "stream",
     "text": [
      "WARNING:tensorflow:Value in checkpoint could not be found in the restored object: (root).keras_api.metrics.1.count\n"
     ]
    },
    {
     "name": "stdout",
     "output_type": "stream",
     "text": [
      "WARNING:tensorflow:Detecting that an object or model or tf.train.Checkpoint is being deleted with unrestored values. See the following logs for the specific values in question. To silence these warnings, use `status.expect_partial()`. See https://www.tensorflow.org/api_docs/python/tf/train/Checkpoint#restorefor details about the status object returned by the restore function.\n"
     ]
    },
    {
     "name": "stderr",
     "output_type": "stream",
     "text": [
      "WARNING:tensorflow:Detecting that an object or model or tf.train.Checkpoint is being deleted with unrestored values. See the following logs for the specific values in question. To silence these warnings, use `status.expect_partial()`. See https://www.tensorflow.org/api_docs/python/tf/train/Checkpoint#restorefor details about the status object returned by the restore function.\n"
     ]
    },
    {
     "name": "stdout",
     "output_type": "stream",
     "text": [
      "WARNING:tensorflow:Value in checkpoint could not be found in the restored object: (root).keras_api.metrics.0.total\n"
     ]
    },
    {
     "name": "stderr",
     "output_type": "stream",
     "text": [
      "WARNING:tensorflow:Value in checkpoint could not be found in the restored object: (root).keras_api.metrics.0.total\n"
     ]
    },
    {
     "name": "stdout",
     "output_type": "stream",
     "text": [
      "WARNING:tensorflow:Value in checkpoint could not be found in the restored object: (root).keras_api.metrics.0.count\n"
     ]
    },
    {
     "name": "stderr",
     "output_type": "stream",
     "text": [
      "WARNING:tensorflow:Value in checkpoint could not be found in the restored object: (root).keras_api.metrics.0.count\n"
     ]
    },
    {
     "name": "stdout",
     "output_type": "stream",
     "text": [
      "WARNING:tensorflow:Value in checkpoint could not be found in the restored object: (root).keras_api.metrics.1.total\n"
     ]
    },
    {
     "name": "stderr",
     "output_type": "stream",
     "text": [
      "WARNING:tensorflow:Value in checkpoint could not be found in the restored object: (root).keras_api.metrics.1.total\n"
     ]
    },
    {
     "name": "stdout",
     "output_type": "stream",
     "text": [
      "WARNING:tensorflow:Value in checkpoint could not be found in the restored object: (root).keras_api.metrics.1.count\n"
     ]
    },
    {
     "name": "stderr",
     "output_type": "stream",
     "text": [
      "WARNING:tensorflow:Value in checkpoint could not be found in the restored object: (root).keras_api.metrics.1.count\n"
     ]
    },
    {
     "name": "stdout",
     "output_type": "stream",
     "text": [
      "Epoch 1/10\n",
      "192/192 [==============================] - 5s 21ms/step - loss: 0.0350 - accuracy: 0.9884\n",
      "Epoch 2/10\n",
      "192/192 [==============================] - 4s 21ms/step - loss: 0.0275 - accuracy: 0.9913\n",
      "Epoch 3/10\n",
      "192/192 [==============================] - 4s 22ms/step - loss: 0.0222 - accuracy: 0.9928\n",
      "Epoch 4/10\n",
      "192/192 [==============================] - 4s 21ms/step - loss: 0.0209 - accuracy: 0.9931\n",
      "Epoch 5/10\n",
      "192/192 [==============================] - 4s 20ms/step - loss: 0.0180 - accuracy: 0.9939\n",
      "Epoch 6/10\n",
      "192/192 [==============================] - 4s 20ms/step - loss: 0.0154 - accuracy: 0.9950\n",
      "Epoch 7/10\n",
      "192/192 [==============================] - 4s 21ms/step - loss: 0.0142 - accuracy: 0.9953\n",
      "Epoch 8/10\n",
      "192/192 [==============================] - 4s 21ms/step - loss: 0.0132 - accuracy: 0.9956\n",
      "Epoch 9/10\n",
      "192/192 [==============================] - 4s 21ms/step - loss: 0.0121 - accuracy: 0.9959\n",
      "Epoch 10/10\n",
      "192/192 [==============================] - 4s 21ms/step - loss: 0.0108 - accuracy: 0.9965\n",
      "48/48 [==============================] - 0s 7ms/step\n",
      "INFO:tensorflow:Assets written to: C:\\Users\\hp\\AppData\\Local\\Temp\\tmp77hdxhaf\\assets\n"
     ]
    },
    {
     "name": "stderr",
     "output_type": "stream",
     "text": [
      "INFO:tensorflow:Assets written to: C:\\Users\\hp\\AppData\\Local\\Temp\\tmp77hdxhaf\\assets\n"
     ]
    },
    {
     "name": "stdout",
     "output_type": "stream",
     "text": [
      "Epoch 1/10\n",
      "192/192 [==============================] - 4s 19ms/step - loss: 0.0370 - accuracy: 0.9881\n",
      "Epoch 2/10\n",
      "192/192 [==============================] - 4s 19ms/step - loss: 0.0306 - accuracy: 0.9906\n",
      "Epoch 3/10\n",
      "192/192 [==============================] - 4s 19ms/step - loss: 0.0257 - accuracy: 0.9913\n",
      "Epoch 4/10\n",
      "192/192 [==============================] - 4s 19ms/step - loss: 0.0222 - accuracy: 0.9929\n",
      "Epoch 5/10\n",
      "192/192 [==============================] - 4s 19ms/step - loss: 0.0182 - accuracy: 0.9938\n",
      "Epoch 6/10\n",
      "192/192 [==============================] - 4s 19ms/step - loss: 0.0175 - accuracy: 0.9936\n",
      "Epoch 7/10\n",
      "192/192 [==============================] - 4s 19ms/step - loss: 0.0145 - accuracy: 0.9953\n",
      "Epoch 8/10\n",
      "192/192 [==============================] - 4s 19ms/step - loss: 0.0142 - accuracy: 0.9952\n",
      "Epoch 9/10\n",
      "192/192 [==============================] - 4s 19ms/step - loss: 0.0124 - accuracy: 0.9960\n",
      "Epoch 10/10\n",
      "192/192 [==============================] - 4s 19ms/step - loss: 0.0114 - accuracy: 0.9961\n",
      "48/48 [==============================] - 0s 6ms/step\n",
      "INFO:tensorflow:Assets written to: C:\\Users\\hp\\AppData\\Local\\Temp\\tmp6ftmosdu\\assets\n"
     ]
    },
    {
     "name": "stderr",
     "output_type": "stream",
     "text": [
      "INFO:tensorflow:Assets written to: C:\\Users\\hp\\AppData\\Local\\Temp\\tmp6ftmosdu\\assets\n"
     ]
    },
    {
     "name": "stdout",
     "output_type": "stream",
     "text": [
      "Epoch 1/15\n",
      "192/192 [==============================] - 4s 19ms/step - loss: 0.0358 - accuracy: 0.9881\n",
      "Epoch 2/15\n",
      "192/192 [==============================] - 4s 19ms/step - loss: 0.0302 - accuracy: 0.9900\n",
      "Epoch 3/15\n",
      "192/192 [==============================] - 4s 19ms/step - loss: 0.0247 - accuracy: 0.9919\n",
      "Epoch 4/15\n",
      "192/192 [==============================] - 4s 19ms/step - loss: 0.0195 - accuracy: 0.9935\n",
      "Epoch 5/15\n",
      "192/192 [==============================] - 4s 19ms/step - loss: 0.0193 - accuracy: 0.9932\n",
      "Epoch 6/15\n",
      "192/192 [==============================] - 4s 19ms/step - loss: 0.0161 - accuracy: 0.9949\n",
      "Epoch 7/15\n",
      "192/192 [==============================] - 4s 21ms/step - loss: 0.0144 - accuracy: 0.9950\n",
      "Epoch 8/15\n",
      "192/192 [==============================] - 4s 19ms/step - loss: 0.0130 - accuracy: 0.9957\n",
      "Epoch 9/15\n",
      "192/192 [==============================] - 4s 19ms/step - loss: 0.0117 - accuracy: 0.9961\n",
      "Epoch 10/15\n",
      "192/192 [==============================] - 4s 19ms/step - loss: 0.0102 - accuracy: 0.9966\n",
      "Epoch 11/15\n",
      "192/192 [==============================] - 4s 19ms/step - loss: 0.0099 - accuracy: 0.9963\n",
      "Epoch 12/15\n",
      "192/192 [==============================] - 4s 19ms/step - loss: 0.0105 - accuracy: 0.9964\n",
      "Epoch 13/15\n",
      "192/192 [==============================] - 4s 19ms/step - loss: 0.0087 - accuracy: 0.9970\n",
      "Epoch 14/15\n",
      "192/192 [==============================] - 4s 19ms/step - loss: 0.0079 - accuracy: 0.9975\n",
      "Epoch 15/15\n",
      "192/192 [==============================] - 4s 20ms/step - loss: 0.0076 - accuracy: 0.9973\n",
      "48/48 [==============================] - 0s 6ms/step\n",
      "INFO:tensorflow:Assets written to: C:\\Users\\hp\\AppData\\Local\\Temp\\tmpjzizoudw\\assets\n"
     ]
    },
    {
     "name": "stderr",
     "output_type": "stream",
     "text": [
      "INFO:tensorflow:Assets written to: C:\\Users\\hp\\AppData\\Local\\Temp\\tmpjzizoudw\\assets\n"
     ]
    },
    {
     "name": "stdout",
     "output_type": "stream",
     "text": [
      "Epoch 1/15\n",
      "192/192 [==============================] - 4s 19ms/step - loss: 0.0374 - accuracy: 0.9882\n",
      "Epoch 2/15\n",
      "192/192 [==============================] - 4s 19ms/step - loss: 0.0315 - accuracy: 0.9902\n",
      "Epoch 3/15\n",
      "192/192 [==============================] - 4s 19ms/step - loss: 0.0251 - accuracy: 0.9923\n",
      "Epoch 4/15\n",
      "192/192 [==============================] - 4s 19ms/step - loss: 0.0223 - accuracy: 0.9928\n",
      "Epoch 5/15\n",
      "192/192 [==============================] - 4s 19ms/step - loss: 0.0205 - accuracy: 0.9931\n",
      "Epoch 6/15\n",
      "192/192 [==============================] - 4s 19ms/step - loss: 0.0180 - accuracy: 0.9938\n",
      "Epoch 7/15\n",
      "192/192 [==============================] - 4s 19ms/step - loss: 0.0153 - accuracy: 0.9947\n",
      "Epoch 8/15\n",
      "192/192 [==============================] - 4s 19ms/step - loss: 0.0146 - accuracy: 0.9949\n",
      "Epoch 9/15\n",
      "192/192 [==============================] - 4s 19ms/step - loss: 0.0126 - accuracy: 0.9957\n",
      "Epoch 10/15\n",
      "192/192 [==============================] - 4s 19ms/step - loss: 0.0119 - accuracy: 0.9957\n",
      "Epoch 11/15\n",
      "192/192 [==============================] - 4s 19ms/step - loss: 0.0103 - accuracy: 0.9967\n",
      "Epoch 12/15\n",
      "192/192 [==============================] - 4s 19ms/step - loss: 0.0094 - accuracy: 0.9970\n",
      "Epoch 13/15\n",
      "192/192 [==============================] - 4s 19ms/step - loss: 0.0093 - accuracy: 0.9965\n",
      "Epoch 14/15\n",
      "192/192 [==============================] - 4s 19ms/step - loss: 0.0074 - accuracy: 0.9975\n",
      "Epoch 15/15\n",
      "192/192 [==============================] - 4s 19ms/step - loss: 0.0081 - accuracy: 0.9975\n",
      "48/48 [==============================] - 0s 6ms/step\n",
      "INFO:tensorflow:Assets written to: C:\\Users\\hp\\AppData\\Local\\Temp\\tmpudlagdiq\\assets\n"
     ]
    },
    {
     "name": "stderr",
     "output_type": "stream",
     "text": [
      "INFO:tensorflow:Assets written to: C:\\Users\\hp\\AppData\\Local\\Temp\\tmpudlagdiq\\assets\n"
     ]
    },
    {
     "name": "stdout",
     "output_type": "stream",
     "text": [
      "Epoch 1/15\n",
      "192/192 [==============================] - 4s 19ms/step - loss: 0.0365 - accuracy: 0.9881\n",
      "Epoch 2/15\n",
      "192/192 [==============================] - 4s 19ms/step - loss: 0.0312 - accuracy: 0.9899\n",
      "Epoch 3/15\n",
      "192/192 [==============================] - 4s 19ms/step - loss: 0.0261 - accuracy: 0.9910\n",
      "Epoch 4/15\n",
      "192/192 [==============================] - 4s 20ms/step - loss: 0.0222 - accuracy: 0.9922\n",
      "Epoch 5/15\n",
      "192/192 [==============================] - 4s 20ms/step - loss: 0.0188 - accuracy: 0.9937\n",
      "Epoch 6/15\n",
      "192/192 [==============================] - 4s 19ms/step - loss: 0.0179 - accuracy: 0.9940\n",
      "Epoch 7/15\n",
      "192/192 [==============================] - 4s 19ms/step - loss: 0.0146 - accuracy: 0.9950\n",
      "Epoch 8/15\n",
      "192/192 [==============================] - 4s 18ms/step - loss: 0.0135 - accuracy: 0.9955\n",
      "Epoch 9/15\n",
      "192/192 [==============================] - 4s 19ms/step - loss: 0.0125 - accuracy: 0.9961\n",
      "Epoch 10/15\n",
      "192/192 [==============================] - 4s 19ms/step - loss: 0.0116 - accuracy: 0.9958\n",
      "Epoch 11/15\n",
      "192/192 [==============================] - 4s 18ms/step - loss: 0.0107 - accuracy: 0.9963\n",
      "Epoch 12/15\n",
      "192/192 [==============================] - 4s 19ms/step - loss: 0.0109 - accuracy: 0.9965\n",
      "Epoch 13/15\n",
      "192/192 [==============================] - 4s 19ms/step - loss: 0.0083 - accuracy: 0.9975\n",
      "Epoch 14/15\n",
      "192/192 [==============================] - 4s 19ms/step - loss: 0.0082 - accuracy: 0.9971\n",
      "Epoch 15/15\n",
      "192/192 [==============================] - 4s 18ms/step - loss: 0.0083 - accuracy: 0.9972\n",
      "48/48 [==============================] - 0s 6ms/step\n",
      "INFO:tensorflow:Assets written to: C:\\Users\\hp\\AppData\\Local\\Temp\\tmpbsh8ddwo\\assets\n"
     ]
    },
    {
     "name": "stderr",
     "output_type": "stream",
     "text": [
      "INFO:tensorflow:Assets written to: C:\\Users\\hp\\AppData\\Local\\Temp\\tmpbsh8ddwo\\assets\n"
     ]
    },
    {
     "name": "stdout",
     "output_type": "stream",
     "text": [
      "Epoch 1/15\n",
      "192/192 [==============================] - 4s 19ms/step - loss: 0.0362 - accuracy: 0.9881\n",
      "Epoch 2/15\n",
      "192/192 [==============================] - 4s 18ms/step - loss: 0.0278 - accuracy: 0.9908\n",
      "Epoch 3/15\n",
      "192/192 [==============================] - 4s 18ms/step - loss: 0.0248 - accuracy: 0.9918\n",
      "Epoch 4/15\n",
      "192/192 [==============================] - 4s 18ms/step - loss: 0.0198 - accuracy: 0.9936\n",
      "Epoch 5/15\n",
      "192/192 [==============================] - 4s 19ms/step - loss: 0.0180 - accuracy: 0.9941\n",
      "Epoch 6/15\n",
      "192/192 [==============================] - 4s 19ms/step - loss: 0.0152 - accuracy: 0.9948\n",
      "Epoch 7/15\n",
      "192/192 [==============================] - 4s 19ms/step - loss: 0.0144 - accuracy: 0.9952\n",
      "Epoch 8/15\n",
      "192/192 [==============================] - 4s 19ms/step - loss: 0.0125 - accuracy: 0.9958\n",
      "Epoch 9/15\n",
      "192/192 [==============================] - 4s 18ms/step - loss: 0.0114 - accuracy: 0.9958\n",
      "Epoch 10/15\n",
      "192/192 [==============================] - 4s 19ms/step - loss: 0.0108 - accuracy: 0.9962\n",
      "Epoch 11/15\n",
      "192/192 [==============================] - 4s 18ms/step - loss: 0.0112 - accuracy: 0.9961\n",
      "Epoch 12/15\n",
      "192/192 [==============================] - 4s 19ms/step - loss: 0.0095 - accuracy: 0.9967\n",
      "Epoch 13/15\n",
      "192/192 [==============================] - 4s 18ms/step - loss: 0.0075 - accuracy: 0.9975\n",
      "Epoch 14/15\n",
      "192/192 [==============================] - 4s 19ms/step - loss: 0.0067 - accuracy: 0.9977\n",
      "Epoch 15/15\n",
      "192/192 [==============================] - 4s 19ms/step - loss: 0.0075 - accuracy: 0.9974\n",
      "48/48 [==============================] - 0s 6ms/step\n",
      "INFO:tensorflow:Assets written to: C:\\Users\\hp\\AppData\\Local\\Temp\\tmpalwz3s7z\\assets\n"
     ]
    },
    {
     "name": "stderr",
     "output_type": "stream",
     "text": [
      "INFO:tensorflow:Assets written to: C:\\Users\\hp\\AppData\\Local\\Temp\\tmpalwz3s7z\\assets\n"
     ]
    },
    {
     "name": "stdout",
     "output_type": "stream",
     "text": [
      "Epoch 1/15\n",
      "192/192 [==============================] - 4s 19ms/step - loss: 0.0367 - accuracy: 0.9878\n",
      "Epoch 2/15\n",
      "192/192 [==============================] - 4s 18ms/step - loss: 0.0290 - accuracy: 0.9903\n",
      "Epoch 3/15\n",
      "192/192 [==============================] - 4s 18ms/step - loss: 0.0252 - accuracy: 0.9922\n",
      "Epoch 4/15\n",
      "192/192 [==============================] - 4s 18ms/step - loss: 0.0212 - accuracy: 0.9931\n",
      "Epoch 5/15\n",
      "192/192 [==============================] - 4s 18ms/step - loss: 0.0190 - accuracy: 0.9934\n",
      "Epoch 6/15\n",
      "192/192 [==============================] - 4s 18ms/step - loss: 0.0159 - accuracy: 0.9943\n",
      "Epoch 7/15\n",
      "192/192 [==============================] - 4s 18ms/step - loss: 0.0153 - accuracy: 0.9946\n",
      "Epoch 8/15\n",
      "192/192 [==============================] - 4s 18ms/step - loss: 0.0128 - accuracy: 0.9955\n",
      "Epoch 9/15\n",
      "192/192 [==============================] - 4s 18ms/step - loss: 0.0126 - accuracy: 0.9959\n",
      "Epoch 10/15\n",
      "192/192 [==============================] - 4s 18ms/step - loss: 0.0118 - accuracy: 0.9958\n",
      "Epoch 11/15\n",
      "192/192 [==============================] - 4s 18ms/step - loss: 0.0096 - accuracy: 0.9966\n",
      "Epoch 12/15\n",
      "192/192 [==============================] - 4s 18ms/step - loss: 0.0093 - accuracy: 0.9970\n",
      "Epoch 13/15\n",
      "192/192 [==============================] - 4s 18ms/step - loss: 0.0082 - accuracy: 0.9972\n",
      "Epoch 14/15\n",
      "192/192 [==============================] - 4s 18ms/step - loss: 0.0079 - accuracy: 0.9972\n",
      "Epoch 15/15\n",
      "192/192 [==============================] - 4s 18ms/step - loss: 0.0080 - accuracy: 0.9972\n",
      "48/48 [==============================] - 0s 6ms/step\n",
      "INFO:tensorflow:Assets written to: C:\\Users\\hp\\AppData\\Local\\Temp\\tmpwje1u82i\\assets\n"
     ]
    },
    {
     "name": "stderr",
     "output_type": "stream",
     "text": [
      "INFO:tensorflow:Assets written to: C:\\Users\\hp\\AppData\\Local\\Temp\\tmpwje1u82i\\assets\n"
     ]
    },
    {
     "name": "stdout",
     "output_type": "stream",
     "text": [
      "Epoch 1/20\n",
      "192/192 [==============================] - 4s 19ms/step - loss: 0.0358 - accuracy: 0.9884\n",
      "Epoch 2/20\n",
      "192/192 [==============================] - 4s 18ms/step - loss: 0.0302 - accuracy: 0.9909\n",
      "Epoch 3/20\n",
      "192/192 [==============================] - 4s 18ms/step - loss: 0.0252 - accuracy: 0.9914\n",
      "Epoch 4/20\n",
      "192/192 [==============================] - 4s 18ms/step - loss: 0.0210 - accuracy: 0.9933\n",
      "Epoch 5/20\n",
      "192/192 [==============================] - 4s 18ms/step - loss: 0.0197 - accuracy: 0.9929\n",
      "Epoch 6/20\n",
      "192/192 [==============================] - 4s 18ms/step - loss: 0.0167 - accuracy: 0.9946\n",
      "Epoch 7/20\n",
      "192/192 [==============================] - 4s 18ms/step - loss: 0.0141 - accuracy: 0.9952\n",
      "Epoch 8/20\n",
      "192/192 [==============================] - 4s 18ms/step - loss: 0.0141 - accuracy: 0.9952\n",
      "Epoch 9/20\n",
      "192/192 [==============================] - 4s 18ms/step - loss: 0.0122 - accuracy: 0.9958\n",
      "Epoch 10/20\n",
      "192/192 [==============================] - 4s 19ms/step - loss: 0.0107 - accuracy: 0.9965\n",
      "Epoch 11/20\n",
      "192/192 [==============================] - 4s 18ms/step - loss: 0.0100 - accuracy: 0.9968\n",
      "Epoch 12/20\n",
      "192/192 [==============================] - 4s 18ms/step - loss: 0.0098 - accuracy: 0.9970\n",
      "Epoch 13/20\n",
      "192/192 [==============================] - 4s 18ms/step - loss: 0.0100 - accuracy: 0.9968\n",
      "Epoch 14/20\n",
      "192/192 [==============================] - 4s 19ms/step - loss: 0.0076 - accuracy: 0.9975\n",
      "Epoch 15/20\n",
      "192/192 [==============================] - 4s 19ms/step - loss: 0.0079 - accuracy: 0.9973\n",
      "Epoch 16/20\n",
      "192/192 [==============================] - 4s 19ms/step - loss: 0.0061 - accuracy: 0.9978\n",
      "Epoch 17/20\n",
      "192/192 [==============================] - 4s 18ms/step - loss: 0.0070 - accuracy: 0.9977\n",
      "Epoch 18/20\n",
      "192/192 [==============================] - 4s 18ms/step - loss: 0.0064 - accuracy: 0.9977\n",
      "Epoch 19/20\n",
      "192/192 [==============================] - 4s 18ms/step - loss: 0.0059 - accuracy: 0.9981\n",
      "Epoch 20/20\n",
      "192/192 [==============================] - 4s 18ms/step - loss: 0.0054 - accuracy: 0.9982\n",
      "48/48 [==============================] - 0s 6ms/step\n",
      "INFO:tensorflow:Assets written to: C:\\Users\\hp\\AppData\\Local\\Temp\\tmpkc6541ah\\assets\n"
     ]
    },
    {
     "name": "stderr",
     "output_type": "stream",
     "text": [
      "INFO:tensorflow:Assets written to: C:\\Users\\hp\\AppData\\Local\\Temp\\tmpkc6541ah\\assets\n"
     ]
    },
    {
     "name": "stdout",
     "output_type": "stream",
     "text": [
      "Epoch 1/20\n",
      "192/192 [==============================] - 4s 19ms/step - loss: 0.0376 - accuracy: 0.9882\n",
      "Epoch 2/20\n",
      "192/192 [==============================] - 4s 18ms/step - loss: 0.0304 - accuracy: 0.9903\n",
      "Epoch 3/20\n",
      "192/192 [==============================] - 4s 18ms/step - loss: 0.0250 - accuracy: 0.9919\n",
      "Epoch 4/20\n",
      "192/192 [==============================] - 4s 18ms/step - loss: 0.0232 - accuracy: 0.9926\n",
      "Epoch 5/20\n",
      "192/192 [==============================] - 4s 18ms/step - loss: 0.0202 - accuracy: 0.9934\n",
      "Epoch 6/20\n",
      "192/192 [==============================] - 4s 18ms/step - loss: 0.0187 - accuracy: 0.9936\n",
      "Epoch 7/20\n",
      "192/192 [==============================] - 4s 18ms/step - loss: 0.0143 - accuracy: 0.9952\n",
      "Epoch 8/20\n",
      "192/192 [==============================] - 4s 18ms/step - loss: 0.0149 - accuracy: 0.9953\n",
      "Epoch 9/20\n",
      "192/192 [==============================] - 4s 18ms/step - loss: 0.0132 - accuracy: 0.9955\n",
      "Epoch 10/20\n",
      "192/192 [==============================] - 4s 18ms/step - loss: 0.0103 - accuracy: 0.9965\n",
      "Epoch 11/20\n",
      "192/192 [==============================] - 4s 18ms/step - loss: 0.0101 - accuracy: 0.9969\n",
      "Epoch 12/20\n",
      "192/192 [==============================] - 4s 18ms/step - loss: 0.0108 - accuracy: 0.9963\n",
      "Epoch 13/20\n",
      "192/192 [==============================] - 4s 18ms/step - loss: 0.0100 - accuracy: 0.9965\n",
      "Epoch 14/20\n",
      "192/192 [==============================] - 4s 18ms/step - loss: 0.0080 - accuracy: 0.9972\n",
      "Epoch 15/20\n",
      "192/192 [==============================] - 4s 18ms/step - loss: 0.0066 - accuracy: 0.9976\n",
      "Epoch 16/20\n",
      "192/192 [==============================] - 4s 18ms/step - loss: 0.0074 - accuracy: 0.9975\n",
      "Epoch 17/20\n",
      "192/192 [==============================] - 4s 18ms/step - loss: 0.0076 - accuracy: 0.9973\n",
      "Epoch 18/20\n",
      "192/192 [==============================] - 4s 18ms/step - loss: 0.0069 - accuracy: 0.9977\n",
      "Epoch 19/20\n",
      "192/192 [==============================] - 4s 18ms/step - loss: 0.0061 - accuracy: 0.9979\n",
      "Epoch 20/20\n",
      "192/192 [==============================] - 4s 18ms/step - loss: 0.0069 - accuracy: 0.9976\n",
      "48/48 [==============================] - 0s 6ms/step\n",
      "INFO:tensorflow:Assets written to: C:\\Users\\hp\\AppData\\Local\\Temp\\tmp3mk8l4bk\\assets\n"
     ]
    },
    {
     "name": "stderr",
     "output_type": "stream",
     "text": [
      "INFO:tensorflow:Assets written to: C:\\Users\\hp\\AppData\\Local\\Temp\\tmp3mk8l4bk\\assets\n"
     ]
    },
    {
     "name": "stdout",
     "output_type": "stream",
     "text": [
      "Epoch 1/20\n",
      "192/192 [==============================] - 4s 18ms/step - loss: 0.0358 - accuracy: 0.9884\n",
      "Epoch 2/20\n",
      "192/192 [==============================] - 4s 18ms/step - loss: 0.0300 - accuracy: 0.9904\n",
      "Epoch 3/20\n",
      "192/192 [==============================] - 4s 18ms/step - loss: 0.0232 - accuracy: 0.9925\n",
      "Epoch 4/20\n",
      "192/192 [==============================] - 3s 18ms/step - loss: 0.0224 - accuracy: 0.9924\n",
      "Epoch 5/20\n",
      "192/192 [==============================] - 4s 18ms/step - loss: 0.0184 - accuracy: 0.9940\n",
      "Epoch 6/20\n",
      "192/192 [==============================] - 3s 18ms/step - loss: 0.0168 - accuracy: 0.9945\n",
      "Epoch 7/20\n",
      "192/192 [==============================] - 3s 18ms/step - loss: 0.0159 - accuracy: 0.9947\n",
      "Epoch 8/20\n",
      "192/192 [==============================] - 4s 18ms/step - loss: 0.0131 - accuracy: 0.9955\n",
      "Epoch 9/20\n",
      "192/192 [==============================] - 4s 18ms/step - loss: 0.0121 - accuracy: 0.9961\n",
      "Epoch 10/20\n",
      "192/192 [==============================] - 3s 18ms/step - loss: 0.0116 - accuracy: 0.9964\n",
      "Epoch 11/20\n",
      "192/192 [==============================] - 4s 19ms/step - loss: 0.0103 - accuracy: 0.9964\n",
      "Epoch 12/20\n",
      "192/192 [==============================] - 4s 19ms/step - loss: 0.0089 - accuracy: 0.9970\n",
      "Epoch 13/20\n",
      "192/192 [==============================] - 4s 22ms/step - loss: 0.0094 - accuracy: 0.9967\n",
      "Epoch 14/20\n",
      "192/192 [==============================] - 4s 20ms/step - loss: 0.0079 - accuracy: 0.9973\n",
      "Epoch 15/20\n",
      "192/192 [==============================] - 4s 20ms/step - loss: 0.0078 - accuracy: 0.9971\n",
      "Epoch 16/20\n",
      "192/192 [==============================] - 4s 19ms/step - loss: 0.0063 - accuracy: 0.9979\n",
      "Epoch 17/20\n",
      "192/192 [==============================] - 4s 19ms/step - loss: 0.0074 - accuracy: 0.9974\n",
      "Epoch 18/20\n",
      "192/192 [==============================] - 3s 18ms/step - loss: 0.0063 - accuracy: 0.9978\n",
      "Epoch 19/20\n",
      "192/192 [==============================] - 4s 18ms/step - loss: 0.0052 - accuracy: 0.9981\n",
      "Epoch 20/20\n",
      "192/192 [==============================] - 3s 18ms/step - loss: 0.0056 - accuracy: 0.9980\n",
      "48/48 [==============================] - 0s 6ms/step\n",
      "INFO:tensorflow:Assets written to: C:\\Users\\hp\\AppData\\Local\\Temp\\tmpb0fokq59\\assets\n"
     ]
    },
    {
     "name": "stderr",
     "output_type": "stream",
     "text": [
      "INFO:tensorflow:Assets written to: C:\\Users\\hp\\AppData\\Local\\Temp\\tmpb0fokq59\\assets\n"
     ]
    },
    {
     "name": "stdout",
     "output_type": "stream",
     "text": [
      "Epoch 1/20\n",
      "192/192 [==============================] - 4s 20ms/step - loss: 0.0344 - accuracy: 0.9888\n",
      "Epoch 2/20\n",
      "192/192 [==============================] - 4s 19ms/step - loss: 0.0285 - accuracy: 0.9906\n",
      "Epoch 3/20\n",
      "192/192 [==============================] - 4s 19ms/step - loss: 0.0246 - accuracy: 0.9916\n",
      "Epoch 4/20\n",
      "192/192 [==============================] - 4s 18ms/step - loss: 0.0197 - accuracy: 0.9937\n",
      "Epoch 5/20\n",
      "192/192 [==============================] - 4s 18ms/step - loss: 0.0179 - accuracy: 0.9942\n",
      "Epoch 6/20\n",
      "192/192 [==============================] - 4s 18ms/step - loss: 0.0151 - accuracy: 0.9950\n",
      "Epoch 7/20\n",
      "192/192 [==============================] - 3s 18ms/step - loss: 0.0144 - accuracy: 0.9952\n",
      "Epoch 8/20\n",
      "192/192 [==============================] - 4s 18ms/step - loss: 0.0129 - accuracy: 0.9955\n",
      "Epoch 9/20\n",
      "192/192 [==============================] - 3s 18ms/step - loss: 0.0120 - accuracy: 0.9963\n",
      "Epoch 10/20\n",
      "192/192 [==============================] - 4s 18ms/step - loss: 0.0099 - accuracy: 0.9967\n",
      "Epoch 11/20\n",
      "192/192 [==============================] - 3s 18ms/step - loss: 0.0110 - accuracy: 0.9963\n",
      "Epoch 12/20\n",
      "192/192 [==============================] - 4s 18ms/step - loss: 0.0090 - accuracy: 0.9971\n",
      "Epoch 13/20\n",
      "192/192 [==============================] - 4s 18ms/step - loss: 0.0081 - accuracy: 0.9972\n",
      "Epoch 14/20\n",
      "192/192 [==============================] - 4s 19ms/step - loss: 0.0076 - accuracy: 0.9972\n",
      "Epoch 15/20\n",
      "192/192 [==============================] - 4s 18ms/step - loss: 0.0075 - accuracy: 0.9974\n",
      "Epoch 16/20\n",
      "192/192 [==============================] - 4s 18ms/step - loss: 0.0061 - accuracy: 0.9978\n",
      "Epoch 17/20\n",
      "192/192 [==============================] - 4s 18ms/step - loss: 0.0055 - accuracy: 0.9984\n",
      "Epoch 18/20\n",
      "192/192 [==============================] - 4s 18ms/step - loss: 0.0054 - accuracy: 0.9981\n",
      "Epoch 19/20\n",
      "192/192 [==============================] - 4s 18ms/step - loss: 0.0063 - accuracy: 0.9978\n",
      "Epoch 20/20\n",
      "192/192 [==============================] - 4s 18ms/step - loss: 0.0047 - accuracy: 0.9985\n",
      "48/48 [==============================] - 0s 6ms/step\n",
      "WARNING:tensorflow:Detecting that an object or model or tf.train.Checkpoint is being deleted with unrestored values. See the following logs for the specific values in question. To silence these warnings, use `status.expect_partial()`. See https://www.tensorflow.org/api_docs/python/tf/train/Checkpoint#restorefor details about the status object returned by the restore function.\n"
     ]
    },
    {
     "name": "stderr",
     "output_type": "stream",
     "text": [
      "WARNING:tensorflow:Detecting that an object or model or tf.train.Checkpoint is being deleted with unrestored values. See the following logs for the specific values in question. To silence these warnings, use `status.expect_partial()`. See https://www.tensorflow.org/api_docs/python/tf/train/Checkpoint#restorefor details about the status object returned by the restore function.\n"
     ]
    },
    {
     "name": "stdout",
     "output_type": "stream",
     "text": [
      "WARNING:tensorflow:Value in checkpoint could not be found in the restored object: (root).keras_api.metrics.0.total\n"
     ]
    },
    {
     "name": "stderr",
     "output_type": "stream",
     "text": [
      "WARNING:tensorflow:Value in checkpoint could not be found in the restored object: (root).keras_api.metrics.0.total\n"
     ]
    },
    {
     "name": "stdout",
     "output_type": "stream",
     "text": [
      "WARNING:tensorflow:Value in checkpoint could not be found in the restored object: (root).keras_api.metrics.0.count\n"
     ]
    },
    {
     "name": "stderr",
     "output_type": "stream",
     "text": [
      "WARNING:tensorflow:Value in checkpoint could not be found in the restored object: (root).keras_api.metrics.0.count\n"
     ]
    },
    {
     "name": "stdout",
     "output_type": "stream",
     "text": [
      "WARNING:tensorflow:Value in checkpoint could not be found in the restored object: (root).keras_api.metrics.1.total\n"
     ]
    },
    {
     "name": "stderr",
     "output_type": "stream",
     "text": [
      "WARNING:tensorflow:Value in checkpoint could not be found in the restored object: (root).keras_api.metrics.1.total\n"
     ]
    },
    {
     "name": "stdout",
     "output_type": "stream",
     "text": [
      "WARNING:tensorflow:Value in checkpoint could not be found in the restored object: (root).keras_api.metrics.1.count\n"
     ]
    },
    {
     "name": "stderr",
     "output_type": "stream",
     "text": [
      "WARNING:tensorflow:Value in checkpoint could not be found in the restored object: (root).keras_api.metrics.1.count\n"
     ]
    },
    {
     "name": "stdout",
     "output_type": "stream",
     "text": [
      "WARNING:tensorflow:Detecting that an object or model or tf.train.Checkpoint is being deleted with unrestored values. See the following logs for the specific values in question. To silence these warnings, use `status.expect_partial()`. See https://www.tensorflow.org/api_docs/python/tf/train/Checkpoint#restorefor details about the status object returned by the restore function.\n"
     ]
    },
    {
     "name": "stderr",
     "output_type": "stream",
     "text": [
      "WARNING:tensorflow:Detecting that an object or model or tf.train.Checkpoint is being deleted with unrestored values. See the following logs for the specific values in question. To silence these warnings, use `status.expect_partial()`. See https://www.tensorflow.org/api_docs/python/tf/train/Checkpoint#restorefor details about the status object returned by the restore function.\n"
     ]
    },
    {
     "name": "stdout",
     "output_type": "stream",
     "text": [
      "WARNING:tensorflow:Value in checkpoint could not be found in the restored object: (root).keras_api.metrics.0.total\n"
     ]
    },
    {
     "name": "stderr",
     "output_type": "stream",
     "text": [
      "WARNING:tensorflow:Value in checkpoint could not be found in the restored object: (root).keras_api.metrics.0.total\n"
     ]
    },
    {
     "name": "stdout",
     "output_type": "stream",
     "text": [
      "WARNING:tensorflow:Value in checkpoint could not be found in the restored object: (root).keras_api.metrics.0.count\n"
     ]
    },
    {
     "name": "stderr",
     "output_type": "stream",
     "text": [
      "WARNING:tensorflow:Value in checkpoint could not be found in the restored object: (root).keras_api.metrics.0.count\n"
     ]
    },
    {
     "name": "stdout",
     "output_type": "stream",
     "text": [
      "WARNING:tensorflow:Value in checkpoint could not be found in the restored object: (root).keras_api.metrics.1.total\n"
     ]
    },
    {
     "name": "stderr",
     "output_type": "stream",
     "text": [
      "WARNING:tensorflow:Value in checkpoint could not be found in the restored object: (root).keras_api.metrics.1.total\n"
     ]
    },
    {
     "name": "stdout",
     "output_type": "stream",
     "text": [
      "WARNING:tensorflow:Value in checkpoint could not be found in the restored object: (root).keras_api.metrics.1.count\n"
     ]
    },
    {
     "name": "stderr",
     "output_type": "stream",
     "text": [
      "WARNING:tensorflow:Value in checkpoint could not be found in the restored object: (root).keras_api.metrics.1.count\n"
     ]
    },
    {
     "name": "stdout",
     "output_type": "stream",
     "text": [
      "WARNING:tensorflow:Detecting that an object or model or tf.train.Checkpoint is being deleted with unrestored values. See the following logs for the specific values in question. To silence these warnings, use `status.expect_partial()`. See https://www.tensorflow.org/api_docs/python/tf/train/Checkpoint#restorefor details about the status object returned by the restore function.\n"
     ]
    },
    {
     "name": "stderr",
     "output_type": "stream",
     "text": [
      "WARNING:tensorflow:Detecting that an object or model or tf.train.Checkpoint is being deleted with unrestored values. See the following logs for the specific values in question. To silence these warnings, use `status.expect_partial()`. See https://www.tensorflow.org/api_docs/python/tf/train/Checkpoint#restorefor details about the status object returned by the restore function.\n"
     ]
    },
    {
     "name": "stdout",
     "output_type": "stream",
     "text": [
      "WARNING:tensorflow:Value in checkpoint could not be found in the restored object: (root).keras_api.metrics.0.total\n"
     ]
    },
    {
     "name": "stderr",
     "output_type": "stream",
     "text": [
      "WARNING:tensorflow:Value in checkpoint could not be found in the restored object: (root).keras_api.metrics.0.total\n"
     ]
    },
    {
     "name": "stdout",
     "output_type": "stream",
     "text": [
      "WARNING:tensorflow:Value in checkpoint could not be found in the restored object: (root).keras_api.metrics.0.count\n"
     ]
    },
    {
     "name": "stderr",
     "output_type": "stream",
     "text": [
      "WARNING:tensorflow:Value in checkpoint could not be found in the restored object: (root).keras_api.metrics.0.count\n"
     ]
    },
    {
     "name": "stdout",
     "output_type": "stream",
     "text": [
      "WARNING:tensorflow:Value in checkpoint could not be found in the restored object: (root).keras_api.metrics.1.total\n"
     ]
    },
    {
     "name": "stderr",
     "output_type": "stream",
     "text": [
      "WARNING:tensorflow:Value in checkpoint could not be found in the restored object: (root).keras_api.metrics.1.total\n"
     ]
    },
    {
     "name": "stdout",
     "output_type": "stream",
     "text": [
      "WARNING:tensorflow:Value in checkpoint could not be found in the restored object: (root).keras_api.metrics.1.count\n"
     ]
    },
    {
     "name": "stderr",
     "output_type": "stream",
     "text": [
      "WARNING:tensorflow:Value in checkpoint could not be found in the restored object: (root).keras_api.metrics.1.count\n"
     ]
    },
    {
     "name": "stdout",
     "output_type": "stream",
     "text": [
      "WARNING:tensorflow:Detecting that an object or model or tf.train.Checkpoint is being deleted with unrestored values. See the following logs for the specific values in question. To silence these warnings, use `status.expect_partial()`. See https://www.tensorflow.org/api_docs/python/tf/train/Checkpoint#restorefor details about the status object returned by the restore function.\n"
     ]
    },
    {
     "name": "stderr",
     "output_type": "stream",
     "text": [
      "WARNING:tensorflow:Detecting that an object or model or tf.train.Checkpoint is being deleted with unrestored values. See the following logs for the specific values in question. To silence these warnings, use `status.expect_partial()`. See https://www.tensorflow.org/api_docs/python/tf/train/Checkpoint#restorefor details about the status object returned by the restore function.\n"
     ]
    },
    {
     "name": "stdout",
     "output_type": "stream",
     "text": [
      "WARNING:tensorflow:Value in checkpoint could not be found in the restored object: (root).keras_api.metrics.0.total\n"
     ]
    },
    {
     "name": "stderr",
     "output_type": "stream",
     "text": [
      "WARNING:tensorflow:Value in checkpoint could not be found in the restored object: (root).keras_api.metrics.0.total\n"
     ]
    },
    {
     "name": "stdout",
     "output_type": "stream",
     "text": [
      "WARNING:tensorflow:Value in checkpoint could not be found in the restored object: (root).keras_api.metrics.0.count\n"
     ]
    },
    {
     "name": "stderr",
     "output_type": "stream",
     "text": [
      "WARNING:tensorflow:Value in checkpoint could not be found in the restored object: (root).keras_api.metrics.0.count\n"
     ]
    },
    {
     "name": "stdout",
     "output_type": "stream",
     "text": [
      "WARNING:tensorflow:Value in checkpoint could not be found in the restored object: (root).keras_api.metrics.1.total\n"
     ]
    },
    {
     "name": "stderr",
     "output_type": "stream",
     "text": [
      "WARNING:tensorflow:Value in checkpoint could not be found in the restored object: (root).keras_api.metrics.1.total\n"
     ]
    },
    {
     "name": "stdout",
     "output_type": "stream",
     "text": [
      "WARNING:tensorflow:Value in checkpoint could not be found in the restored object: (root).keras_api.metrics.1.count\n"
     ]
    },
    {
     "name": "stderr",
     "output_type": "stream",
     "text": [
      "WARNING:tensorflow:Value in checkpoint could not be found in the restored object: (root).keras_api.metrics.1.count\n"
     ]
    },
    {
     "name": "stdout",
     "output_type": "stream",
     "text": [
      "WARNING:tensorflow:Detecting that an object or model or tf.train.Checkpoint is being deleted with unrestored values. See the following logs for the specific values in question. To silence these warnings, use `status.expect_partial()`. See https://www.tensorflow.org/api_docs/python/tf/train/Checkpoint#restorefor details about the status object returned by the restore function.\n"
     ]
    },
    {
     "name": "stderr",
     "output_type": "stream",
     "text": [
      "WARNING:tensorflow:Detecting that an object or model or tf.train.Checkpoint is being deleted with unrestored values. See the following logs for the specific values in question. To silence these warnings, use `status.expect_partial()`. See https://www.tensorflow.org/api_docs/python/tf/train/Checkpoint#restorefor details about the status object returned by the restore function.\n"
     ]
    },
    {
     "name": "stdout",
     "output_type": "stream",
     "text": [
      "WARNING:tensorflow:Value in checkpoint could not be found in the restored object: (root).keras_api.metrics.0.total\n"
     ]
    },
    {
     "name": "stderr",
     "output_type": "stream",
     "text": [
      "WARNING:tensorflow:Value in checkpoint could not be found in the restored object: (root).keras_api.metrics.0.total\n"
     ]
    },
    {
     "name": "stdout",
     "output_type": "stream",
     "text": [
      "WARNING:tensorflow:Value in checkpoint could not be found in the restored object: (root).keras_api.metrics.0.count\n"
     ]
    },
    {
     "name": "stderr",
     "output_type": "stream",
     "text": [
      "WARNING:tensorflow:Value in checkpoint could not be found in the restored object: (root).keras_api.metrics.0.count\n"
     ]
    },
    {
     "name": "stdout",
     "output_type": "stream",
     "text": [
      "WARNING:tensorflow:Value in checkpoint could not be found in the restored object: (root).keras_api.metrics.1.total\n"
     ]
    },
    {
     "name": "stderr",
     "output_type": "stream",
     "text": [
      "WARNING:tensorflow:Value in checkpoint could not be found in the restored object: (root).keras_api.metrics.1.total\n"
     ]
    },
    {
     "name": "stdout",
     "output_type": "stream",
     "text": [
      "WARNING:tensorflow:Value in checkpoint could not be found in the restored object: (root).keras_api.metrics.1.count\n"
     ]
    },
    {
     "name": "stderr",
     "output_type": "stream",
     "text": [
      "WARNING:tensorflow:Value in checkpoint could not be found in the restored object: (root).keras_api.metrics.1.count\n"
     ]
    },
    {
     "name": "stdout",
     "output_type": "stream",
     "text": [
      "WARNING:tensorflow:Detecting that an object or model or tf.train.Checkpoint is being deleted with unrestored values. See the following logs for the specific values in question. To silence these warnings, use `status.expect_partial()`. See https://www.tensorflow.org/api_docs/python/tf/train/Checkpoint#restorefor details about the status object returned by the restore function.\n"
     ]
    },
    {
     "name": "stderr",
     "output_type": "stream",
     "text": [
      "WARNING:tensorflow:Detecting that an object or model or tf.train.Checkpoint is being deleted with unrestored values. See the following logs for the specific values in question. To silence these warnings, use `status.expect_partial()`. See https://www.tensorflow.org/api_docs/python/tf/train/Checkpoint#restorefor details about the status object returned by the restore function.\n"
     ]
    },
    {
     "name": "stdout",
     "output_type": "stream",
     "text": [
      "WARNING:tensorflow:Value in checkpoint could not be found in the restored object: (root).keras_api.metrics.0.total\n"
     ]
    },
    {
     "name": "stderr",
     "output_type": "stream",
     "text": [
      "WARNING:tensorflow:Value in checkpoint could not be found in the restored object: (root).keras_api.metrics.0.total\n"
     ]
    },
    {
     "name": "stdout",
     "output_type": "stream",
     "text": [
      "WARNING:tensorflow:Value in checkpoint could not be found in the restored object: (root).keras_api.metrics.0.count\n"
     ]
    },
    {
     "name": "stderr",
     "output_type": "stream",
     "text": [
      "WARNING:tensorflow:Value in checkpoint could not be found in the restored object: (root).keras_api.metrics.0.count\n"
     ]
    },
    {
     "name": "stdout",
     "output_type": "stream",
     "text": [
      "WARNING:tensorflow:Value in checkpoint could not be found in the restored object: (root).keras_api.metrics.1.total\n"
     ]
    },
    {
     "name": "stderr",
     "output_type": "stream",
     "text": [
      "WARNING:tensorflow:Value in checkpoint could not be found in the restored object: (root).keras_api.metrics.1.total\n"
     ]
    },
    {
     "name": "stdout",
     "output_type": "stream",
     "text": [
      "WARNING:tensorflow:Value in checkpoint could not be found in the restored object: (root).keras_api.metrics.1.count\n"
     ]
    },
    {
     "name": "stderr",
     "output_type": "stream",
     "text": [
      "WARNING:tensorflow:Value in checkpoint could not be found in the restored object: (root).keras_api.metrics.1.count\n"
     ]
    },
    {
     "name": "stdout",
     "output_type": "stream",
     "text": [
      "WARNING:tensorflow:Detecting that an object or model or tf.train.Checkpoint is being deleted with unrestored values. See the following logs for the specific values in question. To silence these warnings, use `status.expect_partial()`. See https://www.tensorflow.org/api_docs/python/tf/train/Checkpoint#restorefor details about the status object returned by the restore function.\n"
     ]
    },
    {
     "name": "stderr",
     "output_type": "stream",
     "text": [
      "WARNING:tensorflow:Detecting that an object or model or tf.train.Checkpoint is being deleted with unrestored values. See the following logs for the specific values in question. To silence these warnings, use `status.expect_partial()`. See https://www.tensorflow.org/api_docs/python/tf/train/Checkpoint#restorefor details about the status object returned by the restore function.\n"
     ]
    },
    {
     "name": "stdout",
     "output_type": "stream",
     "text": [
      "WARNING:tensorflow:Value in checkpoint could not be found in the restored object: (root).keras_api.metrics.0.total\n"
     ]
    },
    {
     "name": "stderr",
     "output_type": "stream",
     "text": [
      "WARNING:tensorflow:Value in checkpoint could not be found in the restored object: (root).keras_api.metrics.0.total\n"
     ]
    },
    {
     "name": "stdout",
     "output_type": "stream",
     "text": [
      "WARNING:tensorflow:Value in checkpoint could not be found in the restored object: (root).keras_api.metrics.0.count\n"
     ]
    },
    {
     "name": "stderr",
     "output_type": "stream",
     "text": [
      "WARNING:tensorflow:Value in checkpoint could not be found in the restored object: (root).keras_api.metrics.0.count\n"
     ]
    },
    {
     "name": "stdout",
     "output_type": "stream",
     "text": [
      "WARNING:tensorflow:Value in checkpoint could not be found in the restored object: (root).keras_api.metrics.1.total\n"
     ]
    },
    {
     "name": "stderr",
     "output_type": "stream",
     "text": [
      "WARNING:tensorflow:Value in checkpoint could not be found in the restored object: (root).keras_api.metrics.1.total\n"
     ]
    },
    {
     "name": "stdout",
     "output_type": "stream",
     "text": [
      "WARNING:tensorflow:Value in checkpoint could not be found in the restored object: (root).keras_api.metrics.1.count\n"
     ]
    },
    {
     "name": "stderr",
     "output_type": "stream",
     "text": [
      "WARNING:tensorflow:Value in checkpoint could not be found in the restored object: (root).keras_api.metrics.1.count\n"
     ]
    },
    {
     "name": "stdout",
     "output_type": "stream",
     "text": [
      "WARNING:tensorflow:Detecting that an object or model or tf.train.Checkpoint is being deleted with unrestored values. See the following logs for the specific values in question. To silence these warnings, use `status.expect_partial()`. See https://www.tensorflow.org/api_docs/python/tf/train/Checkpoint#restorefor details about the status object returned by the restore function.\n"
     ]
    },
    {
     "name": "stderr",
     "output_type": "stream",
     "text": [
      "WARNING:tensorflow:Detecting that an object or model or tf.train.Checkpoint is being deleted with unrestored values. See the following logs for the specific values in question. To silence these warnings, use `status.expect_partial()`. See https://www.tensorflow.org/api_docs/python/tf/train/Checkpoint#restorefor details about the status object returned by the restore function.\n"
     ]
    },
    {
     "name": "stdout",
     "output_type": "stream",
     "text": [
      "WARNING:tensorflow:Value in checkpoint could not be found in the restored object: (root).keras_api.metrics.0.total\n"
     ]
    },
    {
     "name": "stderr",
     "output_type": "stream",
     "text": [
      "WARNING:tensorflow:Value in checkpoint could not be found in the restored object: (root).keras_api.metrics.0.total\n"
     ]
    },
    {
     "name": "stdout",
     "output_type": "stream",
     "text": [
      "WARNING:tensorflow:Value in checkpoint could not be found in the restored object: (root).keras_api.metrics.0.count\n"
     ]
    },
    {
     "name": "stderr",
     "output_type": "stream",
     "text": [
      "WARNING:tensorflow:Value in checkpoint could not be found in the restored object: (root).keras_api.metrics.0.count\n"
     ]
    },
    {
     "name": "stdout",
     "output_type": "stream",
     "text": [
      "WARNING:tensorflow:Value in checkpoint could not be found in the restored object: (root).keras_api.metrics.1.total\n"
     ]
    },
    {
     "name": "stderr",
     "output_type": "stream",
     "text": [
      "WARNING:tensorflow:Value in checkpoint could not be found in the restored object: (root).keras_api.metrics.1.total\n"
     ]
    },
    {
     "name": "stdout",
     "output_type": "stream",
     "text": [
      "WARNING:tensorflow:Value in checkpoint could not be found in the restored object: (root).keras_api.metrics.1.count\n"
     ]
    },
    {
     "name": "stderr",
     "output_type": "stream",
     "text": [
      "WARNING:tensorflow:Value in checkpoint could not be found in the restored object: (root).keras_api.metrics.1.count\n"
     ]
    },
    {
     "name": "stdout",
     "output_type": "stream",
     "text": [
      "WARNING:tensorflow:Detecting that an object or model or tf.train.Checkpoint is being deleted with unrestored values. See the following logs for the specific values in question. To silence these warnings, use `status.expect_partial()`. See https://www.tensorflow.org/api_docs/python/tf/train/Checkpoint#restorefor details about the status object returned by the restore function.\n"
     ]
    },
    {
     "name": "stderr",
     "output_type": "stream",
     "text": [
      "WARNING:tensorflow:Detecting that an object or model or tf.train.Checkpoint is being deleted with unrestored values. See the following logs for the specific values in question. To silence these warnings, use `status.expect_partial()`. See https://www.tensorflow.org/api_docs/python/tf/train/Checkpoint#restorefor details about the status object returned by the restore function.\n"
     ]
    },
    {
     "name": "stdout",
     "output_type": "stream",
     "text": [
      "WARNING:tensorflow:Value in checkpoint could not be found in the restored object: (root).keras_api.metrics.0.total\n"
     ]
    },
    {
     "name": "stderr",
     "output_type": "stream",
     "text": [
      "WARNING:tensorflow:Value in checkpoint could not be found in the restored object: (root).keras_api.metrics.0.total\n"
     ]
    },
    {
     "name": "stdout",
     "output_type": "stream",
     "text": [
      "WARNING:tensorflow:Value in checkpoint could not be found in the restored object: (root).keras_api.metrics.0.count\n"
     ]
    },
    {
     "name": "stderr",
     "output_type": "stream",
     "text": [
      "WARNING:tensorflow:Value in checkpoint could not be found in the restored object: (root).keras_api.metrics.0.count\n"
     ]
    },
    {
     "name": "stdout",
     "output_type": "stream",
     "text": [
      "WARNING:tensorflow:Value in checkpoint could not be found in the restored object: (root).keras_api.metrics.1.total\n"
     ]
    },
    {
     "name": "stderr",
     "output_type": "stream",
     "text": [
      "WARNING:tensorflow:Value in checkpoint could not be found in the restored object: (root).keras_api.metrics.1.total\n"
     ]
    },
    {
     "name": "stdout",
     "output_type": "stream",
     "text": [
      "WARNING:tensorflow:Value in checkpoint could not be found in the restored object: (root).keras_api.metrics.1.count\n"
     ]
    },
    {
     "name": "stderr",
     "output_type": "stream",
     "text": [
      "WARNING:tensorflow:Value in checkpoint could not be found in the restored object: (root).keras_api.metrics.1.count\n"
     ]
    },
    {
     "name": "stdout",
     "output_type": "stream",
     "text": [
      "WARNING:tensorflow:Detecting that an object or model or tf.train.Checkpoint is being deleted with unrestored values. See the following logs for the specific values in question. To silence these warnings, use `status.expect_partial()`. See https://www.tensorflow.org/api_docs/python/tf/train/Checkpoint#restorefor details about the status object returned by the restore function.\n"
     ]
    },
    {
     "name": "stderr",
     "output_type": "stream",
     "text": [
      "WARNING:tensorflow:Detecting that an object or model or tf.train.Checkpoint is being deleted with unrestored values. See the following logs for the specific values in question. To silence these warnings, use `status.expect_partial()`. See https://www.tensorflow.org/api_docs/python/tf/train/Checkpoint#restorefor details about the status object returned by the restore function.\n"
     ]
    },
    {
     "name": "stdout",
     "output_type": "stream",
     "text": [
      "WARNING:tensorflow:Value in checkpoint could not be found in the restored object: (root).keras_api.metrics.0.total\n"
     ]
    },
    {
     "name": "stderr",
     "output_type": "stream",
     "text": [
      "WARNING:tensorflow:Value in checkpoint could not be found in the restored object: (root).keras_api.metrics.0.total\n"
     ]
    },
    {
     "name": "stdout",
     "output_type": "stream",
     "text": [
      "WARNING:tensorflow:Value in checkpoint could not be found in the restored object: (root).keras_api.metrics.0.count\n"
     ]
    },
    {
     "name": "stderr",
     "output_type": "stream",
     "text": [
      "WARNING:tensorflow:Value in checkpoint could not be found in the restored object: (root).keras_api.metrics.0.count\n"
     ]
    },
    {
     "name": "stdout",
     "output_type": "stream",
     "text": [
      "WARNING:tensorflow:Value in checkpoint could not be found in the restored object: (root).keras_api.metrics.1.total\n"
     ]
    },
    {
     "name": "stderr",
     "output_type": "stream",
     "text": [
      "WARNING:tensorflow:Value in checkpoint could not be found in the restored object: (root).keras_api.metrics.1.total\n"
     ]
    },
    {
     "name": "stdout",
     "output_type": "stream",
     "text": [
      "WARNING:tensorflow:Value in checkpoint could not be found in the restored object: (root).keras_api.metrics.1.count\n"
     ]
    },
    {
     "name": "stderr",
     "output_type": "stream",
     "text": [
      "WARNING:tensorflow:Value in checkpoint could not be found in the restored object: (root).keras_api.metrics.1.count\n"
     ]
    },
    {
     "name": "stdout",
     "output_type": "stream",
     "text": [
      "WARNING:tensorflow:Detecting that an object or model or tf.train.Checkpoint is being deleted with unrestored values. See the following logs for the specific values in question. To silence these warnings, use `status.expect_partial()`. See https://www.tensorflow.org/api_docs/python/tf/train/Checkpoint#restorefor details about the status object returned by the restore function.\n"
     ]
    },
    {
     "name": "stderr",
     "output_type": "stream",
     "text": [
      "WARNING:tensorflow:Detecting that an object or model or tf.train.Checkpoint is being deleted with unrestored values. See the following logs for the specific values in question. To silence these warnings, use `status.expect_partial()`. See https://www.tensorflow.org/api_docs/python/tf/train/Checkpoint#restorefor details about the status object returned by the restore function.\n"
     ]
    },
    {
     "name": "stdout",
     "output_type": "stream",
     "text": [
      "WARNING:tensorflow:Value in checkpoint could not be found in the restored object: (root).keras_api.metrics.0.total\n"
     ]
    },
    {
     "name": "stderr",
     "output_type": "stream",
     "text": [
      "WARNING:tensorflow:Value in checkpoint could not be found in the restored object: (root).keras_api.metrics.0.total\n"
     ]
    },
    {
     "name": "stdout",
     "output_type": "stream",
     "text": [
      "WARNING:tensorflow:Value in checkpoint could not be found in the restored object: (root).keras_api.metrics.0.count\n"
     ]
    },
    {
     "name": "stderr",
     "output_type": "stream",
     "text": [
      "WARNING:tensorflow:Value in checkpoint could not be found in the restored object: (root).keras_api.metrics.0.count\n"
     ]
    },
    {
     "name": "stdout",
     "output_type": "stream",
     "text": [
      "WARNING:tensorflow:Value in checkpoint could not be found in the restored object: (root).keras_api.metrics.1.total\n"
     ]
    },
    {
     "name": "stderr",
     "output_type": "stream",
     "text": [
      "WARNING:tensorflow:Value in checkpoint could not be found in the restored object: (root).keras_api.metrics.1.total\n"
     ]
    },
    {
     "name": "stdout",
     "output_type": "stream",
     "text": [
      "WARNING:tensorflow:Value in checkpoint could not be found in the restored object: (root).keras_api.metrics.1.count\n"
     ]
    },
    {
     "name": "stderr",
     "output_type": "stream",
     "text": [
      "WARNING:tensorflow:Value in checkpoint could not be found in the restored object: (root).keras_api.metrics.1.count\n"
     ]
    },
    {
     "name": "stdout",
     "output_type": "stream",
     "text": [
      "INFO:tensorflow:Assets written to: C:\\Users\\hp\\AppData\\Local\\Temp\\tmpcf9a4kud\\assets\n"
     ]
    },
    {
     "name": "stderr",
     "output_type": "stream",
     "text": [
      "INFO:tensorflow:Assets written to: C:\\Users\\hp\\AppData\\Local\\Temp\\tmpcf9a4kud\\assets\n"
     ]
    },
    {
     "name": "stdout",
     "output_type": "stream",
     "text": [
      "Epoch 1/20\n",
      "192/192 [==============================] - 4s 20ms/step - loss: 0.0366 - accuracy: 0.9882\n",
      "Epoch 2/20\n",
      "192/192 [==============================] - 4s 20ms/step - loss: 0.0290 - accuracy: 0.9908\n",
      "Epoch 3/20\n",
      "192/192 [==============================] - 4s 20ms/step - loss: 0.0252 - accuracy: 0.9917\n",
      "Epoch 4/20\n",
      "192/192 [==============================] - 4s 19ms/step - loss: 0.0223 - accuracy: 0.9924\n",
      "Epoch 5/20\n",
      "192/192 [==============================] - 4s 20ms/step - loss: 0.0192 - accuracy: 0.9933\n",
      "Epoch 6/20\n",
      "192/192 [==============================] - 4s 20ms/step - loss: 0.0159 - accuracy: 0.9948\n",
      "Epoch 7/20\n",
      "192/192 [==============================] - 4s 19ms/step - loss: 0.0159 - accuracy: 0.9948\n",
      "Epoch 8/20\n",
      "192/192 [==============================] - 4s 19ms/step - loss: 0.0148 - accuracy: 0.9948\n",
      "Epoch 9/20\n",
      "192/192 [==============================] - 4s 19ms/step - loss: 0.0124 - accuracy: 0.9957\n",
      "Epoch 10/20\n",
      "192/192 [==============================] - 4s 19ms/step - loss: 0.0104 - accuracy: 0.9965\n",
      "Epoch 11/20\n",
      "192/192 [==============================] - 4s 19ms/step - loss: 0.0094 - accuracy: 0.9966\n",
      "Epoch 12/20\n",
      "192/192 [==============================] - 4s 19ms/step - loss: 0.0112 - accuracy: 0.9962\n",
      "Epoch 13/20\n",
      "192/192 [==============================] - 4s 19ms/step - loss: 0.0087 - accuracy: 0.9969\n",
      "Epoch 14/20\n",
      "192/192 [==============================] - 4s 19ms/step - loss: 0.0075 - accuracy: 0.9975\n",
      "Epoch 15/20\n",
      "192/192 [==============================] - 4s 20ms/step - loss: 0.0075 - accuracy: 0.9975\n",
      "Epoch 16/20\n",
      "192/192 [==============================] - 4s 20ms/step - loss: 0.0075 - accuracy: 0.9973\n",
      "Epoch 17/20\n",
      "192/192 [==============================] - 4s 19ms/step - loss: 0.0068 - accuracy: 0.9976\n",
      "Epoch 18/20\n",
      "192/192 [==============================] - 4s 19ms/step - loss: 0.0070 - accuracy: 0.9976\n",
      "Epoch 19/20\n",
      "192/192 [==============================] - 4s 19ms/step - loss: 0.0058 - accuracy: 0.9981\n",
      "Epoch 20/20\n",
      "192/192 [==============================] - 4s 19ms/step - loss: 0.0051 - accuracy: 0.9984\n",
      "48/48 [==============================] - 0s 6ms/step\n",
      "INFO:tensorflow:Assets written to: C:\\Users\\hp\\AppData\\Local\\Temp\\tmpgyat2ajz\\assets\n"
     ]
    },
    {
     "name": "stderr",
     "output_type": "stream",
     "text": [
      "INFO:tensorflow:Assets written to: C:\\Users\\hp\\AppData\\Local\\Temp\\tmpgyat2ajz\\assets\n"
     ]
    },
    {
     "name": "stdout",
     "output_type": "stream",
     "text": [
      "INFO:tensorflow:Assets written to: C:\\Users\\hp\\AppData\\Local\\Temp\\tmp8njvnp32\\assets\n"
     ]
    },
    {
     "name": "stderr",
     "output_type": "stream",
     "text": [
      "INFO:tensorflow:Assets written to: C:\\Users\\hp\\AppData\\Local\\Temp\\tmp8njvnp32\\assets\n"
     ]
    },
    {
     "name": "stdout",
     "output_type": "stream",
     "text": [
      "Epoch 1/5\n",
      "240/240 [==============================] - 5s 19ms/step - loss: 0.0380 - accuracy: 0.9880\n",
      "Epoch 2/5\n",
      "240/240 [==============================] - 4s 18ms/step - loss: 0.0316 - accuracy: 0.9897\n",
      "Epoch 3/5\n",
      "240/240 [==============================] - 4s 19ms/step - loss: 0.0260 - accuracy: 0.9913\n",
      "Epoch 4/5\n",
      "240/240 [==============================] - 5s 19ms/step - loss: 0.0230 - accuracy: 0.9928\n",
      "Epoch 5/5\n",
      "240/240 [==============================] - 5s 20ms/step - loss: 0.0197 - accuracy: 0.9937\n"
     ]
    },
    {
     "data": {
      "text/html": [
       "<style>#sk-container-id-1 {color: black;background-color: white;}#sk-container-id-1 pre{padding: 0;}#sk-container-id-1 div.sk-toggleable {background-color: white;}#sk-container-id-1 label.sk-toggleable__label {cursor: pointer;display: block;width: 100%;margin-bottom: 0;padding: 0.3em;box-sizing: border-box;text-align: center;}#sk-container-id-1 label.sk-toggleable__label-arrow:before {content: \"▸\";float: left;margin-right: 0.25em;color: #696969;}#sk-container-id-1 label.sk-toggleable__label-arrow:hover:before {color: black;}#sk-container-id-1 div.sk-estimator:hover label.sk-toggleable__label-arrow:before {color: black;}#sk-container-id-1 div.sk-toggleable__content {max-height: 0;max-width: 0;overflow: hidden;text-align: left;background-color: #f0f8ff;}#sk-container-id-1 div.sk-toggleable__content pre {margin: 0.2em;color: black;border-radius: 0.25em;background-color: #f0f8ff;}#sk-container-id-1 input.sk-toggleable__control:checked~div.sk-toggleable__content {max-height: 200px;max-width: 100%;overflow: auto;}#sk-container-id-1 input.sk-toggleable__control:checked~label.sk-toggleable__label-arrow:before {content: \"▾\";}#sk-container-id-1 div.sk-estimator input.sk-toggleable__control:checked~label.sk-toggleable__label {background-color: #d4ebff;}#sk-container-id-1 div.sk-label input.sk-toggleable__control:checked~label.sk-toggleable__label {background-color: #d4ebff;}#sk-container-id-1 input.sk-hidden--visually {border: 0;clip: rect(1px 1px 1px 1px);clip: rect(1px, 1px, 1px, 1px);height: 1px;margin: -1px;overflow: hidden;padding: 0;position: absolute;width: 1px;}#sk-container-id-1 div.sk-estimator {font-family: monospace;background-color: #f0f8ff;border: 1px dotted black;border-radius: 0.25em;box-sizing: border-box;margin-bottom: 0.5em;}#sk-container-id-1 div.sk-estimator:hover {background-color: #d4ebff;}#sk-container-id-1 div.sk-parallel-item::after {content: \"\";width: 100%;border-bottom: 1px solid gray;flex-grow: 1;}#sk-container-id-1 div.sk-label:hover label.sk-toggleable__label {background-color: #d4ebff;}#sk-container-id-1 div.sk-serial::before {content: \"\";position: absolute;border-left: 1px solid gray;box-sizing: border-box;top: 0;bottom: 0;left: 50%;z-index: 0;}#sk-container-id-1 div.sk-serial {display: flex;flex-direction: column;align-items: center;background-color: white;padding-right: 0.2em;padding-left: 0.2em;position: relative;}#sk-container-id-1 div.sk-item {position: relative;z-index: 1;}#sk-container-id-1 div.sk-parallel {display: flex;align-items: stretch;justify-content: center;background-color: white;position: relative;}#sk-container-id-1 div.sk-item::before, #sk-container-id-1 div.sk-parallel-item::before {content: \"\";position: absolute;border-left: 1px solid gray;box-sizing: border-box;top: 0;bottom: 0;left: 50%;z-index: -1;}#sk-container-id-1 div.sk-parallel-item {display: flex;flex-direction: column;z-index: 1;position: relative;background-color: white;}#sk-container-id-1 div.sk-parallel-item:first-child::after {align-self: flex-end;width: 50%;}#sk-container-id-1 div.sk-parallel-item:last-child::after {align-self: flex-start;width: 50%;}#sk-container-id-1 div.sk-parallel-item:only-child::after {width: 0;}#sk-container-id-1 div.sk-dashed-wrapped {border: 1px dashed gray;margin: 0 0.4em 0.5em 0.4em;box-sizing: border-box;padding-bottom: 0.4em;background-color: white;}#sk-container-id-1 div.sk-label label {font-family: monospace;font-weight: bold;display: inline-block;line-height: 1.2em;}#sk-container-id-1 div.sk-label-container {text-align: center;}#sk-container-id-1 div.sk-container {/* jupyter's `normalize.less` sets `[hidden] { display: none; }` but bootstrap.min.css set `[hidden] { display: none !important; }` so we also need the `!important` here to be able to override the default hidden behavior on the sphinx rendered scikit-learn.org. See: https://github.com/scikit-learn/scikit-learn/issues/21755 */display: inline-block !important;position: relative;}#sk-container-id-1 div.sk-text-repr-fallback {display: none;}</style><div id=\"sk-container-id-1\" class=\"sk-top-container\"><div class=\"sk-text-repr-fallback\"><pre>GridSearchCV(estimator=KerasClassifier(model=&lt;keras.src.engine.sequential.Sequential object at 0x0000028E08449390&gt;),\n",
       "             param_grid={&#x27;batch_size&#x27;: [100, 150, 200, 250],\n",
       "                         &#x27;epochs&#x27;: [5, 10, 15, 20]})</pre><b>In a Jupyter environment, please rerun this cell to show the HTML representation or trust the notebook. <br />On GitHub, the HTML representation is unable to render, please try loading this page with nbviewer.org.</b></div><div class=\"sk-container\" hidden><div class=\"sk-item sk-dashed-wrapped\"><div class=\"sk-label-container\"><div class=\"sk-label sk-toggleable\"><input class=\"sk-toggleable__control sk-hidden--visually\" id=\"sk-estimator-id-1\" type=\"checkbox\" ><label for=\"sk-estimator-id-1\" class=\"sk-toggleable__label sk-toggleable__label-arrow\">GridSearchCV</label><div class=\"sk-toggleable__content\"><pre>GridSearchCV(estimator=KerasClassifier(model=&lt;keras.src.engine.sequential.Sequential object at 0x0000028E08449390&gt;),\n",
       "             param_grid={&#x27;batch_size&#x27;: [100, 150, 200, 250],\n",
       "                         &#x27;epochs&#x27;: [5, 10, 15, 20]})</pre></div></div></div><div class=\"sk-parallel\"><div class=\"sk-parallel-item\"><div class=\"sk-item\"><div class=\"sk-label-container\"><div class=\"sk-label sk-toggleable\"><input class=\"sk-toggleable__control sk-hidden--visually\" id=\"sk-estimator-id-2\" type=\"checkbox\" ><label for=\"sk-estimator-id-2\" class=\"sk-toggleable__label sk-toggleable__label-arrow\">estimator: KerasClassifier</label><div class=\"sk-toggleable__content\"><pre>KerasClassifier(\n",
       "\tmodel=&lt;keras.src.engine.sequential.Sequential object at 0x0000028E08449390&gt;\n",
       "\tbuild_fn=None\n",
       "\twarm_start=False\n",
       "\trandom_state=None\n",
       "\toptimizer=rmsprop\n",
       "\tloss=None\n",
       "\tmetrics=None\n",
       "\tbatch_size=None\n",
       "\tvalidation_batch_size=None\n",
       "\tverbose=1\n",
       "\tcallbacks=None\n",
       "\tvalidation_split=0.0\n",
       "\tshuffle=True\n",
       "\trun_eagerly=False\n",
       "\tepochs=1\n",
       "\tclass_weight=None\n",
       ")</pre></div></div></div><div class=\"sk-serial\"><div class=\"sk-item\"><div class=\"sk-estimator sk-toggleable\"><input class=\"sk-toggleable__control sk-hidden--visually\" id=\"sk-estimator-id-3\" type=\"checkbox\" ><label for=\"sk-estimator-id-3\" class=\"sk-toggleable__label sk-toggleable__label-arrow\">KerasClassifier</label><div class=\"sk-toggleable__content\"><pre>KerasClassifier(\n",
       "\tmodel=&lt;keras.src.engine.sequential.Sequential object at 0x0000028E08449390&gt;\n",
       "\tbuild_fn=None\n",
       "\twarm_start=False\n",
       "\trandom_state=None\n",
       "\toptimizer=rmsprop\n",
       "\tloss=None\n",
       "\tmetrics=None\n",
       "\tbatch_size=None\n",
       "\tvalidation_batch_size=None\n",
       "\tverbose=1\n",
       "\tcallbacks=None\n",
       "\tvalidation_split=0.0\n",
       "\tshuffle=True\n",
       "\trun_eagerly=False\n",
       "\tepochs=1\n",
       "\tclass_weight=None\n",
       ")</pre></div></div></div></div></div></div></div></div></div></div>"
      ],
      "text/plain": [
       "GridSearchCV(estimator=KerasClassifier(model=<keras.src.engine.sequential.Sequential object at 0x0000028E08449390>),\n",
       "             param_grid={'batch_size': [100, 150, 200, 250],\n",
       "                         'epochs': [5, 10, 15, 20]})"
      ]
     },
     "execution_count": 49,
     "metadata": {},
     "output_type": "execute_result"
    }
   ],
   "source": [
    "grid_search.fit(x_train,y_train)"
   ]
  },
  {
   "cell_type": "code",
   "execution_count": null,
   "id": "652f2a70",
   "metadata": {},
   "outputs": [],
   "source": [
    "grid_search.best_"
   ]
  }
 ],
 "metadata": {
  "kernelspec": {
   "display_name": "Python 3 (ipykernel)",
   "language": "python",
   "name": "python3"
  },
  "language_info": {
   "codemirror_mode": {
    "name": "ipython",
    "version": 3
   },
   "file_extension": ".py",
   "mimetype": "text/x-python",
   "name": "python",
   "nbconvert_exporter": "python",
   "pygments_lexer": "ipython3",
   "version": "3.11.4"
  },
  "varInspector": {
   "cols": {
    "lenName": 16,
    "lenType": 16,
    "lenVar": 40
   },
   "kernels_config": {
    "python": {
     "delete_cmd_postfix": "",
     "delete_cmd_prefix": "del ",
     "library": "var_list.py",
     "varRefreshCmd": "print(var_dic_list())"
    },
    "r": {
     "delete_cmd_postfix": ") ",
     "delete_cmd_prefix": "rm(",
     "library": "var_list.r",
     "varRefreshCmd": "cat(var_dic_list()) "
    }
   },
   "types_to_exclude": [
    "module",
    "function",
    "builtin_function_or_method",
    "instance",
    "_Feature"
   ],
   "window_display": false
  }
 },
 "nbformat": 4,
 "nbformat_minor": 5
}
