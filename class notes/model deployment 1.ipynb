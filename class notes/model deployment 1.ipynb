{
 "cells": [
  {
   "cell_type": "code",
   "execution_count": 1,
   "id": "93df822b",
   "metadata": {},
   "outputs": [],
   "source": [
    "import pandas as pd\n",
    "import numpy as np\n",
    "from sklearn.linear_model import LogisticRegression\n",
    "import streamlit as st"
   ]
  },
  {
   "cell_type": "code",
   "execution_count": 2,
   "id": "d06f3c9c",
   "metadata": {},
   "outputs": [
    {
     "name": "stderr",
     "output_type": "stream",
     "text": [
      "2023-09-13 22:21:28.888 \n",
      "  \u001b[33m\u001b[1mWarning:\u001b[0m to view this Streamlit app on a browser, run it with the following\n",
      "  command:\n",
      "\n",
      "    streamlit run C:\\Users\\hp\\anaconda3\\lib\\site-packages\\ipykernel_launcher.py [ARGUMENTS]\n"
     ]
    },
    {
     "data": {
      "text/plain": [
       "DeltaGenerator(_root_container=1, _parent=DeltaGenerator())"
      ]
     },
     "execution_count": 2,
     "metadata": {},
     "output_type": "execute_result"
    }
   ],
   "source": [
    "st.title('Model Deployment')\n",
    "st.sidebar.header('user Input Parameters')"
   ]
  },
  {
   "cell_type": "code",
   "execution_count": 3,
   "id": "4abe414d",
   "metadata": {},
   "outputs": [],
   "source": [
    "def user_input_parameters():\n",
    "    CLMSEX=st.sidebar.selectbox('Gender',('1','0'))\n",
    "    CLMINSUR=st.sidebar.selectbox('Insurance',('1','0'))\n",
    "    SEATBELT=st.sidebar.selectbox('Seatbelt',('1','0'))\n",
    "    CLMAGE=st.sidebar.number_input('Insert the Age')\n",
    "    LOSS= st.sidebar.number_input('Inser_loss')\n",
    "    data= {'CLMSEX':CLMSEX,\n",
    "           'CLMINSUR':CLMINSUR,\n",
    "           'SEATBELT':SEATBELT,\n",
    "           'CLMAGE':CLMAGE,\n",
    "           'LOSS':LOSS}\n",
    "    features=pd.DataFrame(data,index=[0])\n",
    "    return features\n",
    "df= user_input_parameters()\n",
    "st.subheader('User Input Parameters')\n",
    "st.write(df)\n",
    "claimants= pd.read_csv('claimants.csv')\n",
    "claimants.drop('CASENUM',axis=1,inplace=True)\n",
    "claimants.dropna(inplace=True)\n",
    "x= claimants.iloc[:,1:6]\n",
    "y= claimants.iloc[:,0]\n",
    "clf= LogisticRegression()\n",
    "clf.fit(x,y)\n",
    "prediction= clf.predict(df)\n",
    "prediction_proba= clf.predict_proba(df)\n",
    "\n",
    "st.subheader('Predicted Result')\n",
    "st.write('Yes' if prediction_proba[0][1]>0.5 else 'No')\n",
    "\n",
    "st.subheader('Predicted Probability')\n",
    "st.write(prediction_proba)\n"
   ]
  }
 ],
 "metadata": {
  "kernelspec": {
   "display_name": "Python 3 (ipykernel)",
   "language": "python",
   "name": "python3"
  },
  "language_info": {
   "codemirror_mode": {
    "name": "ipython",
    "version": 3
   },
   "file_extension": ".py",
   "mimetype": "text/x-python",
   "name": "python",
   "nbconvert_exporter": "python",
   "pygments_lexer": "ipython3",
   "version": "3.10.9"
  },
  "varInspector": {
   "cols": {
    "lenName": 16,
    "lenType": 16,
    "lenVar": 40
   },
   "kernels_config": {
    "python": {
     "delete_cmd_postfix": "",
     "delete_cmd_prefix": "del ",
     "library": "var_list.py",
     "varRefreshCmd": "print(var_dic_list())"
    },
    "r": {
     "delete_cmd_postfix": ") ",
     "delete_cmd_prefix": "rm(",
     "library": "var_list.r",
     "varRefreshCmd": "cat(var_dic_list()) "
    }
   },
   "types_to_exclude": [
    "module",
    "function",
    "builtin_function_or_method",
    "instance",
    "_Feature"
   ],
   "window_display": false
  }
 },
 "nbformat": 4,
 "nbformat_minor": 5
}
