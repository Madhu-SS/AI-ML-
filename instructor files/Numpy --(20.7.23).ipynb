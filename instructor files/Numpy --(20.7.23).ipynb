{
 "cells": [
  {
   "cell_type": "code",
   "execution_count": 1,
   "id": "59e761b9",
   "metadata": {},
   "outputs": [],
   "source": [
    "import numpy as np"
   ]
  },
  {
   "cell_type": "code",
   "execution_count": 2,
   "id": "67610f59",
   "metadata": {},
   "outputs": [],
   "source": [
    "one_dim= np.array([1,2,3,4,5])"
   ]
  },
  {
   "cell_type": "code",
   "execution_count": 3,
   "id": "7a175e12",
   "metadata": {},
   "outputs": [
    {
     "data": {
      "text/plain": [
       "array([1, 2, 3, 4, 5])"
      ]
     },
     "execution_count": 3,
     "metadata": {},
     "output_type": "execute_result"
    }
   ],
   "source": [
    "one_dim"
   ]
  },
  {
   "cell_type": "code",
   "execution_count": 4,
   "id": "bb5aa673",
   "metadata": {},
   "outputs": [
    {
     "data": {
      "text/plain": [
       "1"
      ]
     },
     "execution_count": 4,
     "metadata": {},
     "output_type": "execute_result"
    }
   ],
   "source": [
    "one_dim.ndim"
   ]
  },
  {
   "cell_type": "code",
   "execution_count": 5,
   "id": "a954322a",
   "metadata": {},
   "outputs": [
    {
     "data": {
      "text/plain": [
       "(5,)"
      ]
     },
     "execution_count": 5,
     "metadata": {},
     "output_type": "execute_result"
    }
   ],
   "source": [
    "one_dim.shape"
   ]
  },
  {
   "cell_type": "code",
   "execution_count": 6,
   "id": "af247dbc",
   "metadata": {},
   "outputs": [
    {
     "data": {
      "text/plain": [
       "5"
      ]
     },
     "execution_count": 6,
     "metadata": {},
     "output_type": "execute_result"
    }
   ],
   "source": [
    "one_dim.size"
   ]
  },
  {
   "cell_type": "code",
   "execution_count": 8,
   "id": "010fc9b9",
   "metadata": {},
   "outputs": [
    {
     "data": {
      "text/plain": [
       "numpy.ndarray"
      ]
     },
     "execution_count": 8,
     "metadata": {},
     "output_type": "execute_result"
    }
   ],
   "source": [
    "type(one_dim)"
   ]
  },
  {
   "cell_type": "code",
   "execution_count": 9,
   "id": "5635babb",
   "metadata": {},
   "outputs": [],
   "source": [
    "# accessing elements in an array"
   ]
  },
  {
   "cell_type": "code",
   "execution_count": 10,
   "id": "88a3e89f",
   "metadata": {},
   "outputs": [
    {
     "data": {
      "text/plain": [
       "1"
      ]
     },
     "execution_count": 10,
     "metadata": {},
     "output_type": "execute_result"
    }
   ],
   "source": [
    "one_dim[0]"
   ]
  },
  {
   "cell_type": "code",
   "execution_count": 11,
   "id": "2c6eb53e",
   "metadata": {},
   "outputs": [
    {
     "data": {
      "text/plain": [
       "2"
      ]
     },
     "execution_count": 11,
     "metadata": {},
     "output_type": "execute_result"
    }
   ],
   "source": [
    "one_dim[1]"
   ]
  },
  {
   "cell_type": "code",
   "execution_count": 12,
   "id": "665006aa",
   "metadata": {},
   "outputs": [],
   "source": [
    "one_dim[4]=100"
   ]
  },
  {
   "cell_type": "code",
   "execution_count": 13,
   "id": "4b477769",
   "metadata": {},
   "outputs": [
    {
     "data": {
      "text/plain": [
       "array([  1,   2,   3,   4, 100])"
      ]
     },
     "execution_count": 13,
     "metadata": {},
     "output_type": "execute_result"
    }
   ],
   "source": [
    "one_dim"
   ]
  },
  {
   "cell_type": "code",
   "execution_count": 16,
   "id": "63d1d320",
   "metadata": {},
   "outputs": [],
   "source": [
    "one_dim[0:4]=[10,20,30,40]"
   ]
  },
  {
   "cell_type": "code",
   "execution_count": 17,
   "id": "a5640a82",
   "metadata": {},
   "outputs": [
    {
     "data": {
      "text/plain": [
       "array([ 10,  20,  30,  40, 100])"
      ]
     },
     "execution_count": 17,
     "metadata": {},
     "output_type": "execute_result"
    }
   ],
   "source": [
    "one_dim"
   ]
  },
  {
   "cell_type": "code",
   "execution_count": 19,
   "id": "84036e38",
   "metadata": {},
   "outputs": [
    {
     "data": {
      "text/plain": [
       "array([10, 20, 30, 40])"
      ]
     },
     "execution_count": 19,
     "metadata": {},
     "output_type": "execute_result"
    }
   ],
   "source": [
    "# delete the element from an array\n",
    "np.delete(one_dim,4,axis=0)"
   ]
  },
  {
   "cell_type": "code",
   "execution_count": 31,
   "id": "b002878b",
   "metadata": {},
   "outputs": [],
   "source": [
    "arr=np.delete(one_dim,(1,2,3),axis=0)"
   ]
  },
  {
   "cell_type": "code",
   "execution_count": 32,
   "id": "8e993120",
   "metadata": {},
   "outputs": [
    {
     "data": {
      "text/plain": [
       "array([ 10, 100])"
      ]
     },
     "execution_count": 32,
     "metadata": {},
     "output_type": "execute_result"
    }
   ],
   "source": [
    "arr"
   ]
  },
  {
   "cell_type": "code",
   "execution_count": 33,
   "id": "39647b61",
   "metadata": {},
   "outputs": [],
   "source": [
    "one_dim= np.arange(1,10,2)"
   ]
  },
  {
   "cell_type": "code",
   "execution_count": 34,
   "id": "a13aa777",
   "metadata": {},
   "outputs": [
    {
     "data": {
      "text/plain": [
       "array([1, 3, 5, 7, 9])"
      ]
     },
     "execution_count": 34,
     "metadata": {},
     "output_type": "execute_result"
    }
   ],
   "source": [
    "one_dim"
   ]
  },
  {
   "cell_type": "code",
   "execution_count": 36,
   "id": "219f00fc",
   "metadata": {},
   "outputs": [],
   "source": [
    "two_dim= np.array([[1,2,3],[4,5,6],[7,8,9]])"
   ]
  },
  {
   "cell_type": "code",
   "execution_count": 37,
   "id": "4d5f99f3",
   "metadata": {},
   "outputs": [
    {
     "data": {
      "text/plain": [
       "array([[1, 2, 3],\n",
       "       [4, 5, 6],\n",
       "       [7, 8, 9]])"
      ]
     },
     "execution_count": 37,
     "metadata": {},
     "output_type": "execute_result"
    }
   ],
   "source": [
    "two_dim"
   ]
  },
  {
   "cell_type": "code",
   "execution_count": 38,
   "id": "2ae17472",
   "metadata": {},
   "outputs": [
    {
     "data": {
      "text/plain": [
       "2"
      ]
     },
     "execution_count": 38,
     "metadata": {},
     "output_type": "execute_result"
    }
   ],
   "source": [
    "two_dim.ndim"
   ]
  },
  {
   "cell_type": "code",
   "execution_count": 39,
   "id": "bd2c999e",
   "metadata": {},
   "outputs": [
    {
     "data": {
      "text/plain": [
       "(3, 3)"
      ]
     },
     "execution_count": 39,
     "metadata": {},
     "output_type": "execute_result"
    }
   ],
   "source": [
    "two_dim.shape"
   ]
  },
  {
   "cell_type": "code",
   "execution_count": 40,
   "id": "84ce42c4",
   "metadata": {},
   "outputs": [
    {
     "data": {
      "text/plain": [
       "9"
      ]
     },
     "execution_count": 40,
     "metadata": {},
     "output_type": "execute_result"
    }
   ],
   "source": [
    "two_dim.size"
   ]
  },
  {
   "cell_type": "code",
   "execution_count": 41,
   "id": "2af6599b",
   "metadata": {},
   "outputs": [
    {
     "data": {
      "text/plain": [
       "9"
      ]
     },
     "execution_count": 41,
     "metadata": {},
     "output_type": "execute_result"
    }
   ],
   "source": [
    "two_dim[2,2]"
   ]
  },
  {
   "cell_type": "code",
   "execution_count": 42,
   "id": "b85c5478",
   "metadata": {},
   "outputs": [
    {
     "data": {
      "text/plain": [
       "6"
      ]
     },
     "execution_count": 42,
     "metadata": {},
     "output_type": "execute_result"
    }
   ],
   "source": [
    "two_dim[1,2]"
   ]
  },
  {
   "cell_type": "code",
   "execution_count": 45,
   "id": "a8ccb48e",
   "metadata": {},
   "outputs": [
    {
     "data": {
      "text/plain": [
       "array([[1, 2],\n",
       "       [7, 8]])"
      ]
     },
     "execution_count": 45,
     "metadata": {},
     "output_type": "execute_result"
    }
   ],
   "source": [
    "two_dim[0:3:2,0:2]"
   ]
  },
  {
   "cell_type": "code",
   "execution_count": 44,
   "id": "262703d8",
   "metadata": {},
   "outputs": [
    {
     "data": {
      "text/plain": [
       "array([[1, 3],\n",
       "       [4, 6],\n",
       "       [7, 9]])"
      ]
     },
     "execution_count": 44,
     "metadata": {},
     "output_type": "execute_result"
    }
   ],
   "source": [
    "two_dim[0:3,[0,2]]"
   ]
  },
  {
   "cell_type": "code",
   "execution_count": 46,
   "id": "f01549d5",
   "metadata": {},
   "outputs": [
    {
     "data": {
      "text/plain": [
       "array([[1, 2, 3],\n",
       "       [4, 5, 6],\n",
       "       [7, 8, 9]])"
      ]
     },
     "execution_count": 46,
     "metadata": {},
     "output_type": "execute_result"
    }
   ],
   "source": [
    "two_dim\n"
   ]
  },
  {
   "cell_type": "code",
   "execution_count": 60,
   "id": "8572e84b",
   "metadata": {},
   "outputs": [],
   "source": [
    "# row replacement\n",
    "two_dim[2:3]=[10,20,30]"
   ]
  },
  {
   "cell_type": "code",
   "execution_count": 50,
   "id": "65e088f6",
   "metadata": {},
   "outputs": [
    {
     "data": {
      "text/plain": [
       "array([[ 1,  2,  3],\n",
       "       [ 4,  5,  6],\n",
       "       [10, 20, 30]])"
      ]
     },
     "execution_count": 50,
     "metadata": {},
     "output_type": "execute_result"
    }
   ],
   "source": [
    "two_dim"
   ]
  },
  {
   "cell_type": "code",
   "execution_count": 59,
   "id": "55728033",
   "metadata": {},
   "outputs": [],
   "source": [
    "# column replacement\n",
    "two_dim[:,2]=[100,200,300]"
   ]
  },
  {
   "cell_type": "code",
   "execution_count": 56,
   "id": "c3d4a64b",
   "metadata": {},
   "outputs": [
    {
     "data": {
      "text/plain": [
       "array([[  1,   2, 100],\n",
       "       [  4,   5, 200],\n",
       "       [ 10,  20, 300]])"
      ]
     },
     "execution_count": 56,
     "metadata": {},
     "output_type": "execute_result"
    }
   ],
   "source": [
    "two_dim"
   ]
  },
  {
   "cell_type": "code",
   "execution_count": 61,
   "id": "dbe7670f",
   "metadata": {},
   "outputs": [
    {
     "data": {
      "text/plain": [
       "array([[  1,   2, 100],\n",
       "       [  4,   5, 200]])"
      ]
     },
     "execution_count": 61,
     "metadata": {},
     "output_type": "execute_result"
    }
   ],
   "source": [
    "np.delete(two_dim,2,axis=0)"
   ]
  },
  {
   "cell_type": "code",
   "execution_count": 62,
   "id": "3d60b260",
   "metadata": {},
   "outputs": [
    {
     "data": {
      "text/plain": [
       "array([[ 1,  2],\n",
       "       [ 4,  5],\n",
       "       [10, 20]])"
      ]
     },
     "execution_count": 62,
     "metadata": {},
     "output_type": "execute_result"
    }
   ],
   "source": [
    "np.delete(two_dim,2,axis=1)"
   ]
  },
  {
   "cell_type": "code",
   "execution_count": 63,
   "id": "1554be16",
   "metadata": {},
   "outputs": [],
   "source": [
    "two_dim= np.arange(0,12).reshape(3,4)"
   ]
  },
  {
   "cell_type": "code",
   "execution_count": 64,
   "id": "991effda",
   "metadata": {},
   "outputs": [
    {
     "data": {
      "text/plain": [
       "array([[ 0,  1,  2,  3],\n",
       "       [ 4,  5,  6,  7],\n",
       "       [ 8,  9, 10, 11]])"
      ]
     },
     "execution_count": 64,
     "metadata": {},
     "output_type": "execute_result"
    }
   ],
   "source": [
    "two_dim"
   ]
  },
  {
   "cell_type": "code",
   "execution_count": 65,
   "id": "e3ccd758",
   "metadata": {},
   "outputs": [
    {
     "data": {
      "text/plain": [
       "array([2, 4, 1, 3, 1, 3, 5, 6, 5, 8, 6, 3, 3, 3, 6, 3, 1, 9, 1, 8, 5, 3,\n",
       "       9, 1, 2, 6, 6, 2, 1, 5, 8, 2, 9, 4, 9, 6, 4, 9, 2, 5, 3, 3, 9, 1,\n",
       "       5, 2, 3, 2, 9, 8, 9, 7, 9, 3, 3, 9, 4, 4, 9, 6, 4, 1, 2, 9, 1, 6,\n",
       "       4, 7, 9, 3, 4, 2, 5, 3, 7, 6, 5, 6, 9, 1, 5, 6, 5, 5, 8, 7, 6, 7,\n",
       "       2, 4, 8, 3, 3, 7, 5, 3, 6, 9, 7, 2])"
      ]
     },
     "execution_count": 65,
     "metadata": {},
     "output_type": "execute_result"
    }
   ],
   "source": [
    "np.random.randint(1,10,100)"
   ]
  },
  {
   "cell_type": "code",
   "execution_count": 75,
   "id": "7c41eadf",
   "metadata": {},
   "outputs": [],
   "source": [
    "two_ran= np.random.randint(1,10,16).reshape(4,4)"
   ]
  },
  {
   "cell_type": "code",
   "execution_count": 76,
   "id": "b854655b",
   "metadata": {},
   "outputs": [
    {
     "data": {
      "text/plain": [
       "array([[1, 6, 4, 5],\n",
       "       [2, 9, 4, 7],\n",
       "       [2, 2, 9, 8],\n",
       "       [3, 9, 7, 3]])"
      ]
     },
     "execution_count": 76,
     "metadata": {},
     "output_type": "execute_result"
    }
   ],
   "source": [
    "two_ran"
   ]
  },
  {
   "cell_type": "code",
   "execution_count": 68,
   "id": "a5c9a37d",
   "metadata": {},
   "outputs": [],
   "source": [
    "two_ran= np.random.randint(1,10,[4,3])"
   ]
  },
  {
   "cell_type": "code",
   "execution_count": 69,
   "id": "093a6230",
   "metadata": {},
   "outputs": [
    {
     "data": {
      "text/plain": [
       "array([[9, 5, 6],\n",
       "       [4, 9, 7],\n",
       "       [3, 8, 7],\n",
       "       [9, 7, 5]])"
      ]
     },
     "execution_count": 69,
     "metadata": {},
     "output_type": "execute_result"
    }
   ],
   "source": [
    "two_ran"
   ]
  },
  {
   "cell_type": "code",
   "execution_count": 71,
   "id": "19d71fbb",
   "metadata": {},
   "outputs": [
    {
     "data": {
      "text/plain": [
       "array([0.49603675, 0.61366953, 0.15376368, 0.65884533, 0.25429546,\n",
       "       0.39245114, 0.22628864, 0.31672629, 0.6169807 , 0.13716407,\n",
       "       0.62219327, 0.41066182, 0.78206946, 0.36995657, 0.67269394,\n",
       "       0.02968705, 0.60014365, 0.10083173, 0.43875715, 0.66142722,\n",
       "       0.2371889 , 0.24643722, 0.19940223, 0.51249058, 0.62039898,\n",
       "       0.22424424, 0.93661803, 0.02922303, 0.20260386, 0.44223878,\n",
       "       0.63231163, 0.5050541 , 0.92121564, 0.89035435, 0.82677424,\n",
       "       0.18534052, 0.03142693, 0.99434662, 0.49455786, 0.06462036,\n",
       "       0.81572463, 0.48373515, 0.49035504, 0.79645882, 0.54119919,\n",
       "       0.6473808 , 0.13734436, 0.27544795, 0.58782299, 0.13530431,\n",
       "       0.17603833, 0.12392807, 0.46144895, 0.68798716, 0.81425732,\n",
       "       0.84142119, 0.84851851, 0.11629791, 0.19668261, 0.52994509,\n",
       "       0.60125635, 0.48329546, 0.62512192, 0.96123822, 0.08957571,\n",
       "       0.95081188, 0.69747298, 0.7404883 , 0.07269905, 0.97024172,\n",
       "       0.93657275, 0.88617409, 0.66585489, 0.16097292, 0.30333975,\n",
       "       0.05215332, 0.53824993, 0.22912786, 0.70537075, 0.60939191,\n",
       "       0.25120974, 0.4473003 , 0.02945757, 0.41217929, 0.52740267,\n",
       "       0.50511982, 0.87568588, 0.12196898, 0.47502916, 0.45937756,\n",
       "       0.40053301, 0.18002353, 0.62366036, 0.99603944, 0.67634765,\n",
       "       0.98158466, 0.01936872, 0.68457415, 0.26679288, 0.97596443])"
      ]
     },
     "execution_count": 71,
     "metadata": {},
     "output_type": "execute_result"
    }
   ],
   "source": [
    "np.random.rand(100)"
   ]
  },
  {
   "cell_type": "code",
   "execution_count": 72,
   "id": "aab9a5aa",
   "metadata": {},
   "outputs": [
    {
     "data": {
      "text/plain": [
       "array([[ 0,  1,  2,  3],\n",
       "       [ 4,  5,  6,  7],\n",
       "       [ 8,  9, 10, 11]])"
      ]
     },
     "execution_count": 72,
     "metadata": {},
     "output_type": "execute_result"
    }
   ],
   "source": [
    "two_dim"
   ]
  },
  {
   "cell_type": "code",
   "execution_count": 73,
   "id": "2639106b",
   "metadata": {},
   "outputs": [
    {
     "data": {
      "text/plain": [
       "array([[ 0,  4,  8],\n",
       "       [ 1,  5,  9],\n",
       "       [ 2,  6, 10],\n",
       "       [ 3,  7, 11]])"
      ]
     },
     "execution_count": 73,
     "metadata": {},
     "output_type": "execute_result"
    }
   ],
   "source": [
    "two_dim.transpose()"
   ]
  },
  {
   "cell_type": "code",
   "execution_count": 82,
   "id": "292dd928",
   "metadata": {},
   "outputs": [
    {
     "data": {
      "text/plain": [
       "array([[-1.56902357,  0.82491582,  0.19191919,  0.17845118],\n",
       "       [ 0.25925926, -0.07407407, -0.11111111,  0.03703704],\n",
       "       [ 0.38383838, -0.34343434,  0.03030303,  0.08080808],\n",
       "       [-0.1043771 ,  0.1986532 ,  0.07070707, -0.14478114]])"
      ]
     },
     "execution_count": 82,
     "metadata": {},
     "output_type": "execute_result"
    }
   ],
   "source": [
    "# inverted matrix of two_ran\n",
    "np.linalg.inv(two_ran)"
   ]
  },
  {
   "cell_type": "code",
   "execution_count": 83,
   "id": "272bac26",
   "metadata": {},
   "outputs": [
    {
     "data": {
      "text/plain": [
       "array([[1., 0., 0.],\n",
       "       [0., 1., 0.],\n",
       "       [0., 0., 1.]])"
      ]
     },
     "execution_count": 83,
     "metadata": {},
     "output_type": "execute_result"
    }
   ],
   "source": [
    "np.identity(3)"
   ]
  },
  {
   "cell_type": "code",
   "execution_count": 84,
   "id": "c0173ed8",
   "metadata": {},
   "outputs": [
    {
     "data": {
      "text/plain": [
       "array([[1., 1., 1., 1.],\n",
       "       [1., 1., 1., 1.],\n",
       "       [1., 1., 1., 1.]])"
      ]
     },
     "execution_count": 84,
     "metadata": {},
     "output_type": "execute_result"
    }
   ],
   "source": [
    "np.ones(shape=(3,4))"
   ]
  },
  {
   "cell_type": "code",
   "execution_count": 81,
   "id": "f2e74f65",
   "metadata": {},
   "outputs": [
    {
     "data": {
      "text/plain": [
       "array([[0., 0., 0., 0.],\n",
       "       [0., 0., 0., 0.],\n",
       "       [0., 0., 0., 0.]])"
      ]
     },
     "execution_count": 81,
     "metadata": {},
     "output_type": "execute_result"
    }
   ],
   "source": [
    "np.zeros(shape=(3,4))"
   ]
  },
  {
   "cell_type": "code",
   "execution_count": 85,
   "id": "da3e528e",
   "metadata": {},
   "outputs": [],
   "source": [
    "a= np.array([[1,2],[3,4]])"
   ]
  },
  {
   "cell_type": "code",
   "execution_count": 86,
   "id": "e87bcdb3",
   "metadata": {},
   "outputs": [],
   "source": [
    "b=np.array([[5,6],[7,8]])"
   ]
  },
  {
   "cell_type": "code",
   "execution_count": 87,
   "id": "c8f288bd",
   "metadata": {},
   "outputs": [
    {
     "data": {
      "text/plain": [
       "array([[1, 2],\n",
       "       [3, 4]])"
      ]
     },
     "execution_count": 87,
     "metadata": {},
     "output_type": "execute_result"
    }
   ],
   "source": [
    "a"
   ]
  },
  {
   "cell_type": "code",
   "execution_count": 94,
   "id": "055e22bd",
   "metadata": {},
   "outputs": [
    {
     "data": {
      "text/plain": [
       "array([[5, 6],\n",
       "       [7, 8]])"
      ]
     },
     "execution_count": 94,
     "metadata": {},
     "output_type": "execute_result"
    }
   ],
   "source": [
    "b"
   ]
  },
  {
   "cell_type": "code",
   "execution_count": 89,
   "id": "15eca2cc",
   "metadata": {},
   "outputs": [],
   "source": [
    "# matrix arithmetic"
   ]
  },
  {
   "cell_type": "code",
   "execution_count": 90,
   "id": "863aa370",
   "metadata": {},
   "outputs": [
    {
     "data": {
      "text/plain": [
       "array([[ 5, 12],\n",
       "       [21, 32]])"
      ]
     },
     "execution_count": 90,
     "metadata": {},
     "output_type": "execute_result"
    }
   ],
   "source": [
    "a*b"
   ]
  },
  {
   "cell_type": "code",
   "execution_count": 91,
   "id": "9a7ab32f",
   "metadata": {},
   "outputs": [
    {
     "data": {
      "text/plain": [
       "array([[19, 22],\n",
       "       [43, 50]])"
      ]
     },
     "execution_count": 91,
     "metadata": {},
     "output_type": "execute_result"
    }
   ],
   "source": [
    "# matrix multiplication\n",
    "a@b"
   ]
  },
  {
   "cell_type": "code",
   "execution_count": 92,
   "id": "15abb472",
   "metadata": {},
   "outputs": [
    {
     "data": {
      "text/plain": [
       "array([[ 6,  8],\n",
       "       [10, 12]])"
      ]
     },
     "execution_count": 92,
     "metadata": {},
     "output_type": "execute_result"
    }
   ],
   "source": [
    "a+b"
   ]
  },
  {
   "cell_type": "code",
   "execution_count": 93,
   "id": "b7f424d4",
   "metadata": {},
   "outputs": [
    {
     "data": {
      "text/plain": [
       "array([[-4, -4],\n",
       "       [-4, -4]])"
      ]
     },
     "execution_count": 93,
     "metadata": {},
     "output_type": "execute_result"
    }
   ],
   "source": [
    "a-b"
   ]
  },
  {
   "cell_type": "markdown",
   "id": "2d145579",
   "metadata": {},
   "source": [
    "## Three dimensional array"
   ]
  },
  {
   "cell_type": "code",
   "execution_count": null,
   "id": "d5f4566b",
   "metadata": {},
   "outputs": [],
   "source": []
  }
 ],
 "metadata": {
  "kernelspec": {
   "display_name": "Python 3 (ipykernel)",
   "language": "python",
   "name": "python3"
  },
  "language_info": {
   "codemirror_mode": {
    "name": "ipython",
    "version": 3
   },
   "file_extension": ".py",
   "mimetype": "text/x-python",
   "name": "python",
   "nbconvert_exporter": "python",
   "pygments_lexer": "ipython3",
   "version": "3.10.9"
  }
 },
 "nbformat": 4,
 "nbformat_minor": 5
}
