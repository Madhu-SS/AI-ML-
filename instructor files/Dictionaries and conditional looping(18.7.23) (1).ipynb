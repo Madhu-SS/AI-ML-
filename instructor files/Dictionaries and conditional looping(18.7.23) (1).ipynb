{
 "cells": [
  {
   "cell_type": "code",
   "execution_count": 1,
   "id": "8c8b450d",
   "metadata": {},
   "outputs": [],
   "source": [
    "set1={1,2,3,4,10,5}"
   ]
  },
  {
   "cell_type": "code",
   "execution_count": 2,
   "id": "13181d3f",
   "metadata": {},
   "outputs": [
    {
     "data": {
      "text/plain": [
       "10"
      ]
     },
     "execution_count": 2,
     "metadata": {},
     "output_type": "execute_result"
    }
   ],
   "source": [
    "max(set1)"
   ]
  },
  {
   "cell_type": "code",
   "execution_count": 3,
   "id": "a0e7fbab",
   "metadata": {},
   "outputs": [
    {
     "data": {
      "text/plain": [
       "1"
      ]
     },
     "execution_count": 3,
     "metadata": {},
     "output_type": "execute_result"
    }
   ],
   "source": [
    "min(set1)"
   ]
  },
  {
   "cell_type": "code",
   "execution_count": 4,
   "id": "d0dbeb35",
   "metadata": {},
   "outputs": [
    {
     "data": {
      "text/plain": [
       "25"
      ]
     },
     "execution_count": 4,
     "metadata": {},
     "output_type": "execute_result"
    }
   ],
   "source": [
    "sum(set1)"
   ]
  },
  {
   "cell_type": "code",
   "execution_count": 5,
   "id": "d1b9206a",
   "metadata": {},
   "outputs": [
    {
     "data": {
      "text/plain": [
       "[10, 5, 4, 3, 2, 1]"
      ]
     },
     "execution_count": 5,
     "metadata": {},
     "output_type": "execute_result"
    }
   ],
   "source": [
    "sorted(set1,reverse=True)"
   ]
  },
  {
   "cell_type": "markdown",
   "id": "6bc0bd1a",
   "metadata": {},
   "source": [
    "### Dictionaries"
   ]
  },
  {
   "cell_type": "code",
   "execution_count": 6,
   "id": "30ed134f",
   "metadata": {},
   "outputs": [],
   "source": [
    "dict1= {'name':'ajay','age':22}"
   ]
  },
  {
   "cell_type": "code",
   "execution_count": 7,
   "id": "f73205b8",
   "metadata": {},
   "outputs": [
    {
     "data": {
      "text/plain": [
       "{'name': 'ajay', 'age': 22}"
      ]
     },
     "execution_count": 7,
     "metadata": {},
     "output_type": "execute_result"
    }
   ],
   "source": [
    "dict1"
   ]
  },
  {
   "cell_type": "code",
   "execution_count": 8,
   "id": "4068055e",
   "metadata": {},
   "outputs": [
    {
     "data": {
      "text/plain": [
       "dict_keys(['name', 'age'])"
      ]
     },
     "execution_count": 8,
     "metadata": {},
     "output_type": "execute_result"
    }
   ],
   "source": [
    "dict1.keys()"
   ]
  },
  {
   "cell_type": "code",
   "execution_count": 9,
   "id": "1c5aa7a3",
   "metadata": {},
   "outputs": [
    {
     "data": {
      "text/plain": [
       "dict_values(['ajay', 22])"
      ]
     },
     "execution_count": 9,
     "metadata": {},
     "output_type": "execute_result"
    }
   ],
   "source": [
    "dict1.values()"
   ]
  },
  {
   "cell_type": "code",
   "execution_count": 10,
   "id": "4a55833d",
   "metadata": {},
   "outputs": [],
   "source": [
    "dict1['location']='mumbai'"
   ]
  },
  {
   "cell_type": "code",
   "execution_count": 11,
   "id": "922b9131",
   "metadata": {},
   "outputs": [
    {
     "data": {
      "text/plain": [
       "{'name': 'ajay', 'age': 22, 'location': 'mumbai'}"
      ]
     },
     "execution_count": 11,
     "metadata": {},
     "output_type": "execute_result"
    }
   ],
   "source": [
    "dict1"
   ]
  },
  {
   "cell_type": "code",
   "execution_count": 12,
   "id": "41709bdd",
   "metadata": {},
   "outputs": [],
   "source": [
    "dict2= {'name': ['ajay','sanjay','ravi','raheem'],'age':[22,33,21,44],'location':['chennai','mumbai','calcutta','bengaluru']}"
   ]
  },
  {
   "cell_type": "code",
   "execution_count": 13,
   "id": "7fc4c85b",
   "metadata": {},
   "outputs": [
    {
     "data": {
      "text/plain": [
       "{'name': ['ajay', 'sanjay', 'ravi', 'raheem'],\n",
       " 'age': [22, 33, 21, 44],\n",
       " 'location': ['chennai', 'mumbai', 'calcutta', 'bengaluru']}"
      ]
     },
     "execution_count": 13,
     "metadata": {},
     "output_type": "execute_result"
    }
   ],
   "source": [
    "dict2"
   ]
  },
  {
   "cell_type": "code",
   "execution_count": 14,
   "id": "74345abc",
   "metadata": {},
   "outputs": [
    {
     "data": {
      "text/plain": [
       "dict_keys(['name', 'age', 'location'])"
      ]
     },
     "execution_count": 14,
     "metadata": {},
     "output_type": "execute_result"
    }
   ],
   "source": [
    "dict2.keys()"
   ]
  },
  {
   "cell_type": "code",
   "execution_count": 15,
   "id": "6e9c66fd",
   "metadata": {},
   "outputs": [
    {
     "data": {
      "text/plain": [
       "dict_values([['ajay', 'sanjay', 'ravi', 'raheem'], [22, 33, 21, 44], ['chennai', 'mumbai', 'calcutta', 'bengaluru']])"
      ]
     },
     "execution_count": 15,
     "metadata": {},
     "output_type": "execute_result"
    }
   ],
   "source": [
    "dict2.values()"
   ]
  },
  {
   "cell_type": "code",
   "execution_count": 16,
   "id": "b7c7be79",
   "metadata": {},
   "outputs": [
    {
     "data": {
      "text/plain": [
       "'c'"
      ]
     },
     "execution_count": 16,
     "metadata": {},
     "output_type": "execute_result"
    }
   ],
   "source": [
    "dict2['location'][2][0]"
   ]
  },
  {
   "cell_type": "code",
   "execution_count": 17,
   "id": "64571a86",
   "metadata": {},
   "outputs": [],
   "source": [
    "dict2['gender']=['male','male','male','female']"
   ]
  },
  {
   "cell_type": "code",
   "execution_count": 18,
   "id": "54893bcf",
   "metadata": {},
   "outputs": [
    {
     "data": {
      "text/plain": [
       "{'name': ['ajay', 'sanjay', 'ravi', 'raheem'],\n",
       " 'age': [22, 33, 21, 44],\n",
       " 'location': ['chennai', 'mumbai', 'calcutta', 'bengaluru'],\n",
       " 'gender': ['male', 'male', 'male', 'female']}"
      ]
     },
     "execution_count": 18,
     "metadata": {},
     "output_type": "execute_result"
    }
   ],
   "source": [
    "dict2"
   ]
  },
  {
   "cell_type": "code",
   "execution_count": 19,
   "id": "bf1d8e79",
   "metadata": {},
   "outputs": [],
   "source": [
    "dict2.clear()"
   ]
  },
  {
   "cell_type": "code",
   "execution_count": 20,
   "id": "b50a5795",
   "metadata": {},
   "outputs": [],
   "source": [
    "del dict2"
   ]
  },
  {
   "cell_type": "code",
   "execution_count": 21,
   "id": "5eb19985",
   "metadata": {},
   "outputs": [
    {
     "ename": "NameError",
     "evalue": "name 'dict2' is not defined",
     "output_type": "error",
     "traceback": [
      "\u001b[1;31m---------------------------------------------------------------------------\u001b[0m",
      "\u001b[1;31mNameError\u001b[0m                                 Traceback (most recent call last)",
      "Cell \u001b[1;32mIn[21], line 1\u001b[0m\n\u001b[1;32m----> 1\u001b[0m \u001b[43mdict2\u001b[49m\n",
      "\u001b[1;31mNameError\u001b[0m: name 'dict2' is not defined"
     ]
    }
   ],
   "source": [
    "dict2"
   ]
  },
  {
   "cell_type": "code",
   "execution_count": null,
   "id": "8ae33eed",
   "metadata": {},
   "outputs": [],
   "source": [
    "dict2= {'name': ['ajay','sanjay','ravi','raheem'],'age':[22,33,21,44],'location':['chennai','mumbai','calcutta','bengaluru']}"
   ]
  },
  {
   "cell_type": "code",
   "execution_count": null,
   "id": "444a2b1f",
   "metadata": {},
   "outputs": [],
   "source": [
    "dict2"
   ]
  },
  {
   "cell_type": "code",
   "execution_count": null,
   "id": "fb8c7b07",
   "metadata": {},
   "outputs": [],
   "source": [
    "dict2.get('name')"
   ]
  },
  {
   "cell_type": "code",
   "execution_count": null,
   "id": "d1e32868",
   "metadata": {},
   "outputs": [],
   "source": [
    "dict2.items()"
   ]
  },
  {
   "cell_type": "code",
   "execution_count": null,
   "id": "09c76a25",
   "metadata": {},
   "outputs": [],
   "source": [
    "dict3=dict2.copy()"
   ]
  },
  {
   "cell_type": "code",
   "execution_count": null,
   "id": "ab92791a",
   "metadata": {},
   "outputs": [],
   "source": [
    "dict3"
   ]
  },
  {
   "cell_type": "code",
   "execution_count": null,
   "id": "a82d8967",
   "metadata": {},
   "outputs": [],
   "source": [
    "dict2.pop('location')"
   ]
  },
  {
   "cell_type": "code",
   "execution_count": null,
   "id": "c0e14fac",
   "metadata": {},
   "outputs": [],
   "source": [
    "dict2"
   ]
  },
  {
   "cell_type": "code",
   "execution_count": null,
   "id": "5bdbec24",
   "metadata": {},
   "outputs": [],
   "source": [
    "dict2.popitem()"
   ]
  },
  {
   "cell_type": "code",
   "execution_count": null,
   "id": "2056e6f0",
   "metadata": {},
   "outputs": [],
   "source": [
    "dict3"
   ]
  },
  {
   "cell_type": "code",
   "execution_count": null,
   "id": "e31fd1b4",
   "metadata": {},
   "outputs": [],
   "source": [
    "dict2['names1']=['ram','sam','sameer','samuel','ss']"
   ]
  },
  {
   "cell_type": "code",
   "execution_count": null,
   "id": "3c889744",
   "metadata": {},
   "outputs": [],
   "source": [
    "dict3.update(dict2)"
   ]
  },
  {
   "cell_type": "code",
   "execution_count": null,
   "id": "41b690c1",
   "metadata": {},
   "outputs": [],
   "source": [
    "dict3.pop('names1')"
   ]
  },
  {
   "cell_type": "code",
   "execution_count": null,
   "id": "74d2b1a8",
   "metadata": {},
   "outputs": [],
   "source": [
    "dict3"
   ]
  },
  {
   "cell_type": "code",
   "execution_count": null,
   "id": "73d1cd6d",
   "metadata": {},
   "outputs": [],
   "source": [
    "from collections import defaultdict"
   ]
  },
  {
   "cell_type": "code",
   "execution_count": null,
   "id": "a3a98b5c",
   "metadata": {},
   "outputs": [],
   "source": [
    "dict1= defaultdict(list)"
   ]
  },
  {
   "cell_type": "code",
   "execution_count": null,
   "id": "d1a5f88b",
   "metadata": {},
   "outputs": [],
   "source": [
    "dict1['names']"
   ]
  },
  {
   "cell_type": "markdown",
   "id": "c0776e66",
   "metadata": {},
   "source": [
    "## input functions"
   ]
  },
  {
   "cell_type": "code",
   "execution_count": null,
   "id": "2385ecf2",
   "metadata": {},
   "outputs": [],
   "source": [
    "var= input('Enter the name:')\n",
    "print('The name is',var.capitalize())"
   ]
  },
  {
   "cell_type": "code",
   "execution_count": null,
   "id": "96971497",
   "metadata": {},
   "outputs": [],
   "source": [
    "# addition of two numbers\n",
    "num1= float(input('Enter the first number'))\n",
    "num2= float(input('Enter the second number'))\n",
    "sum= num1 + num2\n",
    "print('The summation is',sum)"
   ]
  },
  {
   "cell_type": "code",
   "execution_count": null,
   "id": "70687010",
   "metadata": {},
   "outputs": [],
   "source": [
    "# Area of a circle\n",
    "import math"
   ]
  },
  {
   "cell_type": "code",
   "execution_count": null,
   "id": "286b6d7a",
   "metadata": {},
   "outputs": [],
   "source": [
    "radius= float(input('Enter the radius'))\n",
    "Area = math.pi *radius**2\n",
    "print('The area of circle is:',Area)"
   ]
  },
  {
   "cell_type": "markdown",
   "id": "bc1fceee",
   "metadata": {},
   "source": [
    "## conditional and looping "
   ]
  },
  {
   "cell_type": "code",
   "execution_count": null,
   "id": "514cd020",
   "metadata": {},
   "outputs": [],
   "source": [
    "range(1,10)"
   ]
  },
  {
   "cell_type": "markdown",
   "id": "ca2e5071",
   "metadata": {},
   "source": [
    "### for loop"
   ]
  },
  {
   "cell_type": "code",
   "execution_count": null,
   "id": "8ed0342a",
   "metadata": {},
   "outputs": [],
   "source": [
    "for i in [1,2,3]:\n",
    "    print(i)\n"
   ]
  },
  {
   "cell_type": "code",
   "execution_count": null,
   "id": "ecdceaf1",
   "metadata": {},
   "outputs": [],
   "source": [
    "a=[1,2,3,4,5]"
   ]
  },
  {
   "cell_type": "code",
   "execution_count": null,
   "id": "ea24a354",
   "metadata": {},
   "outputs": [],
   "source": [
    "for i in a:\n",
    "    print(i)"
   ]
  },
  {
   "cell_type": "code",
   "execution_count": null,
   "id": "e1015781",
   "metadata": {},
   "outputs": [],
   "source": [
    "for  i in range(1,10,2):\n",
    "    print(i)"
   ]
  },
  {
   "cell_type": "code",
   "execution_count": null,
   "id": "808b1d3d",
   "metadata": {},
   "outputs": [],
   "source": [
    "a"
   ]
  },
  {
   "cell_type": "code",
   "execution_count": null,
   "id": "e986ec13",
   "metadata": {},
   "outputs": [],
   "source": [
    "list1= ['1','2','3']"
   ]
  },
  {
   "cell_type": "code",
   "execution_count": null,
   "id": "42b14c69",
   "metadata": {},
   "outputs": [],
   "source": [
    "list2=[int(s) for s in list1]"
   ]
  },
  {
   "cell_type": "code",
   "execution_count": null,
   "id": "87ff5875",
   "metadata": {},
   "outputs": [],
   "source": [
    "list2"
   ]
  },
  {
   "cell_type": "code",
   "execution_count": null,
   "id": "a798f852",
   "metadata": {},
   "outputs": [],
   "source": [
    "for i in range(len(a)):\n",
    "    print(a[i],i)"
   ]
  },
  {
   "cell_type": "code",
   "execution_count": 2,
   "id": "4c3404ed",
   "metadata": {},
   "outputs": [],
   "source": [
    "list1=[]"
   ]
  },
  {
   "cell_type": "code",
   "execution_count": 3,
   "id": "f1de10cb",
   "metadata": {},
   "outputs": [
    {
     "name": "stdout",
     "output_type": "stream",
     "text": [
      "Enter the count4\n",
      "1\n",
      "2\n",
      "3\n",
      "4\n",
      "[1, 2, 3, 4]\n"
     ]
    }
   ],
   "source": [
    "# accessing list using for loop\n",
    "n= int(input('Enter the count'))\n",
    "for i in range(0,n):\n",
    "    values=int(input())\n",
    "    list1.append(values)\n",
    "print(list1)"
   ]
  },
  {
   "cell_type": "code",
   "execution_count": null,
   "id": "ba99f733",
   "metadata": {},
   "outputs": [],
   "source": [
    "list1"
   ]
  },
  {
   "cell_type": "code",
   "execution_count": null,
   "id": "a45d3da1",
   "metadata": {},
   "outputs": [],
   "source": [
    "list1*2"
   ]
  },
  {
   "cell_type": "code",
   "execution_count": null,
   "id": "b0b52f05",
   "metadata": {},
   "outputs": [],
   "source": [
    "[i+2 for i in list1]"
   ]
  },
  {
   "cell_type": "markdown",
   "id": "d8d3def7",
   "metadata": {},
   "source": [
    "## while loop"
   ]
  },
  {
   "cell_type": "code",
   "execution_count": 23,
   "id": "6b91ea57",
   "metadata": {},
   "outputs": [
    {
     "name": "stdout",
     "output_type": "stream",
     "text": [
      "1\n",
      "3\n",
      "6\n",
      "10\n",
      "The total sum is: 10\n"
     ]
    }
   ],
   "source": [
    "n=5\n",
    "i=1\n",
    "sum=0\n",
    "while(i<n):\n",
    "    sum= sum+i\n",
    "    print(sum)\n",
    "    i= i+1\n",
    "print('The total sum is:',sum) "
   ]
  },
  {
   "cell_type": "code",
   "execution_count": 24,
   "id": "1a96d2ee",
   "metadata": {},
   "outputs": [
    {
     "name": "stdout",
     "output_type": "stream",
     "text": [
      "counter is in loop\n",
      "counter is in loop\n",
      "counter is in loop\n",
      "counter is in loop\n",
      "counter is in loop\n",
      "counter is in loop\n",
      "counter is in loop\n",
      "counter is in loop\n",
      "counter is in loop\n",
      "counter is in loop\n",
      "counter is out of the loop\n"
     ]
    }
   ],
   "source": [
    "counter=0\n",
    "while(counter<10):\n",
    "    print('counter is in loop')\n",
    "    counter= counter+1\n",
    "else:\n",
    "    print('counter is out of the loop')"
   ]
  },
  {
   "cell_type": "code",
   "execution_count": null,
   "id": "031505ae",
   "metadata": {},
   "outputs": [],
   "source": []
  }
 ],
 "metadata": {
  "kernelspec": {
   "display_name": "Python 3 (ipykernel)",
   "language": "python",
   "name": "python3"
  },
  "language_info": {
   "codemirror_mode": {
    "name": "ipython",
    "version": 3
   },
   "file_extension": ".py",
   "mimetype": "text/x-python",
   "name": "python",
   "nbconvert_exporter": "python",
   "pygments_lexer": "ipython3",
   "version": "3.10.9"
  }
 },
 "nbformat": 4,
 "nbformat_minor": 5
}
