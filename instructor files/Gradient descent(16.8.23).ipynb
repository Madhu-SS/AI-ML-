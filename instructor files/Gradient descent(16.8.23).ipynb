{
 "cells": [
  {
   "cell_type": "code",
   "execution_count": 1,
   "id": "645eb5f5",
   "metadata": {},
   "outputs": [],
   "source": [
    "import pandas as pd\n",
    "import numpy as np\n",
    "import matplotlib.pyplot as plt\n",
    "import seaborn as sns\n",
    "import time"
   ]
  },
  {
   "cell_type": "code",
   "execution_count": 12,
   "id": "850c2699",
   "metadata": {},
   "outputs": [],
   "source": [
    "data= pd.read_csv(r'C:\\Users\\excel\\OneDrive\\Desktop\\regr1.txt',sep=' ',header=None,names=['f','t'])"
   ]
  },
  {
   "cell_type": "code",
   "execution_count": 13,
   "id": "ad880799",
   "metadata": {},
   "outputs": [
    {
     "data": {
      "text/html": [
       "<div>\n",
       "<style scoped>\n",
       "    .dataframe tbody tr th:only-of-type {\n",
       "        vertical-align: middle;\n",
       "    }\n",
       "\n",
       "    .dataframe tbody tr th {\n",
       "        vertical-align: top;\n",
       "    }\n",
       "\n",
       "    .dataframe thead th {\n",
       "        text-align: right;\n",
       "    }\n",
       "</style>\n",
       "<table border=\"1\" class=\"dataframe\">\n",
       "  <thead>\n",
       "    <tr style=\"text-align: right;\">\n",
       "      <th></th>\n",
       "      <th>f</th>\n",
       "      <th>t</th>\n",
       "    </tr>\n",
       "  </thead>\n",
       "  <tbody>\n",
       "    <tr>\n",
       "      <th>0</th>\n",
       "      <td>0.10</td>\n",
       "      <td>0.69004</td>\n",
       "    </tr>\n",
       "    <tr>\n",
       "      <th>1</th>\n",
       "      <td>0.11</td>\n",
       "      <td>0.69497</td>\n",
       "    </tr>\n",
       "    <tr>\n",
       "      <th>2</th>\n",
       "      <td>0.12</td>\n",
       "      <td>0.74252</td>\n",
       "    </tr>\n",
       "    <tr>\n",
       "      <th>3</th>\n",
       "      <td>0.13</td>\n",
       "      <td>0.75360</td>\n",
       "    </tr>\n",
       "    <tr>\n",
       "      <th>4</th>\n",
       "      <td>0.14</td>\n",
       "      <td>0.83568</td>\n",
       "    </tr>\n",
       "    <tr>\n",
       "      <th>...</th>\n",
       "      <td>...</td>\n",
       "      <td>...</td>\n",
       "    </tr>\n",
       "    <tr>\n",
       "      <th>85</th>\n",
       "      <td>0.95</td>\n",
       "      <td>1.98410</td>\n",
       "    </tr>\n",
       "    <tr>\n",
       "      <th>86</th>\n",
       "      <td>0.96</td>\n",
       "      <td>2.00660</td>\n",
       "    </tr>\n",
       "    <tr>\n",
       "      <th>87</th>\n",
       "      <td>0.97</td>\n",
       "      <td>2.04930</td>\n",
       "    </tr>\n",
       "    <tr>\n",
       "      <th>88</th>\n",
       "      <td>0.98</td>\n",
       "      <td>2.05030</td>\n",
       "    </tr>\n",
       "    <tr>\n",
       "      <th>89</th>\n",
       "      <td>0.99</td>\n",
       "      <td>2.02140</td>\n",
       "    </tr>\n",
       "  </tbody>\n",
       "</table>\n",
       "<p>90 rows × 2 columns</p>\n",
       "</div>"
      ],
      "text/plain": [
       "       f        t\n",
       "0   0.10  0.69004\n",
       "1   0.11  0.69497\n",
       "2   0.12  0.74252\n",
       "3   0.13  0.75360\n",
       "4   0.14  0.83568\n",
       "..   ...      ...\n",
       "85  0.95  1.98410\n",
       "86  0.96  2.00660\n",
       "87  0.97  2.04930\n",
       "88  0.98  2.05030\n",
       "89  0.99  2.02140\n",
       "\n",
       "[90 rows x 2 columns]"
      ]
     },
     "execution_count": 13,
     "metadata": {},
     "output_type": "execute_result"
    }
   ],
   "source": [
    "data"
   ]
  },
  {
   "cell_type": "code",
   "execution_count": 42,
   "id": "7b4e1606",
   "metadata": {},
   "outputs": [],
   "source": [
    "f= data['f'].values\n",
    "t=data['t'].values\n",
    "tsq=t*t"
   ]
  },
  {
   "cell_type": "code",
   "execution_count": 43,
   "id": "70dae644",
   "metadata": {},
   "outputs": [
    {
     "data": {
      "text/plain": [
       "array([0.1 , 0.11, 0.12, 0.13, 0.14, 0.15, 0.16, 0.17, 0.18, 0.19, 0.2 ,\n",
       "       0.21, 0.22, 0.23, 0.24, 0.25, 0.26, 0.27, 0.28, 0.29, 0.3 , 0.31,\n",
       "       0.32, 0.33, 0.34, 0.35, 0.36, 0.37, 0.38, 0.39, 0.4 , 0.41, 0.42,\n",
       "       0.43, 0.44, 0.45, 0.46, 0.47, 0.48, 0.49, 0.5 , 0.51, 0.52, 0.53,\n",
       "       0.54, 0.55, 0.56, 0.57, 0.58, 0.59, 0.6 , 0.61, 0.62, 0.63, 0.64,\n",
       "       0.65, 0.66, 0.67, 0.68, 0.69, 0.7 , 0.71, 0.72, 0.73, 0.74, 0.75,\n",
       "       0.76, 0.77, 0.78, 0.79, 0.8 , 0.81, 0.82, 0.83, 0.84, 0.85, 0.86,\n",
       "       0.87, 0.88, 0.89, 0.9 , 0.91, 0.92, 0.93, 0.94, 0.95, 0.96, 0.97,\n",
       "       0.98, 0.99])"
      ]
     },
     "execution_count": 43,
     "metadata": {},
     "output_type": "execute_result"
    }
   ],
   "source": [
    "f"
   ]
  },
  {
   "cell_type": "code",
   "execution_count": 19,
   "id": "74c25d9c",
   "metadata": {},
   "outputs": [
    {
     "data": {
      "text/plain": [
       "(90,)"
      ]
     },
     "execution_count": 19,
     "metadata": {},
     "output_type": "execute_result"
    }
   ],
   "source": [
    "t.shape"
   ]
  },
  {
   "cell_type": "code",
   "execution_count": 18,
   "id": "4a70d4f7",
   "metadata": {},
   "outputs": [],
   "source": [
    "## initialize the m & c\n",
    "m,c=0,0"
   ]
  },
  {
   "cell_type": "code",
   "execution_count": 32,
   "id": "15f136c1",
   "metadata": {},
   "outputs": [],
   "source": [
    "def train(x,y,m,c,eta):\n",
    "    const= -2/len(y)\n",
    "    y_cal= m*x+c\n",
    "    delta_m= const*sum(x*(y-y_cal))\n",
    "    delta_c= const*sum(y-y_cal)\n",
    "    m=m-eta*delta_m\n",
    "    c=c-eta*delta_c\n",
    "    error= sum((y-y_cal)**2)/len(y)\n",
    "    return m,c,error\n",
    "    \n",
    "def train_on_all(x,y,m,c,eta,iterations=1000):\n",
    "    for step in range(iterations):\n",
    "        m,c,err= train(x,y,m,c,eta)\n",
    "    return m,c,err\n",
    "    "
   ]
  },
  {
   "cell_type": "code",
   "execution_count": 33,
   "id": "96a6bcbd",
   "metadata": {},
   "outputs": [],
   "source": [
    "lr=0.01"
   ]
  },
  {
   "cell_type": "code",
   "execution_count": 47,
   "id": "bf7c349c",
   "metadata": {},
   "outputs": [
    {
     "name": "stderr",
     "output_type": "stream",
     "text": [
      "C:\\Users\\excel\\AppData\\Local\\Temp\\ipykernel_14916\\1934223761.py:4: UserWarning: Matplotlib is currently using module://matplotlib_inline.backend_inline, which is a non-GUI backend, so cannot show the figure.\n",
      "  fig.show()\n"
     ]
    },
    {
     "name": "stdout",
     "output_type": "stream",
     "text": [
      "m=3.53904 c=0.419701 Error=0.0319305\n",
      "m=3.59792 c=0.385873 Error=0.027308\n",
      "m=3.65105 c=0.35535 Error=0.0235449\n",
      "m=3.69898 c=0.327811 Error=0.0204815\n",
      "m=3.74223 c=0.302963 Error=0.0179876\n",
      "m=3.78125 c=0.280544 Error=0.0159573\n",
      "m=3.81646 c=0.260316 Error=0.0143046\n",
      "m=3.84823 c=0.242065 Error=0.0129591\n",
      "m=3.87689 c=0.225598 Error=0.0118638\n",
      "m=3.90275 c=0.21074 Error=0.0109721\n"
     ]
    },
    {
     "data": {
      "image/png": "[encoded data removed]",
      "text/plain": [
       "<Figure size 500x500 with 1 Axes>"
      ]
     },
     "metadata": {},
     "output_type": "display_data"
    }
   ],
   "source": [
    "fig= plt.figure(figsize=(5,5))\n",
    "ax= fig.add_subplot(1,1,1)\n",
    "plt.ion()\n",
    "fig.show()\n",
    "fig.canvas.draw()\n",
    "for number in range(10):\n",
    "    m,c,err= train_on_all(f,tsq,m,c,lr,iterations=100)\n",
    "    print('m={0:.6} c={1:.6} Error={2:.6}'.format(m,c,err))\n",
    "    y= m*f +c\n",
    "    ax.plot(f,tsq,'.k')\n",
    "    ax.plot(f,y)\n",
    "    fig.canvas.draw()\n",
    "    time.sleep(1)\n",
    "    "
   ]
  },
  {
   "cell_type": "code",
   "execution_count": null,
   "id": "dc6707cf",
   "metadata": {},
   "outputs": [],
   "source": []
  }
 ],
 "metadata": {
  "kernelspec": {
   "display_name": "Python 3 (ipykernel)",
   "language": "python",
   "name": "python3"
  },
  "language_info": {
   "codemirror_mode": {
    "name": "ipython",
    "version": 3
   },
   "file_extension": ".py",
   "mimetype": "text/x-python",
   "name": "python",
   "nbconvert_exporter": "python",
   "pygments_lexer": "ipython3",
   "version": "3.10.9"
  }
 },
 "nbformat": 4,
 "nbformat_minor": 5
}
