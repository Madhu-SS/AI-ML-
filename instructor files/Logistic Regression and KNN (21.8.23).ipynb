{
 "cells": [
  {
   "cell_type": "code",
   "execution_count": 6,
   "id": "163862b7",
   "metadata": {},
   "outputs": [],
   "source": [
    "import pandas as pd\n",
    "import numpy as np\n",
    "import matplotlib.pyplot as plt\n",
    "import seaborn as sns\n",
    "from sklearn.model_selection import train_test_split\n",
    "from sklearn.linear_model import LogisticRegression"
   ]
  },
  {
   "cell_type": "code",
   "execution_count": 7,
   "id": "7a522675",
   "metadata": {},
   "outputs": [],
   "source": [
    "adm= pd.read_csv('admission.csv')"
   ]
  },
  {
   "cell_type": "code",
   "execution_count": 8,
   "id": "2b40fb02",
   "metadata": {},
   "outputs": [
    {
     "data": {
      "text/html": [
       "<div>\n",
       "<style scoped>\n",
       "    .dataframe tbody tr th:only-of-type {\n",
       "        vertical-align: middle;\n",
       "    }\n",
       "\n",
       "    .dataframe tbody tr th {\n",
       "        vertical-align: top;\n",
       "    }\n",
       "\n",
       "    .dataframe thead th {\n",
       "        text-align: right;\n",
       "    }\n",
       "</style>\n",
       "<table border=\"1\" class=\"dataframe\">\n",
       "  <thead>\n",
       "    <tr style=\"text-align: right;\">\n",
       "      <th></th>\n",
       "      <th>ADMIT</th>\n",
       "      <th>GRE</th>\n",
       "      <th>GPA</th>\n",
       "      <th>RANK</th>\n",
       "    </tr>\n",
       "  </thead>\n",
       "  <tbody>\n",
       "    <tr>\n",
       "      <th>0</th>\n",
       "      <td>0</td>\n",
       "      <td>380</td>\n",
       "      <td>3.61</td>\n",
       "      <td>3</td>\n",
       "    </tr>\n",
       "    <tr>\n",
       "      <th>1</th>\n",
       "      <td>1</td>\n",
       "      <td>660</td>\n",
       "      <td>3.67</td>\n",
       "      <td>3</td>\n",
       "    </tr>\n",
       "    <tr>\n",
       "      <th>2</th>\n",
       "      <td>1</td>\n",
       "      <td>800</td>\n",
       "      <td>4.00</td>\n",
       "      <td>1</td>\n",
       "    </tr>\n",
       "    <tr>\n",
       "      <th>3</th>\n",
       "      <td>1</td>\n",
       "      <td>640</td>\n",
       "      <td>3.19</td>\n",
       "      <td>4</td>\n",
       "    </tr>\n",
       "    <tr>\n",
       "      <th>4</th>\n",
       "      <td>0</td>\n",
       "      <td>520</td>\n",
       "      <td>2.93</td>\n",
       "      <td>4</td>\n",
       "    </tr>\n",
       "  </tbody>\n",
       "</table>\n",
       "</div>"
      ],
      "text/plain": [
       "   ADMIT  GRE   GPA  RANK\n",
       "0      0  380  3.61     3\n",
       "1      1  660  3.67     3\n",
       "2      1  800  4.00     1\n",
       "3      1  640  3.19     4\n",
       "4      0  520  2.93     4"
      ]
     },
     "execution_count": 8,
     "metadata": {},
     "output_type": "execute_result"
    }
   ],
   "source": [
    "adm.head()"
   ]
  },
  {
   "cell_type": "code",
   "execution_count": 9,
   "id": "8aafcfd3",
   "metadata": {},
   "outputs": [
    {
     "name": "stdout",
     "output_type": "stream",
     "text": [
      "<class 'pandas.core.frame.DataFrame'>\n",
      "RangeIndex: 400 entries, 0 to 399\n",
      "Data columns (total 4 columns):\n",
      " #   Column  Non-Null Count  Dtype  \n",
      "---  ------  --------------  -----  \n",
      " 0   ADMIT   400 non-null    int64  \n",
      " 1   GRE     400 non-null    int64  \n",
      " 2   GPA     400 non-null    float64\n",
      " 3   RANK    400 non-null    int64  \n",
      "dtypes: float64(1), int64(3)\n",
      "memory usage: 12.6 KB\n"
     ]
    }
   ],
   "source": [
    "adm.info()"
   ]
  },
  {
   "cell_type": "code",
   "execution_count": 10,
   "id": "27878628",
   "metadata": {},
   "outputs": [
    {
     "data": {
      "text/plain": [
       "ADMIT    0\n",
       "GRE      0\n",
       "GPA      0\n",
       "RANK     0\n",
       "dtype: int64"
      ]
     },
     "execution_count": 10,
     "metadata": {},
     "output_type": "execute_result"
    }
   ],
   "source": [
    "adm.isnull().sum()"
   ]
  },
  {
   "cell_type": "code",
   "execution_count": 11,
   "id": "0686e410",
   "metadata": {},
   "outputs": [
    {
     "data": {
      "text/plain": [
       "(400, 4)"
      ]
     },
     "execution_count": 11,
     "metadata": {},
     "output_type": "execute_result"
    }
   ],
   "source": [
    "adm.shape"
   ]
  },
  {
   "cell_type": "code",
   "execution_count": 12,
   "id": "e416337c",
   "metadata": {},
   "outputs": [
    {
     "data": {
      "text/plain": [
       "1600"
      ]
     },
     "execution_count": 12,
     "metadata": {},
     "output_type": "execute_result"
    }
   ],
   "source": [
    "adm.size"
   ]
  },
  {
   "cell_type": "code",
   "execution_count": 13,
   "id": "d58ff9d6",
   "metadata": {},
   "outputs": [],
   "source": [
    "features= adm.drop('ADMIT',axis=1)"
   ]
  },
  {
   "cell_type": "code",
   "execution_count": 14,
   "id": "eb621c91",
   "metadata": {},
   "outputs": [],
   "source": [
    "target= adm[['ADMIT']]"
   ]
  },
  {
   "cell_type": "code",
   "execution_count": 15,
   "id": "fcd26286",
   "metadata": {},
   "outputs": [],
   "source": [
    "x_train,x_test,y_train,y_test= train_test_split(features,target,train_size=0.75,random_state=100)"
   ]
  },
  {
   "cell_type": "code",
   "execution_count": 17,
   "id": "78ed727f",
   "metadata": {},
   "outputs": [
    {
     "name": "stdout",
     "output_type": "stream",
     "text": [
      "(300, 3)\n",
      "(300, 1)\n",
      "(100, 3)\n",
      "(100, 1)\n"
     ]
    }
   ],
   "source": [
    "print(x_train.shape)\n",
    "print(y_train.shape)\n",
    "print(x_test.shape)\n",
    "print(y_test.shape)\n"
   ]
  },
  {
   "cell_type": "code",
   "execution_count": 18,
   "id": "3c4ea8f3",
   "metadata": {},
   "outputs": [],
   "source": [
    "log_model= LogisticRegression()"
   ]
  },
  {
   "cell_type": "code",
   "execution_count": 22,
   "id": "dfa1ca6b",
   "metadata": {},
   "outputs": [
    {
     "name": "stderr",
     "output_type": "stream",
     "text": [
      "C:\\ProgramData\\anaconda3\\lib\\site-packages\\sklearn\\utils\\validation.py:1143: DataConversionWarning: A column-vector y was passed when a 1d array was expected. Please change the shape of y to (n_samples, ), for example using ravel().\n",
      "  y = column_or_1d(y, warn=True)\n"
     ]
    },
    {
     "data": {
      "text/html": [
       "<style>#sk-container-id-1 {color: black;background-color: white;}#sk-container-id-1 pre{padding: 0;}#sk-container-id-1 div.sk-toggleable {background-color: white;}#sk-container-id-1 label.sk-toggleable__label {cursor: pointer;display: block;width: 100%;margin-bottom: 0;padding: 0.3em;box-sizing: border-box;text-align: center;}#sk-container-id-1 label.sk-toggleable__label-arrow:before {content: \"▸\";float: left;margin-right: 0.25em;color: #696969;}#sk-container-id-1 label.sk-toggleable__label-arrow:hover:before {color: black;}#sk-container-id-1 div.sk-estimator:hover label.sk-toggleable__label-arrow:before {color: black;}#sk-container-id-1 div.sk-toggleable__content {max-height: 0;max-width: 0;overflow: hidden;text-align: left;background-color: #f0f8ff;}#sk-container-id-1 div.sk-toggleable__content pre {margin: 0.2em;color: black;border-radius: 0.25em;background-color: #f0f8ff;}#sk-container-id-1 input.sk-toggleable__control:checked~div.sk-toggleable__content {max-height: 200px;max-width: 100%;overflow: auto;}#sk-container-id-1 input.sk-toggleable__control:checked~label.sk-toggleable__label-arrow:before {content: \"▾\";}#sk-container-id-1 div.sk-estimator input.sk-toggleable__control:checked~label.sk-toggleable__label {background-color: #d4ebff;}#sk-container-id-1 div.sk-label input.sk-toggleable__control:checked~label.sk-toggleable__label {background-color: #d4ebff;}#sk-container-id-1 input.sk-hidden--visually {border: 0;clip: rect(1px 1px 1px 1px);clip: rect(1px, 1px, 1px, 1px);height: 1px;margin: -1px;overflow: hidden;padding: 0;position: absolute;width: 1px;}#sk-container-id-1 div.sk-estimator {font-family: monospace;background-color: #f0f8ff;border: 1px dotted black;border-radius: 0.25em;box-sizing: border-box;margin-bottom: 0.5em;}#sk-container-id-1 div.sk-estimator:hover {background-color: #d4ebff;}#sk-container-id-1 div.sk-parallel-item::after {content: \"\";width: 100%;border-bottom: 1px solid gray;flex-grow: 1;}#sk-container-id-1 div.sk-label:hover label.sk-toggleable__label {background-color: #d4ebff;}#sk-container-id-1 div.sk-serial::before {content: \"\";position: absolute;border-left: 1px solid gray;box-sizing: border-box;top: 0;bottom: 0;left: 50%;z-index: 0;}#sk-container-id-1 div.sk-serial {display: flex;flex-direction: column;align-items: center;background-color: white;padding-right: 0.2em;padding-left: 0.2em;position: relative;}#sk-container-id-1 div.sk-item {position: relative;z-index: 1;}#sk-container-id-1 div.sk-parallel {display: flex;align-items: stretch;justify-content: center;background-color: white;position: relative;}#sk-container-id-1 div.sk-item::before, #sk-container-id-1 div.sk-parallel-item::before {content: \"\";position: absolute;border-left: 1px solid gray;box-sizing: border-box;top: 0;bottom: 0;left: 50%;z-index: -1;}#sk-container-id-1 div.sk-parallel-item {display: flex;flex-direction: column;z-index: 1;position: relative;background-color: white;}#sk-container-id-1 div.sk-parallel-item:first-child::after {align-self: flex-end;width: 50%;}#sk-container-id-1 div.sk-parallel-item:last-child::after {align-self: flex-start;width: 50%;}#sk-container-id-1 div.sk-parallel-item:only-child::after {width: 0;}#sk-container-id-1 div.sk-dashed-wrapped {border: 1px dashed gray;margin: 0 0.4em 0.5em 0.4em;box-sizing: border-box;padding-bottom: 0.4em;background-color: white;}#sk-container-id-1 div.sk-label label {font-family: monospace;font-weight: bold;display: inline-block;line-height: 1.2em;}#sk-container-id-1 div.sk-label-container {text-align: center;}#sk-container-id-1 div.sk-container {/* jupyter's `normalize.less` sets `[hidden] { display: none; }` but bootstrap.min.css set `[hidden] { display: none !important; }` so we also need the `!important` here to be able to override the default hidden behavior on the sphinx rendered scikit-learn.org. See: https://github.com/scikit-learn/scikit-learn/issues/21755 */display: inline-block !important;position: relative;}#sk-container-id-1 div.sk-text-repr-fallback {display: none;}</style><div id=\"sk-container-id-1\" class=\"sk-top-container\"><div class=\"sk-text-repr-fallback\"><pre>LogisticRegression()</pre><b>In a Jupyter environment, please rerun this cell to show the HTML representation or trust the notebook. <br />On GitHub, the HTML representation is unable to render, please try loading this page with nbviewer.org.</b></div><div class=\"sk-container\" hidden><div class=\"sk-item\"><div class=\"sk-estimator sk-toggleable\"><input class=\"sk-toggleable__control sk-hidden--visually\" id=\"sk-estimator-id-1\" type=\"checkbox\" checked><label for=\"sk-estimator-id-1\" class=\"sk-toggleable__label sk-toggleable__label-arrow\">LogisticRegression</label><div class=\"sk-toggleable__content\"><pre>LogisticRegression()</pre></div></div></div></div></div>"
      ],
      "text/plain": [
       "LogisticRegression()"
      ]
     },
     "execution_count": 22,
     "metadata": {},
     "output_type": "execute_result"
    }
   ],
   "source": [
    "log_model.fit(x_train,y_train)"
   ]
  },
  {
   "cell_type": "code",
   "execution_count": 23,
   "id": "90dbbcc3",
   "metadata": {},
   "outputs": [
    {
     "data": {
      "text/plain": [
       "array([[0.68252193, 0.31747807],\n",
       "       [0.87744779, 0.12255221],\n",
       "       [0.48256058, 0.51743942],\n",
       "       [0.86679746, 0.13320254],\n",
       "       [0.93027558, 0.06972442],\n",
       "       [0.69139854, 0.30860146],\n",
       "       [0.61164889, 0.38835111],\n",
       "       [0.82789895, 0.17210105],\n",
       "       [0.78305594, 0.21694406],\n",
       "       [0.73953192, 0.26046808],\n",
       "       [0.88266987, 0.11733013],\n",
       "       [0.58036674, 0.41963326],\n",
       "       [0.84853288, 0.15146712],\n",
       "       [0.73136097, 0.26863903],\n",
       "       [0.62976917, 0.37023083],\n",
       "       [0.86314428, 0.13685572],\n",
       "       [0.58562528, 0.41437472],\n",
       "       [0.88252094, 0.11747906],\n",
       "       [0.82980417, 0.17019583],\n",
       "       [0.83263704, 0.16736296],\n",
       "       [0.87632849, 0.12367151],\n",
       "       [0.70645687, 0.29354313],\n",
       "       [0.60348332, 0.39651668],\n",
       "       [0.52062454, 0.47937546],\n",
       "       [0.53629978, 0.46370022],\n",
       "       [0.77364866, 0.22635134],\n",
       "       [0.74850836, 0.25149164],\n",
       "       [0.71602515, 0.28397485],\n",
       "       [0.81709857, 0.18290143],\n",
       "       [0.84547159, 0.15452841],\n",
       "       [0.66164926, 0.33835074],\n",
       "       [0.78144215, 0.21855785],\n",
       "       [0.42331581, 0.57668419],\n",
       "       [0.69551824, 0.30448176],\n",
       "       [0.53071433, 0.46928567],\n",
       "       [0.81120767, 0.18879233],\n",
       "       [0.81876361, 0.18123639],\n",
       "       [0.67499582, 0.32500418],\n",
       "       [0.92079592, 0.07920408],\n",
       "       [0.29540838, 0.70459162],\n",
       "       [0.87969734, 0.12030266],\n",
       "       [0.74185105, 0.25814895],\n",
       "       [0.59012382, 0.40987618],\n",
       "       [0.39797504, 0.60202496],\n",
       "       [0.68815946, 0.31184054],\n",
       "       [0.5382032 , 0.4617968 ],\n",
       "       [0.82991888, 0.17008112],\n",
       "       [0.74627952, 0.25372048],\n",
       "       [0.67667315, 0.32332685],\n",
       "       [0.36536052, 0.63463948],\n",
       "       [0.52530039, 0.47469961],\n",
       "       [0.78547954, 0.21452046],\n",
       "       [0.57301917, 0.42698083],\n",
       "       [0.69184102, 0.30815898],\n",
       "       [0.67714742, 0.32285258],\n",
       "       [0.7733497 , 0.2266503 ],\n",
       "       [0.59319501, 0.40680499],\n",
       "       [0.56000346, 0.43999654],\n",
       "       [0.79160985, 0.20839015],\n",
       "       [0.57028141, 0.42971859],\n",
       "       [0.63746728, 0.36253272],\n",
       "       [0.57852087, 0.42147913],\n",
       "       [0.66959437, 0.33040563],\n",
       "       [0.88466214, 0.11533786],\n",
       "       [0.58562528, 0.41437472],\n",
       "       [0.78872708, 0.21127292],\n",
       "       [0.64431374, 0.35568626],\n",
       "       [0.61771194, 0.38228806],\n",
       "       [0.76757833, 0.23242167],\n",
       "       [0.81086284, 0.18913716],\n",
       "       [0.74372806, 0.25627194],\n",
       "       [0.8802683 , 0.1197317 ],\n",
       "       [0.69530903, 0.30469097],\n",
       "       [0.4061002 , 0.5938998 ],\n",
       "       [0.59471442, 0.40528558],\n",
       "       [0.75450123, 0.24549877],\n",
       "       [0.92068418, 0.07931582],\n",
       "       [0.73808829, 0.26191171],\n",
       "       [0.73663955, 0.26336045],\n",
       "       [0.29075863, 0.70924137],\n",
       "       [0.69490645, 0.30509355],\n",
       "       [0.65283889, 0.34716111],\n",
       "       [0.67533167, 0.32466833],\n",
       "       [0.37843411, 0.62156589],\n",
       "       [0.82513355, 0.17486645],\n",
       "       [0.6456761 , 0.3543239 ],\n",
       "       [0.8552635 , 0.1447365 ],\n",
       "       [0.60954777, 0.39045223],\n",
       "       [0.93026421, 0.06973579],\n",
       "       [0.85989798, 0.14010202],\n",
       "       [0.49240363, 0.50759637],\n",
       "       [0.78558692, 0.21441308],\n",
       "       [0.64742567, 0.35257433],\n",
       "       [0.42933499, 0.57066501],\n",
       "       [0.81887023, 0.18112977],\n",
       "       [0.52363727, 0.47636273],\n",
       "       [0.55261754, 0.44738246],\n",
       "       [0.85591987, 0.14408013],\n",
       "       [0.48999201, 0.51000799],\n",
       "       [0.61276178, 0.38723822]])"
      ]
     },
     "execution_count": 23,
     "metadata": {},
     "output_type": "execute_result"
    }
   ],
   "source": [
    "log_model.predict_proba(x_test)"
   ]
  },
  {
   "cell_type": "markdown",
   "id": "18e40bbe",
   "metadata": {},
   "source": [
    "### thershold value"
   ]
  },
  {
   "cell_type": "code",
   "execution_count": 85,
   "id": "1671fe9b",
   "metadata": {},
   "outputs": [],
   "source": [
    "y_pred_new= [0 if x[0]>0.6 else 1 for x in log_model.predict_proba(x_test)]"
   ]
  },
  {
   "cell_type": "code",
   "execution_count": 86,
   "id": "d274f464",
   "metadata": {},
   "outputs": [],
   "source": [
    "y_pred= log_model.predict(x_test)"
   ]
  },
  {
   "cell_type": "code",
   "execution_count": 87,
   "id": "36835014",
   "metadata": {},
   "outputs": [
    {
     "data": {
      "text/plain": [
       "array([0, 0, 1, 0, 0, 0, 0, 0, 0, 0, 0, 0, 0, 0, 0, 0, 0, 0, 0, 0, 0, 0,\n",
       "       0, 0, 0, 0, 0, 0, 0, 0, 0, 0, 1, 0, 0, 0, 0, 0, 0, 1, 0, 0, 0, 1,\n",
       "       0, 0, 0, 0, 0, 1, 0, 0, 0, 0, 0, 0, 0, 0, 0, 0, 0, 0, 0, 0, 0, 0,\n",
       "       0, 0, 0, 0, 0, 0, 0, 1, 0, 0, 0, 0, 0, 1, 0, 0, 0, 1, 0, 0, 0, 0,\n",
       "       0, 0, 1, 0, 0, 1, 0, 0, 0, 0, 1, 0], dtype=int64)"
      ]
     },
     "execution_count": 87,
     "metadata": {},
     "output_type": "execute_result"
    }
   ],
   "source": [
    "y_pred"
   ]
  },
  {
   "cell_type": "code",
   "execution_count": 88,
   "id": "f3941fe3",
   "metadata": {},
   "outputs": [],
   "source": [
    "from sklearn.metrics import accuracy_score, confusion_matrix, classification_report"
   ]
  },
  {
   "cell_type": "code",
   "execution_count": 89,
   "id": "4062068a",
   "metadata": {},
   "outputs": [
    {
     "data": {
      "text/plain": [
       "0.64"
      ]
     },
     "execution_count": 89,
     "metadata": {},
     "output_type": "execute_result"
    }
   ],
   "source": [
    "accuracy_score(y_test,y_pred_new)"
   ]
  },
  {
   "cell_type": "code",
   "execution_count": 90,
   "id": "a193863c",
   "metadata": {},
   "outputs": [
    {
     "data": {
      "text/plain": [
       "array([[50, 14],\n",
       "       [22, 14]], dtype=int64)"
      ]
     },
     "execution_count": 90,
     "metadata": {},
     "output_type": "execute_result"
    }
   ],
   "source": [
    "confusion_matrix(y_test,y_pred_new)"
   ]
  },
  {
   "cell_type": "code",
   "execution_count": 91,
   "id": "c0bb3cff",
   "metadata": {},
   "outputs": [
    {
     "name": "stdout",
     "output_type": "stream",
     "text": [
      "              precision    recall  f1-score   support\n",
      "\n",
      "           0       0.69      0.78      0.74        64\n",
      "           1       0.50      0.39      0.44        36\n",
      "\n",
      "    accuracy                           0.64       100\n",
      "   macro avg       0.60      0.59      0.59       100\n",
      "weighted avg       0.62      0.64      0.63       100\n",
      "\n"
     ]
    }
   ],
   "source": [
    "print(classification_report(y_test,y_pred_new))"
   ]
  },
  {
   "cell_type": "code",
   "execution_count": 92,
   "id": "35688de7",
   "metadata": {},
   "outputs": [
    {
     "data": {
      "text/plain": [
       "0.651685393258427"
      ]
     },
     "execution_count": 92,
     "metadata": {},
     "output_type": "execute_result"
    }
   ],
   "source": [
    "precision= 58/(58+31)\n",
    "precision"
   ]
  },
  {
   "cell_type": "code",
   "execution_count": 93,
   "id": "b284e068",
   "metadata": {},
   "outputs": [
    {
     "data": {
      "text/plain": [
       "ADMIT\n",
       "0        64\n",
       "1        36\n",
       "dtype: int64"
      ]
     },
     "execution_count": 93,
     "metadata": {},
     "output_type": "execute_result"
    }
   ],
   "source": [
    "y_test.value_counts()"
   ]
  },
  {
   "cell_type": "code",
   "execution_count": 94,
   "id": "82258306",
   "metadata": {},
   "outputs": [
    {
     "data": {
      "text/plain": [
       "0.63"
      ]
     },
     "execution_count": 94,
     "metadata": {},
     "output_type": "execute_result"
    }
   ],
   "source": [
    "log_model.score(x_test,y_test)"
   ]
  },
  {
   "cell_type": "code",
   "execution_count": null,
   "id": "3c0aa414",
   "metadata": {},
   "outputs": [],
   "source": []
  }
 ],
 "metadata": {
  "kernelspec": {
   "display_name": "Python 3 (ipykernel)",
   "language": "python",
   "name": "python3"
  },
  "language_info": {
   "codemirror_mode": {
    "name": "ipython",
    "version": 3
   },
   "file_extension": ".py",
   "mimetype": "text/x-python",
   "name": "python",
   "nbconvert_exporter": "python",
   "pygments_lexer": "ipython3",
   "version": "3.10.9"
  }
 },
 "nbformat": 4,
 "nbformat_minor": 5
}
