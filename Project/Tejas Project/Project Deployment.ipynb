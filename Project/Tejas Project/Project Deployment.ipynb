{
 "cells": [
  {
   "cell_type": "code",
   "execution_count": 1,
   "id": "eea7bb7e",
   "metadata": {},
   "outputs": [
    {
     "name": "stdout",
     "output_type": "stream",
     "text": [
      "Overwriting streamlit_app.py\n"
     ]
    }
   ],
   "source": [
    "%%writefile streamlit_app.py\n",
    "import streamlit as st\n",
    "import pandas as pd\n",
    "import numpy as np\n",
    "import joblib\n",
    "\n",
    "\n",
    "loaded_model = joblib.load('logistic_regression_model.joblib')\n",
    "\n",
    "st.title(\"Choose your project name\")\n",
    "\n",
    "\n",
    "columns = st.columns(6)\n",
    "\n",
    "\n",
    "column1_selectbox = columns[0].selectbox(\"industrial_risk\", [\"0.0\", \"0.5\", \"1.0\"])\n",
    "column2_selectbox = columns[1].selectbox(\"management_risk\", [\"0.0\", \"0.5\", \"1.0\"])\n",
    "column3_selectbox = columns[2].selectbox(\"financial_flexibility\", [\"0.0\", \"0.5\", \"1.0\"])\n",
    "column4_selectbox = columns[3].selectbox(\"credibility\", [\"0.0\", \"0.5\", \"1.0\"])\n",
    "column5_selectbox = columns[4].selectbox(\"competitiveness\", [\"0.0\", \"0.5\", \"1.0\"])\n",
    "column6_selectbox = columns[5].selectbox(\"operating_risk\", [\"0.0\", \"0.5\", \"1.0\"])\n",
    "\n",
    "\n",
    "btn = st.button(\"Result\")\n",
    "\n",
    "\n",
    "if btn:\n",
    "    x =pd.DataFrame({\"industrial_risk\":[float(column1_selectbox)],\"management_risk\":[float(column2_selectbox)],\"financial_flexibility\":[float(column3_selectbox)],\"credibility\":[float(column4_selectbox)],\"competitiveness\":[float(column5_selectbox)],\"operating_risk\":[float(column6_selectbox)]})\n",
    "    prediction = loaded_model.predict(x)\n",
    "\n",
    "    if prediction == 0:\n",
    "        st.write('Bankruptcy')\n",
    "    else:\n",
    "        st.write('Non-Bankruptcy')\n"
   ]
  },
  {
   "cell_type": "code",
   "execution_count": null,
   "id": "5dfb47bb",
   "metadata": {},
   "outputs": [],
   "source": [
    "!streamlit run streamlit_app.py"
   ]
  },
  {
   "cell_type": "code",
   "execution_count": null,
   "id": "068b4334",
   "metadata": {},
   "outputs": [],
   "source": []
  }
 ],
 "metadata": {
  "kernelspec": {
   "display_name": "Python 3 (ipykernel)",
   "language": "python",
   "name": "python3"
  },
  "language_info": {
   "codemirror_mode": {
    "name": "ipython",
    "version": 3
   },
   "file_extension": ".py",
   "mimetype": "text/x-python",
   "name": "python",
   "nbconvert_exporter": "python",
   "pygments_lexer": "ipython3",
   "version": "3.11.4"
  }
 },
 "nbformat": 4,
 "nbformat_minor": 5
}
