{
 "cells": [
  {
   "cell_type": "markdown",
   "id": "a18997d4",
   "metadata": {
    "id": "a18997d4"
   },
   "source": [
    "# 1. Data Acquisition\n",
    "1.1 import Basic Libraries\n",
    "\n",
    "1.2 Load the datasets"
   ]
  },
  {
   "cell_type": "code",
   "execution_count": 1,
   "id": "d79b11a3",
   "metadata": {},
   "outputs": [
    {
     "name": "stdout",
     "output_type": "stream",
     "text": [
      "Requirement already satisfied: spacy in c:\\users\\hp\\anaconda3\\lib\\site-packages (3.7.2)Note: you may need to restart the kernel to use updated packages.\n",
      "\n",
      "Requirement already satisfied: spacy-legacy<3.1.0,>=3.0.11 in c:\\users\\hp\\anaconda3\\lib\\site-packages (from spacy) (3.0.12)\n",
      "Requirement already satisfied: spacy-loggers<2.0.0,>=1.0.0 in c:\\users\\hp\\anaconda3\\lib\\site-packages (from spacy) (1.0.5)\n",
      "Requirement already satisfied: murmurhash<1.1.0,>=0.28.0 in c:\\users\\hp\\anaconda3\\lib\\site-packages (from spacy) (1.0.10)\n",
      "Requirement already satisfied: cymem<2.1.0,>=2.0.2 in c:\\users\\hp\\anaconda3\\lib\\site-packages (from spacy) (2.0.8)\n",
      "Requirement already satisfied: preshed<3.1.0,>=3.0.2 in c:\\users\\hp\\anaconda3\\lib\\site-packages (from spacy) (3.0.9)\n",
      "Requirement already satisfied: thinc<8.3.0,>=8.1.8 in c:\\users\\hp\\anaconda3\\lib\\site-packages (from spacy) (8.2.2)\n",
      "Requirement already satisfied: wasabi<1.2.0,>=0.9.1 in c:\\users\\hp\\anaconda3\\lib\\site-packages (from spacy) (1.1.2)\n",
      "Requirement already satisfied: srsly<3.0.0,>=2.4.3 in c:\\users\\hp\\anaconda3\\lib\\site-packages (from spacy) (2.4.8)\n",
      "Requirement already satisfied: catalogue<2.1.0,>=2.0.6 in c:\\users\\hp\\anaconda3\\lib\\site-packages (from spacy) (2.0.10)\n",
      "Requirement already satisfied: weasel<0.4.0,>=0.1.0 in c:\\users\\hp\\anaconda3\\lib\\site-packages (from spacy) (0.3.4)\n",
      "Requirement already satisfied: typer<0.10.0,>=0.3.0 in c:\\users\\hp\\anaconda3\\lib\\site-packages (from spacy) (0.9.0)\n",
      "Requirement already satisfied: smart-open<7.0.0,>=5.2.1 in c:\\users\\hp\\anaconda3\\lib\\site-packages (from spacy) (5.2.1)\n",
      "Requirement already satisfied: tqdm<5.0.0,>=4.38.0 in c:\\users\\hp\\anaconda3\\lib\\site-packages (from spacy) (4.65.0)\n",
      "Requirement already satisfied: requests<3.0.0,>=2.13.0 in c:\\users\\hp\\anaconda3\\lib\\site-packages (from spacy) (2.31.0)\n",
      "Requirement already satisfied: pydantic!=1.8,!=1.8.1,<3.0.0,>=1.7.4 in c:\\users\\hp\\anaconda3\\lib\\site-packages (from spacy) (1.10.12)\n",
      "Requirement already satisfied: jinja2 in c:\\users\\hp\\anaconda3\\lib\\site-packages (from spacy) (3.1.2)\n",
      "Requirement already satisfied: setuptools in c:\\users\\hp\\anaconda3\\lib\\site-packages (from spacy) (68.0.0)\n",
      "Requirement already satisfied: packaging>=20.0 in c:\\users\\hp\\anaconda3\\lib\\site-packages (from spacy) (23.0)\n",
      "Requirement already satisfied: langcodes<4.0.0,>=3.2.0 in c:\\users\\hp\\anaconda3\\lib\\site-packages (from spacy) (3.3.0)\n",
      "Requirement already satisfied: numpy>=1.19.0 in c:\\users\\hp\\anaconda3\\lib\\site-packages (from spacy) (1.24.3)\n",
      "Requirement already satisfied: typing-extensions>=4.2.0 in c:\\users\\hp\\anaconda3\\lib\\site-packages (from pydantic!=1.8,!=1.8.1,<3.0.0,>=1.7.4->spacy) (4.7.1)\n",
      "Requirement already satisfied: charset-normalizer<4,>=2 in c:\\users\\hp\\anaconda3\\lib\\site-packages (from requests<3.0.0,>=2.13.0->spacy) (2.0.4)\n",
      "Requirement already satisfied: idna<4,>=2.5 in c:\\users\\hp\\anaconda3\\lib\\site-packages (from requests<3.0.0,>=2.13.0->spacy) (3.4)\n",
      "Requirement already satisfied: urllib3<3,>=1.21.1 in c:\\users\\hp\\anaconda3\\lib\\site-packages (from requests<3.0.0,>=2.13.0->spacy) (1.26.16)\n",
      "Requirement already satisfied: certifi>=2017.4.17 in c:\\users\\hp\\anaconda3\\lib\\site-packages (from requests<3.0.0,>=2.13.0->spacy) (2023.7.22)\n",
      "Requirement already satisfied: blis<0.8.0,>=0.7.8 in c:\\users\\hp\\anaconda3\\lib\\site-packages (from thinc<8.3.0,>=8.1.8->spacy) (0.7.11)\n",
      "Requirement already satisfied: confection<1.0.0,>=0.0.1 in c:\\users\\hp\\anaconda3\\lib\\site-packages (from thinc<8.3.0,>=8.1.8->spacy) (0.1.4)\n",
      "Requirement already satisfied: colorama in c:\\users\\hp\\anaconda3\\lib\\site-packages (from tqdm<5.0.0,>=4.38.0->spacy) (0.4.6)\n",
      "Requirement already satisfied: click<9.0.0,>=7.1.1 in c:\\users\\hp\\anaconda3\\lib\\site-packages (from typer<0.10.0,>=0.3.0->spacy) (8.0.4)\n",
      "Requirement already satisfied: cloudpathlib<0.17.0,>=0.7.0 in c:\\users\\hp\\anaconda3\\lib\\site-packages (from weasel<0.4.0,>=0.1.0->spacy) (0.16.0)\n",
      "Requirement already satisfied: MarkupSafe>=2.0 in c:\\users\\hp\\anaconda3\\lib\\site-packages (from jinja2->spacy) (2.1.1)\n"
     ]
    }
   ],
   "source": [
    "pip install spacy"
   ]
  },
  {
   "cell_type": "code",
   "execution_count": 2,
   "id": "5fd8db5c",
   "metadata": {
    "scrolled": true
   },
   "outputs": [
    {
     "name": "stdout",
     "output_type": "stream",
     "text": [
      "Requirement already satisfied: textblob in c:\\users\\hp\\anaconda3\\lib\\site-packages (0.17.1)\n",
      "Requirement already satisfied: nltk>=3.1 in c:\\users\\hp\\anaconda3\\lib\\site-packages (from textblob) (3.8.1)\n",
      "Requirement already satisfied: click in c:\\users\\hp\\anaconda3\\lib\\site-packages (from nltk>=3.1->textblob) (8.0.4)\n",
      "Requirement already satisfied: joblib in c:\\users\\hp\\anaconda3\\lib\\site-packages (from nltk>=3.1->textblob) (1.2.0)\n",
      "Requirement already satisfied: regex>=2021.8.3 in c:\\users\\hp\\anaconda3\\lib\\site-packages (from nltk>=3.1->textblob) (2022.7.9)\n",
      "Requirement already satisfied: tqdm in c:\\users\\hp\\anaconda3\\lib\\site-packages (from nltk>=3.1->textblob) (4.65.0)\n",
      "Requirement already satisfied: colorama in c:\\users\\hp\\anaconda3\\lib\\site-packages (from click->nltk>=3.1->textblob) (0.4.6)\n",
      "Note: you may need to restart the kernel to use updated packages.\n"
     ]
    }
   ],
   "source": [
    "pip install textblob"
   ]
  },
  {
   "cell_type": "code",
   "execution_count": 3,
   "id": "aaf970c6",
   "metadata": {
    "id": "aaf970c6"
   },
   "outputs": [],
   "source": [
    "# import Libraries\n",
    "import pandas as pd\n",
    "import matplotlib.pyplot as plt\n",
    "%matplotlib inline\n",
    "import seaborn as sns\n",
    "import re\n",
    "import string\n",
    "import nltk\n",
    "import spacy\n",
    "from nltk.corpus import stopwords\n",
    "from nltk.tokenize import word_tokenize\n",
    "from textblob import Word\n",
    "from nltk.stem import PorterStemmer\n",
    "from nltk.stem import WordNetLemmatizer\n",
    "\n",
    "\n",
    "import warnings\n",
    "warnings.filterwarnings(\"ignore\")"
   ]
  },
  {
   "cell_type": "code",
   "execution_count": 4,
   "id": "E6CRpTfgO7tU",
   "metadata": {
    "colab": {
     "base_uri": "https://localhost:8080/",
     "height": 73
    },
    "id": "E6CRpTfgO7tU",
    "outputId": "c567fc54-5770-4b67-de99-ab86cad82e84"
   },
   "outputs": [],
   "source": [
    "# from google.colab import files\n",
    "# upload = files.upload()"
   ]
  },
  {
   "cell_type": "code",
   "execution_count": 5,
   "id": "ODnqBwV4Ob_Q",
   "metadata": {
    "id": "ODnqBwV4Ob_Q"
   },
   "outputs": [],
   "source": [
    "reviews=pd.read_excel('hotel_reviews (2).xlsx')"
   ]
  },
  {
   "cell_type": "markdown",
   "id": "f32edc3b",
   "metadata": {
    "id": "f32edc3b"
   },
   "source": [
    "# 2. Exploratory Data Analysis (EDA)\n",
    "2.1 Data Exploration\n",
    "\n",
    "2.2 Checking duplicates & null values\n",
    "\n",
    "2.3 Removing Unwanted features\n",
    "\n",
    "After examining \"@\", we came to the conclusion that this columns is not useful in our Modelling. We will drop those column.\n",
    "2.4 Checking the data with different aspects before preprocessing it."
   ]
  },
  {
   "cell_type": "code",
   "execution_count": 6,
   "id": "a0274194",
   "metadata": {
    "colab": {
     "base_uri": "https://localhost:8080/",
     "height": 223
    },
    "id": "a0274194",
    "outputId": "32298d2b-41a8-420a-ab5b-64f34f9c3556"
   },
   "outputs": [
    {
     "name": "stdout",
     "output_type": "stream",
     "text": [
      "the shape of this dataset is : (20491, 2)\n"
     ]
    },
    {
     "data": {
      "text/html": [
       "<div>\n",
       "<style scoped>\n",
       "    .dataframe tbody tr th:only-of-type {\n",
       "        vertical-align: middle;\n",
       "    }\n",
       "\n",
       "    .dataframe tbody tr th {\n",
       "        vertical-align: top;\n",
       "    }\n",
       "\n",
       "    .dataframe thead th {\n",
       "        text-align: right;\n",
       "    }\n",
       "</style>\n",
       "<table border=\"1\" class=\"dataframe\">\n",
       "  <thead>\n",
       "    <tr style=\"text-align: right;\">\n",
       "      <th></th>\n",
       "      <th>Review</th>\n",
       "      <th>Rating</th>\n",
       "    </tr>\n",
       "  </thead>\n",
       "  <tbody>\n",
       "    <tr>\n",
       "      <th>848</th>\n",
       "      <td>good service not aware hotel haunted till chec...</td>\n",
       "      <td>4</td>\n",
       "    </tr>\n",
       "    <tr>\n",
       "      <th>7891</th>\n",
       "      <td>fantastic weekend birthday year husband surpri...</td>\n",
       "      <td>5</td>\n",
       "    </tr>\n",
       "    <tr>\n",
       "      <th>10293</th>\n",
       "      <td>tiggertastic like people read poor reviews hot...</td>\n",
       "      <td>4</td>\n",
       "    </tr>\n",
       "    <tr>\n",
       "      <th>4395</th>\n",
       "      <td>nice stayed hotel nov 19-23. great little bout...</td>\n",
       "      <td>4</td>\n",
       "    </tr>\n",
       "    <tr>\n",
       "      <th>11011</th>\n",
       "      <td>friendly florence warmly welcomed friendly hel...</td>\n",
       "      <td>5</td>\n",
       "    </tr>\n",
       "  </tbody>\n",
       "</table>\n",
       "</div>"
      ],
      "text/plain": [
       "                                                  Review  Rating\n",
       "848    good service not aware hotel haunted till chec...       4\n",
       "7891   fantastic weekend birthday year husband surpri...       5\n",
       "10293  tiggertastic like people read poor reviews hot...       4\n",
       "4395   nice stayed hotel nov 19-23. great little bout...       4\n",
       "11011  friendly florence warmly welcomed friendly hel...       5"
      ]
     },
     "execution_count": 6,
     "metadata": {},
     "output_type": "execute_result"
    }
   ],
   "source": [
    "reviews = pd.read_excel('hotel_reviews (2).xlsx')\n",
    "reviews.drop(columns={'@'},inplace=True)\n",
    "print(\"the shape of this dataset is :\",reviews.shape)\n",
    "reviews.sample(5)"
   ]
  },
  {
   "cell_type": "markdown",
   "id": "ae1924c7",
   "metadata": {
    "id": "ae1924c7"
   },
   "source": [
    "# 3. Text-PreProcessing\n",
    "3.1 Cleaning data\n",
    "\n",
    "There are a number of special characters and other values that needs to be removed. We will define a clean text function to remove it.\n",
    "This function will convert all text to lower case\n",
    "3.2 Removing Emojis\n",
    "\n",
    "certain useless emojis will be added to data which should be removed custom emojis list.\n",
    "3.3 Chat words abbrevation replacements\n",
    "\n",
    "Short forms like IDK, WTF, FYI etc will be replaced with their abbrevations.\n",
    "3.4 Tokenization\n",
    "\n",
    "To breaks text into smaller parts for easier to remove stopwords, doing Stemming & Lemmatization.\n",
    "3.6 Spell Checker\n",
    "\n",
    "to check every spelling and correct it if it is wrong\n",
    "3.7 StopWords\n",
    "\n",
    "to eliminate words that are so widely used that they carry very little useful information.\n",
    "3.8 Stemming\n",
    "\n",
    "reducing a word to its word stem that suffixes or the roots\n",
    "3.9 Lemmatization\n",
    "\n",
    "lemmatization is to reduce a word to its root form"
   ]
  },
  {
   "cell_type": "code",
   "execution_count": 7,
   "id": "2370b6f6",
   "metadata": {
    "colab": {
     "base_uri": "https://localhost:8080/",
     "height": 206
    },
    "id": "2370b6f6",
    "outputId": "6b9feb10-c699-499c-9a23-a918308c8faa"
   },
   "outputs": [
    {
     "data": {
      "text/html": [
       "<div>\n",
       "<style scoped>\n",
       "    .dataframe tbody tr th:only-of-type {\n",
       "        vertical-align: middle;\n",
       "    }\n",
       "\n",
       "    .dataframe tbody tr th {\n",
       "        vertical-align: top;\n",
       "    }\n",
       "\n",
       "    .dataframe thead th {\n",
       "        text-align: right;\n",
       "    }\n",
       "</style>\n",
       "<table border=\"1\" class=\"dataframe\">\n",
       "  <thead>\n",
       "    <tr style=\"text-align: right;\">\n",
       "      <th></th>\n",
       "      <th>Review</th>\n",
       "    </tr>\n",
       "  </thead>\n",
       "  <tbody>\n",
       "    <tr>\n",
       "      <th>0</th>\n",
       "      <td>nice hotel expensive parking got good deal sta...</td>\n",
       "    </tr>\n",
       "    <tr>\n",
       "      <th>1</th>\n",
       "      <td>ok nothing special charge diamond member hilto...</td>\n",
       "    </tr>\n",
       "    <tr>\n",
       "      <th>2</th>\n",
       "      <td>nice rooms not 4* experience hotel monaco seat...</td>\n",
       "    </tr>\n",
       "    <tr>\n",
       "      <th>3</th>\n",
       "      <td>unique, great stay, wonderful time hotel monac...</td>\n",
       "    </tr>\n",
       "    <tr>\n",
       "      <th>4</th>\n",
       "      <td>great stay great stay, went seahawk game aweso...</td>\n",
       "    </tr>\n",
       "  </tbody>\n",
       "</table>\n",
       "</div>"
      ],
      "text/plain": [
       "                                              Review\n",
       "0  nice hotel expensive parking got good deal sta...\n",
       "1  ok nothing special charge diamond member hilto...\n",
       "2  nice rooms not 4* experience hotel monaco seat...\n",
       "3  unique, great stay, wonderful time hotel monac...\n",
       "4  great stay great stay, went seahawk game aweso..."
      ]
     },
     "execution_count": 7,
     "metadata": {},
     "output_type": "execute_result"
    }
   ],
   "source": [
    "# Data Pre-Processing\n",
    "df = reviews[[\"Review\"]]\n",
    "df.head()"
   ]
  },
  {
   "cell_type": "code",
   "execution_count": 8,
   "id": "d0f7bc6c",
   "metadata": {
    "id": "d0f7bc6c"
   },
   "outputs": [],
   "source": [
    "# convert to lower case and removing punctuations,lowercase, remove text in square brackets,remove links,remove punctuation and remove words containing numbers.\n",
    "def clean_text(text):\n",
    "    '''Make text lowercase, remove text in square brackets,remove links,remove punctuation\n",
    "    and remove words containing numbers.'''\n",
    "    text = text.lower()\n",
    "    #text = re.sub('[^a-z]', '', text)\n",
    "    text = re.sub('\\[.*?\\]', '', text)\n",
    "    text = re.sub('https?://*', '', text)\n",
    "    text = re.sub(\"\\www.*\", \"\", text)\n",
    "    text = re.sub(\"\\.com*\", \"\", text)\n",
    "    text = re.sub('<.*?>+', '', text)\n",
    "    text = re.sub('[%s]' % re.escape(string.punctuation), '', text)\n",
    "    text = re.sub('\\n', '', text)\n",
    "    text = re.sub('\\w*\\d\\w*', '', text)\n",
    "    return text"
   ]
  },
  {
   "cell_type": "code",
   "execution_count": 9,
   "id": "e76f64f0",
   "metadata": {
    "colab": {
     "base_uri": "https://localhost:8080/",
     "height": 206
    },
    "id": "e76f64f0",
    "outputId": "c68d6376-bd54-4478-caaf-5ed2a2d59d46"
   },
   "outputs": [
    {
     "data": {
      "text/html": [
       "<div>\n",
       "<style scoped>\n",
       "    .dataframe tbody tr th:only-of-type {\n",
       "        vertical-align: middle;\n",
       "    }\n",
       "\n",
       "    .dataframe tbody tr th {\n",
       "        vertical-align: top;\n",
       "    }\n",
       "\n",
       "    .dataframe thead th {\n",
       "        text-align: right;\n",
       "    }\n",
       "</style>\n",
       "<table border=\"1\" class=\"dataframe\">\n",
       "  <thead>\n",
       "    <tr style=\"text-align: right;\">\n",
       "      <th></th>\n",
       "      <th>Review</th>\n",
       "      <th>Clean_Reviews</th>\n",
       "    </tr>\n",
       "  </thead>\n",
       "  <tbody>\n",
       "    <tr>\n",
       "      <th>0</th>\n",
       "      <td>nice hotel expensive parking got good deal sta...</td>\n",
       "      <td>nice hotel expensive parking got good deal sta...</td>\n",
       "    </tr>\n",
       "    <tr>\n",
       "      <th>1</th>\n",
       "      <td>ok nothing special charge diamond member hilto...</td>\n",
       "      <td>ok nothing special charge diamond member hilto...</td>\n",
       "    </tr>\n",
       "    <tr>\n",
       "      <th>2</th>\n",
       "      <td>nice rooms not 4* experience hotel monaco seat...</td>\n",
       "      <td>nice rooms not  experience hotel monaco seattl...</td>\n",
       "    </tr>\n",
       "    <tr>\n",
       "      <th>3</th>\n",
       "      <td>unique, great stay, wonderful time hotel monac...</td>\n",
       "      <td>unique great stay wonderful time hotel monaco ...</td>\n",
       "    </tr>\n",
       "    <tr>\n",
       "      <th>4</th>\n",
       "      <td>great stay great stay, went seahawk game aweso...</td>\n",
       "      <td>great stay great stay went seahawk game awesom...</td>\n",
       "    </tr>\n",
       "  </tbody>\n",
       "</table>\n",
       "</div>"
      ],
      "text/plain": [
       "                                              Review  \\\n",
       "0  nice hotel expensive parking got good deal sta...   \n",
       "1  ok nothing special charge diamond member hilto...   \n",
       "2  nice rooms not 4* experience hotel monaco seat...   \n",
       "3  unique, great stay, wonderful time hotel monac...   \n",
       "4  great stay great stay, went seahawk game aweso...   \n",
       "\n",
       "                                       Clean_Reviews  \n",
       "0  nice hotel expensive parking got good deal sta...  \n",
       "1  ok nothing special charge diamond member hilto...  \n",
       "2  nice rooms not  experience hotel monaco seattl...  \n",
       "3  unique great stay wonderful time hotel monaco ...  \n",
       "4  great stay great stay went seahawk game awesom...  "
      ]
     },
     "execution_count": 9,
     "metadata": {},
     "output_type": "execute_result"
    }
   ],
   "source": [
    "df[\"Clean_Reviews\"] = df[\"Review\"].apply(lambda x: clean_text(x))\n",
    "df.head()"
   ]
  },
  {
   "cell_type": "code",
   "execution_count": 10,
   "id": "0d961b66",
   "metadata": {
    "colab": {
     "base_uri": "https://localhost:8080/"
    },
    "id": "0d961b66",
    "outputId": "24ae818c-759f-4ef4-a00e-dfdb8e349ec7"
   },
   "outputs": [
    {
     "name": "stdout",
     "output_type": "stream",
     "text": [
      "['nice hotel expensive parking got good deal stay hotel anniversary arrived late evening took advice previous reviews did valet parking check quick easy little disappointed nonexistent view room room clean nice size bed comfortable woke stiff neck high pillows not soundproof like heard music room night morning loud bangs doors opening closing hear people talking hallway maybe just noisy neighbors aveda bath products nice did not goldfish stay nice touch taken advantage staying longer location great walking distance shopping overall nice experience having pay  parking night  ', 'ok nothing special charge diamond member hilton decided chain shot  anniversary seattle start booked suite paid extra website description not suite bedroom bathroom standard hotel room took printed reservation desk showed said things like tv couch ect desk clerk told oh mixed suites description kimpton website sorry free breakfast got kidding embassy suits sitting room bathroom bedroom unlike kimpton calls suite  day stay offer correct false advertising send kimpton preferred guest website email asking failure provide suite advertised website reservation description furnished hard copy reservation printout website desk manager duty did not reply solution send email trip guest survey did not follow email mail guess tell concerned guestthe staff ranged indifferent not helpful asked desk good breakfast spots neighborhood hood told no hotels gee best breakfast spots seattle  block away convenient hotel does not know exist arrived late night  pm inside run bellman busy chating cell phone help bagsprior arrival emailed hotel inform  anniversary half really picky wanted make sure good got nice email saying like deliver bottle champagne chocolate covered strawberries room arrival celebrate told needed foam pillows arrival no champagne strawberries no foam pillows great room view alley high rise building good not better housekeeping staff cleaner room property impressed left morning shopping room got short trips  hours beds comfortablenot good acheat control  x  inch screen bring green shine directly eyes night light sensitive tape controlsthis not  start hotel clean business hotel super high rates better chain hotels seattle  ', 'nice rooms not  experience hotel monaco seattle good hotel nt  levelpositives large bathroom mediterranean suite comfortable bed pillowsattentive housekeeping staffnegatives ac unit malfunctioned stay desk disorganized missed  separate wakeup calls concierge busy hard touch did nt provide guidance special requeststv hard use ipod sound dock suite non functioning decided book mediterranean suite  night weekend stay  choice rest party filled comparison w spent  night larger square footage room great soaking tub whirlpool jets nice showerbefore stay hotel arrange car service price  tip reasonable driver waiting arrivalcheckin easy downside room picked  person jacuzi tub no bath accessories salts bubble bath did nt stay night got  checked voucher bottle champagne nice gesture fish waiting room impression room huge open space felt room big tv far away bed chore change channel ipod dock broken disappointingin morning way asked desk check thermostat said    degrees warm try cover face night bright blue light kept got room night no  drop desk called maintainence came look thermostat told play settings happy digital box wo nt work asked wakeup  morning did nt happen called later  nap wakeup forgot  wakeup morning yep forgottenthe bathroom facilities great room surprised room sold whirlpool bath tub nt bath amenities great relax water jets going  ', 'unique great stay wonderful time hotel monaco location excellent short stroll main downtown shopping area pet friendly room showed no signs animal hair smells monaco suite sleeping area big striped curtains pulled closed nice touch felt cosy goldfish named brandi enjoyed did nt partake free wine coffeetea service lobby thought great feature great staff friendly free wireless internet hotel worked suite  laptops decor lovely eclectic mix pattens color palatte animal print bathrobes feel like rock stars nice did nt look like sterile chain hotel hotel personality excellent stay  ', 'great stay great stay went seahawk game awesome downfall view building did nt complain room huge staff helpful booked hotels website seahawk package no charge parking got voucher taxi problem taxi driver did nt want accept voucher barely spoke english funny thing speak arabic called started making comments girlfriend cell phone buddy took second realize just said fact speak language face priceless ass told said large city told head doorman issue called cab company promply answer did nt apologized offered pay taxi bucks  miles stadium game plan taxi return going humpin great walk did nt mind right christmas wonderful lights homeless stowed away building entrances leave police presence not greatest area stadium activities  blocks pike street waterfront great coffee shops way hotel mantained foyer awesome wine tasting available evening best dog taking st bernard time family safes hotel located service desk room bathroom huge jetted tub huge funny house keeping walked girlfriend getting dressed did nt hear knock doing turn service screamed girlfriend screams hit floor laughing started talking spanish worked place recommend price check online deals just good not better besite contains deals vouchers travel websites nt tell  ', 'love monaco staff husband stayed hotel crazy weekend attending memorial service best friend husband celebrating  wedding anniversary talk mixed emotions booked suite hotel monte carlos loaned beautiful fantanned goldfish named joliet weekend visited dogs worked desk human companions room decorated nicely couch used pillows loccitane bath amenities welcome sight room quiet peaceful wireless internet access wonderful server went morning leaving problems printing boarding passes afternoon reception serves oenophilesatisfying wine australia scrumptious cookies restaurant closed renovation stay finally ate food good drinks better word caution restaurant larger person not sit booths wo nt fit   lbs husband   table smackagainst stomach couple inches space mighty uncomfortable patron larger pregnant bad design opinion place decorated funky welcoming way metal wood handblown glass light fixtures expect seattle capital glass art industry definitely stay reason  ', 'cozy stay rainy city husband spent  nights monaco early january  business trip chance come ridewe booked monte carlo suite proved comfortable longish stay room  located street building street noise not problem view interesting rooms building look dank alley midsection large office building suite comfortable plenty room spread bathroom attractive squeaky clean small comparison generous proportions sitting sleeping areas lots comfortable seating options good lighting plenty storage clothing luggage hotel staff friendly efficient housekeeping staff did great job pleasant requests responded quicklythe location quite good easy walk pike street market seattle art museum notch shopping dining optionsa positive experience  ', 'excellent staff housekeeping quality hotel chocked staff make feel home experienced exceptional service desk staff concierge door men maid service needs work maid failed tuck sheets foot bed instance soiled sheets used staff quickley resolved soiled sheets issue guess relates employee not reflection rest staffwe received excellent advice concierge regarding resturants area happy hour wine tasting nice touch staff went way make feel homegreat location like close good food shopping took play  street theather wellpikes market pioneer square access mono rail short walking distance  ', 'hotel stayed hotel monaco cruise rooms generous decorated uniquely hotel remodeled pacific bell building charm sturdiness everytime walked bell men felt like coming home secure great single travelers location fabulous walk things pike market space needlelittle grocerydrug store block away today green bravo  double bed room room bed couch separated curtain snoring mom slept curtain great food nearby  ', 'excellent stayed hotel monaco past we delight reception staff friendly professional room smart comfortable bed particularly liked reception small dog received staff guests spoke loved mild negative distance uphill ppmarket restaurants  overall great experience  ', 'poor value stayed monaco seattle july nice hotel priced   night not hotel takes beating quotient experience simply average nothing exceptional paying  nt ca nt terribly disappointed wife stayed nicest suites  felt like overpaying best advice shop qualitywise league average marriott nice best western  ', 'nice value seattle stayed  nights late  looked comparable hilton marriott westin area pointsmiles nt gave monaco shot pleasantly surprised nice room service quick tasty bed especially comfortable unlike people nothing positive things say service downside relatively small exercise room treadmill heck east coast time ran person  days definitely stay  ', 'nice hotel good location hotel kimpton design whimsical vibe fun staff young casual problem hotel busy stay friendly helpful group reserved rooms gave connecting rooms fuss not busy weekthe rooms decent size not huge pretty average city hotel beds nice bathrooms clean bright pocket doors ideal busy bathroom room design bright cheery flat panel tv location little noisy fine  floor location convenient walkable attractions new central library sam art museum benaroya concert hall pike place market parking steep  evening wine receptions popular  ', 'nice hotel not nice staff hotel lovely staff quite rude bellhop desk clerk going way make things difficult waited forever check heavy bags no help getting throught double doors room worst desk clerk checking tap tap tap car waited pick  minutes got home noticed  dollar hold credit card took  phonecalls  faxes  week resolved stay warwck  lenora rooms okbut al friendly faces tiring day airport  ', 'great hotel night quick business trip loved little touches like goldfish leopard print robe complaint wifi complimentary not internet access business center great location library service fabulous  ', 'horrible customer service hotel stay february    friend picked hotel monaco appealing website online package included champagne late checkout  free valet gift spa weekend friend checked room hours earlier came later pulled valet young man just stood asked valet open said pull bags didnçé offer help got garment bag suitcase came car key room number says not valet car park car street pull left key working asked valet park car gets went room fine bottle champagne oil lotion gift spa dressed went came got bed noticed blood drops pillows sheets pillows disgusted just unbelievable called desk sent somebody  minutes later swapped sheets left apologizing sunday morning called desk speak management sheets aggravated rude apparently no manager kind supervisor weekend wait monday morning young man spoke said cover food adding person changed sheets said fresh blood rude tone checkout  package booked   staff maids tried walk room opening door apologizing closing people called saying check  remind package finally packed things went downstairs check quickly signed paper took way took closer look room unfortunately covered food offered charged valet called desk ask charges lady answered snapped saying aware problem experienced monday like told earlier life treated like hotel not sure hotel constantly problems lucky ones stay recommend anybody know  ', 'disappointed say anticipating stay hotel monaco based reviews seen tripadvisor definitely disppointment decor room hotel envisioned nice housekeeping staff impressive extremely polite cheery helpful desk bellmen standard customer service lots little things easily overlooked broken make mirror sagging post bathroom jiggly entrance handle room did nt feel secure handle nearly falling door husband early morning flight midweek asked cab called suggested cab ride cost double private car flatrate nt case knew cost cab  car  bell staff insisted like  taxi ride cab driver later explained bell staff kick referrals preferred guests city andor hotel hotel staff looking best interests new years planned dining restaurant hotel new year day came dressed dinner told desk closed holiday asked nearby response good luck finding today good luck thanks help feature needed hotel business centre work downstairs service completely semifuncitional internet service outsourced ended spending  money nt work no refund  hours vacation time troubleshooting internet company toll free service line asked desk times assistance told worst experience time asked desk assistance got response included shrug say oh bad majority staff attitude just simply did not care needed help dared intrude time got snotty response occasions caught desk girls smirking thought turned nt talk frustrating honesty nt wait check nice decor liked goldfish housekeeping staff great end hotel want dash door nt way not concerned taking greet pretty ignored desk area unless approached time street westin saw nothing smiling faces coming going hotel  ', 'fantastic stay monaco seattle hotel monaco holds high standards kimpton hotel line having stayed kimpton hotels cities easily say seattle hotel monaco best seen service attentive prompt based member kimpton loyalty program upgraded  floor room great view  street excellent public library kittycorner hotel highly recommend tour public library blown away room quite spacious beautiful flatscreen television dvdcd player exercise room pretty standard kimpton size means adequate not outstanding eliptical cardio machines stationary bikes personal viewing screens cardio machine screens accept dvd not seen kimpton hotels hotel monaco line particular hotel lobby stylish quirky inviting easy imagine spending time relaxing comfortable overstuffed chairs restaurant attached hotel sazerac good far eaten lunch look forward breakfast tomorrow kimpton properties able connect free highspeed internet ethernet seconds cruising web checking email office no problems opinion ca nt wrong kimpton hotel seattle hotel monaco certainly excellent choice  ', 'good choice hotel recommended sister great location room nice comfortable bed quiet staff helpful recommendations restaurants pike market  block walk stay  ', 'hmmmmm say really high hopes hotel monaco chose base girlfriend shopping trip seattle stay say given competition seattle just okay hotel lot nice features little things detract bedding super soft luxurious comforters pillows mattress rock hard standard hotel bed kept awake nights furnishings nice colors patterns fun chair rip wall paper peeling stayed room  noise like fog horn vibrated walls stay guess water pipes really annoyingon waking morning packages decaf instead regular coffee took  minutes send coffee showed just package coffee town usa little package  tiny dried creamers supposed coffee service lobby saw cleared really early gone  wine reception  boy better time walk  like did look manager like trying scope  glass food plate goldfish crackers classyfriday night restaurant bar closed  private party planned eat heard fun bar bummer add restall hotel posters say things like hotel comfort felt catered comfortable no staff asked doing said hello looking visit  ', 'service service service spent week gfriend labor day bumbershoot gray line airporter drops corner hotel  person cab  total make sure flat rate town car  location central downtown street w itçé quick walk points tourist business yes space needle bit far monorail westlake center easy walk away tourist underground tour public market space needle emp leave bit room luggage shopping great neighborhood safe clean room mediterranean suite quite large equipped twoperson jacuzzi tub small stand glassenclosed shower room no view did not care room clean small throw blanket adorned foot bed took tastefully decorated walls striped trust wont feel like stale hotel ask gold fish bring wellbehaved dog companyservice aspects excellent desk house keeping concierge room service bell desk ready provide warm professional service test donçé flinchgym open  hours newer cardio machines dumbbells highest weight  water towels tv goldçé walking distancegastronomy sazerac worth try not impressive itçé amusingthis visit seattle monaco like beds westin better prefer monaco afford w gfriends visit wants bumbershoot year stay hotel monaco  ', 'excellent stay delightful surprise stay monaco thoroughly enjoyed stay room comfortable lovely amenities friendly staff especially enjoyed hour indulgence definitely come  ', 'good value downtown hotel monaco seattle great option pricey area town rooms w street going close  night hotel monaco unique interesting cozy bedlinens quality aveda products bathroom nice touchyou close downtown quick cab ride away nightlife restaurants loved lola experience quirky luxurious funi definitely stay  ', 'hotel monaco great location service hotel monaco centrally located provides excellent service recently stayed  originally checked slight problem informed booked queen beds expedia room king bed fortunately fellow guest checking time swapped rooms future reference booking expedia recommend double checking hotel ensure receive correct room staff stated better book hotel directly match online rates additionally concierge marco helpful sat night called salty make reservations brunch day informed no seats available following day concierge called restaurant hours wanted dine able book table  great window view hotel blocks away pike place market seattle art museum shopping district walking distance space needle experience music project attractions ammenities services provided hotel include pet goldfish wine tasting yoga mat use room seattle recommend taking helicopter tour mt st helens hoffstadt visitor center  ', 'great location need internally upgrade advantage north end downtown seattle great restaurants nearby good prices rooms need updated literally thought sleeping  bed old pillows sheets net result bad nights sleep stay location staff friendly  ', 'nt mind noise place great read reviews noise used hotel website book room interesting site gives checkbox options  room farthest elevator  room higher floor  quiet room getting quietest room possible checked hoping got  floor  floors hall elevator listened trucks ambulance sirens night sheeeesh aside heating units sound like small plane engines hear surrounding roomsif noise sleeps facilities clean conveniently located reasonably priced staff quite helpful  ', 'loved stayed warwick overnight getway enjoy christmas shopping warwick exceeded expectations staff wonderful extrememly friendly room clean service lounge wonderful came contact hotel friendly women bathroom lever lounge well think haunted totally creepy vibe lights anywho really enjoyed stay going couple days  ', 'met expectations centrally located hotel blocks water popular nightlife shopping options belltown downtown classify property star location paid wedding rate not sure fares value proposition room spacious little outdated rooms decent views lower floor drab panaroma parking lot buildings adequate fitness center sauna pool basement quaint barrestaurant attached hotel parking  day outrage possibly standard downtown street parking weekend save dollars willing stay future price significantly lower nearby fourstar competition  ', 'nice hotel husband stayed warwick  years ago liked hotel location did not hesitate book tripwe asked received nonsmoking room king bed high floor hoping hotel nice view space needle checkin nice friendly keys minutes nice room small loveseat juliet balconylove location hotel just block away best restaurants downtown dahlia lounge palace kitchen lola small grocery storeminimart right street wine easy walk pike place marketon site hotel nice restaurant lounge area ate breakfast hotel drinks loungebar times good servicewe did nt chance use did look pool exercise room located basement pool small definitely useable exercise room variety machines weights not newest market definitely decent machines kept neat clean exercise room plenty towels water cooler availablei think ran maid days leaving friendlywe used business center couple times consisted  computers free internet printer just needed ask key desk nice handyoverall thought staff helpful hotel quiet good location definitely met expectations did stayed years ago definitely return hope soon  ', 'good hotel not large hotel newly decorated rooms good size clean excellent location  blocks centre town  blocks market areahotel resturant bustling place alot diners coming street good meal thereoverall highly recommend staying  ', 'good choice seattle stayed night business booked company overall satisfactory arrived late evening room  floor clean comfortable great view bathroom little small clean equipped good night sleep enjoyed excellent breakfast restaurant checking staff encountered friendly polite  ', 'great location expensive parking warwick heart seattle easy walking distance pikes place monorail terminal downtown shops stayed twice recently start finish tour pacific north west staff helpful knowledgable rooms large comfy armchair large bedded room rooms fridge coffee makerparking site expensive guess reflects city centre parking prices free zone travel seattle buses cheap free travel central seattle handy grocery store opposite  ', 'noise airconditionera standard arranged stay travel agency unfortunately warwick seattle hotel dissapointment trip  night stay warwick changed  rooms starting minute stay hotel personnel didnt make feel like guest like intruder reluctant help solve complaints hotel right downtown  minutes really good restaurants like good thing availability room offered  floor window directly opening car parking level changed room  rooms loud sound coming air conditioner heating unbelievable hotel hotel personnel told standard noise rooms tried avoid using night order sleep possible watching tv loudly  ', 'good location poor cleanliness warwick hotel great location seattle close shopping pike place seattle centre really lets hotel cleanliness bed linen torn curtains torn floor stains hotel advertises having balcony reality disappointment stayed hotel san diego did balcony table chairs warwick balcony  inchesthe view rooms view space needle terrific does nt make poor cleanliness check staff pleasant nor unpleasant decided not sample restaurant ralph deli street great snacks cafethere plenty better hotels seattle slightly money warwick choose eg hotel andra  ', 'good place spending big bucks warwick plenty comfortable nice nice view space needle room nt expect balcony just  inch ledge ironwork falling overboard open patio door partially step view lake union elliott bay morning space needle hidden clouds neat sunny weather cloudy needed warwick no complaints  ', 'nice hotel trip seattle wanted stay downtown good rate hotel decided stay warwick clean stayed  floor excellent view space needle downtown nice able open sliding door let cool air bed comfy pillows not room clean parking not problem use hotel parking staff friendly helpful ask key business center  computers needless say hassle use computers acquire key restaurant good breakfast hotel not walking distance major attractions like stated space needle pike market  mins away walking opted drive therewe pleased hotel stay  ', 'great value seattle spouse stayed warwick seattle days september hotel does not disappoint reasonably priced stay downtown area easy walk sightseeing attractions blocks waterfront free bus seattle figure worked research room king bed spacious nicely appointed comfortable plenty pillows coffee room course great seattle bath finished marble deep tub handheld shower nice touch toiletries average not huge consideration complaints concerned desk reservations trip leg olympic penninsula decided cancel second reservation arrived hotel day travel desk clerk kept waiting minutes hello moved second desk clerk free told reservation not no attempt look walk stairs parking garage confirmation luggage did reservation following day office tried told nt staying parking  pretty steep option parking seattle scarce hotel does nt shuttle option cab  hotel restaurant adequate really great breakfast walk block mayflower park hotel pricey fabulous  ', 'gem hotel absolute gem small great service room not huge certainly adequate clean comfortable ask room high floor great view downtown space needlebest attentive staff concierges friendly helpful shuttle drivers went way literally victoria ferry pick convenientwould recommend  ', 'pretty good value visit seattle frequently   days longer staying  nights not worth especially hotel raised rates lately recommend ramada steps away staying longer time perfect especially families fancier hotels town warwick satisfy families especially expensive suites swimming pool bit dark balconies acually just big step windows views location perfect small restaurant dont overpriced does not offer better food downtown  ', 'average nice stay hotel amazing location great restaurants gourmet grocery cinerama  block radius macy nordstroms shopping blocks mattress comfy amazing sweeping view space needle lake union downtown elliott bay great pool gym facility room service nothing write home nt pizza parking  yikes old building nicely remodeled  ', 'bad choice booked hotel hot wire called immediately requesting nonsmoking room king bed room away elevatoricethe person spoke pleasant stated not guarantee requests honored make note reservation checkin person desk rude said no special request noted reservation card andstated no king beds way reservation stuck  double beds located directly accross elevator ice nonsmoking no elevator parking garage hotel warwick mats garage filthy stairwells hotel faces  smells urine carpets registration elevator area need cleaning upholstery curtains room needed cleaning andpressing sign bathroom water conservation tub facet dripped continuously tub drain needsattention shower curtain holes no coffee maker room bedding did not fit bed sleeping directly mattress bedding askew staff unfriendly short housekeeping staff quite pleasant stay hotel  ', 'good value hotel stayed warwick times past years spent night march   room fine king bed tv pay view movies minifridge thing missing coffee maker nice marble bathroom hand held shower view east hotel space needle time viewed  westin hotel towers price right got  miles aadvantage card fly ointment  overnight parking charge definately come location great  ', 'warwick bad good reviews warwick shocks staff quite rude rooms fairly dirty cut asked bandaid did not requested bottle opener did not better service  ', 'great service warwick just recently spent  days christmas holidays warwick helpfulness care courtesy experienced desk restaurant room service housekeeping staff truly average greatly appreciated restaurant turned fabulous meals time certain operating skeleton staff thing prevents giving place excellent rating following hotel tired old dirty carpets bedding expect hostel given price range rooms face lift necessary  ', 'austin powers decor familiar hotel seattlewhere sheets  different colors hairbut okbecause clean second daythe bathroom friend cringeshe asked brought flip flops sanitizer spraythe dirty shag carpet did nt stop wallit crawled inchesi star saw shining worse  ', 'great location nt stay long needed place stay seattle prior catching early morning amtrak train portland looked train station not dropping hertz car hilton downtown just wanted place spend night called hotel seattle based location tourist map near hilton did nt access internet research reviews did not stay location great virtually door high end hotels half price hilton thought try checked asked aaa discount clerk response time heard hotel desk clerk not knowing aaa room used low budget movie version run hotel threadbare carpets dingy curtains not quite hanging right minimal lighting strange hanging light middle room dingy bathroom definitely dingy did not appear obviously dirty no ac luckily did nt need bed not particularly comfortable little boucy people definitely gravitated middle no clock room did wake requestedit ok spending night nt want spend positive great safe location quick taxi ride train station shower great not invested low flow shower heads water pressure really high really enjoyed conversation desk clerk morning mentioned clerk previous night heard aaa told clerk moron owner not asked interview went say check reviews trip advisor listed worst hotels seattle got ta love type enthusiastic employee worked night friend day clerk did mention nicer rooms definitely nt want not nice ones recommend ask room committing  ', 'pay read reviews booked knew getting mind nt surprised fact better expected yes rooms outdated towels floormat limited cable tv overall lack amenities use hotel reviewer said like budget overseas hotel stayed similar condition just enjoyed experience check desk service great asked extra pillows maid got spent  flowers pike street added character roomlocation friends stayed fairmont street stayed  nights night cost money went dinners trip victoria baseball games  ', 'not bad location unmatchable price range simple sleeping room  expect pay  surprisingly cleaner hotels seen past week driving la staying travelodge days inn motel  quality furnishings high sure little run spots just old building usual character flaws none affected comfort lucky corner room especially nice look w know paying  bath worked nt care watch tv vacation no idea worked want believe comments feel free mean room come  ', 'remarkable hotel needed days booked inn based tripadvisor reviews great hotel staff professional accomodating town car service available airport immaculate rooms spacious bathroom great location not great hotel price great hotel room facing inner coutyard no problem noise rooms face st noisy location excellent downtown seattlewent attached restaurant bacco breakfast cafe champagne dinner excellent  ', 'great location friendly staff stayed hotel easter throughly enjoyed time superably located exploring seattle especially market rooms good sizethe staff not friendly helpful reception area welcomingour room exit stairwell night hear rumbling assume like air conditioning pipes  ']\n"
     ]
    }
   ],
   "source": [
    "lower_words = [text.lower() for text in df.Clean_Reviews]\n",
    "print(lower_words[0:50])"
   ]
  },
  {
   "cell_type": "code",
   "execution_count": 11,
   "id": "b478d8ba",
   "metadata": {
    "id": "b478d8ba"
   },
   "outputs": [],
   "source": [
    "# # Removing emojis\n",
    "# def remove_emoji(text):\n",
    "#     emoji_pattern = re.compile(\"[\"\n",
    "#                            u\"\\U0001F600-\\U0001F64F\"  # emoticons\n",
    "#                            u\"\\U0001F300-\\U0001F5FF\"  # symbols & pictographs\n",
    "#                            u\"\\U0001F680-\\U0001F6FF\"  # transport & map symbols\n",
    "#                            u\"\\U0001F1E0-\\U0001F1FF\"  # flags (iOS)\n",
    "#                            u\"\\U00002702-\\U000027B0\"\n",
    "#                            u\"\\U000024C2-\\U0001F251\"\n",
    "#                            \"]+\", flags=re.UNICODE)\n",
    "#     return emoji_pattern.sub(r'', text)"
   ]
  },
  {
   "cell_type": "code",
   "execution_count": 12,
   "id": "7911397b",
   "metadata": {
    "id": "7911397b"
   },
   "outputs": [],
   "source": [
    "# df[\"Clean_Reviews\"] = df[\"Clean_Reviews\"].apply(lambda x: remove_emoji(x))\n",
    "# df.head()"
   ]
  },
  {
   "cell_type": "code",
   "execution_count": 13,
   "id": "02e46f79",
   "metadata": {
    "id": "02e46f79"
   },
   "outputs": [],
   "source": [
    "# Handling Chat word\n",
    "'''\n",
    "IDK = I Dont Know\n",
    "ASAP = as soon as possible\n",
    "FYI = For Your Information\n",
    "FIMH = Forever in my heart\n",
    "'''\n",
    "chat_words = {  \"AFAIK\": \"As Far As I Know\", \"AFK\": \"Away From Keyboard\",\n",
    "                \"ASAP\": \"As Soon As Possible\", \"ATK\":\"At The Keyboard\",\n",
    "                \"ATM\": \"At The Moment\", \"A3\": \"Anytime, Anywhere, Anyplace\",\n",
    "                \"BAK\": \"Back At Keyboard\" ,\"BBL\": \"Be Back Later\",\n",
    "                \"BBS\":\"Be Back Soon\", \"BFN\":\"Bye For Now\",\n",
    "                \"B4N\":\"Bye For Now\", \"BRB\":\"Be Right Back\",\n",
    "                \"BRT\":\"Be Right There\", \"BTW\":\"By The Way\",\n",
    "                \"B4\":\"Before\", \"B4N\":\"Bye For Now\",\n",
    "                \"CU\":\"See You\", \"CUL8R\":\"See You Later\",\n",
    "                \"CYA\":\"See You\", \"FAQ\":\"Frequently Asked Questions\",\n",
    "                \"FC\":\"Fingers Crossed\", \"FWIW\":\"For What It's Worth\",\n",
    "                \"FYI\":\"For Your Information\", \"GAL\":\"Get A Life\",\n",
    "                \"GG\":\"Good Game\", \"GN\":\"Good Night\",\n",
    "                \"GMTA\":\"Great Minds Think Alike\", \"GR8\":\"Great\",\n",
    "                \"G9\":\"Genius\", \"IC\":\"I See\",\n",
    "                \"ICQ\":\"I Seek you\", \"ILU\": \"I Love You\",\n",
    "                \"IMHO\":\"In My Honest Humble Opinion\", \"IMO\":\"In My Opinion\",\n",
    "                \"IOW\":\"In Other Words\" ,\"IRL\":\"In Real Life\",\n",
    "                \"KISS\":\"Keep It Simple Stupid\", \"LDR\":\"Long Distance Relationship\",\n",
    "                \"LMAO\":\"Laugh My Ass Off\", \"LOL\":\"Laughing Out Loud\",\n",
    "                \"LTNS\":\"Long Time No See\", \"L8R\":\"Later\",\n",
    "                \"MTE\":\"My Thoughts Exactly\", \"M8\":\"Mate\",\n",
    "                \"NRN\":\"No Reply Necessary\",  \"OIC\":\"Oh I See\",\n",
    "                \"PITA\":\"Pain In The Ass\", \"PRT\":\"Party\",\n",
    "                \"PRW\":\"Parents Are Watching\", \"ROFL\":\"Rolling On The Floor Laughing\",\n",
    "                \"ROFLOL\":\"Rolling On The Floor Laughing Out Loud\", \"ROTFLMAO\":\"Rolling On The Floor Laughing My Ass Off\",\n",
    "                \"SK8\":\"Skate\", 'STATS':'Your sex and age',\n",
    "                \"ASL\":\"Age Sex Location\",  \"THNX\":\"Thank You\",\n",
    "                \"TTFN\":\"TaTa For Now\", \"TTYL\":\"Talk To You Later\",\n",
    "                \"U\":\"You\", \"U2\":\"You Too\",\n",
    "                \"U4E\":\"Yours For Ever\", \"WB\":\"Welcome Back\",\n",
    "                \"WTF\":\"What The Fuck\", \"WTG\":\"Way To Go\",\n",
    "                \"WUF\":\"Where Are You From\",  \"W8\":\"Wait\",\n",
    "                \"7K\":\"Sick Laughter\",  \"TFW\" : \"That feeling when\",\n",
    "                \"MFW\" : \"My face when\", \"MRW\" : \"My reaction when\",\n",
    "                \"IFYP\" : \"I feel your pain\", \"LOL\" : \"Laughing out loud\",\n",
    "                \"TNTL\" : \"Trying not to laugh\", \"JK\" : \"Just kidding\",\n",
    "                \"IDC\" : \"I dont care\", \"ILY\" : \"I love you\",\n",
    "                \"IMU\" : \"I miss you\", \"ADIH\" : \"Another day in hell\",\n",
    "                \"IDC\" : \"I dont care\" ,\"ZZZ\" : \"Sleeping bored tired\",\n",
    "                \"WYWH\" : \"Wish you were here\", \"TIME\" : \"Tears in my eyes\",\n",
    "                \"BAE\" : \"Before anyone else\", \"FIMH\" : \"Forever in my heart\",\n",
    "                \"BSAAW\" : \"Big smile and a wink\", \"BWL\" : \"Bursting with laughter\",\n",
    "                \"LMAO\" : \"Laughing my ass off\", \"BFF\": \"Best friends forever\",\n",
    "                \"CSL\" : \"Cant stop laughing\"}\n",
    "\n",
    "\n",
    "chat_words_dict = pd.DataFrame.from_dict(chat_words, orient=\"index\",columns=['full_form'])\n",
    "chat_words_dict['short_form'] = chat_words_dict.index\n",
    "chat_words = chat_words_dict.reset_index()\n",
    "chat_words.drop([\"index\"], inplace=True, axis=1)"
   ]
  },
  {
   "cell_type": "code",
   "execution_count": 14,
   "id": "381e4089",
   "metadata": {
    "colab": {
     "base_uri": "https://localhost:8080/",
     "height": 206
    },
    "id": "381e4089",
    "outputId": "4743ddaa-f348-4264-b1a0-9a66f8bb4076"
   },
   "outputs": [
    {
     "data": {
      "text/html": [
       "<div>\n",
       "<style scoped>\n",
       "    .dataframe tbody tr th:only-of-type {\n",
       "        vertical-align: middle;\n",
       "    }\n",
       "\n",
       "    .dataframe tbody tr th {\n",
       "        vertical-align: top;\n",
       "    }\n",
       "\n",
       "    .dataframe thead th {\n",
       "        text-align: right;\n",
       "    }\n",
       "</style>\n",
       "<table border=\"1\" class=\"dataframe\">\n",
       "  <thead>\n",
       "    <tr style=\"text-align: right;\">\n",
       "      <th></th>\n",
       "      <th>full_form</th>\n",
       "      <th>short_form</th>\n",
       "    </tr>\n",
       "  </thead>\n",
       "  <tbody>\n",
       "    <tr>\n",
       "      <th>0</th>\n",
       "      <td>As Far As I Know</td>\n",
       "      <td>AFAIK</td>\n",
       "    </tr>\n",
       "    <tr>\n",
       "      <th>1</th>\n",
       "      <td>Away From Keyboard</td>\n",
       "      <td>AFK</td>\n",
       "    </tr>\n",
       "    <tr>\n",
       "      <th>2</th>\n",
       "      <td>As Soon As Possible</td>\n",
       "      <td>ASAP</td>\n",
       "    </tr>\n",
       "    <tr>\n",
       "      <th>3</th>\n",
       "      <td>At The Keyboard</td>\n",
       "      <td>ATK</td>\n",
       "    </tr>\n",
       "    <tr>\n",
       "      <th>4</th>\n",
       "      <td>At The Moment</td>\n",
       "      <td>ATM</td>\n",
       "    </tr>\n",
       "  </tbody>\n",
       "</table>\n",
       "</div>"
      ],
      "text/plain": [
       "             full_form short_form\n",
       "0     As Far As I Know      AFAIK\n",
       "1   Away From Keyboard        AFK\n",
       "2  As Soon As Possible       ASAP\n",
       "3      At The Keyboard        ATK\n",
       "4        At The Moment        ATM"
      ]
     },
     "execution_count": 14,
     "metadata": {},
     "output_type": "execute_result"
    }
   ],
   "source": [
    "chat_words.head()"
   ]
  },
  {
   "cell_type": "code",
   "execution_count": 15,
   "id": "49fcc468",
   "metadata": {
    "id": "49fcc468"
   },
   "outputs": [],
   "source": [
    "def chat_conversion(text):\n",
    "  new_text=[]\n",
    "  for words in text.split():\n",
    "    if words.upper() in chat_words['short_form']:\n",
    "      new_text.append(chat_words[words[\"full_form\"]])\n",
    "    else:\n",
    "      new_text.append(words)\n",
    "  return \" \".join(new_text)"
   ]
  },
  {
   "cell_type": "code",
   "execution_count": 16,
   "id": "459eb7b2",
   "metadata": {
    "colab": {
     "base_uri": "https://localhost:8080/",
     "height": 206
    },
    "id": "459eb7b2",
    "outputId": "422e1985-b00f-421b-8528-6a3c14853770"
   },
   "outputs": [
    {
     "data": {
      "text/html": [
       "<div>\n",
       "<style scoped>\n",
       "    .dataframe tbody tr th:only-of-type {\n",
       "        vertical-align: middle;\n",
       "    }\n",
       "\n",
       "    .dataframe tbody tr th {\n",
       "        vertical-align: top;\n",
       "    }\n",
       "\n",
       "    .dataframe thead th {\n",
       "        text-align: right;\n",
       "    }\n",
       "</style>\n",
       "<table border=\"1\" class=\"dataframe\">\n",
       "  <thead>\n",
       "    <tr style=\"text-align: right;\">\n",
       "      <th></th>\n",
       "      <th>Review</th>\n",
       "      <th>Clean_Reviews</th>\n",
       "    </tr>\n",
       "  </thead>\n",
       "  <tbody>\n",
       "    <tr>\n",
       "      <th>0</th>\n",
       "      <td>nice hotel expensive parking got good deal sta...</td>\n",
       "      <td>nice hotel expensive parking got good deal sta...</td>\n",
       "    </tr>\n",
       "    <tr>\n",
       "      <th>1</th>\n",
       "      <td>ok nothing special charge diamond member hilto...</td>\n",
       "      <td>ok nothing special charge diamond member hilto...</td>\n",
       "    </tr>\n",
       "    <tr>\n",
       "      <th>2</th>\n",
       "      <td>nice rooms not 4* experience hotel monaco seat...</td>\n",
       "      <td>nice rooms not experience hotel monaco seattle...</td>\n",
       "    </tr>\n",
       "    <tr>\n",
       "      <th>3</th>\n",
       "      <td>unique, great stay, wonderful time hotel monac...</td>\n",
       "      <td>unique great stay wonderful time hotel monaco ...</td>\n",
       "    </tr>\n",
       "    <tr>\n",
       "      <th>4</th>\n",
       "      <td>great stay great stay, went seahawk game aweso...</td>\n",
       "      <td>great stay great stay went seahawk game awesom...</td>\n",
       "    </tr>\n",
       "  </tbody>\n",
       "</table>\n",
       "</div>"
      ],
      "text/plain": [
       "                                              Review  \\\n",
       "0  nice hotel expensive parking got good deal sta...   \n",
       "1  ok nothing special charge diamond member hilto...   \n",
       "2  nice rooms not 4* experience hotel monaco seat...   \n",
       "3  unique, great stay, wonderful time hotel monac...   \n",
       "4  great stay great stay, went seahawk game aweso...   \n",
       "\n",
       "                                       Clean_Reviews  \n",
       "0  nice hotel expensive parking got good deal sta...  \n",
       "1  ok nothing special charge diamond member hilto...  \n",
       "2  nice rooms not experience hotel monaco seattle...  \n",
       "3  unique great stay wonderful time hotel monaco ...  \n",
       "4  great stay great stay went seahawk game awesom...  "
      ]
     },
     "execution_count": 16,
     "metadata": {},
     "output_type": "execute_result"
    }
   ],
   "source": [
    "    df[\"Clean_Reviews\"] = df[\"Clean_Reviews\"].apply(lambda x: chat_conversion(x))\n",
    "    df.head()"
   ]
  },
  {
   "cell_type": "code",
   "execution_count": 17,
   "id": "525c7899",
   "metadata": {
    "colab": {
     "base_uri": "https://localhost:8080/"
    },
    "id": "525c7899",
    "outputId": "a51aed01-1143-40fc-f6c3-68c5da58ef48"
   },
   "outputs": [
    {
     "data": {
      "text/plain": [
       "['nice hotel expensive parking got good deal stay hotel anniversary arrived late evening took advice previous reviews did valet parking check quick easy little disappointed nonexistent view room room clean nice size bed comfortable woke stiff neck high pillows not soundproof like heard music room night morning loud bangs doors opening closing hear people talking hallway maybe just noisy neighbors aveda bath products nice did not goldfish stay nice touch taken advantage staying longer location great walking distance shopping overall nice experience having pay parking night',\n",
       " 'ok nothing special charge diamond member hilton decided chain shot anniversary seattle start booked suite paid extra website description not suite bedroom bathroom standard hotel room took printed reservation desk showed said things like tv couch ect desk clerk told oh mixed suites description kimpton website sorry free breakfast got kidding embassy suits sitting room bathroom bedroom unlike kimpton calls suite day stay offer correct false advertising send kimpton preferred guest website email asking failure provide suite advertised website reservation description furnished hard copy reservation printout website desk manager duty did not reply solution send email trip guest survey did not follow email mail guess tell concerned guestthe staff ranged indifferent not helpful asked desk good breakfast spots neighborhood hood told no hotels gee best breakfast spots seattle block away convenient hotel does not know exist arrived late night pm inside run bellman busy chating cell phone help bagsprior arrival emailed hotel inform anniversary half really picky wanted make sure good got nice email saying like deliver bottle champagne chocolate covered strawberries room arrival celebrate told needed foam pillows arrival no champagne strawberries no foam pillows great room view alley high rise building good not better housekeeping staff cleaner room property impressed left morning shopping room got short trips hours beds comfortablenot good acheat control x inch screen bring green shine directly eyes night light sensitive tape controlsthis not start hotel clean business hotel super high rates better chain hotels seattle']"
      ]
     },
     "execution_count": 17,
     "metadata": {},
     "output_type": "execute_result"
    }
   ],
   "source": [
    "review = [text.strip() for text in df.Clean_Reviews] # remove both the leading and the trailing characters\n",
    "review = [text for text in review if text] # removes empty strings, because they are considered in Python as False\n",
    "review[:2]"
   ]
  },
  {
   "cell_type": "code",
   "execution_count": 18,
   "id": "5f3dd202",
   "metadata": {
    "colab": {
     "base_uri": "https://localhost:8080/"
    },
    "id": "5f3dd202",
    "outputId": "5bc8391c-d1f9-4635-8c82-0ed44f72a73d"
   },
   "outputs": [
    {
     "name": "stdout",
     "output_type": "stream",
     "text": [
      "14220702\n",
      "nice hotel expensive parking got good deal stay hotel anniversary arrived late evening took advice previous reviews did valet parking check quick easy\n"
     ]
    }
   ],
   "source": [
    "# Joining the list into one string/text\n",
    "review_text = ' '.join(review)\n",
    "print(len(review_text))\n",
    "print(review_text[0:150])"
   ]
  },
  {
   "cell_type": "code",
   "execution_count": 19,
   "id": "8dfe2d74",
   "metadata": {
    "colab": {
     "base_uri": "https://localhost:8080/",
     "height": 278
    },
    "id": "8dfe2d74",
    "outputId": "224baec7-ad97-41ce-c8cb-f2320b3776b1"
   },
   "outputs": [
    {
     "name": "stderr",
     "output_type": "stream",
     "text": [
      "[nltk_data] Downloading package punkt to\n",
      "[nltk_data]     C:\\Users\\Hp\\AppData\\Roaming\\nltk_data...\n",
      "[nltk_data]   Package punkt is already up-to-date!\n"
     ]
    },
    {
     "name": "stdout",
     "output_type": "stream",
     "text": [
      "['nice', 'hotel', 'expensive', 'parking', 'got', 'good', 'deal', 'stay', 'hotel', 'anniversary', 'arrived', 'late', 'evening', 'took', 'advice', 'previous', 'reviews', 'did', 'valet', 'parking', 'check', 'quick', 'easy', 'little', 'disappointed', 'nonexistent', 'view', 'room', 'room', 'clean', 'nice', 'size', 'bed', 'comfortable', 'woke', 'stiff', 'neck', 'high', 'pillows', 'not', 'soundproof', 'like', 'heard', 'music', 'room', 'night', 'morning', 'loud', 'bangs', 'doors']\n"
     ]
    },
    {
     "data": {
      "text/html": [
       "<div>\n",
       "<style scoped>\n",
       "    .dataframe tbody tr th:only-of-type {\n",
       "        vertical-align: middle;\n",
       "    }\n",
       "\n",
       "    .dataframe tbody tr th {\n",
       "        vertical-align: top;\n",
       "    }\n",
       "\n",
       "    .dataframe thead th {\n",
       "        text-align: right;\n",
       "    }\n",
       "</style>\n",
       "<table border=\"1\" class=\"dataframe\">\n",
       "  <thead>\n",
       "    <tr style=\"text-align: right;\">\n",
       "      <th></th>\n",
       "      <th>Review</th>\n",
       "      <th>Clean_Reviews</th>\n",
       "    </tr>\n",
       "  </thead>\n",
       "  <tbody>\n",
       "    <tr>\n",
       "      <th>0</th>\n",
       "      <td>nice hotel expensive parking got good deal sta...</td>\n",
       "      <td>[nice, hotel, expensive, parking, got, good, d...</td>\n",
       "    </tr>\n",
       "    <tr>\n",
       "      <th>1</th>\n",
       "      <td>ok nothing special charge diamond member hilto...</td>\n",
       "      <td>[ok, nothing, special, charge, diamond, member...</td>\n",
       "    </tr>\n",
       "    <tr>\n",
       "      <th>2</th>\n",
       "      <td>nice rooms not 4* experience hotel monaco seat...</td>\n",
       "      <td>[nice, rooms, not, experience, hotel, monaco, ...</td>\n",
       "    </tr>\n",
       "    <tr>\n",
       "      <th>3</th>\n",
       "      <td>unique, great stay, wonderful time hotel monac...</td>\n",
       "      <td>[unique, great, stay, wonderful, time, hotel, ...</td>\n",
       "    </tr>\n",
       "    <tr>\n",
       "      <th>4</th>\n",
       "      <td>great stay great stay, went seahawk game aweso...</td>\n",
       "      <td>[great, stay, great, stay, went, seahawk, game...</td>\n",
       "    </tr>\n",
       "  </tbody>\n",
       "</table>\n",
       "</div>"
      ],
      "text/plain": [
       "                                              Review  \\\n",
       "0  nice hotel expensive parking got good deal sta...   \n",
       "1  ok nothing special charge diamond member hilto...   \n",
       "2  nice rooms not 4* experience hotel monaco seat...   \n",
       "3  unique, great stay, wonderful time hotel monac...   \n",
       "4  great stay great stay, went seahawk game aweso...   \n",
       "\n",
       "                                       Clean_Reviews  \n",
       "0  [nice, hotel, expensive, parking, got, good, d...  \n",
       "1  [ok, nothing, special, charge, diamond, member...  \n",
       "2  [nice, rooms, not, experience, hotel, monaco, ...  \n",
       "3  [unique, great, stay, wonderful, time, hotel, ...  \n",
       "4  [great, stay, great, stay, went, seahawk, game...  "
      ]
     },
     "execution_count": 19,
     "metadata": {},
     "output_type": "execute_result"
    }
   ],
   "source": [
    "# Tokenization\n",
    "nltk.download('punkt')\n",
    "import nltk\n",
    "\n",
    "from nltk.tokenize import word_tokenize\n",
    "review_tokens = word_tokenize(review_text)\n",
    "print(review_tokens[0:50])\n",
    "\n",
    "# for Clean_Reviews Column\n",
    "df['Clean_Reviews'] = df['Clean_Reviews'].apply(lambda x: nltk.word_tokenize(x))\n",
    "df.head(5)"
   ]
  },
  {
   "cell_type": "code",
   "execution_count": 20,
   "id": "b68f0656",
   "metadata": {
    "colab": {
     "base_uri": "https://localhost:8080/",
     "height": 397
    },
    "id": "b68f0656",
    "outputId": "0a0e5e21-3e6c-4732-851d-79d8b06bb05d"
   },
   "outputs": [
    {
     "name": "stderr",
     "output_type": "stream",
     "text": [
      "[nltk_data] Downloading package stopwords to\n",
      "[nltk_data]     C:\\Users\\Hp\\AppData\\Roaming\\nltk_data...\n",
      "[nltk_data]   Package stopwords is already up-to-date!\n"
     ]
    },
    {
     "data": {
      "text/html": [
       "<div>\n",
       "<style scoped>\n",
       "    .dataframe tbody tr th:only-of-type {\n",
       "        vertical-align: middle;\n",
       "    }\n",
       "\n",
       "    .dataframe tbody tr th {\n",
       "        vertical-align: top;\n",
       "    }\n",
       "\n",
       "    .dataframe thead th {\n",
       "        text-align: right;\n",
       "    }\n",
       "</style>\n",
       "<table border=\"1\" class=\"dataframe\">\n",
       "  <thead>\n",
       "    <tr style=\"text-align: right;\">\n",
       "      <th></th>\n",
       "      <th>Review</th>\n",
       "      <th>Clean_Reviews</th>\n",
       "    </tr>\n",
       "  </thead>\n",
       "  <tbody>\n",
       "    <tr>\n",
       "      <th>0</th>\n",
       "      <td>nice hotel expensive parking got good deal sta...</td>\n",
       "      <td>[nice, expensive, parking, got, good, deal, st...</td>\n",
       "    </tr>\n",
       "    <tr>\n",
       "      <th>1</th>\n",
       "      <td>ok nothing special charge diamond member hilto...</td>\n",
       "      <td>[ok, nothing, special, charge, diamond, member...</td>\n",
       "    </tr>\n",
       "    <tr>\n",
       "      <th>2</th>\n",
       "      <td>nice rooms not 4* experience hotel monaco seat...</td>\n",
       "      <td>[nice, rooms, not, experience, monaco, seattle...</td>\n",
       "    </tr>\n",
       "    <tr>\n",
       "      <th>3</th>\n",
       "      <td>unique, great stay, wonderful time hotel monac...</td>\n",
       "      <td>[unique, great, stay, wonderful, time, monaco,...</td>\n",
       "    </tr>\n",
       "    <tr>\n",
       "      <th>4</th>\n",
       "      <td>great stay great stay, went seahawk game aweso...</td>\n",
       "      <td>[great, stay, great, stay, went, seahawk, game...</td>\n",
       "    </tr>\n",
       "    <tr>\n",
       "      <th>5</th>\n",
       "      <td>love monaco staff husband stayed hotel crazy w...</td>\n",
       "      <td>[love, monaco, staff, husband, stayed, crazy, ...</td>\n",
       "    </tr>\n",
       "    <tr>\n",
       "      <th>6</th>\n",
       "      <td>cozy stay rainy city, husband spent 7 nights m...</td>\n",
       "      <td>[cozy, stay, rainy, city, husband, spent, nigh...</td>\n",
       "    </tr>\n",
       "    <tr>\n",
       "      <th>7</th>\n",
       "      <td>excellent staff, housekeeping quality hotel ch...</td>\n",
       "      <td>[excellent, staff, housekeeping, quality, choc...</td>\n",
       "    </tr>\n",
       "    <tr>\n",
       "      <th>8</th>\n",
       "      <td>hotel stayed hotel monaco cruise, rooms genero...</td>\n",
       "      <td>[stayed, monaco, cruise, rooms, generous, deco...</td>\n",
       "    </tr>\n",
       "    <tr>\n",
       "      <th>9</th>\n",
       "      <td>excellent stayed hotel monaco past w/e delight...</td>\n",
       "      <td>[excellent, stayed, monaco, past, delight, rec...</td>\n",
       "    </tr>\n",
       "  </tbody>\n",
       "</table>\n",
       "</div>"
      ],
      "text/plain": [
       "                                              Review  \\\n",
       "0  nice hotel expensive parking got good deal sta...   \n",
       "1  ok nothing special charge diamond member hilto...   \n",
       "2  nice rooms not 4* experience hotel monaco seat...   \n",
       "3  unique, great stay, wonderful time hotel monac...   \n",
       "4  great stay great stay, went seahawk game aweso...   \n",
       "5  love monaco staff husband stayed hotel crazy w...   \n",
       "6  cozy stay rainy city, husband spent 7 nights m...   \n",
       "7  excellent staff, housekeeping quality hotel ch...   \n",
       "8  hotel stayed hotel monaco cruise, rooms genero...   \n",
       "9  excellent stayed hotel monaco past w/e delight...   \n",
       "\n",
       "                                       Clean_Reviews  \n",
       "0  [nice, expensive, parking, got, good, deal, st...  \n",
       "1  [ok, nothing, special, charge, diamond, member...  \n",
       "2  [nice, rooms, not, experience, monaco, seattle...  \n",
       "3  [unique, great, stay, wonderful, time, monaco,...  \n",
       "4  [great, stay, great, stay, went, seahawk, game...  \n",
       "5  [love, monaco, staff, husband, stayed, crazy, ...  \n",
       "6  [cozy, stay, rainy, city, husband, spent, nigh...  \n",
       "7  [excellent, staff, housekeeping, quality, choc...  \n",
       "8  [stayed, monaco, cruise, rooms, generous, deco...  \n",
       "9  [excellent, stayed, monaco, past, delight, rec...  "
      ]
     },
     "execution_count": 20,
     "metadata": {},
     "output_type": "execute_result"
    }
   ],
   "source": [
    "nltk.download('stopwords')\n",
    "\n",
    "from nltk.corpus import stopwords\n",
    "\n",
    "# # For wordCloud\n",
    "# my_stop_words = stopwords.words('english')\n",
    "# sw_list = ['\\x92','rt','ye','yeah','haha','Yes','__Ç_éÈe','I','__Ç','__Ç_é_',\"br/\", \"hotel\", \"room\"]     # index 1044 emojis\n",
    "# my_stop_words.extend(sw_list)\n",
    "\n",
    "# no_stop_tokens = [word for word in review_tokens if not word in my_stop_words]\n",
    "\n",
    "# For Clean_Reviews Column\n",
    "my_stop_words=stopwords.words('english')\n",
    "my_stop_words.remove('not')\n",
    "sw_list = ['\\x92','rt','ye','yeah','haha','Yes','__Ç_éÈe','I','__Ç','__Ç_é_',\"br/\",\"hotel\",\"room\"]     # index 1044 emojis\n",
    "my_stop_words.extend(sw_list)\n",
    "stopwords_set = set(my_stop_words)\n",
    "cleaned_tweets = []\n",
    "\n",
    "for index, row in df.iterrows():\n",
    "\n",
    "    # filerting out all the stopwords\n",
    "    words_without_stopwords = [word for word in row.Clean_Reviews if not word in stopwords_set and '#' not in word.lower()]\n",
    "\n",
    "    # finally creating tweets list of tuples containing stopwords(list) and sentimentType\n",
    "    cleaned_tweets.append(words_without_stopwords)\n",
    "\n",
    "df['Clean_Reviews'] = cleaned_tweets\n",
    "df.head(10)"
   ]
  },
  {
   "cell_type": "code",
   "execution_count": 21,
   "id": "26b8def1",
   "metadata": {
    "colab": {
     "base_uri": "https://localhost:8080/",
     "height": 206
    },
    "id": "26b8def1",
    "outputId": "c5dc37bc-9f78-4a2f-faef-b0b125c470b9",
    "scrolled": true
   },
   "outputs": [
    {
     "data": {
      "text/html": [
       "<div>\n",
       "<style scoped>\n",
       "    .dataframe tbody tr th:only-of-type {\n",
       "        vertical-align: middle;\n",
       "    }\n",
       "\n",
       "    .dataframe tbody tr th {\n",
       "        vertical-align: top;\n",
       "    }\n",
       "\n",
       "    .dataframe thead th {\n",
       "        text-align: right;\n",
       "    }\n",
       "</style>\n",
       "<table border=\"1\" class=\"dataframe\">\n",
       "  <thead>\n",
       "    <tr style=\"text-align: right;\">\n",
       "      <th></th>\n",
       "      <th>Review</th>\n",
       "      <th>Clean_Reviews</th>\n",
       "      <th>stemmed</th>\n",
       "    </tr>\n",
       "  </thead>\n",
       "  <tbody>\n",
       "    <tr>\n",
       "      <th>0</th>\n",
       "      <td>nice hotel expensive parking got good deal sta...</td>\n",
       "      <td>[nice, expensive, parking, got, good, deal, st...</td>\n",
       "      <td>nice expens park got good deal stay anniversar...</td>\n",
       "    </tr>\n",
       "    <tr>\n",
       "      <th>1</th>\n",
       "      <td>ok nothing special charge diamond member hilto...</td>\n",
       "      <td>[ok, nothing, special, charge, diamond, member...</td>\n",
       "      <td>ok noth special charg diamond member hilton de...</td>\n",
       "    </tr>\n",
       "    <tr>\n",
       "      <th>2</th>\n",
       "      <td>nice rooms not 4* experience hotel monaco seat...</td>\n",
       "      <td>[nice, rooms, not, experience, monaco, seattle...</td>\n",
       "      <td>nice room not experi monaco seattl good nt lev...</td>\n",
       "    </tr>\n",
       "    <tr>\n",
       "      <th>3</th>\n",
       "      <td>unique, great stay, wonderful time hotel monac...</td>\n",
       "      <td>[unique, great, stay, wonderful, time, monaco,...</td>\n",
       "      <td>uniqu great stay wonder time monaco locat exce...</td>\n",
       "    </tr>\n",
       "    <tr>\n",
       "      <th>4</th>\n",
       "      <td>great stay great stay, went seahawk game aweso...</td>\n",
       "      <td>[great, stay, great, stay, went, seahawk, game...</td>\n",
       "      <td>great stay great stay went seahawk game awesom...</td>\n",
       "    </tr>\n",
       "  </tbody>\n",
       "</table>\n",
       "</div>"
      ],
      "text/plain": [
       "                                              Review  \\\n",
       "0  nice hotel expensive parking got good deal sta...   \n",
       "1  ok nothing special charge diamond member hilto...   \n",
       "2  nice rooms not 4* experience hotel monaco seat...   \n",
       "3  unique, great stay, wonderful time hotel monac...   \n",
       "4  great stay great stay, went seahawk game aweso...   \n",
       "\n",
       "                                       Clean_Reviews  \\\n",
       "0  [nice, expensive, parking, got, good, deal, st...   \n",
       "1  [ok, nothing, special, charge, diamond, member...   \n",
       "2  [nice, rooms, not, experience, monaco, seattle...   \n",
       "3  [unique, great, stay, wonderful, time, monaco,...   \n",
       "4  [great, stay, great, stay, went, seahawk, game...   \n",
       "\n",
       "                                             stemmed  \n",
       "0  nice expens park got good deal stay anniversar...  \n",
       "1  ok noth special charg diamond member hilton de...  \n",
       "2  nice room not experi monaco seattl good nt lev...  \n",
       "3  uniqu great stay wonder time monaco locat exce...  \n",
       "4  great stay great stay went seahawk game awesom...  "
      ]
     },
     "execution_count": 21,
     "metadata": {},
     "output_type": "execute_result"
    }
   ],
   "source": [
    "# Stemming\n",
    "from nltk.stem import PorterStemmer\n",
    "ps=PorterStemmer()\n",
    "\n",
    "# stemmed_tokens=[ps.stem(word) for word in df.Clean_Reviews]\n",
    "# creating other Column\n",
    "df['stemmed'] = df['Clean_Reviews'].apply(lambda x: \" \".join([ps.stem(word) for word in x]))\n",
    "df.head()"
   ]
  },
  {
   "cell_type": "code",
   "execution_count": 22,
   "id": "ba162e18",
   "metadata": {},
   "outputs": [
    {
     "name": "stderr",
     "output_type": "stream",
     "text": [
      "[nltk_data] Downloading package omw-1.4 to\n",
      "[nltk_data]     C:\\Users\\Hp\\AppData\\Roaming\\nltk_data...\n",
      "[nltk_data]   Package omw-1.4 is already up-to-date!\n"
     ]
    },
    {
     "data": {
      "text/plain": [
       "True"
      ]
     },
     "execution_count": 22,
     "metadata": {},
     "output_type": "execute_result"
    }
   ],
   "source": [
    "import nltk\n",
    "nltk.download('omw-1.4')"
   ]
  },
  {
   "cell_type": "code",
   "execution_count": 23,
   "id": "305e1f33",
   "metadata": {
    "colab": {
     "base_uri": "https://localhost:8080/",
     "height": 261
    },
    "id": "305e1f33",
    "outputId": "49286c10-850b-4ffd-c1fb-77c8b67f79e3"
   },
   "outputs": [
    {
     "name": "stderr",
     "output_type": "stream",
     "text": [
      "[nltk_data] Downloading package wordnet to\n",
      "[nltk_data]     C:\\Users\\Hp\\AppData\\Roaming\\nltk_data...\n",
      "[nltk_data]   Package wordnet is already up-to-date!\n"
     ]
    },
    {
     "name": "stdout",
     "output_type": "stream",
     "text": [
      "['nice hotel expensive parking got good deal stay hotel anniversary arrived late evening took advice previous reviews did valet parking check quick easy little disappointed nonexistent view room room clean nice size bed comfortable woke stiff neck high pillows not soundproof like heard music room night morning loud bangs doors opening closing hear people talking hallway maybe just noisy neighbors aveda bath products nice did not goldfish stay nice touch taken advantage staying longer location great walking distance shopping overall nice experience having pay  parking night  ', 'ok nothing special charge diamond member hilton decided chain shot  anniversary seattle start booked suite paid extra website description not suite bedroom bathroom standard hotel room took printed reservation desk showed said things like tv couch ect desk clerk told oh mixed suites description kimpton website sorry free breakfast got kidding embassy suits sitting room bathroom bedroom unlike kimpton calls suite  day stay offer correct false advertising send kimpton preferred guest website email asking failure provide suite advertised website reservation description furnished hard copy reservation printout website desk manager duty did not reply solution send email trip guest survey did not follow email mail guess tell concerned guestthe staff ranged indifferent not helpful asked desk good breakfast spots neighborhood hood told no hotels gee best breakfast spots seattle  block away convenient hotel does not know exist arrived late night  pm inside run bellman busy chating cell phone help bagsprior arrival emailed hotel inform  anniversary half really picky wanted make sure good got nice email saying like deliver bottle champagne chocolate covered strawberries room arrival celebrate told needed foam pillows arrival no champagne strawberries no foam pillows great room view alley high rise building good not better housekeeping staff cleaner room property impressed left morning shopping room got short trips  hours beds comfortablenot good acheat control  x  inch screen bring green shine directly eyes night light sensitive tape controlsthis not  start hotel clean business hotel super high rates better chain hotels seattle  ', 'nice rooms not  experience hotel monaco seattle good hotel nt  levelpositives large bathroom mediterranean suite comfortable bed pillowsattentive housekeeping staffnegatives ac unit malfunctioned stay desk disorganized missed  separate wakeup calls concierge busy hard touch did nt provide guidance special requeststv hard use ipod sound dock suite non functioning decided book mediterranean suite  night weekend stay  choice rest party filled comparison w spent  night larger square footage room great soaking tub whirlpool jets nice showerbefore stay hotel arrange car service price  tip reasonable driver waiting arrivalcheckin easy downside room picked  person jacuzi tub no bath accessories salts bubble bath did nt stay night got  checked voucher bottle champagne nice gesture fish waiting room impression room huge open space felt room big tv far away bed chore change channel ipod dock broken disappointingin morning way asked desk check thermostat said    degrees warm try cover face night bright blue light kept got room night no  drop desk called maintainence came look thermostat told play settings happy digital box wo nt work asked wakeup  morning did nt happen called later  nap wakeup forgot  wakeup morning yep forgottenthe bathroom facilities great room surprised room sold whirlpool bath tub nt bath amenities great relax water jets going  ', 'unique great stay wonderful time hotel monaco location excellent short stroll main downtown shopping area pet friendly room showed no signs animal hair smells monaco suite sleeping area big striped curtains pulled closed nice touch felt cosy goldfish named brandi enjoyed did nt partake free wine coffeetea service lobby thought great feature great staff friendly free wireless internet hotel worked suite  laptops decor lovely eclectic mix pattens color palatte animal print bathrobes feel like rock stars nice did nt look like sterile chain hotel hotel personality excellent stay  ', 'great stay great stay went seahawk game awesome downfall view building did nt complain room huge staff helpful booked hotels website seahawk package no charge parking got voucher taxi problem taxi driver did nt want accept voucher barely spoke english funny thing speak arabic called started making comments girlfriend cell phone buddy took second realize just said fact speak language face priceless ass told said large city told head doorman issue called cab company promply answer did nt apologized offered pay taxi bucks  miles stadium game plan taxi return going humpin great walk did nt mind right christmas wonderful lights homeless stowed away building entrances leave police presence not greatest area stadium activities  blocks pike street waterfront great coffee shops way hotel mantained foyer awesome wine tasting available evening best dog taking st bernard time family safes hotel located service desk room bathroom huge jetted tub huge funny house keeping walked girlfriend getting dressed did nt hear knock doing turn service screamed girlfriend screams hit floor laughing started talking spanish worked place recommend price check online deals just good not better besite contains deals vouchers travel websites nt tell  ', 'love monaco staff husband stayed hotel crazy weekend attending memorial service best friend husband celebrating  wedding anniversary talk mixed emotions booked suite hotel monte carlos loaned beautiful fantanned goldfish named joliet weekend visited dogs worked desk human companions room decorated nicely couch used pillows loccitane bath amenities welcome sight room quiet peaceful wireless internet access wonderful server went morning leaving problems printing boarding passes afternoon reception serves oenophilesatisfying wine australia scrumptious cookies restaurant closed renovation stay finally ate food good drinks better word caution restaurant larger person not sit booths wo nt fit   lbs husband   table smackagainst stomach couple inches space mighty uncomfortable patron larger pregnant bad design opinion place decorated funky welcoming way metal wood handblown glass light fixtures expect seattle capital glass art industry definitely stay reason  ', 'cozy stay rainy city husband spent  nights monaco early january  business trip chance come ridewe booked monte carlo suite proved comfortable longish stay room  located street building street noise not problem view interesting rooms building look dank alley midsection large office building suite comfortable plenty room spread bathroom attractive squeaky clean small comparison generous proportions sitting sleeping areas lots comfortable seating options good lighting plenty storage clothing luggage hotel staff friendly efficient housekeeping staff did great job pleasant requests responded quicklythe location quite good easy walk pike street market seattle art museum notch shopping dining optionsa positive experience  ', 'excellent staff housekeeping quality hotel chocked staff make feel home experienced exceptional service desk staff concierge door men maid service needs work maid failed tuck sheets foot bed instance soiled sheets used staff quickley resolved soiled sheets issue guess relates employee not reflection rest staffwe received excellent advice concierge regarding resturants area happy hour wine tasting nice touch staff went way make feel homegreat location like close good food shopping took play  street theather wellpikes market pioneer square access mono rail short walking distance  ', 'hotel stayed hotel monaco cruise rooms generous decorated uniquely hotel remodeled pacific bell building charm sturdiness everytime walked bell men felt like coming home secure great single travelers location fabulous walk things pike market space needlelittle grocerydrug store block away today green bravo  double bed room room bed couch separated curtain snoring mom slept curtain great food nearby  ', 'excellent stayed hotel monaco past we delight reception staff friendly professional room smart comfortable bed particularly liked reception small dog received staff guests spoke loved mild negative distance uphill ppmarket restaurants  overall great experience  ', 'poor value stayed monaco seattle july nice hotel priced   night not hotel takes beating quotient experience simply average nothing exceptional paying  nt ca nt terribly disappointed wife stayed nicest suites  felt like overpaying best advice shop qualitywise league average marriott nice best western  ', 'nice value seattle stayed  nights late  looked comparable hilton marriott westin area pointsmiles nt gave monaco shot pleasantly surprised nice room service quick tasty bed especially comfortable unlike people nothing positive things say service downside relatively small exercise room treadmill heck east coast time ran person  days definitely stay  ', 'nice hotel good location hotel kimpton design whimsical vibe fun staff young casual problem hotel busy stay friendly helpful group reserved rooms gave connecting rooms fuss not busy weekthe rooms decent size not huge pretty average city hotel beds nice bathrooms clean bright pocket doors ideal busy bathroom room design bright cheery flat panel tv location little noisy fine  floor location convenient walkable attractions new central library sam art museum benaroya concert hall pike place market parking steep  evening wine receptions popular  ', 'nice hotel not nice staff hotel lovely staff quite rude bellhop desk clerk going way make things difficult waited forever check heavy bags no help getting throught double doors room worst desk clerk checking tap tap tap car waited pick  minutes got home noticed  dollar hold credit card took  phonecalls  faxes  week resolved stay warwck  lenora rooms okbut al friendly faces tiring day airport  ', 'great hotel night quick business trip loved little touches like goldfish leopard print robe complaint wifi complimentary not internet access business center great location library service fabulous  ', 'horrible customer service hotel stay february    friend picked hotel monaco appealing website online package included champagne late checkout  free valet gift spa weekend friend checked room hours earlier came later pulled valet young man just stood asked valet open said pull bags didnçé offer help got garment bag suitcase came car key room number says not valet car park car street pull left key working asked valet park car gets went room fine bottle champagne oil lotion gift spa dressed went came got bed noticed blood drops pillows sheets pillows disgusted just unbelievable called desk sent somebody  minutes later swapped sheets left apologizing sunday morning called desk speak management sheets aggravated rude apparently no manager kind supervisor weekend wait monday morning young man spoke said cover food adding person changed sheets said fresh blood rude tone checkout  package booked   staff maids tried walk room opening door apologizing closing people called saying check  remind package finally packed things went downstairs check quickly signed paper took way took closer look room unfortunately covered food offered charged valet called desk ask charges lady answered snapped saying aware problem experienced monday like told earlier life treated like hotel not sure hotel constantly problems lucky ones stay recommend anybody know  ', 'disappointed say anticipating stay hotel monaco based reviews seen tripadvisor definitely disppointment decor room hotel envisioned nice housekeeping staff impressive extremely polite cheery helpful desk bellmen standard customer service lots little things easily overlooked broken make mirror sagging post bathroom jiggly entrance handle room did nt feel secure handle nearly falling door husband early morning flight midweek asked cab called suggested cab ride cost double private car flatrate nt case knew cost cab  car  bell staff insisted like  taxi ride cab driver later explained bell staff kick referrals preferred guests city andor hotel hotel staff looking best interests new years planned dining restaurant hotel new year day came dressed dinner told desk closed holiday asked nearby response good luck finding today good luck thanks help feature needed hotel business centre work downstairs service completely semifuncitional internet service outsourced ended spending  money nt work no refund  hours vacation time troubleshooting internet company toll free service line asked desk times assistance told worst experience time asked desk assistance got response included shrug say oh bad majority staff attitude just simply did not care needed help dared intrude time got snotty response occasions caught desk girls smirking thought turned nt talk frustrating honesty nt wait check nice decor liked goldfish housekeeping staff great end hotel want dash door nt way not concerned taking greet pretty ignored desk area unless approached time street westin saw nothing smiling faces coming going hotel  ', 'fantastic stay monaco seattle hotel monaco holds high standards kimpton hotel line having stayed kimpton hotels cities easily say seattle hotel monaco best seen service attentive prompt based member kimpton loyalty program upgraded  floor room great view  street excellent public library kittycorner hotel highly recommend tour public library blown away room quite spacious beautiful flatscreen television dvdcd player exercise room pretty standard kimpton size means adequate not outstanding eliptical cardio machines stationary bikes personal viewing screens cardio machine screens accept dvd not seen kimpton hotels hotel monaco line particular hotel lobby stylish quirky inviting easy imagine spending time relaxing comfortable overstuffed chairs restaurant attached hotel sazerac good far eaten lunch look forward breakfast tomorrow kimpton properties able connect free highspeed internet ethernet seconds cruising web checking email office no problems opinion ca nt wrong kimpton hotel seattle hotel monaco certainly excellent choice  ', 'good choice hotel recommended sister great location room nice comfortable bed quiet staff helpful recommendations restaurants pike market  block walk stay  ', 'hmmmmm say really high hopes hotel monaco chose base girlfriend shopping trip seattle stay say given competition seattle just okay hotel lot nice features little things detract bedding super soft luxurious comforters pillows mattress rock hard standard hotel bed kept awake nights furnishings nice colors patterns fun chair rip wall paper peeling stayed room  noise like fog horn vibrated walls stay guess water pipes really annoyingon waking morning packages decaf instead regular coffee took  minutes send coffee showed just package coffee town usa little package  tiny dried creamers supposed coffee service lobby saw cleared really early gone  wine reception  boy better time walk  like did look manager like trying scope  glass food plate goldfish crackers classyfriday night restaurant bar closed  private party planned eat heard fun bar bummer add restall hotel posters say things like hotel comfort felt catered comfortable no staff asked doing said hello looking visit  ', 'service service service spent week gfriend labor day bumbershoot gray line airporter drops corner hotel  person cab  total make sure flat rate town car  location central downtown street w itçé quick walk points tourist business yes space needle bit far monorail westlake center easy walk away tourist underground tour public market space needle emp leave bit room luggage shopping great neighborhood safe clean room mediterranean suite quite large equipped twoperson jacuzzi tub small stand glassenclosed shower room no view did not care room clean small throw blanket adorned foot bed took tastefully decorated walls striped trust wont feel like stale hotel ask gold fish bring wellbehaved dog companyservice aspects excellent desk house keeping concierge room service bell desk ready provide warm professional service test donçé flinchgym open  hours newer cardio machines dumbbells highest weight  water towels tv goldçé walking distancegastronomy sazerac worth try not impressive itçé amusingthis visit seattle monaco like beds westin better prefer monaco afford w gfriends visit wants bumbershoot year stay hotel monaco  ', 'excellent stay delightful surprise stay monaco thoroughly enjoyed stay room comfortable lovely amenities friendly staff especially enjoyed hour indulgence definitely come  ', 'good value downtown hotel monaco seattle great option pricey area town rooms w street going close  night hotel monaco unique interesting cozy bedlinens quality aveda products bathroom nice touchyou close downtown quick cab ride away nightlife restaurants loved lola experience quirky luxurious funi definitely stay  ', 'hotel monaco great location service hotel monaco centrally located provides excellent service recently stayed  originally checked slight problem informed booked queen beds expedia room king bed fortunately fellow guest checking time swapped rooms future reference booking expedia recommend double checking hotel ensure receive correct room staff stated better book hotel directly match online rates additionally concierge marco helpful sat night called salty make reservations brunch day informed no seats available following day concierge called restaurant hours wanted dine able book table  great window view hotel blocks away pike place market seattle art museum shopping district walking distance space needle experience music project attractions ammenities services provided hotel include pet goldfish wine tasting yoga mat use room seattle recommend taking helicopter tour mt st helens hoffstadt visitor center  ', 'great location need internally upgrade advantage north end downtown seattle great restaurants nearby good prices rooms need updated literally thought sleeping  bed old pillows sheets net result bad nights sleep stay location staff friendly  ', 'nt mind noise place great read reviews noise used hotel website book room interesting site gives checkbox options  room farthest elevator  room higher floor  quiet room getting quietest room possible checked hoping got  floor  floors hall elevator listened trucks ambulance sirens night sheeeesh aside heating units sound like small plane engines hear surrounding roomsif noise sleeps facilities clean conveniently located reasonably priced staff quite helpful  ', 'loved stayed warwick overnight getway enjoy christmas shopping warwick exceeded expectations staff wonderful extrememly friendly room clean service lounge wonderful came contact hotel friendly women bathroom lever lounge well think haunted totally creepy vibe lights anywho really enjoyed stay going couple days  ', 'met expectations centrally located hotel blocks water popular nightlife shopping options belltown downtown classify property star location paid wedding rate not sure fares value proposition room spacious little outdated rooms decent views lower floor drab panaroma parking lot buildings adequate fitness center sauna pool basement quaint barrestaurant attached hotel parking  day outrage possibly standard downtown street parking weekend save dollars willing stay future price significantly lower nearby fourstar competition  ', 'nice hotel husband stayed warwick  years ago liked hotel location did not hesitate book tripwe asked received nonsmoking room king bed high floor hoping hotel nice view space needle checkin nice friendly keys minutes nice room small loveseat juliet balconylove location hotel just block away best restaurants downtown dahlia lounge palace kitchen lola small grocery storeminimart right street wine easy walk pike place marketon site hotel nice restaurant lounge area ate breakfast hotel drinks loungebar times good servicewe did nt chance use did look pool exercise room located basement pool small definitely useable exercise room variety machines weights not newest market definitely decent machines kept neat clean exercise room plenty towels water cooler availablei think ran maid days leaving friendlywe used business center couple times consisted  computers free internet printer just needed ask key desk nice handyoverall thought staff helpful hotel quiet good location definitely met expectations did stayed years ago definitely return hope soon  ', 'good hotel not large hotel newly decorated rooms good size clean excellent location  blocks centre town  blocks market areahotel resturant bustling place alot diners coming street good meal thereoverall highly recommend staying  ', 'good choice seattle stayed night business booked company overall satisfactory arrived late evening room  floor clean comfortable great view bathroom little small clean equipped good night sleep enjoyed excellent breakfast restaurant checking staff encountered friendly polite  ', 'great location expensive parking warwick heart seattle easy walking distance pikes place monorail terminal downtown shops stayed twice recently start finish tour pacific north west staff helpful knowledgable rooms large comfy armchair large bedded room rooms fridge coffee makerparking site expensive guess reflects city centre parking prices free zone travel seattle buses cheap free travel central seattle handy grocery store opposite  ', 'noise airconditionera standard arranged stay travel agency unfortunately warwick seattle hotel dissapointment trip  night stay warwick changed  rooms starting minute stay hotel personnel didnt make feel like guest like intruder reluctant help solve complaints hotel right downtown  minutes really good restaurants like good thing availability room offered  floor window directly opening car parking level changed room  rooms loud sound coming air conditioner heating unbelievable hotel hotel personnel told standard noise rooms tried avoid using night order sleep possible watching tv loudly  ', 'good location poor cleanliness warwick hotel great location seattle close shopping pike place seattle centre really lets hotel cleanliness bed linen torn curtains torn floor stains hotel advertises having balcony reality disappointment stayed hotel san diego did balcony table chairs warwick balcony  inchesthe view rooms view space needle terrific does nt make poor cleanliness check staff pleasant nor unpleasant decided not sample restaurant ralph deli street great snacks cafethere plenty better hotels seattle slightly money warwick choose eg hotel andra  ', 'good place spending big bucks warwick plenty comfortable nice nice view space needle room nt expect balcony just  inch ledge ironwork falling overboard open patio door partially step view lake union elliott bay morning space needle hidden clouds neat sunny weather cloudy needed warwick no complaints  ', 'nice hotel trip seattle wanted stay downtown good rate hotel decided stay warwick clean stayed  floor excellent view space needle downtown nice able open sliding door let cool air bed comfy pillows not room clean parking not problem use hotel parking staff friendly helpful ask key business center  computers needless say hassle use computers acquire key restaurant good breakfast hotel not walking distance major attractions like stated space needle pike market  mins away walking opted drive therewe pleased hotel stay  ', 'great value seattle spouse stayed warwick seattle days september hotel does not disappoint reasonably priced stay downtown area easy walk sightseeing attractions blocks waterfront free bus seattle figure worked research room king bed spacious nicely appointed comfortable plenty pillows coffee room course great seattle bath finished marble deep tub handheld shower nice touch toiletries average not huge consideration complaints concerned desk reservations trip leg olympic penninsula decided cancel second reservation arrived hotel day travel desk clerk kept waiting minutes hello moved second desk clerk free told reservation not no attempt look walk stairs parking garage confirmation luggage did reservation following day office tried told nt staying parking  pretty steep option parking seattle scarce hotel does nt shuttle option cab  hotel restaurant adequate really great breakfast walk block mayflower park hotel pricey fabulous  ', 'gem hotel absolute gem small great service room not huge certainly adequate clean comfortable ask room high floor great view downtown space needlebest attentive staff concierges friendly helpful shuttle drivers went way literally victoria ferry pick convenientwould recommend  ', 'pretty good value visit seattle frequently   days longer staying  nights not worth especially hotel raised rates lately recommend ramada steps away staying longer time perfect especially families fancier hotels town warwick satisfy families especially expensive suites swimming pool bit dark balconies acually just big step windows views location perfect small restaurant dont overpriced does not offer better food downtown  ', 'average nice stay hotel amazing location great restaurants gourmet grocery cinerama  block radius macy nordstroms shopping blocks mattress comfy amazing sweeping view space needle lake union downtown elliott bay great pool gym facility room service nothing write home nt pizza parking  yikes old building nicely remodeled  ', 'bad choice booked hotel hot wire called immediately requesting nonsmoking room king bed room away elevatoricethe person spoke pleasant stated not guarantee requests honored make note reservation checkin person desk rude said no special request noted reservation card andstated no king beds way reservation stuck  double beds located directly accross elevator ice nonsmoking no elevator parking garage hotel warwick mats garage filthy stairwells hotel faces  smells urine carpets registration elevator area need cleaning upholstery curtains room needed cleaning andpressing sign bathroom water conservation tub facet dripped continuously tub drain needsattention shower curtain holes no coffee maker room bedding did not fit bed sleeping directly mattress bedding askew staff unfriendly short housekeeping staff quite pleasant stay hotel  ', 'good value hotel stayed warwick times past years spent night march   room fine king bed tv pay view movies minifridge thing missing coffee maker nice marble bathroom hand held shower view east hotel space needle time viewed  westin hotel towers price right got  miles aadvantage card fly ointment  overnight parking charge definately come location great  ', 'warwick bad good reviews warwick shocks staff quite rude rooms fairly dirty cut asked bandaid did not requested bottle opener did not better service  ', 'great service warwick just recently spent  days christmas holidays warwick helpfulness care courtesy experienced desk restaurant room service housekeeping staff truly average greatly appreciated restaurant turned fabulous meals time certain operating skeleton staff thing prevents giving place excellent rating following hotel tired old dirty carpets bedding expect hostel given price range rooms face lift necessary  ', 'austin powers decor familiar hotel seattlewhere sheets  different colors hairbut okbecause clean second daythe bathroom friend cringeshe asked brought flip flops sanitizer spraythe dirty shag carpet did nt stop wallit crawled inchesi star saw shining worse  ', 'great location nt stay long needed place stay seattle prior catching early morning amtrak train portland looked train station not dropping hertz car hilton downtown just wanted place spend night called hotel seattle based location tourist map near hilton did nt access internet research reviews did not stay location great virtually door high end hotels half price hilton thought try checked asked aaa discount clerk response time heard hotel desk clerk not knowing aaa room used low budget movie version run hotel threadbare carpets dingy curtains not quite hanging right minimal lighting strange hanging light middle room dingy bathroom definitely dingy did not appear obviously dirty no ac luckily did nt need bed not particularly comfortable little boucy people definitely gravitated middle no clock room did wake requestedit ok spending night nt want spend positive great safe location quick taxi ride train station shower great not invested low flow shower heads water pressure really high really enjoyed conversation desk clerk morning mentioned clerk previous night heard aaa told clerk moron owner not asked interview went say check reviews trip advisor listed worst hotels seattle got ta love type enthusiastic employee worked night friend day clerk did mention nicer rooms definitely nt want not nice ones recommend ask room committing  ', 'pay read reviews booked knew getting mind nt surprised fact better expected yes rooms outdated towels floormat limited cable tv overall lack amenities use hotel reviewer said like budget overseas hotel stayed similar condition just enjoyed experience check desk service great asked extra pillows maid got spent  flowers pike street added character roomlocation friends stayed fairmont street stayed  nights night cost money went dinners trip victoria baseball games  ', 'not bad location unmatchable price range simple sleeping room  expect pay  surprisingly cleaner hotels seen past week driving la staying travelodge days inn motel  quality furnishings high sure little run spots just old building usual character flaws none affected comfort lucky corner room especially nice look w know paying  bath worked nt care watch tv vacation no idea worked want believe comments feel free mean room come  ', 'remarkable hotel needed days booked inn based tripadvisor reviews great hotel staff professional accomodating town car service available airport immaculate rooms spacious bathroom great location not great hotel price great hotel room facing inner coutyard no problem noise rooms face st noisy location excellent downtown seattlewent attached restaurant bacco breakfast cafe champagne dinner excellent  ', 'great location friendly staff stayed hotel easter throughly enjoyed time superably located exploring seattle especially market rooms good sizethe staff not friendly helpful reception area welcomingour room exit stairwell night hear rumbling assume like air conditioning pipes  ']\n"
     ]
    },
    {
     "data": {
      "text/html": [
       "<div>\n",
       "<style scoped>\n",
       "    .dataframe tbody tr th:only-of-type {\n",
       "        vertical-align: middle;\n",
       "    }\n",
       "\n",
       "    .dataframe tbody tr th {\n",
       "        vertical-align: top;\n",
       "    }\n",
       "\n",
       "    .dataframe thead th {\n",
       "        text-align: right;\n",
       "    }\n",
       "</style>\n",
       "<table border=\"1\" class=\"dataframe\">\n",
       "  <thead>\n",
       "    <tr style=\"text-align: right;\">\n",
       "      <th></th>\n",
       "      <th>Review</th>\n",
       "      <th>Clean_Reviews</th>\n",
       "      <th>stemmed</th>\n",
       "      <th>lemmas</th>\n",
       "    </tr>\n",
       "  </thead>\n",
       "  <tbody>\n",
       "    <tr>\n",
       "      <th>0</th>\n",
       "      <td>nice hotel expensive parking got good deal sta...</td>\n",
       "      <td>[nice, expensive, parking, got, good, deal, st...</td>\n",
       "      <td>nice expens park got good deal stay anniversar...</td>\n",
       "      <td>nice expensive parking got good deal stay anni...</td>\n",
       "    </tr>\n",
       "    <tr>\n",
       "      <th>1</th>\n",
       "      <td>ok nothing special charge diamond member hilto...</td>\n",
       "      <td>[ok, nothing, special, charge, diamond, member...</td>\n",
       "      <td>ok noth special charg diamond member hilton de...</td>\n",
       "      <td>ok nothing special charge diamond member hilto...</td>\n",
       "    </tr>\n",
       "    <tr>\n",
       "      <th>2</th>\n",
       "      <td>nice rooms not 4* experience hotel monaco seat...</td>\n",
       "      <td>[nice, rooms, not, experience, monaco, seattle...</td>\n",
       "      <td>nice room not experi monaco seattl good nt lev...</td>\n",
       "      <td>nice room not experience monaco seattle good n...</td>\n",
       "    </tr>\n",
       "    <tr>\n",
       "      <th>3</th>\n",
       "      <td>unique, great stay, wonderful time hotel monac...</td>\n",
       "      <td>[unique, great, stay, wonderful, time, monaco,...</td>\n",
       "      <td>uniqu great stay wonder time monaco locat exce...</td>\n",
       "      <td>unique great stay wonderful time monaco locati...</td>\n",
       "    </tr>\n",
       "    <tr>\n",
       "      <th>4</th>\n",
       "      <td>great stay great stay, went seahawk game aweso...</td>\n",
       "      <td>[great, stay, great, stay, went, seahawk, game...</td>\n",
       "      <td>great stay great stay went seahawk game awesom...</td>\n",
       "      <td>great stay great stay went seahawk game awesom...</td>\n",
       "    </tr>\n",
       "  </tbody>\n",
       "</table>\n",
       "</div>"
      ],
      "text/plain": [
       "                                              Review  \\\n",
       "0  nice hotel expensive parking got good deal sta...   \n",
       "1  ok nothing special charge diamond member hilto...   \n",
       "2  nice rooms not 4* experience hotel monaco seat...   \n",
       "3  unique, great stay, wonderful time hotel monac...   \n",
       "4  great stay great stay, went seahawk game aweso...   \n",
       "\n",
       "                                       Clean_Reviews  \\\n",
       "0  [nice, expensive, parking, got, good, deal, st...   \n",
       "1  [ok, nothing, special, charge, diamond, member...   \n",
       "2  [nice, rooms, not, experience, monaco, seattle...   \n",
       "3  [unique, great, stay, wonderful, time, monaco,...   \n",
       "4  [great, stay, great, stay, went, seahawk, game...   \n",
       "\n",
       "                                             stemmed  \\\n",
       "0  nice expens park got good deal stay anniversar...   \n",
       "1  ok noth special charg diamond member hilton de...   \n",
       "2  nice room not experi monaco seattl good nt lev...   \n",
       "3  uniqu great stay wonder time monaco locat exce...   \n",
       "4  great stay great stay went seahawk game awesom...   \n",
       "\n",
       "                                              lemmas  \n",
       "0  nice expensive parking got good deal stay anni...  \n",
       "1  ok nothing special charge diamond member hilto...  \n",
       "2  nice room not experience monaco seattle good n...  \n",
       "3  unique great stay wonderful time monaco locati...  \n",
       "4  great stay great stay went seahawk game awesom...  "
      ]
     },
     "execution_count": 23,
     "metadata": {},
     "output_type": "execute_result"
    }
   ],
   "source": [
    "# Lemmatization\n",
    "nltk.download('wordnet')\n",
    "from nltk.stem import WordNetLemmatizer\n",
    "\n",
    "# Create an instance of WordNetLemmatizer\n",
    "wnl = WordNetLemmatizer()\n",
    "\n",
    "lemma_words=[wnl.lemmatize(word) for word in lower_words]\n",
    "print(lemma_words[:50])\n",
    "\n",
    "df['lemmas'] = df['Clean_Reviews'].apply(lambda x: \" \".join([wnl.lemmatize(word) for word in x]))\n",
    "df.head()"
   ]
  },
  {
   "cell_type": "code",
   "execution_count": 24,
   "id": "b9044d9b",
   "metadata": {
    "colab": {
     "base_uri": "https://localhost:8080/",
     "height": 70
    },
    "id": "b9044d9b",
    "outputId": "eb620361-f39a-4f3a-965c-6f0b3cb19b4a"
   },
   "outputs": [
    {
     "data": {
      "text/plain": [
       "'nice hotel expensive parking got good deal stay hotel anniversary arrived late evening took advice previous reviews did valet parking check quick easy little disappointed nonexistent view room room clean nice size bed comfortable woke stiff neck high pillows not soundproof like heard music room night morning loud bangs doors opening closing hear people talking hallway maybe just noisy neighbors aveda bath products nice did not goldfish stay nice touch taken advantage staying longer location grea'"
      ]
     },
     "execution_count": 24,
     "metadata": {},
     "output_type": "execute_result"
    }
   ],
   "source": [
    "clean_reviews=' '.join(lemma_words)\n",
    "clean_reviews[:500]"
   ]
  },
  {
   "cell_type": "code",
   "execution_count": 25,
   "id": "ba4b5147",
   "metadata": {
    "id": "ba4b5147"
   },
   "outputs": [],
   "source": [
    "# from wordcloud import WordCloud\n",
    "\n",
    "# # Define a function to plot word cloud\n",
    "# def plot_cloud(wordcloud):\n",
    "#     plt.figure(figsize=(40,30))\n",
    "#     plt.imshow(wordcloud)\n",
    "#     plt.axis('off')\n",
    "\n",
    "\n",
    "# # Generate Word Cloud\n",
    "# wordcloud=WordCloud(width=3000,height=2000,background_color='black',max_words=500,\n",
    "#                      colormap='Set1',stopwords=my_stop_words).generate(clean_reviews)\n",
    "# plot_cloud(wordcloud)"
   ]
  },
  {
   "cell_type": "code",
   "execution_count": 26,
   "id": "54a07752",
   "metadata": {
    "colab": {
     "base_uri": "https://localhost:8080/",
     "height": 206
    },
    "id": "54a07752",
    "outputId": "2b5d4c13-04d1-45e0-b3ba-a1d24d547381"
   },
   "outputs": [
    {
     "data": {
      "text/html": [
       "<div>\n",
       "<style scoped>\n",
       "    .dataframe tbody tr th:only-of-type {\n",
       "        vertical-align: middle;\n",
       "    }\n",
       "\n",
       "    .dataframe tbody tr th {\n",
       "        vertical-align: top;\n",
       "    }\n",
       "\n",
       "    .dataframe thead th {\n",
       "        text-align: right;\n",
       "    }\n",
       "</style>\n",
       "<table border=\"1\" class=\"dataframe\">\n",
       "  <thead>\n",
       "    <tr style=\"text-align: right;\">\n",
       "      <th></th>\n",
       "      <th>Review</th>\n",
       "      <th>Clean_Reviews</th>\n",
       "      <th>stemmed</th>\n",
       "      <th>lemmas</th>\n",
       "    </tr>\n",
       "  </thead>\n",
       "  <tbody>\n",
       "    <tr>\n",
       "      <th>0</th>\n",
       "      <td>nice hotel expensive parking got good deal sta...</td>\n",
       "      <td>[nice, expensive, parking, got, good, deal, st...</td>\n",
       "      <td>nice expens park got good deal stay anniversar...</td>\n",
       "      <td>nice expensive parking got good deal stay anni...</td>\n",
       "    </tr>\n",
       "    <tr>\n",
       "      <th>1</th>\n",
       "      <td>ok nothing special charge diamond member hilto...</td>\n",
       "      <td>[ok, nothing, special, charge, diamond, member...</td>\n",
       "      <td>ok noth special charg diamond member hilton de...</td>\n",
       "      <td>ok nothing special charge diamond member hilto...</td>\n",
       "    </tr>\n",
       "    <tr>\n",
       "      <th>2</th>\n",
       "      <td>nice rooms not 4* experience hotel monaco seat...</td>\n",
       "      <td>[nice, rooms, not, experience, monaco, seattle...</td>\n",
       "      <td>nice room not experi monaco seattl good nt lev...</td>\n",
       "      <td>nice room not experience monaco seattle good n...</td>\n",
       "    </tr>\n",
       "    <tr>\n",
       "      <th>3</th>\n",
       "      <td>unique, great stay, wonderful time hotel monac...</td>\n",
       "      <td>[unique, great, stay, wonderful, time, monaco,...</td>\n",
       "      <td>uniqu great stay wonder time monaco locat exce...</td>\n",
       "      <td>unique great stay wonderful time monaco locati...</td>\n",
       "    </tr>\n",
       "    <tr>\n",
       "      <th>4</th>\n",
       "      <td>great stay great stay, went seahawk game aweso...</td>\n",
       "      <td>[great, stay, great, stay, went, seahawk, game...</td>\n",
       "      <td>great stay great stay went seahawk game awesom...</td>\n",
       "      <td>great stay great stay went seahawk game awesom...</td>\n",
       "    </tr>\n",
       "  </tbody>\n",
       "</table>\n",
       "</div>"
      ],
      "text/plain": [
       "                                              Review  \\\n",
       "0  nice hotel expensive parking got good deal sta...   \n",
       "1  ok nothing special charge diamond member hilto...   \n",
       "2  nice rooms not 4* experience hotel monaco seat...   \n",
       "3  unique, great stay, wonderful time hotel monac...   \n",
       "4  great stay great stay, went seahawk game aweso...   \n",
       "\n",
       "                                       Clean_Reviews  \\\n",
       "0  [nice, expensive, parking, got, good, deal, st...   \n",
       "1  [ok, nothing, special, charge, diamond, member...   \n",
       "2  [nice, rooms, not, experience, monaco, seattle...   \n",
       "3  [unique, great, stay, wonderful, time, monaco,...   \n",
       "4  [great, stay, great, stay, went, seahawk, game...   \n",
       "\n",
       "                                             stemmed  \\\n",
       "0  nice expens park got good deal stay anniversar...   \n",
       "1  ok noth special charg diamond member hilton de...   \n",
       "2  nice room not experi monaco seattl good nt lev...   \n",
       "3  uniqu great stay wonder time monaco locat exce...   \n",
       "4  great stay great stay went seahawk game awesom...   \n",
       "\n",
       "                                              lemmas  \n",
       "0  nice expensive parking got good deal stay anni...  \n",
       "1  ok nothing special charge diamond member hilto...  \n",
       "2  nice room not experience monaco seattle good n...  \n",
       "3  unique great stay wonderful time monaco locati...  \n",
       "4  great stay great stay went seahawk game awesom...  "
      ]
     },
     "execution_count": 26,
     "metadata": {},
     "output_type": "execute_result"
    }
   ],
   "source": [
    "df.head()"
   ]
  },
  {
   "cell_type": "markdown",
   "id": "cc9c9185",
   "metadata": {
    "id": "cc9c9185"
   },
   "source": [
    "# Using--TF-IDF"
   ]
  },
  {
   "cell_type": "code",
   "execution_count": 27,
   "id": "2c93c223",
   "metadata": {},
   "outputs": [
    {
     "data": {
      "text/html": [
       "<div>\n",
       "<style scoped>\n",
       "    .dataframe tbody tr th:only-of-type {\n",
       "        vertical-align: middle;\n",
       "    }\n",
       "\n",
       "    .dataframe tbody tr th {\n",
       "        vertical-align: top;\n",
       "    }\n",
       "\n",
       "    .dataframe thead th {\n",
       "        text-align: right;\n",
       "    }\n",
       "</style>\n",
       "<table border=\"1\" class=\"dataframe\">\n",
       "  <thead>\n",
       "    <tr style=\"text-align: right;\">\n",
       "      <th></th>\n",
       "      <th>lemmas</th>\n",
       "      <th>rating</th>\n",
       "    </tr>\n",
       "  </thead>\n",
       "  <tbody>\n",
       "    <tr>\n",
       "      <th>0</th>\n",
       "      <td>nice expensive parking got good deal stay anni...</td>\n",
       "      <td>4</td>\n",
       "    </tr>\n",
       "    <tr>\n",
       "      <th>1</th>\n",
       "      <td>ok nothing special charge diamond member hilto...</td>\n",
       "      <td>2</td>\n",
       "    </tr>\n",
       "    <tr>\n",
       "      <th>2</th>\n",
       "      <td>nice room not experience monaco seattle good n...</td>\n",
       "      <td>3</td>\n",
       "    </tr>\n",
       "    <tr>\n",
       "      <th>3</th>\n",
       "      <td>unique great stay wonderful time monaco locati...</td>\n",
       "      <td>5</td>\n",
       "    </tr>\n",
       "    <tr>\n",
       "      <th>4</th>\n",
       "      <td>great stay great stay went seahawk game awesom...</td>\n",
       "      <td>5</td>\n",
       "    </tr>\n",
       "  </tbody>\n",
       "</table>\n",
       "</div>"
      ],
      "text/plain": [
       "                                              lemmas  rating\n",
       "0  nice expensive parking got good deal stay anni...       4\n",
       "1  ok nothing special charge diamond member hilto...       2\n",
       "2  nice room not experience monaco seattle good n...       3\n",
       "3  unique great stay wonderful time monaco locati...       5\n",
       "4  great stay great stay went seahawk game awesom...       5"
      ]
     },
     "execution_count": 27,
     "metadata": {},
     "output_type": "execute_result"
    }
   ],
   "source": [
    "dt = pd.DataFrame({\"lemmas\":df.lemmas, \"rating\" :reviews.Rating})\n",
    "dt.head()"
   ]
  },
  {
   "cell_type": "code",
   "execution_count": 28,
   "id": "763f2406",
   "metadata": {
    "id": "763f2406"
   },
   "outputs": [],
   "source": [
    "from sklearn.feature_extraction.text import TfidfVectorizer"
   ]
  },
  {
   "cell_type": "code",
   "execution_count": 29,
   "id": "dfa7ac0e",
   "metadata": {
    "id": "dfa7ac0e"
   },
   "outputs": [],
   "source": [
    "vectorizer=TfidfVectorizer(max_features=1000,max_df=0.5,smooth_idf=True)\n",
    "doc_vec=vectorizer.fit_transform(dt.lemmas)\n",
    "names_features=vectorizer.get_feature_names_out()\n",
    "dense=doc_vec.todense()\n",
    "denselist=dense.tolist()\n",
    "df_=pd.DataFrame(denselist,columns=names_features)"
   ]
  },
  {
   "cell_type": "code",
   "execution_count": 30,
   "id": "28e54ebb",
   "metadata": {
    "colab": {
     "base_uri": "https://localhost:8080/",
     "height": 443
    },
    "id": "28e54ebb",
    "outputId": "b19129e6-98a2-4723-9cda-e2e68570ce07"
   },
   "outputs": [
    {
     "data": {
      "text/html": [
       "<div>\n",
       "<style scoped>\n",
       "    .dataframe tbody tr th:only-of-type {\n",
       "        vertical-align: middle;\n",
       "    }\n",
       "\n",
       "    .dataframe tbody tr th {\n",
       "        vertical-align: top;\n",
       "    }\n",
       "\n",
       "    .dataframe thead th {\n",
       "        text-align: right;\n",
       "    }\n",
       "</style>\n",
       "<table border=\"1\" class=\"dataframe\">\n",
       "  <thead>\n",
       "    <tr style=\"text-align: right;\">\n",
       "      <th></th>\n",
       "      <th>able</th>\n",
       "      <th>absolutely</th>\n",
       "      <th>ac</th>\n",
       "      <th>access</th>\n",
       "      <th>accommodation</th>\n",
       "      <th>activity</th>\n",
       "      <th>actually</th>\n",
       "      <th>add</th>\n",
       "      <th>added</th>\n",
       "      <th>additional</th>\n",
       "      <th>...</th>\n",
       "      <th>worry</th>\n",
       "      <th>worse</th>\n",
       "      <th>worst</th>\n",
       "      <th>worth</th>\n",
       "      <th>write</th>\n",
       "      <th>wrong</th>\n",
       "      <th>year</th>\n",
       "      <th>yes</th>\n",
       "      <th>york</th>\n",
       "      <th>young</th>\n",
       "    </tr>\n",
       "  </thead>\n",
       "  <tbody>\n",
       "    <tr>\n",
       "      <th>0</th>\n",
       "      <td>0.0</td>\n",
       "      <td>0.00000</td>\n",
       "      <td>0.000000</td>\n",
       "      <td>0.0</td>\n",
       "      <td>0.0</td>\n",
       "      <td>0.000000</td>\n",
       "      <td>0.000000</td>\n",
       "      <td>0.000000</td>\n",
       "      <td>0.0</td>\n",
       "      <td>0.0</td>\n",
       "      <td>...</td>\n",
       "      <td>0.0</td>\n",
       "      <td>0.0</td>\n",
       "      <td>0.0</td>\n",
       "      <td>0.0</td>\n",
       "      <td>0.0</td>\n",
       "      <td>0.000000</td>\n",
       "      <td>0.000000</td>\n",
       "      <td>0.000000</td>\n",
       "      <td>0.0</td>\n",
       "      <td>0.000000</td>\n",
       "    </tr>\n",
       "    <tr>\n",
       "      <th>1</th>\n",
       "      <td>0.0</td>\n",
       "      <td>0.00000</td>\n",
       "      <td>0.000000</td>\n",
       "      <td>0.0</td>\n",
       "      <td>0.0</td>\n",
       "      <td>0.000000</td>\n",
       "      <td>0.000000</td>\n",
       "      <td>0.000000</td>\n",
       "      <td>0.0</td>\n",
       "      <td>0.0</td>\n",
       "      <td>...</td>\n",
       "      <td>0.0</td>\n",
       "      <td>0.0</td>\n",
       "      <td>0.0</td>\n",
       "      <td>0.0</td>\n",
       "      <td>0.0</td>\n",
       "      <td>0.000000</td>\n",
       "      <td>0.000000</td>\n",
       "      <td>0.000000</td>\n",
       "      <td>0.0</td>\n",
       "      <td>0.000000</td>\n",
       "    </tr>\n",
       "    <tr>\n",
       "      <th>2</th>\n",
       "      <td>0.0</td>\n",
       "      <td>0.00000</td>\n",
       "      <td>0.093496</td>\n",
       "      <td>0.0</td>\n",
       "      <td>0.0</td>\n",
       "      <td>0.000000</td>\n",
       "      <td>0.000000</td>\n",
       "      <td>0.000000</td>\n",
       "      <td>0.0</td>\n",
       "      <td>0.0</td>\n",
       "      <td>...</td>\n",
       "      <td>0.0</td>\n",
       "      <td>0.0</td>\n",
       "      <td>0.0</td>\n",
       "      <td>0.0</td>\n",
       "      <td>0.0</td>\n",
       "      <td>0.000000</td>\n",
       "      <td>0.000000</td>\n",
       "      <td>0.000000</td>\n",
       "      <td>0.0</td>\n",
       "      <td>0.000000</td>\n",
       "    </tr>\n",
       "    <tr>\n",
       "      <th>3</th>\n",
       "      <td>0.0</td>\n",
       "      <td>0.00000</td>\n",
       "      <td>0.000000</td>\n",
       "      <td>0.0</td>\n",
       "      <td>0.0</td>\n",
       "      <td>0.000000</td>\n",
       "      <td>0.000000</td>\n",
       "      <td>0.000000</td>\n",
       "      <td>0.0</td>\n",
       "      <td>0.0</td>\n",
       "      <td>...</td>\n",
       "      <td>0.0</td>\n",
       "      <td>0.0</td>\n",
       "      <td>0.0</td>\n",
       "      <td>0.0</td>\n",
       "      <td>0.0</td>\n",
       "      <td>0.000000</td>\n",
       "      <td>0.000000</td>\n",
       "      <td>0.000000</td>\n",
       "      <td>0.0</td>\n",
       "      <td>0.000000</td>\n",
       "    </tr>\n",
       "    <tr>\n",
       "      <th>4</th>\n",
       "      <td>0.0</td>\n",
       "      <td>0.00000</td>\n",
       "      <td>0.000000</td>\n",
       "      <td>0.0</td>\n",
       "      <td>0.0</td>\n",
       "      <td>0.083364</td>\n",
       "      <td>0.000000</td>\n",
       "      <td>0.000000</td>\n",
       "      <td>0.0</td>\n",
       "      <td>0.0</td>\n",
       "      <td>...</td>\n",
       "      <td>0.0</td>\n",
       "      <td>0.0</td>\n",
       "      <td>0.0</td>\n",
       "      <td>0.0</td>\n",
       "      <td>0.0</td>\n",
       "      <td>0.000000</td>\n",
       "      <td>0.000000</td>\n",
       "      <td>0.000000</td>\n",
       "      <td>0.0</td>\n",
       "      <td>0.000000</td>\n",
       "    </tr>\n",
       "    <tr>\n",
       "      <th>...</th>\n",
       "      <td>...</td>\n",
       "      <td>...</td>\n",
       "      <td>...</td>\n",
       "      <td>...</td>\n",
       "      <td>...</td>\n",
       "      <td>...</td>\n",
       "      <td>...</td>\n",
       "      <td>...</td>\n",
       "      <td>...</td>\n",
       "      <td>...</td>\n",
       "      <td>...</td>\n",
       "      <td>...</td>\n",
       "      <td>...</td>\n",
       "      <td>...</td>\n",
       "      <td>...</td>\n",
       "      <td>...</td>\n",
       "      <td>...</td>\n",
       "      <td>...</td>\n",
       "      <td>...</td>\n",
       "      <td>...</td>\n",
       "      <td>...</td>\n",
       "    </tr>\n",
       "    <tr>\n",
       "      <th>20486</th>\n",
       "      <td>0.0</td>\n",
       "      <td>0.00000</td>\n",
       "      <td>0.000000</td>\n",
       "      <td>0.0</td>\n",
       "      <td>0.0</td>\n",
       "      <td>0.000000</td>\n",
       "      <td>0.000000</td>\n",
       "      <td>0.000000</td>\n",
       "      <td>0.0</td>\n",
       "      <td>0.0</td>\n",
       "      <td>...</td>\n",
       "      <td>0.0</td>\n",
       "      <td>0.0</td>\n",
       "      <td>0.0</td>\n",
       "      <td>0.0</td>\n",
       "      <td>0.0</td>\n",
       "      <td>0.000000</td>\n",
       "      <td>0.000000</td>\n",
       "      <td>0.000000</td>\n",
       "      <td>0.0</td>\n",
       "      <td>0.000000</td>\n",
       "    </tr>\n",
       "    <tr>\n",
       "      <th>20487</th>\n",
       "      <td>0.0</td>\n",
       "      <td>0.00000</td>\n",
       "      <td>0.000000</td>\n",
       "      <td>0.0</td>\n",
       "      <td>0.0</td>\n",
       "      <td>0.000000</td>\n",
       "      <td>0.000000</td>\n",
       "      <td>0.000000</td>\n",
       "      <td>0.0</td>\n",
       "      <td>0.0</td>\n",
       "      <td>...</td>\n",
       "      <td>0.0</td>\n",
       "      <td>0.0</td>\n",
       "      <td>0.0</td>\n",
       "      <td>0.0</td>\n",
       "      <td>0.0</td>\n",
       "      <td>0.000000</td>\n",
       "      <td>0.000000</td>\n",
       "      <td>0.000000</td>\n",
       "      <td>0.0</td>\n",
       "      <td>0.000000</td>\n",
       "    </tr>\n",
       "    <tr>\n",
       "      <th>20488</th>\n",
       "      <td>0.0</td>\n",
       "      <td>0.00000</td>\n",
       "      <td>0.000000</td>\n",
       "      <td>0.0</td>\n",
       "      <td>0.0</td>\n",
       "      <td>0.000000</td>\n",
       "      <td>0.000000</td>\n",
       "      <td>0.000000</td>\n",
       "      <td>0.0</td>\n",
       "      <td>0.0</td>\n",
       "      <td>...</td>\n",
       "      <td>0.0</td>\n",
       "      <td>0.0</td>\n",
       "      <td>0.0</td>\n",
       "      <td>0.0</td>\n",
       "      <td>0.0</td>\n",
       "      <td>0.000000</td>\n",
       "      <td>0.000000</td>\n",
       "      <td>0.000000</td>\n",
       "      <td>0.0</td>\n",
       "      <td>0.000000</td>\n",
       "    </tr>\n",
       "    <tr>\n",
       "      <th>20489</th>\n",
       "      <td>0.0</td>\n",
       "      <td>0.06336</td>\n",
       "      <td>0.000000</td>\n",
       "      <td>0.0</td>\n",
       "      <td>0.0</td>\n",
       "      <td>0.000000</td>\n",
       "      <td>0.032006</td>\n",
       "      <td>0.042841</td>\n",
       "      <td>0.0</td>\n",
       "      <td>0.0</td>\n",
       "      <td>...</td>\n",
       "      <td>0.0</td>\n",
       "      <td>0.0</td>\n",
       "      <td>0.0</td>\n",
       "      <td>0.0</td>\n",
       "      <td>0.0</td>\n",
       "      <td>0.000000</td>\n",
       "      <td>0.080047</td>\n",
       "      <td>0.000000</td>\n",
       "      <td>0.0</td>\n",
       "      <td>0.038648</td>\n",
       "    </tr>\n",
       "    <tr>\n",
       "      <th>20490</th>\n",
       "      <td>0.0</td>\n",
       "      <td>0.00000</td>\n",
       "      <td>0.000000</td>\n",
       "      <td>0.0</td>\n",
       "      <td>0.0</td>\n",
       "      <td>0.000000</td>\n",
       "      <td>0.000000</td>\n",
       "      <td>0.000000</td>\n",
       "      <td>0.0</td>\n",
       "      <td>0.0</td>\n",
       "      <td>...</td>\n",
       "      <td>0.0</td>\n",
       "      <td>0.0</td>\n",
       "      <td>0.0</td>\n",
       "      <td>0.0</td>\n",
       "      <td>0.0</td>\n",
       "      <td>0.130246</td>\n",
       "      <td>0.000000</td>\n",
       "      <td>0.239106</td>\n",
       "      <td>0.0</td>\n",
       "      <td>0.000000</td>\n",
       "    </tr>\n",
       "  </tbody>\n",
       "</table>\n",
       "<p>20491 rows × 1000 columns</p>\n",
       "</div>"
      ],
      "text/plain": [
       "       able  absolutely        ac  access  accommodation  activity  actually  \\\n",
       "0       0.0     0.00000  0.000000     0.0            0.0  0.000000  0.000000   \n",
       "1       0.0     0.00000  0.000000     0.0            0.0  0.000000  0.000000   \n",
       "2       0.0     0.00000  0.093496     0.0            0.0  0.000000  0.000000   \n",
       "3       0.0     0.00000  0.000000     0.0            0.0  0.000000  0.000000   \n",
       "4       0.0     0.00000  0.000000     0.0            0.0  0.083364  0.000000   \n",
       "...     ...         ...       ...     ...            ...       ...       ...   \n",
       "20486   0.0     0.00000  0.000000     0.0            0.0  0.000000  0.000000   \n",
       "20487   0.0     0.00000  0.000000     0.0            0.0  0.000000  0.000000   \n",
       "20488   0.0     0.00000  0.000000     0.0            0.0  0.000000  0.000000   \n",
       "20489   0.0     0.06336  0.000000     0.0            0.0  0.000000  0.032006   \n",
       "20490   0.0     0.00000  0.000000     0.0            0.0  0.000000  0.000000   \n",
       "\n",
       "            add  added  additional  ...  worry  worse  worst  worth  write  \\\n",
       "0      0.000000    0.0         0.0  ...    0.0    0.0    0.0    0.0    0.0   \n",
       "1      0.000000    0.0         0.0  ...    0.0    0.0    0.0    0.0    0.0   \n",
       "2      0.000000    0.0         0.0  ...    0.0    0.0    0.0    0.0    0.0   \n",
       "3      0.000000    0.0         0.0  ...    0.0    0.0    0.0    0.0    0.0   \n",
       "4      0.000000    0.0         0.0  ...    0.0    0.0    0.0    0.0    0.0   \n",
       "...         ...    ...         ...  ...    ...    ...    ...    ...    ...   \n",
       "20486  0.000000    0.0         0.0  ...    0.0    0.0    0.0    0.0    0.0   \n",
       "20487  0.000000    0.0         0.0  ...    0.0    0.0    0.0    0.0    0.0   \n",
       "20488  0.000000    0.0         0.0  ...    0.0    0.0    0.0    0.0    0.0   \n",
       "20489  0.042841    0.0         0.0  ...    0.0    0.0    0.0    0.0    0.0   \n",
       "20490  0.000000    0.0         0.0  ...    0.0    0.0    0.0    0.0    0.0   \n",
       "\n",
       "          wrong      year       yes  york     young  \n",
       "0      0.000000  0.000000  0.000000   0.0  0.000000  \n",
       "1      0.000000  0.000000  0.000000   0.0  0.000000  \n",
       "2      0.000000  0.000000  0.000000   0.0  0.000000  \n",
       "3      0.000000  0.000000  0.000000   0.0  0.000000  \n",
       "4      0.000000  0.000000  0.000000   0.0  0.000000  \n",
       "...         ...       ...       ...   ...       ...  \n",
       "20486  0.000000  0.000000  0.000000   0.0  0.000000  \n",
       "20487  0.000000  0.000000  0.000000   0.0  0.000000  \n",
       "20488  0.000000  0.000000  0.000000   0.0  0.000000  \n",
       "20489  0.000000  0.080047  0.000000   0.0  0.038648  \n",
       "20490  0.130246  0.000000  0.239106   0.0  0.000000  \n",
       "\n",
       "[20491 rows x 1000 columns]"
      ]
     },
     "execution_count": 30,
     "metadata": {},
     "output_type": "execute_result"
    }
   ],
   "source": [
    "df_"
   ]
  },
  {
   "cell_type": "code",
   "execution_count": 31,
   "id": "8d53c161",
   "metadata": {
    "colab": {
     "base_uri": "https://localhost:8080/"
    },
    "id": "8d53c161",
    "outputId": "484b5b91-83be-48f7-d728-f8f39a5971c2"
   },
   "outputs": [
    {
     "data": {
      "text/html": [
       "<div>\n",
       "<style scoped>\n",
       "    .dataframe tbody tr th:only-of-type {\n",
       "        vertical-align: middle;\n",
       "    }\n",
       "\n",
       "    .dataframe tbody tr th {\n",
       "        vertical-align: top;\n",
       "    }\n",
       "\n",
       "    .dataframe thead th {\n",
       "        text-align: right;\n",
       "    }\n",
       "</style>\n",
       "<table border=\"1\" class=\"dataframe\">\n",
       "  <thead>\n",
       "    <tr style=\"text-align: right;\">\n",
       "      <th></th>\n",
       "      <th>able</th>\n",
       "      <th>absolutely</th>\n",
       "      <th>ac</th>\n",
       "      <th>access</th>\n",
       "      <th>accommodation</th>\n",
       "      <th>activity</th>\n",
       "      <th>actually</th>\n",
       "      <th>add</th>\n",
       "      <th>added</th>\n",
       "      <th>additional</th>\n",
       "      <th>...</th>\n",
       "      <th>worry</th>\n",
       "      <th>worse</th>\n",
       "      <th>worst</th>\n",
       "      <th>worth</th>\n",
       "      <th>write</th>\n",
       "      <th>wrong</th>\n",
       "      <th>year</th>\n",
       "      <th>yes</th>\n",
       "      <th>york</th>\n",
       "      <th>young</th>\n",
       "    </tr>\n",
       "  </thead>\n",
       "  <tbody>\n",
       "    <tr>\n",
       "      <th>0</th>\n",
       "      <td>0.0</td>\n",
       "      <td>0.0</td>\n",
       "      <td>0.0</td>\n",
       "      <td>0.0</td>\n",
       "      <td>0.0</td>\n",
       "      <td>0.0</td>\n",
       "      <td>0.0</td>\n",
       "      <td>0.0</td>\n",
       "      <td>0.0</td>\n",
       "      <td>0.0</td>\n",
       "      <td>...</td>\n",
       "      <td>0.0</td>\n",
       "      <td>0.0</td>\n",
       "      <td>0.0</td>\n",
       "      <td>0.0</td>\n",
       "      <td>0.0</td>\n",
       "      <td>0.0</td>\n",
       "      <td>0.0</td>\n",
       "      <td>0.0</td>\n",
       "      <td>0.0</td>\n",
       "      <td>0.0</td>\n",
       "    </tr>\n",
       "  </tbody>\n",
       "</table>\n",
       "<p>1 rows × 1000 columns</p>\n",
       "</div>"
      ],
      "text/plain": [
       "   able  absolutely   ac  access  accommodation  activity  actually  add  \\\n",
       "0   0.0         0.0  0.0     0.0            0.0       0.0       0.0  0.0   \n",
       "\n",
       "   added  additional  ...  worry  worse  worst  worth  write  wrong  year  \\\n",
       "0    0.0         0.0  ...    0.0    0.0    0.0    0.0    0.0    0.0   0.0   \n",
       "\n",
       "   yes  york  young  \n",
       "0  0.0   0.0    0.0  \n",
       "\n",
       "[1 rows x 1000 columns]"
      ]
     },
     "execution_count": 31,
     "metadata": {},
     "output_type": "execute_result"
    }
   ],
   "source": [
    "text_to_check = dt.lemmas[209]\n",
    "text_vectorized = vectorizer.transform([text_to_check])\n",
    "dense_text = text_vectorized.todense()\n",
    "df_text = pd.DataFrame(dense_text, columns=names_features)\n",
    "df_text"
   ]
  },
  {
   "cell_type": "code",
   "execution_count": 32,
   "id": "efef371a",
   "metadata": {},
   "outputs": [],
   "source": [
    "x2=doc_vec"
   ]
  },
  {
   "cell_type": "code",
   "execution_count": 33,
   "id": "b55d2665",
   "metadata": {},
   "outputs": [],
   "source": [
    "dt['sentiment'] = pd.cut(dt['rating'], bins=[0, 2, 3, 5], labels=['negative', 'neutral', 'positive'])\n",
    "dt.head()\n",
    "y2 = dt[\"sentiment\"]"
   ]
  },
  {
   "cell_type": "markdown",
   "id": "7616c26a",
   "metadata": {
    "id": "7616c26a"
   },
   "source": [
    "## <span style='color:purple'>  Logistic Regression <span>"
   ]
  },
  {
   "cell_type": "code",
   "execution_count": 34,
   "id": "85fe6fbd",
   "metadata": {
    "id": "85fe6fbd"
   },
   "outputs": [],
   "source": [
    "from sklearn.model_selection import train_test_split\n",
    "x_train,x_test,y_train,y_test=train_test_split(x2,y2,test_size=0.2,random_state=42)"
   ]
  },
  {
   "cell_type": "code",
   "execution_count": 35,
   "id": "0b7bb382",
   "metadata": {
    "colab": {
     "base_uri": "https://localhost:8080/"
    },
    "id": "0b7bb382",
    "outputId": "e5e32132-b3c6-41ad-92a4-5ed28118fc29"
   },
   "outputs": [
    {
     "data": {
      "text/plain": [
       "(16392, 1000)"
      ]
     },
     "execution_count": 35,
     "metadata": {},
     "output_type": "execute_result"
    }
   ],
   "source": [
    "x_train.shape"
   ]
  },
  {
   "cell_type": "code",
   "execution_count": 36,
   "id": "c049f8e7",
   "metadata": {
    "colab": {
     "base_uri": "https://localhost:8080/",
     "height": 74
    },
    "id": "c049f8e7",
    "outputId": "b035f871-be5e-4988-d30a-fef25037f96d"
   },
   "outputs": [
    {
     "data": {
      "text/html": [
       "<style>#sk-container-id-1 {color: black;}#sk-container-id-1 pre{padding: 0;}#sk-container-id-1 div.sk-toggleable {background-color: white;}#sk-container-id-1 label.sk-toggleable__label {cursor: pointer;display: block;width: 100%;margin-bottom: 0;padding: 0.3em;box-sizing: border-box;text-align: center;}#sk-container-id-1 label.sk-toggleable__label-arrow:before {content: \"▸\";float: left;margin-right: 0.25em;color: #696969;}#sk-container-id-1 label.sk-toggleable__label-arrow:hover:before {color: black;}#sk-container-id-1 div.sk-estimator:hover label.sk-toggleable__label-arrow:before {color: black;}#sk-container-id-1 div.sk-toggleable__content {max-height: 0;max-width: 0;overflow: hidden;text-align: left;background-color: #f0f8ff;}#sk-container-id-1 div.sk-toggleable__content pre {margin: 0.2em;color: black;border-radius: 0.25em;background-color: #f0f8ff;}#sk-container-id-1 input.sk-toggleable__control:checked~div.sk-toggleable__content {max-height: 200px;max-width: 100%;overflow: auto;}#sk-container-id-1 input.sk-toggleable__control:checked~label.sk-toggleable__label-arrow:before {content: \"▾\";}#sk-container-id-1 div.sk-estimator input.sk-toggleable__control:checked~label.sk-toggleable__label {background-color: #d4ebff;}#sk-container-id-1 div.sk-label input.sk-toggleable__control:checked~label.sk-toggleable__label {background-color: #d4ebff;}#sk-container-id-1 input.sk-hidden--visually {border: 0;clip: rect(1px 1px 1px 1px);clip: rect(1px, 1px, 1px, 1px);height: 1px;margin: -1px;overflow: hidden;padding: 0;position: absolute;width: 1px;}#sk-container-id-1 div.sk-estimator {font-family: monospace;background-color: #f0f8ff;border: 1px dotted black;border-radius: 0.25em;box-sizing: border-box;margin-bottom: 0.5em;}#sk-container-id-1 div.sk-estimator:hover {background-color: #d4ebff;}#sk-container-id-1 div.sk-parallel-item::after {content: \"\";width: 100%;border-bottom: 1px solid gray;flex-grow: 1;}#sk-container-id-1 div.sk-label:hover label.sk-toggleable__label {background-color: #d4ebff;}#sk-container-id-1 div.sk-serial::before {content: \"\";position: absolute;border-left: 1px solid gray;box-sizing: border-box;top: 0;bottom: 0;left: 50%;z-index: 0;}#sk-container-id-1 div.sk-serial {display: flex;flex-direction: column;align-items: center;background-color: white;padding-right: 0.2em;padding-left: 0.2em;position: relative;}#sk-container-id-1 div.sk-item {position: relative;z-index: 1;}#sk-container-id-1 div.sk-parallel {display: flex;align-items: stretch;justify-content: center;background-color: white;position: relative;}#sk-container-id-1 div.sk-item::before, #sk-container-id-1 div.sk-parallel-item::before {content: \"\";position: absolute;border-left: 1px solid gray;box-sizing: border-box;top: 0;bottom: 0;left: 50%;z-index: -1;}#sk-container-id-1 div.sk-parallel-item {display: flex;flex-direction: column;z-index: 1;position: relative;background-color: white;}#sk-container-id-1 div.sk-parallel-item:first-child::after {align-self: flex-end;width: 50%;}#sk-container-id-1 div.sk-parallel-item:last-child::after {align-self: flex-start;width: 50%;}#sk-container-id-1 div.sk-parallel-item:only-child::after {width: 0;}#sk-container-id-1 div.sk-dashed-wrapped {border: 1px dashed gray;margin: 0 0.4em 0.5em 0.4em;box-sizing: border-box;padding-bottom: 0.4em;background-color: white;}#sk-container-id-1 div.sk-label label {font-family: monospace;font-weight: bold;display: inline-block;line-height: 1.2em;}#sk-container-id-1 div.sk-label-container {text-align: center;}#sk-container-id-1 div.sk-container {/* jupyter's `normalize.less` sets `[hidden] { display: none; }` but bootstrap.min.css set `[hidden] { display: none !important; }` so we also need the `!important` here to be able to override the default hidden behavior on the sphinx rendered scikit-learn.org. See: https://github.com/scikit-learn/scikit-learn/issues/21755 */display: inline-block !important;position: relative;}#sk-container-id-1 div.sk-text-repr-fallback {display: none;}</style><div id=\"sk-container-id-1\" class=\"sk-top-container\"><div class=\"sk-text-repr-fallback\"><pre>LogisticRegression()</pre><b>In a Jupyter environment, please rerun this cell to show the HTML representation or trust the notebook. <br />On GitHub, the HTML representation is unable to render, please try loading this page with nbviewer.org.</b></div><div class=\"sk-container\" hidden><div class=\"sk-item\"><div class=\"sk-estimator sk-toggleable\"><input class=\"sk-toggleable__control sk-hidden--visually\" id=\"sk-estimator-id-1\" type=\"checkbox\" checked><label for=\"sk-estimator-id-1\" class=\"sk-toggleable__label sk-toggleable__label-arrow\">LogisticRegression</label><div class=\"sk-toggleable__content\"><pre>LogisticRegression()</pre></div></div></div></div></div>"
      ],
      "text/plain": [
       "LogisticRegression()"
      ]
     },
     "execution_count": 36,
     "metadata": {},
     "output_type": "execute_result"
    }
   ],
   "source": [
    "from sklearn.linear_model import LogisticRegression\n",
    "\n",
    "model_lr=LogisticRegression()\n",
    "model_lr.fit(x_train,y_train)"
   ]
  },
  {
   "cell_type": "code",
   "execution_count": 37,
   "id": "9dbb2b2d",
   "metadata": {
    "colab": {
     "base_uri": "https://localhost:8080/"
    },
    "id": "9dbb2b2d",
    "outputId": "d89b89e8-a95e-4954-8888-98fb402034da"
   },
   "outputs": [
    {
     "name": "stdout",
     "output_type": "stream",
     "text": [
      "accuracy using TF-IDF is : 0.8499634057087094\n"
     ]
    }
   ],
   "source": [
    "print('accuracy using TF-IDF is :',model_lr.score(x_test,y_test))"
   ]
  },
  {
   "cell_type": "code",
   "execution_count": 38,
   "id": "e404b745",
   "metadata": {
    "colab": {
     "base_uri": "https://localhost:8080/"
    },
    "id": "e404b745",
    "outputId": "7dd440f6-bb88-41e2-8780-d08f9b27652f"
   },
   "outputs": [
    {
     "name": "stdout",
     "output_type": "stream",
     "text": [
      "              precision    recall  f1-score   support\n",
      "\n",
      "    negative       0.76      0.74      0.75       625\n",
      "     neutral       0.46      0.18      0.26       432\n",
      "    positive       0.89      0.97      0.92      3042\n",
      "\n",
      "    accuracy                           0.85      4099\n",
      "   macro avg       0.70      0.63      0.65      4099\n",
      "weighted avg       0.82      0.85      0.83      4099\n",
      "\n"
     ]
    }
   ],
   "source": [
    "from sklearn.metrics import accuracy_score, precision_score, recall_score, f1_score, classification_report\n",
    "pred=model_lr.predict(x_test)\n",
    "lr_tfidf_report=classification_report(y_test,pred)\n",
    "print(lr_tfidf_report)"
   ]
  },
  {
   "cell_type": "markdown",
   "id": "1be53b32",
   "metadata": {
    "id": "1be53b32"
   },
   "source": [
    "#### <span style='color:red'> Interpretation of LR_TF-IDF:<span>"
   ]
  },
  {
   "cell_type": "markdown",
   "id": "dc3e4a6f",
   "metadata": {
    "id": "dc3e4a6f"
   },
   "source": [
    "- By looking at support we can see that the data is imbalanced and the f1-score is the HM of precision and recall (gives more weight to the lower class). Since the value of f1-score(0.30) is not higher(<1) which indicates models performance was relatively low."
   ]
  },
  {
   "cell_type": "code",
   "execution_count": 39,
   "id": "4d275dc6",
   "metadata": {
    "colab": {
     "base_uri": "https://localhost:8080/"
    },
    "id": "4d275dc6",
    "outputId": "17664946-f374-4639-caed-e9426a5af0c9"
   },
   "outputs": [
    {
     "data": {
      "text/plain": [
       "array([[ 462,   42,  121],\n",
       "       [  94,   79,  259],\n",
       "       [  48,   51, 2943]], dtype=int64)"
      ]
     },
     "execution_count": 39,
     "metadata": {},
     "output_type": "execute_result"
    }
   ],
   "source": [
    "from sklearn.metrics import confusion_matrix\n",
    "confusion_matrix(y_test,pred)"
   ]
  },
  {
   "cell_type": "code",
   "execution_count": 40,
   "id": "3539e53c",
   "metadata": {
    "colab": {
     "base_uri": "https://localhost:8080/"
    },
    "id": "3539e53c",
    "outputId": "0fcc347d-3a44-49ee-a25d-5aa0e92dedab"
   },
   "outputs": [
    {
     "name": "stdout",
     "output_type": "stream",
     "text": [
      "Predicted Sentiment: ['positive']\n"
     ]
    }
   ],
   "source": [
    "sent = [\"this hotel is good!\"]\n",
    "transformed = vectorizer.transform(sent)\n",
    "prediction = model_lr.predict(transformed)\n",
    "print(\"Predicted Sentiment:\", prediction)"
   ]
  },
  {
   "cell_type": "code",
   "execution_count": 41,
   "id": "06cab361",
   "metadata": {},
   "outputs": [
    {
     "name": "stdout",
     "output_type": "stream",
     "text": [
      "Predicted Sentiment: ['negative']\n"
     ]
    }
   ],
   "source": [
    "sent = [\"this hotel is bad!\"]\n",
    "transformed = vectorizer.transform(sent)\n",
    "prediction = model_lr.predict(transformed)\n",
    "print(\"Predicted Sentiment:\", prediction)"
   ]
  },
  {
   "cell_type": "code",
   "execution_count": 42,
   "id": "5f44109a",
   "metadata": {},
   "outputs": [
    {
     "name": "stdout",
     "output_type": "stream",
     "text": [
      "Predicted Sentiment: ['positive']\n"
     ]
    }
   ],
   "source": [
    "sent = [\"this hotel was good but food where smelly\"]\n",
    "transformed = vectorizer.transform(sent)\n",
    "prediction = model_lr.predict(transformed)\n",
    "print(\"Predicted Sentiment:\", prediction)"
   ]
  },
  {
   "cell_type": "code",
   "execution_count": 43,
   "id": "f28d2900",
   "metadata": {},
   "outputs": [
    {
     "name": "stdout",
     "output_type": "stream",
     "text": [
      "Requirement already satisfied: imbalanced-learn in c:\\users\\hp\\anaconda3\\lib\\site-packages (0.11.0)\n",
      "Requirement already satisfied: numpy>=1.17.3 in c:\\users\\hp\\anaconda3\\lib\\site-packages (from imbalanced-learn) (1.24.3)\n",
      "Requirement already satisfied: scipy>=1.5.0 in c:\\users\\hp\\anaconda3\\lib\\site-packages (from imbalanced-learn) (1.10.1)\n",
      "Requirement already satisfied: scikit-learn>=1.0.2 in c:\\users\\hp\\anaconda3\\lib\\site-packages (from imbalanced-learn) (1.3.2)\n",
      "Requirement already satisfied: joblib>=1.1.1 in c:\\users\\hp\\anaconda3\\lib\\site-packages (from imbalanced-learn) (1.2.0)\n",
      "Requirement already satisfied: threadpoolctl>=2.0.0 in c:\\users\\hp\\anaconda3\\lib\\site-packages (from imbalanced-learn) (2.2.0)\n",
      "Note: you may need to restart the kernel to use updated packages.\n"
     ]
    }
   ],
   "source": [
    "pip install -U imbalanced-learn"
   ]
  },
  {
   "cell_type": "code",
   "execution_count": 44,
   "id": "df530739",
   "metadata": {},
   "outputs": [],
   "source": [
    "from imblearn.over_sampling import RandomOverSampler"
   ]
  },
  {
   "cell_type": "code",
   "execution_count": 45,
   "id": "11954007",
   "metadata": {},
   "outputs": [],
   "source": [
    "oversampler = RandomOverSampler(sampling_strategy='auto', random_state=42)\n",
    "x_train_resampled, y_train_resampled = oversampler.fit_resample(x_train, y_train)"
   ]
  },
  {
   "cell_type": "code",
   "execution_count": 46,
   "id": "41a9cf36",
   "metadata": {
    "scrolled": false
   },
   "outputs": [
    {
     "name": "stdout",
     "output_type": "stream",
     "text": [
      "              precision    recall  f1-score   support\n",
      "\n",
      "    negative       0.76      0.74      0.75       625\n",
      "     neutral       0.46      0.18      0.26       432\n",
      "    positive       0.89      0.97      0.92      3042\n",
      "\n",
      "    accuracy                           0.85      4099\n",
      "   macro avg       0.70      0.63      0.65      4099\n",
      "weighted avg       0.82      0.85      0.83      4099\n",
      "\n"
     ]
    }
   ],
   "source": [
    "logreg_model = LogisticRegression(max_iter=1000)\n",
    "logreg_model.fit(x_train_resampled, y_train_resampled)\n",
    "y_pred = logreg_model.predict(x_test)\n",
    "lros_tfidf_report=classification_report(y_test,pred)\n",
    "print(lros_tfidf_report)"
   ]
  },
  {
   "cell_type": "code",
   "execution_count": 47,
   "id": "7924fc97",
   "metadata": {},
   "outputs": [
    {
     "name": "stdout",
     "output_type": "stream",
     "text": [
      "Predicted Sentiment: ['positive']\n"
     ]
    }
   ],
   "source": [
    "sent = [\"this hotel was good but bedsheets where smelly and having strains on them\"]\n",
    "transformed = vectorizer.transform(sent)\n",
    "prediction = logreg_model.predict(transformed)\n",
    "print(\"Predicted Sentiment:\", prediction)"
   ]
  },
  {
   "cell_type": "code",
   "execution_count": 48,
   "id": "4b654962",
   "metadata": {},
   "outputs": [
    {
     "name": "stdout",
     "output_type": "stream",
     "text": [
      "Predicted Sentiment: ['positive']\n"
     ]
    }
   ],
   "source": [
    "sent = [\"the hotel was not good\"]\n",
    "transformed = vectorizer.transform(sent)\n",
    "prediction = logreg_model.predict(transformed)\n",
    "print(\"Predicted Sentiment:\", prediction)"
   ]
  },
  {
   "cell_type": "markdown",
   "id": "5e84166a",
   "metadata": {
    "id": "5e84166a"
   },
   "source": [
    "## <span style='color:purple'> Naive Bayes <span>"
   ]
  },
  {
   "cell_type": "code",
   "execution_count": 49,
   "id": "edfa0862",
   "metadata": {
    "id": "edfa0862"
   },
   "outputs": [],
   "source": [
    "x_train,x_test,y_train,y_test=train_test_split(x2,y2,test_size=0.2,random_state=42)"
   ]
  },
  {
   "cell_type": "code",
   "execution_count": 50,
   "id": "ab60e402",
   "metadata": {
    "colab": {
     "base_uri": "https://localhost:8080/",
     "height": 74
    },
    "id": "ab60e402",
    "outputId": "8a1f3d09-9ea6-46ee-d7f9-43b52ecbee13"
   },
   "outputs": [
    {
     "data": {
      "text/html": [
       "<style>#sk-container-id-2 {color: black;}#sk-container-id-2 pre{padding: 0;}#sk-container-id-2 div.sk-toggleable {background-color: white;}#sk-container-id-2 label.sk-toggleable__label {cursor: pointer;display: block;width: 100%;margin-bottom: 0;padding: 0.3em;box-sizing: border-box;text-align: center;}#sk-container-id-2 label.sk-toggleable__label-arrow:before {content: \"▸\";float: left;margin-right: 0.25em;color: #696969;}#sk-container-id-2 label.sk-toggleable__label-arrow:hover:before {color: black;}#sk-container-id-2 div.sk-estimator:hover label.sk-toggleable__label-arrow:before {color: black;}#sk-container-id-2 div.sk-toggleable__content {max-height: 0;max-width: 0;overflow: hidden;text-align: left;background-color: #f0f8ff;}#sk-container-id-2 div.sk-toggleable__content pre {margin: 0.2em;color: black;border-radius: 0.25em;background-color: #f0f8ff;}#sk-container-id-2 input.sk-toggleable__control:checked~div.sk-toggleable__content {max-height: 200px;max-width: 100%;overflow: auto;}#sk-container-id-2 input.sk-toggleable__control:checked~label.sk-toggleable__label-arrow:before {content: \"▾\";}#sk-container-id-2 div.sk-estimator input.sk-toggleable__control:checked~label.sk-toggleable__label {background-color: #d4ebff;}#sk-container-id-2 div.sk-label input.sk-toggleable__control:checked~label.sk-toggleable__label {background-color: #d4ebff;}#sk-container-id-2 input.sk-hidden--visually {border: 0;clip: rect(1px 1px 1px 1px);clip: rect(1px, 1px, 1px, 1px);height: 1px;margin: -1px;overflow: hidden;padding: 0;position: absolute;width: 1px;}#sk-container-id-2 div.sk-estimator {font-family: monospace;background-color: #f0f8ff;border: 1px dotted black;border-radius: 0.25em;box-sizing: border-box;margin-bottom: 0.5em;}#sk-container-id-2 div.sk-estimator:hover {background-color: #d4ebff;}#sk-container-id-2 div.sk-parallel-item::after {content: \"\";width: 100%;border-bottom: 1px solid gray;flex-grow: 1;}#sk-container-id-2 div.sk-label:hover label.sk-toggleable__label {background-color: #d4ebff;}#sk-container-id-2 div.sk-serial::before {content: \"\";position: absolute;border-left: 1px solid gray;box-sizing: border-box;top: 0;bottom: 0;left: 50%;z-index: 0;}#sk-container-id-2 div.sk-serial {display: flex;flex-direction: column;align-items: center;background-color: white;padding-right: 0.2em;padding-left: 0.2em;position: relative;}#sk-container-id-2 div.sk-item {position: relative;z-index: 1;}#sk-container-id-2 div.sk-parallel {display: flex;align-items: stretch;justify-content: center;background-color: white;position: relative;}#sk-container-id-2 div.sk-item::before, #sk-container-id-2 div.sk-parallel-item::before {content: \"\";position: absolute;border-left: 1px solid gray;box-sizing: border-box;top: 0;bottom: 0;left: 50%;z-index: -1;}#sk-container-id-2 div.sk-parallel-item {display: flex;flex-direction: column;z-index: 1;position: relative;background-color: white;}#sk-container-id-2 div.sk-parallel-item:first-child::after {align-self: flex-end;width: 50%;}#sk-container-id-2 div.sk-parallel-item:last-child::after {align-self: flex-start;width: 50%;}#sk-container-id-2 div.sk-parallel-item:only-child::after {width: 0;}#sk-container-id-2 div.sk-dashed-wrapped {border: 1px dashed gray;margin: 0 0.4em 0.5em 0.4em;box-sizing: border-box;padding-bottom: 0.4em;background-color: white;}#sk-container-id-2 div.sk-label label {font-family: monospace;font-weight: bold;display: inline-block;line-height: 1.2em;}#sk-container-id-2 div.sk-label-container {text-align: center;}#sk-container-id-2 div.sk-container {/* jupyter's `normalize.less` sets `[hidden] { display: none; }` but bootstrap.min.css set `[hidden] { display: none !important; }` so we also need the `!important` here to be able to override the default hidden behavior on the sphinx rendered scikit-learn.org. See: https://github.com/scikit-learn/scikit-learn/issues/21755 */display: inline-block !important;position: relative;}#sk-container-id-2 div.sk-text-repr-fallback {display: none;}</style><div id=\"sk-container-id-2\" class=\"sk-top-container\"><div class=\"sk-text-repr-fallback\"><pre>MultinomialNB()</pre><b>In a Jupyter environment, please rerun this cell to show the HTML representation or trust the notebook. <br />On GitHub, the HTML representation is unable to render, please try loading this page with nbviewer.org.</b></div><div class=\"sk-container\" hidden><div class=\"sk-item\"><div class=\"sk-estimator sk-toggleable\"><input class=\"sk-toggleable__control sk-hidden--visually\" id=\"sk-estimator-id-2\" type=\"checkbox\" checked><label for=\"sk-estimator-id-2\" class=\"sk-toggleable__label sk-toggleable__label-arrow\">MultinomialNB</label><div class=\"sk-toggleable__content\"><pre>MultinomialNB()</pre></div></div></div></div></div>"
      ],
      "text/plain": [
       "MultinomialNB()"
      ]
     },
     "execution_count": 50,
     "metadata": {},
     "output_type": "execute_result"
    }
   ],
   "source": [
    "from sklearn.naive_bayes import MultinomialNB\n",
    "mnb=MultinomialNB()\n",
    "mnb.fit(x_train,y_train)"
   ]
  },
  {
   "cell_type": "code",
   "execution_count": 51,
   "id": "66928949",
   "metadata": {
    "id": "66928949"
   },
   "outputs": [],
   "source": [
    "y_pred=mnb.predict(x_test)"
   ]
  },
  {
   "cell_type": "code",
   "execution_count": 52,
   "id": "72f4ddce",
   "metadata": {
    "colab": {
     "base_uri": "https://localhost:8080/"
    },
    "id": "72f4ddce",
    "outputId": "27d8fe20-ea8b-474b-dd67-488bae6219b7",
    "scrolled": true
   },
   "outputs": [
    {
     "name": "stdout",
     "output_type": "stream",
     "text": [
      "              precision    recall  f1-score   support\n",
      "\n",
      "    negative       0.86      0.48      0.61       625\n",
      "     neutral       0.00      0.00      0.00       432\n",
      "    positive       0.81      1.00      0.89      3042\n",
      "\n",
      "    accuracy                           0.81      4099\n",
      "   macro avg       0.56      0.49      0.50      4099\n",
      "weighted avg       0.73      0.81      0.76      4099\n",
      "\n"
     ]
    }
   ],
   "source": [
    "nb_tfidf_report=classification_report(y_test,y_pred)\n",
    "print(nb_tfidf_report)"
   ]
  },
  {
   "cell_type": "code",
   "execution_count": 53,
   "id": "ac088aec",
   "metadata": {},
   "outputs": [
    {
     "name": "stdout",
     "output_type": "stream",
     "text": [
      "Predicted Sentiment: ['positive']\n"
     ]
    }
   ],
   "source": [
    "sent = [\"this hotel was good but food where smelly\"]\n",
    "transformed = vectorizer.transform(sent)\n",
    "prediction = mnb.predict(transformed)\n",
    "print(\"Predicted Sentiment:\", prediction)"
   ]
  },
  {
   "cell_type": "code",
   "execution_count": 54,
   "id": "fa030c31",
   "metadata": {},
   "outputs": [],
   "source": [
    "from imblearn.over_sampling import RandomOverSampler\n",
    "\n",
    "oversampler = RandomOverSampler(sampling_strategy='auto', random_state=42)\n",
    "x_train_resampled, y_train_resampled = oversampler.fit_resample(x_train, y_train)"
   ]
  },
  {
   "cell_type": "code",
   "execution_count": 55,
   "id": "285b079a",
   "metadata": {},
   "outputs": [
    {
     "name": "stdout",
     "output_type": "stream",
     "text": [
      "              precision    recall  f1-score   support\n",
      "\n",
      "    negative       0.61      0.76      0.68       625\n",
      "     neutral       0.29      0.58      0.38       432\n",
      "    positive       0.96      0.77      0.86      3042\n",
      "\n",
      "    accuracy                           0.75      4099\n",
      "   macro avg       0.62      0.70      0.64      4099\n",
      "weighted avg       0.84      0.75      0.78      4099\n",
      "\n"
     ]
    }
   ],
   "source": [
    "from sklearn.naive_bayes import MultinomialNB\n",
    "mnb_os=MultinomialNB()\n",
    "mnb_os.fit(x_train_resampled,y_train_resampled)\n",
    "y_pred = mnb_os.predict(x_test)\n",
    "nbos_tfidf_report=classification_report(y_test,y_pred)\n",
    "print(nbos_tfidf_report)"
   ]
  },
  {
   "cell_type": "code",
   "execution_count": 56,
   "id": "376d017a",
   "metadata": {},
   "outputs": [
    {
     "name": "stdout",
     "output_type": "stream",
     "text": [
      "Predicted Sentiment: ['neutral']\n"
     ]
    }
   ],
   "source": [
    "sent = [\"this hotel was good but food where smelly\"]\n",
    "transformed = vectorizer.transform(sent)\n",
    "prediction = mnb_os.predict(transformed)\n",
    "print(\"Predicted Sentiment:\", prediction)"
   ]
  },
  {
   "cell_type": "code",
   "execution_count": 57,
   "id": "b7929e67",
   "metadata": {},
   "outputs": [
    {
     "name": "stdout",
     "output_type": "stream",
     "text": [
      "Predicted Sentiment: ['negative']\n"
     ]
    }
   ],
   "source": [
    "sent = [\"the hotel was terrible, food were horrible, toilets were not cleaned\"]\n",
    "transformed = vectorizer.transform(sent)\n",
    "prediction = mnb_os.predict(transformed)\n",
    "print(\"Predicted Sentiment:\", prediction)"
   ]
  },
  {
   "cell_type": "code",
   "execution_count": 58,
   "id": "f8cd9a59",
   "metadata": {},
   "outputs": [
    {
     "name": "stdout",
     "output_type": "stream",
     "text": [
      "Predicted Sentiment: ['negative']\n"
     ]
    }
   ],
   "source": [
    "sent = [\"the hotel is bad\"]\n",
    "transformed = vectorizer.transform(sent)\n",
    "prediction = mnb_os.predict(transformed)\n",
    "print(\"Predicted Sentiment:\", prediction)"
   ]
  },
  {
   "cell_type": "code",
   "execution_count": 59,
   "id": "1e5a9b51",
   "metadata": {},
   "outputs": [
    {
     "name": "stdout",
     "output_type": "stream",
     "text": [
      "Predicted Sentiment: ['neutral']\n"
     ]
    }
   ],
   "source": [
    "sent = [\"the hotel was good\"]\n",
    "transformed = vectorizer.transform(sent)\n",
    "prediction = mnb_os.predict(transformed)\n",
    "print(\"Predicted Sentiment:\", prediction)"
   ]
  },
  {
   "cell_type": "code",
   "execution_count": 60,
   "id": "780099e0",
   "metadata": {},
   "outputs": [
    {
     "name": "stdout",
     "output_type": "stream",
     "text": [
      "Predicted Sentiment: ['neutral']\n"
     ]
    }
   ],
   "source": [
    "sent = [\"the hotel was not good\"]\n",
    "transformed = vectorizer.transform(sent)\n",
    "prediction = mnb_os.predict(transformed)\n",
    "print(\"Predicted Sentiment:\", prediction)"
   ]
  },
  {
   "cell_type": "code",
   "execution_count": 61,
   "id": "41a6f04f",
   "metadata": {},
   "outputs": [
    {
     "name": "stdout",
     "output_type": "stream",
     "text": [
      "Predicted Sentiment: ['positive']\n"
     ]
    }
   ],
   "source": [
    "sent = [\"the hotel was awesome\"]\n",
    "transformed = vectorizer.transform(sent)\n",
    "prediction = mnb_os.predict(transformed)\n",
    "print(\"Predicted Sentiment:\", prediction)"
   ]
  },
  {
   "cell_type": "code",
   "execution_count": null,
   "id": "7d24c3c2",
   "metadata": {},
   "outputs": [],
   "source": []
  },
  {
   "cell_type": "code",
   "execution_count": 62,
   "id": "8b99cb8d",
   "metadata": {},
   "outputs": [],
   "source": [
    "# from sklearn.naive_bayes import MultinomialNB\n",
    "# from sklearn.feature_extraction.text import TfidfVectorizer\n",
    "# from sklearn.model_selection import train_test_split\n",
    "# import joblib\n",
    "\n",
    "# # Assuming you have your data and target variables\n",
    "# x_train, x_test, y_train, y_test = train_test_split(x_tfidf, y_tfidf, test_size=0.2, random_state=42)\n",
    "\n",
    "# # TF-IDF Vectorization\n",
    "# vectorizer = TfidfVectorizer(max_features=1000, max_df=0.5, smooth_idf=True)\n",
    "# x_train_tfidf = vectorizer.fit_transform(x_train)\n",
    "# x_test_tfidf = vectorizer.transform(x_test)\n",
    "\n",
    "# # Naive Bayes model\n",
    "# mnb = MultinomialNB()\n",
    "# mnb.fit(x_train_tfidf, y_train)\n",
    "\n",
    "# # Save the TF-IDF Vectorizer and Multinomial Naive Bayes model using joblib\n",
    "# joblib.dump(vectorizer, 'tfidf_vectorizer.joblib')\n",
    "# joblib.dump(mnb, 'multinomial_nb_model.joblib')\n",
    "\n",
    "# # Load the models later if needed\n",
    "# loaded_vectorizer = joblib.load('tfidf_vectorizer.joblib')\n",
    "# loaded_mnb = joblib.load('multinomial_nb_model.joblib')\n",
    "\n",
    "# # Now you can use the loaded models for predictions\n",
    "# y_pred = loaded_mnb.predict(loaded_vectorizer.transform(x_test))\n"
   ]
  },
  {
   "cell_type": "code",
   "execution_count": 63,
   "id": "6373e1b6",
   "metadata": {},
   "outputs": [],
   "source": [
    "\n",
    "# import joblib\n",
    "\n",
    "# # Split the data\n",
    "# x_train, x_test, y_train, y_test = train_test_split(x2, y2, test_size=0.2, random_state=42)\n",
    "\n",
    "# # Resample the training data\n",
    "# oversampler = RandomOverSampler(sampling_strategy='auto', random_state=42)\n",
    "# x_train_resampled, y_train_resampled = oversampler.fit_resample(x_train, y_train)\n",
    "\n",
    "# # Train the Naive Bayes model\n",
    "# mnb_os = MultinomialNB()\n",
    "# mnb_os.fit(x_train_resampled, y_train_resampled)\n",
    "\n",
    "# # Save the model to a file using joblib\n",
    "# joblib.dump(mnb_os, 'naive_bayes_model.joblib')\n",
    "\n",
    "# # Save the split data\n",
    "# data_dict = {\n",
    "#     'x_train': x_train,\n",
    "#     'x_test': x_test,\n",
    "#     'y_train': y_train,\n",
    "#     'y_test': y_test,\n",
    "#     'x_train_resampled': x_train_resampled,\n",
    "#     'y_train_resampled': y_train_resampled\n",
    "# }\n",
    "\n",
    "\n",
    "# joblib.dump(data_dict, 'split_data.joblib')\n",
    "\n",
    "# # Evaluate the model\n",
    "# # y_pred = mnb_os.predict(x_test)\n",
    "# # nbos_tfidf_report = classification_report(y_test, y_pred)\n",
    "# # print(nbos_tfidf_report)\n"
   ]
  },
  {
   "cell_type": "code",
   "execution_count": 64,
   "id": "817503fc",
   "metadata": {},
   "outputs": [
    {
     "name": "stdout",
     "output_type": "stream",
     "text": [
      "Requirement already satisfied: streamlit in c:\\users\\hp\\anaconda3\\lib\\site-packages (1.27.1)\n",
      "Requirement already satisfied: altair<6,>=4.0 in c:\\users\\hp\\anaconda3\\lib\\site-packages (from streamlit) (5.1.1)\n",
      "Requirement already satisfied: blinker<2,>=1.0.0 in c:\\users\\hp\\anaconda3\\lib\\site-packages (from streamlit) (1.6.2)\n",
      "Requirement already satisfied: cachetools<6,>=4.0 in c:\\users\\hp\\anaconda3\\lib\\site-packages (from streamlit) (5.3.1)\n",
      "Requirement already satisfied: click<9,>=7.0 in c:\\users\\hp\\anaconda3\\lib\\site-packages (from streamlit) (8.0.4)\n",
      "Requirement already satisfied: importlib-metadata<7,>=1.4 in c:\\users\\hp\\anaconda3\\lib\\site-packages (from streamlit) (6.0.0)\n",
      "Requirement already satisfied: numpy<2,>=1.19.3 in c:\\users\\hp\\anaconda3\\lib\\site-packages (from streamlit) (1.24.3)\n",
      "Requirement already satisfied: packaging<24,>=16.8 in c:\\users\\hp\\anaconda3\\lib\\site-packages (from streamlit) (23.0)\n",
      "Requirement already satisfied: pandas<3,>=1.3.0 in c:\\users\\hp\\anaconda3\\lib\\site-packages (from streamlit) (1.5.3)\n",
      "Requirement already satisfied: pillow<11,>=7.1.0 in c:\\users\\hp\\anaconda3\\lib\\site-packages (from streamlit) (9.4.0)\n",
      "Requirement already satisfied: protobuf<5,>=3.20 in c:\\users\\hp\\anaconda3\\lib\\site-packages (from streamlit) (4.24.3)\n",
      "Requirement already satisfied: pyarrow>=6.0 in c:\\users\\hp\\anaconda3\\lib\\site-packages (from streamlit) (11.0.0)\n",
      "Requirement already satisfied: python-dateutil<3,>=2.7.3 in c:\\users\\hp\\anaconda3\\lib\\site-packages (from streamlit) (2.8.2)\n",
      "Requirement already satisfied: requests<3,>=2.27 in c:\\users\\hp\\anaconda3\\lib\\site-packages (from streamlit) (2.31.0)\n",
      "Requirement already satisfied: rich<14,>=10.14.0 in c:\\users\\hp\\anaconda3\\lib\\site-packages (from streamlit) (13.5.3)\n",
      "Requirement already satisfied: tenacity<9,>=8.1.0 in c:\\users\\hp\\anaconda3\\lib\\site-packages (from streamlit) (8.2.2)\n",
      "Requirement already satisfied: toml<2,>=0.10.1 in c:\\users\\hp\\anaconda3\\lib\\site-packages (from streamlit) (0.10.2)\n",
      "Requirement already satisfied: typing-extensions<5,>=4.1.0 in c:\\users\\hp\\anaconda3\\lib\\site-packages (from streamlit) (4.7.1)\n",
      "Requirement already satisfied: tzlocal<6,>=1.1 in c:\\users\\hp\\anaconda3\\lib\\site-packages (from streamlit) (5.0.1)\n",
      "Requirement already satisfied: validators<1,>=0.2 in c:\\users\\hp\\anaconda3\\lib\\site-packages (from streamlit) (0.22.0)\n",
      "Requirement already satisfied: gitpython!=3.1.19,<4,>=3.0.7 in c:\\users\\hp\\anaconda3\\lib\\site-packages (from streamlit) (3.1.37)\n",
      "Requirement already satisfied: pydeck<1,>=0.8.0b4 in c:\\users\\hp\\anaconda3\\lib\\site-packages (from streamlit) (0.8.1b0)\n",
      "Requirement already satisfied: tornado<7,>=6.0.3 in c:\\users\\hp\\anaconda3\\lib\\site-packages (from streamlit) (6.3.2)\n",
      "Requirement already satisfied: watchdog>=2.1.5 in c:\\users\\hp\\anaconda3\\lib\\site-packages (from streamlit) (2.1.6)\n",
      "Requirement already satisfied: jinja2 in c:\\users\\hp\\anaconda3\\lib\\site-packages (from altair<6,>=4.0->streamlit) (3.1.2)\n",
      "Requirement already satisfied: jsonschema>=3.0 in c:\\users\\hp\\anaconda3\\lib\\site-packages (from altair<6,>=4.0->streamlit) (4.17.3)\n",
      "Requirement already satisfied: toolz in c:\\users\\hp\\anaconda3\\lib\\site-packages (from altair<6,>=4.0->streamlit) (0.12.0)\n",
      "Requirement already satisfied: colorama in c:\\users\\hp\\anaconda3\\lib\\site-packages (from click<9,>=7.0->streamlit) (0.4.6)\n",
      "Requirement already satisfied: gitdb<5,>=4.0.1 in c:\\users\\hp\\anaconda3\\lib\\site-packages (from gitpython!=3.1.19,<4,>=3.0.7->streamlit) (4.0.10)\n",
      "Requirement already satisfied: zipp>=0.5 in c:\\users\\hp\\anaconda3\\lib\\site-packages (from importlib-metadata<7,>=1.4->streamlit) (3.11.0)\n",
      "Requirement already satisfied: pytz>=2020.1 in c:\\users\\hp\\anaconda3\\lib\\site-packages (from pandas<3,>=1.3.0->streamlit) (2022.7)\n",
      "Requirement already satisfied: six>=1.5 in c:\\users\\hp\\anaconda3\\lib\\site-packages (from python-dateutil<3,>=2.7.3->streamlit) (1.16.0)\n",
      "Requirement already satisfied: charset-normalizer<4,>=2 in c:\\users\\hp\\anaconda3\\lib\\site-packages (from requests<3,>=2.27->streamlit) (2.0.4)\n",
      "Requirement already satisfied: idna<4,>=2.5 in c:\\users\\hp\\anaconda3\\lib\\site-packages (from requests<3,>=2.27->streamlit) (3.4)\n",
      "Requirement already satisfied: urllib3<3,>=1.21.1 in c:\\users\\hp\\anaconda3\\lib\\site-packages (from requests<3,>=2.27->streamlit) (1.26.16)\n",
      "Requirement already satisfied: certifi>=2017.4.17 in c:\\users\\hp\\anaconda3\\lib\\site-packages (from requests<3,>=2.27->streamlit) (2023.7.22)\n",
      "Requirement already satisfied: markdown-it-py>=2.2.0 in c:\\users\\hp\\anaconda3\\lib\\site-packages (from rich<14,>=10.14.0->streamlit) (2.2.0)\n",
      "Requirement already satisfied: pygments<3.0.0,>=2.13.0 in c:\\users\\hp\\anaconda3\\lib\\site-packages (from rich<14,>=10.14.0->streamlit) (2.15.1)\n",
      "Requirement already satisfied: tzdata in c:\\users\\hp\\anaconda3\\lib\\site-packages (from tzlocal<6,>=1.1->streamlit) (2023.3)\n",
      "Requirement already satisfied: smmap<6,>=3.0.1 in c:\\users\\hp\\anaconda3\\lib\\site-packages (from gitdb<5,>=4.0.1->gitpython!=3.1.19,<4,>=3.0.7->streamlit) (5.0.1)\n",
      "Requirement already satisfied: MarkupSafe>=2.0 in c:\\users\\hp\\anaconda3\\lib\\site-packages (from jinja2->altair<6,>=4.0->streamlit) (2.1.1)\n",
      "Requirement already satisfied: attrs>=17.4.0 in c:\\users\\hp\\anaconda3\\lib\\site-packages (from jsonschema>=3.0->altair<6,>=4.0->streamlit) (22.1.0)\n",
      "Requirement already satisfied: pyrsistent!=0.17.0,!=0.17.1,!=0.17.2,>=0.14.0 in c:\\users\\hp\\anaconda3\\lib\\site-packages (from jsonschema>=3.0->altair<6,>=4.0->streamlit) (0.18.0)\n",
      "Requirement already satisfied: mdurl~=0.1 in c:\\users\\hp\\anaconda3\\lib\\site-packages (from markdown-it-py>=2.2.0->rich<14,>=10.14.0->streamlit) (0.1.0)\n",
      "Note: you may need to restart the kernel to use updated packages.\n"
     ]
    }
   ],
   "source": [
    "pip install streamlit"
   ]
  },
  {
   "cell_type": "code",
   "execution_count": 65,
   "id": "35541da9",
   "metadata": {},
   "outputs": [
    {
     "data": {
      "text/plain": [
       "['tfidf_vectorizer.joblib']"
      ]
     },
     "execution_count": 65,
     "metadata": {},
     "output_type": "execute_result"
    }
   ],
   "source": [
    "import joblib\n",
    "\n",
    "# Save the TF-IDF Vectorizer\n",
    "vectorizer_filename = 'tfidf_vectorizer.joblib'\n",
    "joblib.dump(vectorizer, vectorizer_filename)"
   ]
  },
  {
   "cell_type": "code",
   "execution_count": 66,
   "id": "0e74d0d4",
   "metadata": {},
   "outputs": [
    {
     "data": {
      "text/plain": [
       "['naive_bayes_model.joblib']"
      ]
     },
     "execution_count": 66,
     "metadata": {},
     "output_type": "execute_result"
    }
   ],
   "source": [
    "# Save the Naive Bayes model\n",
    "model_filename = 'naive_bayes_model.joblib'\n",
    "joblib.dump(mnb_os, model_filename)"
   ]
  },
  {
   "cell_type": "code",
   "execution_count": 67,
   "id": "17f576b2",
   "metadata": {},
   "outputs": [
    {
     "data": {
      "text/plain": [
       "['random_oversampler.joblib']"
      ]
     },
     "execution_count": 67,
     "metadata": {},
     "output_type": "execute_result"
    }
   ],
   "source": [
    "# Create and fit the resampling object\n",
    "ros = RandomOverSampler()\n",
    "x_train_resampled, y_train_resampled = ros.fit_resample(x_train, y_train)\n",
    "\n",
    "# Save the resampling object\n",
    "resampling_filename = 'random_oversampler.joblib'\n",
    "joblib.dump(ros, resampling_filename)"
   ]
  },
  {
   "cell_type": "code",
   "execution_count": null,
   "id": "6cd9a575",
   "metadata": {},
   "outputs": [],
   "source": []
  },
  {
   "cell_type": "code",
   "execution_count": null,
   "id": "714ab64d",
   "metadata": {},
   "outputs": [],
   "source": []
  }
 ],
 "metadata": {
  "colab": {
   "provenance": []
  },
  "kernelspec": {
   "display_name": "Python 3 (ipykernel)",
   "language": "python",
   "name": "python3"
  },
  "language_info": {
   "codemirror_mode": {
    "name": "ipython",
    "version": 3
   },
   "file_extension": ".py",
   "mimetype": "text/x-python",
   "name": "python",
   "nbconvert_exporter": "python",
   "pygments_lexer": "ipython3",
   "version": "3.11.4"
  }
 },
 "nbformat": 4,
 "nbformat_minor": 5
}
