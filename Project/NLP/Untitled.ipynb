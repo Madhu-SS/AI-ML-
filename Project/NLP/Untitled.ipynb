{
 "cells": [
  {
   "cell_type": "code",
   "execution_count": 1,
   "id": "c8c9608e",
   "metadata": {},
   "outputs": [
    {
     "ename": "NameError",
     "evalue": "name 'cursor' is not defined",
     "output_type": "error",
     "traceback": [
      "\u001b[1;31m---------------------------------------------------------------------------\u001b[0m",
      "\u001b[1;31mNameError\u001b[0m                                 Traceback (most recent call last)",
      "Cell \u001b[1;32mIn[1], line 3\u001b[0m\n\u001b[0;32m      1\u001b[0m \u001b[38;5;28;01mimport\u001b[39;00m \u001b[38;5;21;01msqlite3\u001b[39;00m\n\u001b[0;32m      2\u001b[0m \u001b[38;5;66;03m# Fetch data from the database for the selected date\u001b[39;00m\n\u001b[1;32m----> 3\u001b[0m cursor\u001b[38;5;241m.\u001b[39mexecute(\u001b[38;5;124m'\u001b[39m\u001b[38;5;124mSELECT sentiment FROM sentiment_data WHERE date = ?\u001b[39m\u001b[38;5;124m'\u001b[39m, (selected_date,))\n\u001b[0;32m      4\u001b[0m sentiments \u001b[38;5;241m=\u001b[39m cursor\u001b[38;5;241m.\u001b[39mfetchall()\n\u001b[0;32m      6\u001b[0m \u001b[38;5;66;03m# Debugging: Print the contents of sentiments\u001b[39;00m\n",
      "\u001b[1;31mNameError\u001b[0m: name 'cursor' is not defined"
     ]
    }
   ],
   "source": [
    "import sqlite3\n",
    "# Fetch data from the database for the selected date\n",
    "cursor.execute('SELECT sentiment FROM sentiment_data WHERE date = ?', (selected_date,))\n",
    "sentiments = cursor.fetchall()\n",
    "\n",
    "# Debugging: Print the contents of sentiments\n",
    "print(\"Sentiments:\", sentiments)\n",
    "\n",
    "# Create a DataFrame for plotting\n",
    "df_sentiments = pd.DataFrame(sentiments, columns=['sentiment'])\n",
    "st.write(\"DataFrame:\", df_sentiments)"
   ]
  }
 ],
 "metadata": {
  "kernelspec": {
   "display_name": "Python 3 (ipykernel)",
   "language": "python",
   "name": "python3"
  },
  "language_info": {
   "codemirror_mode": {
    "name": "ipython",
    "version": 3
   },
   "file_extension": ".py",
   "mimetype": "text/x-python",
   "name": "python",
   "nbconvert_exporter": "python",
   "pygments_lexer": "ipython3",
   "version": "3.11.4"
  }
 },
 "nbformat": 4,
 "nbformat_minor": 5
}
